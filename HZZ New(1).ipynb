{
 "cells": [
  {
   "cell_type": "code",
   "execution_count": 1,
   "id": "75112d9d",
   "metadata": {
    "tags": []
   },
   "outputs": [
    {
     "name": "stdout",
     "output_type": "stream",
     "text": [
      "Requirement already satisfied: pip in /home/i/I.Kuscu/.local/lib/python3.11/site-packages (24.0)\n",
      "Requirement already satisfied: uproot in /home/i/I.Kuscu/.local/lib/python3.11/site-packages (5.3.7)\n",
      "Requirement already satisfied: awkward in /home/i/I.Kuscu/.local/lib/python3.11/site-packages (2.6.5)\n",
      "Requirement already satisfied: vector in /home/i/I.Kuscu/.local/lib/python3.11/site-packages (1.4.0)\n",
      "Requirement already satisfied: matplotlib in /home/i/I.Kuscu/.local/lib/python3.11/site-packages (3.9.0)\n",
      "Requirement already satisfied: cramjam>=2.5.0 in /home/i/I.Kuscu/.local/lib/python3.11/site-packages (from uproot) (2.8.3)\n",
      "Requirement already satisfied: fsspec in /home/i/I.Kuscu/.local/lib/python3.11/site-packages (from uproot) (2024.5.0)\n",
      "Requirement already satisfied: numpy in /home/i/I.Kuscu/.local/lib/python3.11/site-packages (from uproot) (1.26.4)\n",
      "Requirement already satisfied: packaging in /software/opt/el_9/x86_64/python/3.11-2023.09/lib/python3.11/site-packages (from uproot) (23.1)\n",
      "Requirement already satisfied: awkward-cpp==34 in /home/i/I.Kuscu/.local/lib/python3.11/site-packages (from awkward) (34)\n",
      "Requirement already satisfied: importlib-metadata>=4.13.0 in /software/opt/el_9/x86_64/python/3.11-2023.09/lib/python3.11/site-packages (from awkward) (6.8.0)\n",
      "Requirement already satisfied: contourpy>=1.0.1 in /software/opt/el_9/x86_64/python/3.11-2023.09/lib/python3.11/site-packages (from matplotlib) (1.1.0)\n",
      "Requirement already satisfied: cycler>=0.10 in /software/opt/el_9/x86_64/python/3.11-2023.09/lib/python3.11/site-packages (from matplotlib) (0.11.0)\n",
      "Requirement already satisfied: fonttools>=4.22.0 in /software/opt/el_9/x86_64/python/3.11-2023.09/lib/python3.11/site-packages (from matplotlib) (4.42.1)\n",
      "Requirement already satisfied: kiwisolver>=1.3.1 in /software/opt/el_9/x86_64/python/3.11-2023.09/lib/python3.11/site-packages (from matplotlib) (1.4.5)\n",
      "Requirement already satisfied: pillow>=8 in /software/opt/el_9/x86_64/python/3.11-2023.09/lib/python3.11/site-packages (from matplotlib) (9.5.0)\n",
      "Requirement already satisfied: pyparsing>=2.3.1 in /software/opt/el_9/x86_64/python/3.11-2023.09/lib/python3.11/site-packages (from matplotlib) (3.0.9)\n",
      "Requirement already satisfied: python-dateutil>=2.7 in /software/opt/el_9/x86_64/python/3.11-2023.09/lib/python3.11/site-packages (from matplotlib) (2.8.2)\n",
      "Requirement already satisfied: zipp>=0.5 in /software/opt/el_9/x86_64/python/3.11-2023.09/lib/python3.11/site-packages (from importlib-metadata>=4.13.0->awkward) (3.16.2)\n",
      "Requirement already satisfied: six>=1.5 in /software/opt/el_9/x86_64/python/3.11-2023.09/lib/python3.11/site-packages (from python-dateutil>=2.7->matplotlib) (1.16.0)\n"
     ]
    }
   ],
   "source": [
    "import sys\n",
    "# update the pip package installer\n",
    "!{sys.executable} -m pip install --upgrade --user pip\n",
    "# install required packages\n",
    "!{sys.executable} -m pip install --upgrade --user uproot awkward vector matplotlib"
   ]
  },
  {
   "cell_type": "code",
   "execution_count": 1,
   "id": "ecb1d243",
   "metadata": {
    "tags": []
   },
   "outputs": [],
   "source": [
    "import uproot # for reading .root files\n",
    "import awkward as ak # to represent nested data in columnar format\n",
    "import vector # for 4-momentum calculations\n",
    "import time # to measure time to analyse\n",
    "import math # for mathematical functions such as square root\n",
    "import numpy as np # for numerical calculations such as histogramming\n",
    "import matplotlib.pyplot as plt # for plotting\n",
    "from matplotlib.ticker import AutoMinorLocator # for minor ticks\n",
    "import infofile # local file containing cross-sections, sums of weights, dataset IDs\n",
    "import newinfofile #neue Infofile"
   ]
  },
  {
   "cell_type": "code",
   "execution_count": 2,
   "id": "5a7a2cc0",
   "metadata": {
    "tags": []
   },
   "outputs": [],
   "source": [
    "#lumi = 0.5 # fb-1 # data_A only\n",
    "#lumi = 1.9 # fb-1 # data_B only\n",
    "#lumi = 2.9 # fb-1 # data_C only\n",
    "#lumi = 4.7 # fb-1 # data_D only\n",
    "lumi = 10 # fb-1 # data_A,data_B,data_C,data_D\n",
    "\n",
    "fraction = 1.0 # reduce this is if you want the code to run quicker\n",
    "                                                                                                                                  \n",
    "#tuple_path = \"Input/4lep/\" # local \n",
    "tuple_path = \"https://atlas-opendata.web.cern.ch/atlas-opendata/samples/2020/4lep/\" # web address\n",
    "new_tuple_path = \"/project/etp1/dkoch/ATLASOpenData-test/\""
   ]
  },
  {
   "cell_type": "code",
   "execution_count": 3,
   "id": "0a964b15",
   "metadata": {
    "tags": []
   },
   "outputs": [],
   "source": [
    "samples = {\n",
    "\n",
    "   'data': {\n",
    "        'list' : ['data_A','data_B','data_C','data_D'],\n",
    "   },\n",
    "\n",
    "    r'Background $Z,t\\bar{t}$' : { # Z + ttbar\n",
    "        # 'list' : ['Zee','Zmumu','ttbar_lep'],\n",
    "        'list': ['ttbar_lep'],\n",
    "        'color' : \"#6b59d3\" # purple\n",
    "    },\n",
    "\n",
    "     r'Background $ZZ^*$' : { # ZZ\n",
    "        'list' : ['llll'],\n",
    "      'color' : \"#ff0000\" # red\n",
    "    },\n",
    "\n",
    "     r'Signal ($m_H$ = 125 GeV)' : { # H -> ZZ -> llll\n",
    "        'list' : ['ggH125_ZZ4lep','VBFH125_ZZ4lep','WH125_ZZ4lep','ZH125_ZZ4lep'],\n",
    "        'color' : \"#00cdff\" # light blue\n",
    "    },\n",
    "\n",
    "}\n",
    "\n",
    "new_samples = {\n",
    "  \n",
    "    r'Background $Z,t\\bar{t}$' : { # Z + ttbar\n",
    "        'list' : \n",
    "        [\n",
    "            'user.garciarm.39227472._000001.output_ntup.root', \n",
    "            \n",
    "            'user.garciarm.39227472._000002.output_ntup.root',\n",
    "            'user.garciarm.39227472._000003.output_ntup.root',\n",
    "            'user.garciarm.39227472._000004.output_ntup.root',\n",
    "            'user.garciarm.39227472._000005.output_ntup.root',\n",
    "           #bem 6 und 7 15 sind nicht da!\n",
    "            'user.garciarm.39227472._000008.output_ntup.root',\n",
    "            'user.garciarm.39227472._000009.output_ntup.root',\n",
    "            'user.garciarm.39227472._000010.output_ntup.root',\n",
    "            'user.garciarm.39227472._000011.output_ntup.root',\n",
    "            'user.garciarm.39227472._000012.output_ntup.root',\n",
    "            'user.garciarm.39227472._000013.output_ntup.root',\n",
    "            'user.garciarm.39227472._000014.output_ntup.root',\n",
    "   #und  15 sind nicht da!\n",
    "            'user.garciarm.39227472._000016.output_ntup.root',\n",
    "            'user.garciarm.39227472._000017.output_ntup.root',\n",
    "            'user.garciarm.39227472._000018.output_ntup.root',\n",
    "            'user.garciarm.39227472._000019.output_ntup.root',\n",
    "            'user.garciarm.39227472._000020.output_ntup.root'\n",
    "        ],\n",
    "        'color' : \"#00ff00\" # GRUN\n",
    "    },\n",
    "}\n",
    "\n"
   ]
  },
  {
   "cell_type": "code",
   "execution_count": 4,
   "id": "dbf35dea",
   "metadata": {
    "tags": []
   },
   "outputs": [],
   "source": [
    "MeV = 0.001\n",
    "GeV = 1.0"
   ]
  },
  {
   "cell_type": "code",
   "execution_count": 5,
   "id": "1de4d239",
   "metadata": {
    "tags": []
   },
   "outputs": [],
   "source": [
    "def get_data_from_new_files():\n",
    "    new_data = {} # define empty dictionary to hold awkward arrays\n",
    "    for s in new_samples: # loop over samples\n",
    "        print('Processing NEW '+s+' samples') # print which sample\n",
    "        frames = [] # define empty list to hold data\n",
    "        for val in new_samples[s]['list']: # loop over each file\n",
    "           # if s == 'data': prefix = \"Data/\" # Data prefix  (Daten sind ausgeschlossen => unnotig?)\n",
    "            #else: #ttbar prefix\n",
    "            prefix = \"ttbar-samples-with-weights/\" #wir kümmern uns nur um ttbar\n",
    "            fileString = new_tuple_path+prefix+val # file name to open  \n",
    "            print(fileString, val) \n",
    "            temp = read_file(fileString,val,treename=\"analysis\") # call the function read_file defined below\n",
    "            frames.append(temp) # append array returned from read_file to list of awkward arrays\n",
    "        new_data[s] = ak.concatenate(frames) # dictionary entry is concatenated awkward arrays\n",
    "    \n",
    "    return new_data # return dictionary of awkward arrays"
   ]
  },
  {
   "cell_type": "code",
   "execution_count": 77,
   "id": "5096f5e7",
   "metadata": {
    "tags": []
   },
   "outputs": [],
   "source": [
    "def get_data_from_new_files2():\n",
    "    new_data = {} # define empty dictionary to hold awkward arrays\n",
    "    for val in new_samples[r'Background $Z,t\\bar{t}$']['list']:\n",
    "        frames = [] # define empty list to hold data\n",
    "        prefix = \"ttbar-samples-with-weights/\"\n",
    "        fileString = new_tuple_path+prefix+val # file name to open\n",
    "        print(fileString, val)\n",
    "        temp = read_file(fileString,val,treename=\"analysis\") # call the function read_file defined below\n",
    "        frames.append(temp) # append array returned from read_file to list of awkward arrays\n",
    "    new_data[r'Background $Z,t\\bar{t}$'] = ak.concatenate(frames) # dictionary entry is concatenated awkward arrays\n",
    "        \n",
    "    return new_data # return dictionary of awkward arrays\n"
   ]
  },
  {
   "cell_type": "code",
   "execution_count": 7,
   "id": "f9b28427",
   "metadata": {
    "tags": []
   },
   "outputs": [],
   "source": [
    "def calc_new_weight(xsec_weight, events):\n",
    "    return (\n",
    "        xsec_weight\n",
    "        * events.mcWeight\n",
    "        * events.ScaleFactor_PILEUP\n",
    "        * events.ScaleFactor_ELE\n",
    "        * events.ScaleFactor_MUON \n",
    "        #* events.ScaleFactor_LepTRIGGER = 1 #keine LepTrigger bei tree.keys()\n",
    "    )"
   ]
  },
  {
   "cell_type": "code",
   "execution_count": 8,
   "id": "9b5afcd0",
   "metadata": {
    "tags": []
   },
   "outputs": [],
   "source": [
    "def get_new_xsec_weight(sample):\n",
    "    info = newinfofile.infos[sample] # open infofile\n",
    "    xsec_weight = (lumi*1000*info[\"xsec\"])/(info[\"sumw\"]) #*1000 to go from fb-1 to pb-1  ?red_eff stets = 1 ?\n",
    "    return xsec_weight # return cross-section weight"
   ]
  },
  {
   "cell_type": "code",
   "execution_count": 9,
   "id": "eec28ee0",
   "metadata": {
    "tags": []
   },
   "outputs": [],
   "source": [
    "def calc_mllll(lep_pt, lep_eta, lep_phi, lep_e):\n",
    "    # construct awkward 4-vector array\n",
    "    p4 = vector.zip({\"pt\": lep_pt, \"eta\": lep_eta, \"phi\": lep_phi, \"E\": lep_e})\n",
    "    \n",
    "    # calculate invariant mass of first 4 leptons\n",
    "    # [:, i] selects the i-th lepton in each event\n",
    "    # .M calculates the invariant mass\n",
    "    \n",
    "  \n",
    "    return (p4[:, 0] + p4[:, 1] + p4[:, 2] + p4[:, 3]).M * MeV"
   ]
  },
  {
   "cell_type": "code",
   "execution_count": 10,
   "id": "66e0bbe1",
   "metadata": {
    "tags": []
   },
   "outputs": [],
   "source": [
    "# cut on lepton charge\n",
    "# paper: \"selecting two pairs of isolated leptons, each of which is comprised of two leptons with the same flavour and opposite charge\"\n",
    "def cut_lep_charge(lep_charge):\n",
    "    # Ensure lep_charge is at least 2D\n",
    "    #lep_charge = ak.to_regular(lep_charge)\n",
    "    \n",
    "    # Initialize a mask with all False (i.e., keep all events initially)\n",
    "    mask = np.zeros(len(lep_charge), dtype=bool)\n",
    "    \n",
    "    # Iterate over events to apply the cut\n",
    "    for i, charges in enumerate(lep_charge):\n",
    "        if len(charges) >= 4:\n",
    "            if np.sum(charges[:4]) != 0:\n",
    "                mask[i] = True  # Mark event for exclusion if sum of charges is not zero\n",
    "        else:\n",
    "            mask[i] = True  # Mark event for exclusion if fewer than 4 leptons\n",
    "    \n",
    "    return mask\n",
    "\n",
    "# cut on lepton type\n",
    "# paper: \"selecting two pairs of isolated leptons, each of which is comprised of two leptons with the same flavour and opposite charge\"\n",
    "def cut_lep_type(lep_type):\n",
    "# for an electron lep_type is 11\n",
    "# for a muon lep_type is 13\n",
    "# throw away when none of eeee, mumumumu, eemumu\n",
    "    sum_lep_type = lep_type[:, 0] + lep_type[:, 1] + lep_type[:, 2] + lep_type[:, 3]\n",
    "    return (sum_lep_type != 44) #& (sum_lep_type != 48) & (sum_lep_type != 52)check, ob. die gleich wsl sind."
   ]
  },
  {
   "cell_type": "code",
   "execution_count": 55,
   "id": "d0afbada",
   "metadata": {
    "tags": []
   },
   "outputs": [],
   "source": [
    "def read_file(path,sample, treename=\"analysis\"):\n",
    "    \n",
    "    \n",
    "    start = time.time() # start the clock\n",
    "    print(\"\\tProcessing: \" + sample) # print which sample is being processed\n",
    "    data_all = [] # define empty list to hold all data for this sample\n",
    "    \n",
    "    # open the tree called mini using a context manager (will automatically close files/resources)\n",
    "    with uproot.open(path + \":\" + treename) as tree: #webseite geöffnet\n",
    "        numevents = tree.num_entries # number of events\n",
    "        #if 'data' not in sample: alle Daten sind simuliert?\n",
    "        xsec_weight = get_new_xsec_weight(sample) # get cross-section weight\n",
    "        for data in tree.iterate(['lep_pt','lep_eta','lep_phi',\n",
    "                                  'lep_e','lep_charge','lep_type', \n",
    "                                  #add more variables here if you make cuts on them \n",
    "                                  'mcWeight',\n",
    "                                  'ScaleFactor_PILEUP',\n",
    "                                  'ScaleFactor_ELE',\n",
    "                                  'ScaleFactor_MUON',\n",
    "                                  #'ScaleFactor_LepTRIGGER' # variables to calculate Monte Carlo weight\n",
    "                                  ],\n",
    "                                 library=\"ak\", # choose output type as awkward array\n",
    "                                 entry_stop=numevents):# fraction = 1 zur Zeit *fraction): # process up to numevents*fraction\n",
    "\n",
    "            nIn = len(data) # number of events in this batch\n",
    "\n",
    "            #if 'data' not in sample: # only do this for Monte Carlo simulation files\n",
    "                # multiply all Monte Carlo weights and scale factors together to give total weight\n",
    "            data['totalWeight'] = calc_new_weight(xsec_weight, data)\n",
    "\n",
    "            # cut on lepton charge using the function cut_lep_charge defined above\n",
    "            data = data[~cut_lep_charge(data.lep_charge)]\n",
    "\n",
    "            # cut on lepton type using the function cut_lep_type defined above\n",
    "            data = data[~cut_lep_type(data.lep_type)]\n",
    "\n",
    "            # calculation of 4-lepton invariant mass using the function calc_mllll defined above\n",
    "            data['mllll'] = calc_mllll(data.lep_pt, data.lep_eta, data.lep_phi, data.lep_e)\n",
    "\n",
    "            # array contents can be printed at any stage like this\n",
    "            #print(data)\n",
    "\n",
    "            # array column can be printed at any stage like this\n",
    "            #print(data['lep_pt'])\n",
    "\n",
    "            # multiple array columns can be printed at any stage like this\n",
    "            #print(data[['lep_pt','lep_eta']])\n",
    "\n",
    "            nOut = len(data) # number of events passing cuts in this batch\n",
    "            data_all.append(data) # append array from this batch\n",
    "            elapsed = time.time() - start # time taken to process\n",
    "            print(\"\\t\\t nIn: \"+str(nIn)+\",\\t nOut: \\t\"+str(nOut)+\"\\t in \"+str(round(elapsed,1))+\"s\") # events before and after\n",
    "    \n",
    "    return ak.concatenate(data_all) # return array containing events passing all cuts"
   ]
  },
  {
   "cell_type": "code",
   "execution_count": null,
   "id": "3260a514",
   "metadata": {},
   "outputs": [],
   "source": []
  },
  {
   "cell_type": "code",
   "execution_count": 78,
   "id": "803636db",
   "metadata": {
    "tags": []
   },
   "outputs": [
    {
     "name": "stdout",
     "output_type": "stream",
     "text": [
      "/project/etp1/dkoch/ATLASOpenData-test/ttbar-samples-with-weights/user.garciarm.39227472._000001.output_ntup.root user.garciarm.39227472._000001.output_ntup.root\n",
      "\tProcessing: user.garciarm.39227472._000001.output_ntup.root\n",
      "\t\t nIn: 2040025,\t nOut: \t297\t in 77.6s\n",
      "\t\t nIn: 942476,\t nOut: \t150\t in 113.4s\n",
      "/project/etp1/dkoch/ATLASOpenData-test/ttbar-samples-with-weights/user.garciarm.39227472._000002.output_ntup.root user.garciarm.39227472._000002.output_ntup.root\n",
      "\tProcessing: user.garciarm.39227472._000002.output_ntup.root\n",
      "\t\t nIn: 2041369,\t nOut: \t324\t in 76.3s\n",
      "\t\t nIn: 899717,\t nOut: \t146\t in 109.1s\n",
      "/project/etp1/dkoch/ATLASOpenData-test/ttbar-samples-with-weights/user.garciarm.39227472._000003.output_ntup.root user.garciarm.39227472._000003.output_ntup.root\n",
      "\tProcessing: user.garciarm.39227472._000003.output_ntup.root\n",
      "\t\t nIn: 2040089,\t nOut: \t322\t in 74.2s\n",
      "\t\t nIn: 900410,\t nOut: \t140\t in 106.8s\n",
      "/project/etp1/dkoch/ATLASOpenData-test/ttbar-samples-with-weights/user.garciarm.39227472._000004.output_ntup.root user.garciarm.39227472._000004.output_ntup.root\n",
      "\tProcessing: user.garciarm.39227472._000004.output_ntup.root\n",
      "\t\t nIn: 2040312,\t nOut: \t371\t in 74.1s\n",
      "\t\t nIn: 922066,\t nOut: \t158\t in 107.6s\n",
      "/project/etp1/dkoch/ATLASOpenData-test/ttbar-samples-with-weights/user.garciarm.39227472._000005.output_ntup.root user.garciarm.39227472._000005.output_ntup.root\n",
      "\tProcessing: user.garciarm.39227472._000005.output_ntup.root\n",
      "\t\t nIn: 1232444,\t nOut: \t191\t in 46.7s\n",
      "/project/etp1/dkoch/ATLASOpenData-test/ttbar-samples-with-weights/user.garciarm.39227472._000008.output_ntup.root user.garciarm.39227472._000008.output_ntup.root\n",
      "\tProcessing: user.garciarm.39227472._000008.output_ntup.root\n",
      "\t\t nIn: 2040400,\t nOut: \t336\t in 74.6s\n",
      "\t\t nIn: 848458,\t nOut: \t128\t in 105.8s\n",
      "/project/etp1/dkoch/ATLASOpenData-test/ttbar-samples-with-weights/user.garciarm.39227472._000009.output_ntup.root user.garciarm.39227472._000009.output_ntup.root\n",
      "\tProcessing: user.garciarm.39227472._000009.output_ntup.root\n",
      "\t\t nIn: 2036425,\t nOut: \t380\t in 74.4s\n",
      "\t\t nIn: 906136,\t nOut: \t156\t in 107.5s\n",
      "/project/etp1/dkoch/ATLASOpenData-test/ttbar-samples-with-weights/user.garciarm.39227472._000010.output_ntup.root user.garciarm.39227472._000010.output_ntup.root\n",
      "\tProcessing: user.garciarm.39227472._000010.output_ntup.root\n",
      "\t\t nIn: 2038117,\t nOut: \t339\t in 74.1s\n",
      "\t\t nIn: 76927,\t nOut: \t15\t in 77.0s\n",
      "/project/etp1/dkoch/ATLASOpenData-test/ttbar-samples-with-weights/user.garciarm.39227472._000011.output_ntup.root user.garciarm.39227472._000011.output_ntup.root\n",
      "\tProcessing: user.garciarm.39227472._000011.output_ntup.root\n",
      "\t\t nIn: 2037838,\t nOut: \t309\t in 74.4s\n",
      "\t\t nIn: 534194,\t nOut: \t87\t in 93.6s\n",
      "/project/etp1/dkoch/ATLASOpenData-test/ttbar-samples-with-weights/user.garciarm.39227472._000012.output_ntup.root user.garciarm.39227472._000012.output_ntup.root\n",
      "\tProcessing: user.garciarm.39227472._000012.output_ntup.root\n",
      "\t\t nIn: 2037506,\t nOut: \t337\t in 74.3s\n",
      "\t\t nIn: 1662761,\t nOut: \t251\t in 134.6s\n",
      "/project/etp1/dkoch/ATLASOpenData-test/ttbar-samples-with-weights/user.garciarm.39227472._000013.output_ntup.root user.garciarm.39227472._000013.output_ntup.root\n",
      "\tProcessing: user.garciarm.39227472._000013.output_ntup.root\n",
      "\t\t nIn: 2035895,\t nOut: \t322\t in 73.4s\n",
      "\t\t nIn: 1586455,\t nOut: \t283\t in 130.8s\n",
      "/project/etp1/dkoch/ATLASOpenData-test/ttbar-samples-with-weights/user.garciarm.39227472._000014.output_ntup.root user.garciarm.39227472._000014.output_ntup.root\n",
      "\tProcessing: user.garciarm.39227472._000014.output_ntup.root\n",
      "\t\t nIn: 517115,\t nOut: \t101\t in 18.8s\n",
      "/project/etp1/dkoch/ATLASOpenData-test/ttbar-samples-with-weights/user.garciarm.39227472._000016.output_ntup.root user.garciarm.39227472._000016.output_ntup.root\n",
      "\tProcessing: user.garciarm.39227472._000016.output_ntup.root\n",
      "\t\t nIn: 2037013,\t nOut: \t332\t in 73.2s\n",
      "/project/etp1/dkoch/ATLASOpenData-test/ttbar-samples-with-weights/user.garciarm.39227472._000017.output_ntup.root user.garciarm.39227472._000017.output_ntup.root\n",
      "\tProcessing: user.garciarm.39227472._000017.output_ntup.root\n",
      "\t\t nIn: 1443472,\t nOut: \t234\t in 52.5s\n",
      "/project/etp1/dkoch/ATLASOpenData-test/ttbar-samples-with-weights/user.garciarm.39227472._000018.output_ntup.root user.garciarm.39227472._000018.output_ntup.root\n",
      "\tProcessing: user.garciarm.39227472._000018.output_ntup.root\n",
      "\t\t nIn: 2010723,\t nOut: \t325\t in 72.7s\n",
      "/project/etp1/dkoch/ATLASOpenData-test/ttbar-samples-with-weights/user.garciarm.39227472._000019.output_ntup.root user.garciarm.39227472._000019.output_ntup.root\n",
      "\tProcessing: user.garciarm.39227472._000019.output_ntup.root\n",
      "\t\t nIn: 1988473,\t nOut: \t326\t in 74.1s\n",
      "/project/etp1/dkoch/ATLASOpenData-test/ttbar-samples-with-weights/user.garciarm.39227472._000020.output_ntup.root user.garciarm.39227472._000020.output_ntup.root\n",
      "\tProcessing: user.garciarm.39227472._000020.output_ntup.root\n",
      "\t\t nIn: 326752,\t nOut: \t52\t in 12.8s\n",
      "Time taken: 1438.3s\n"
     ]
    }
   ],
   "source": [
    "start = time.time() # time at start of whole processing\n",
    "data = get_data_from_new_files2() # process all files\n",
    "elapsed = time.time() - start # time after whole processing\n",
    "print(\"Time taken: \"+str(round(elapsed,1))+\"s\") # print total time taken to process every file"
   ]
  },
  {
   "cell_type": "code",
   "execution_count": 102,
   "id": "4a16ab51",
   "metadata": {},
   "outputs": [
    {
     "data": {
      "text/plain": [
       "{'Background $Z,t\\\\bar{t}$': <Array [{lep_pt: [...], ...}, ..., {...}] type='52 * {lep_pt: var * float32...'>}"
      ]
     },
     "execution_count": 102,
     "metadata": {},
     "output_type": "execute_result"
    }
   ],
   "source": [
    "data.keys()\n",
    "data"
   ]
  },
  {
   "cell_type": "code",
   "execution_count": 89,
   "id": "6a849f94",
   "metadata": {
    "tags": []
   },
   "outputs": [
    {
     "ename": "NameError",
     "evalue": "name 'signal_x' is not defined",
     "output_type": "error",
     "traceback": [
      "\u001b[0;31m---------------------------------------------------------------------------\u001b[0m",
      "\u001b[0;31mNameError\u001b[0m                                 Traceback (most recent call last)",
      "\u001b[0;32m/tmp/user/22449/ipykernel_1479878/1683680566.py\u001b[0m in \u001b[0;36m<module>\u001b[0;34m\u001b[0m\n\u001b[1;32m     19\u001b[0m \u001b[0;34m\u001b[0m\u001b[0m\n\u001b[1;32m     20\u001b[0m \u001b[0;31m# Call the function with the new data structure\u001b[0m\u001b[0;34m\u001b[0m\u001b[0;34m\u001b[0m\u001b[0m\n\u001b[0;32m---> 21\u001b[0;31m \u001b[0mplot_data\u001b[0m\u001b[0;34m(\u001b[0m\u001b[0mdata\u001b[0m\u001b[0;34m)\u001b[0m\u001b[0;34m\u001b[0m\u001b[0;34m\u001b[0m\u001b[0m\n\u001b[0m\u001b[1;32m     22\u001b[0m \u001b[0;34m\u001b[0m\u001b[0m\n\u001b[1;32m     23\u001b[0m \u001b[0;34m\u001b[0m\u001b[0m\n",
      "\u001b[0;32m/tmp/user/22449/ipykernel_1479878/1683680566.py\u001b[0m in \u001b[0;36mplot_data\u001b[0;34m(data)\u001b[0m\n\u001b[1;32m      8\u001b[0m \u001b[0;34m\u001b[0m\u001b[0m\n\u001b[1;32m      9\u001b[0m     \u001b[0;31m# Plotting\u001b[0m\u001b[0;34m\u001b[0m\u001b[0;34m\u001b[0m\u001b[0m\n\u001b[0;32m---> 10\u001b[0;31m     \u001b[0mplt\u001b[0m\u001b[0;34m.\u001b[0m\u001b[0mhist\u001b[0m\u001b[0;34m(\u001b[0m\u001b[0msignal_x\u001b[0m\u001b[0;34m,\u001b[0m \u001b[0mbins\u001b[0m\u001b[0;34m=\u001b[0m\u001b[0;36m100\u001b[0m\u001b[0;34m,\u001b[0m \u001b[0mcolor\u001b[0m\u001b[0;34m=\u001b[0m\u001b[0;34m'blue'\u001b[0m\u001b[0;34m,\u001b[0m \u001b[0malpha\u001b[0m\u001b[0;34m=\u001b[0m\u001b[0;36m0.5\u001b[0m\u001b[0;34m,\u001b[0m \u001b[0mlabel\u001b[0m\u001b[0;34m=\u001b[0m\u001b[0;34m'Signal'\u001b[0m\u001b[0;34m)\u001b[0m\u001b[0;34m\u001b[0m\u001b[0;34m\u001b[0m\u001b[0m\n\u001b[0m\u001b[1;32m     11\u001b[0m     \u001b[0mplt\u001b[0m\u001b[0;34m.\u001b[0m\u001b[0mhist\u001b[0m\u001b[0;34m(\u001b[0m\u001b[0mbackground_x\u001b[0m\u001b[0;34m,\u001b[0m \u001b[0mbins\u001b[0m\u001b[0;34m=\u001b[0m\u001b[0;36m100\u001b[0m\u001b[0;34m,\u001b[0m \u001b[0mcolor\u001b[0m\u001b[0;34m=\u001b[0m\u001b[0;34m'red'\u001b[0m\u001b[0;34m,\u001b[0m \u001b[0malpha\u001b[0m\u001b[0;34m=\u001b[0m\u001b[0;36m0.5\u001b[0m\u001b[0;34m,\u001b[0m \u001b[0mlabel\u001b[0m\u001b[0;34m=\u001b[0m\u001b[0;34m'Background'\u001b[0m\u001b[0;34m)\u001b[0m\u001b[0;34m\u001b[0m\u001b[0;34m\u001b[0m\u001b[0m\n\u001b[1;32m     12\u001b[0m \u001b[0;34m\u001b[0m\u001b[0m\n",
      "\u001b[0;31mNameError\u001b[0m: name 'signal_x' is not defined"
     ]
    }
   ],
   "source": [
    "\n",
    "import numpy as np\n",
    "import matplotlib.pyplot as plt\n",
    "\n",
    "def plot_data(data):\n",
    "    # Assuming data is a dictionary\n",
    "  \n",
    "    background_x = data['Background $Z,t\\\\bar{t}$']\n",
    "\n",
    "    # Plotting\n",
    "    plt.hist(signal_x, bins=100, color='blue', alpha=0.5, label='Signal')\n",
    "    plt.hist(background_x, bins=100, color='red', alpha=0.5, label='Background')\n",
    "\n",
    "    plt.xlabel('$m_{llll}$ (GeV)')\n",
    "    plt.ylabel('Events')\n",
    "    plt.title('Distribution of $m_{llll}$')\n",
    "    plt.legend()\n",
    "    plt.grid(True)\n",
    "    plt.show()\n",
    "\n",
    "# Call the function with the new data structure\n",
    "plot_data(data)\n",
    "\n",
    "\n",
    "   \n",
    "    \n"
   ]
  },
  {
   "cell_type": "code",
   "execution_count": 98,
   "id": "6c9c6062",
   "metadata": {},
   "outputs": [
    {
     "data": {
      "image/png": "[encoded data removed]",
      "text/plain": [
       "<Figure size 432x288 with 1 Axes>"
      ]
     },
     "metadata": {
      "needs_background": "light"
     },
     "output_type": "display_data"
    }
   ],
   "source": [
    "background_data = new_samples[r'Background $Z,t\\bar{t}$']\n",
    "plt.hist(data['Background $Z,t\\\\bar{t}$']['mllll'])\n",
    "#data_x,_ = np.histogram(ak.to_numpy(data[r'Background $Z,t\\bar{t}$']['mllll']),    color=new_samples[r'Background $Z,t\\bar{t}$']['color'])\n",
    "\n",
    "   \n",
    "plt.hist(background_data) \n",
    "plt.xlabel('Variable X')\n",
    "plt.ylabel('Counts')\n",
    "plt.title('Histogram of Variable X for Background Z, t\\\\bar{t}')\n",
    "plt.show()"
   ]
  },
  {
   "cell_type": "code",
   "execution_count": 92,
   "id": "d5821eb0",
   "metadata": {
    "tags": []
   },
   "outputs": [
    {
     "data": {
      "text/html": [
       "<pre>[0.163,\n",
       " 0.137,\n",
       " 0.126,\n",
       " 0.609,\n",
       " 0.0856,\n",
       " 0.157,\n",
       " 0.126,\n",
       " 0.112,\n",
       " 0.0994,\n",
       " 0.197,\n",
       " ...,\n",
       " 0.156,\n",
       " 0.161,\n",
       " 0.123,\n",
       " 0.558,\n",
       " 0.142,\n",
       " 0.0436,\n",
       " 0.157,\n",
       " 0.225,\n",
       " 0.31]\n",
       "------------------\n",
       "type: 52 * float32</pre>"
      ],
      "text/plain": [
       "<Array [0.163, 0.137, 0.126, ..., 0.157, 0.225, 0.31] type='52 * float32'>"
      ]
     },
     "execution_count": 92,
     "metadata": {},
     "output_type": "execute_result"
    }
   ],
   "source": [
    "data['Background $Z,t\\\\bar{t}$']['mllll'] \n",
    "\n"
   ]
  },
  {
   "cell_type": "code",
   "execution_count": 96,
   "id": "7c5e0221",
   "metadata": {},
   "outputs": [
    {
     "data": {
      "text/plain": [
       "{'list': ['user.garciarm.39227472._000001.output_ntup.root',\n",
       "  'user.garciarm.39227472._000002.output_ntup.root',\n",
       "  'user.garciarm.39227472._000003.output_ntup.root',\n",
       "  'user.garciarm.39227472._000004.output_ntup.root',\n",
       "  'user.garciarm.39227472._000005.output_ntup.root',\n",
       "  'user.garciarm.39227472._000008.output_ntup.root',\n",
       "  'user.garciarm.39227472._000009.output_ntup.root',\n",
       "  'user.garciarm.39227472._000010.output_ntup.root',\n",
       "  'user.garciarm.39227472._000011.output_ntup.root',\n",
       "  'user.garciarm.39227472._000012.output_ntup.root',\n",
       "  'user.garciarm.39227472._000013.output_ntup.root',\n",
       "  'user.garciarm.39227472._000014.output_ntup.root',\n",
       "  'user.garciarm.39227472._000016.output_ntup.root',\n",
       "  'user.garciarm.39227472._000017.output_ntup.root',\n",
       "  'user.garciarm.39227472._000018.output_ntup.root',\n",
       "  'user.garciarm.39227472._000019.output_ntup.root',\n",
       "  'user.garciarm.39227472._000020.output_ntup.root'],\n",
       " 'color': '#00ff00'}"
      ]
     },
     "execution_count": 96,
     "metadata": {},
     "output_type": "execute_result"
    }
   ],
   "source": [
    "background_data = new_samples[r'Background $Z,t\\bar{t}$'] \n",
    "background_data"
   ]
  },
  {
   "cell_type": "code",
   "execution_count": 104,
   "id": "575d24ef",
   "metadata": {},
   "outputs": [
    {
     "ename": "KeyError",
     "evalue": "'mllll'",
     "output_type": "error",
     "traceback": [
      "\u001b[0;31m---------------------------------------------------------------------------\u001b[0m",
      "\u001b[0;31mKeyError\u001b[0m                                  Traceback (most recent call last)",
      "\u001b[0;32m/tmp/user/22449/ipykernel_1479878/904008053.py\u001b[0m in \u001b[0;36m<module>\u001b[0;34m\u001b[0m\n\u001b[0;32m----> 1\u001b[0;31m \u001b[0mbackground_data\u001b[0m \u001b[0;34m=\u001b[0m \u001b[0mnew_samples\u001b[0m\u001b[0;34m[\u001b[0m\u001b[0;34mr'Background $Z,t\\bar{t}$'\u001b[0m\u001b[0;34m]\u001b[0m\u001b[0;34m[\u001b[0m\u001b[0;34m'mllll'\u001b[0m\u001b[0;34m]\u001b[0m\u001b[0;34m\u001b[0m\u001b[0;34m\u001b[0m\u001b[0m\n\u001b[0m",
      "\u001b[0;31mKeyError\u001b[0m: 'mllll'"
     ]
    }
   ],
   "source": []
  },
  {
   "cell_type": "code",
   "execution_count": null,
   "id": "91af1ca4",
   "metadata": {},
   "outputs": [],
   "source": []
  },
  {
   "cell_type": "code",
   "execution_count": 87,
   "id": "2173179a",
   "metadata": {
    "tags": []
   },
   "outputs": [],
   "source": [
    "def plot_new_data(data):\n",
    "    xmin = 80\n",
    "    xmax = 250\n",
    "    step_size = 5\n",
    "\n",
    "    bin_edges = np.arange(start=xmin, stop=xmax+step_size, step=step_size)\n",
    "    bin_centres = np.arange(start=xmin+step_size/2, stop=xmax+step_size/2, step=step_size)\n",
    "    data_x,_ = np.histogram(data['Background $Z,t\\\\bar{t}$']['mllll'], bins=bin_edges)\n",
    "    data_x_errors = 0\n",
    "    \n",
    "    signal_x = data[r'Background $Z,t\\bar{t}$']\n",
    "    signal_weights = data['Background $Z,t\\\\bar{t}$'].totalWeight\n",
    "    signal_color = new_samples['Background $Z,t\\\\bar{t}$']['color']\n",
    "    \n",
    "    mc_x = [data[s]['mllll'] for s in new_samples ]\n",
    "    mc_weights = [data[s].totalWeight for s in new_samples ]\n",
    "    mc_colors = [samples[s]['color'] for s in new_samples ]\n",
    "    mc_labels = [s for s in new_samples]\n",
    "    \n",
    "    main_axes = plt.gca()\n",
    "\n",
    "    mc_heights = main_axes.hist(mc_x, bins=bin_edges, weights=mc_weights, stacked=True, color=mc_colors, label=mc_labels)\n",
    "    mc_x_tot = mc_heights[0][-1]\n",
    "    main_axes.hist(signal_x, bins=bin_edges, bottom=mc_x_tot, weights=signal_weights, color=signal_color, label=r'Signal ($m_H$ = 125 GeV)')\n",
    "    main_axes.set_xlim(left=xmin, right=xmax)\n",
    "    \n",
    "   \n",
    "    main_axes.set_xlabel(r'4-lepton invariant mass $\\mathrm{m_{4l}}$ [GeV]', fontsize=13, x=1, horizontalalignment='right')\n",
    "    main_axes.set_ylabel('Events / '+str(step_size)+' GeV', y=1, horizontalalignment='right')\n",
    "    main_axes.set_ylim(bottom=0, top=np.amax(data_x)*1.6)\n",
    "\n",
    "\n",
    "\n",
    "\n",
    "   \n",
    "    main_axes.legend(frameon=False)\n",
    "\n",
    "    return\n"
   ]
  },
  {
   "cell_type": "code",
   "execution_count": 88,
   "id": "a4f490bf",
   "metadata": {},
   "outputs": [
    {
     "ename": "ValueError",
     "evalue": "cannot convert to RegularArray because subarray lengths are not regular (in compiled code: https://github.com/scikit-hep/awkward/blob/awkward-cpp-34/awkward-cpp/src/cpu-kernels/awkward_ListOffsetArray_toRegularArray.cpp#L22)\n\nThis error occurred while calling\n\n    ak.to_numpy(\n        <Array [{lep_pt: [...], ...}, ..., {...}] type='52 * {lep_pt: var *...'>\n        allow_missing = True\n    )",
     "output_type": "error",
     "traceback": [
      "\u001b[0;31m---------------------------------------------------------------------------\u001b[0m",
      "\u001b[0;31mValueError\u001b[0m                                Traceback (most recent call last)",
      "\u001b[0;32m~/.local/lib/python3.9/site-packages/awkward/_dispatch.py\u001b[0m in \u001b[0;36mdispatch\u001b[0;34m(*args, **kwargs)\u001b[0m\n\u001b[1;32m     63\u001b[0m                 \u001b[0;32mtry\u001b[0m\u001b[0;34m:\u001b[0m\u001b[0;34m\u001b[0m\u001b[0;34m\u001b[0m\u001b[0m\n\u001b[0;32m---> 64\u001b[0;31m                     \u001b[0mnext\u001b[0m\u001b[0;34m(\u001b[0m\u001b[0mgen_or_result\u001b[0m\u001b[0;34m)\u001b[0m\u001b[0;34m\u001b[0m\u001b[0;34m\u001b[0m\u001b[0m\n\u001b[0m\u001b[1;32m     65\u001b[0m                 \u001b[0;32mexcept\u001b[0m \u001b[0mStopIteration\u001b[0m \u001b[0;32mas\u001b[0m \u001b[0merr\u001b[0m\u001b[0;34m:\u001b[0m\u001b[0;34m\u001b[0m\u001b[0;34m\u001b[0m\u001b[0m\n",
      "\u001b[0;32m~/.local/lib/python3.9/site-packages/awkward/operations/ak_to_numpy.py\u001b[0m in \u001b[0;36mto_numpy\u001b[0;34m(array, allow_missing)\u001b[0m\n\u001b[1;32m     47\u001b[0m     \u001b[0;31m# Implementation\u001b[0m\u001b[0;34m\u001b[0m\u001b[0;34m\u001b[0m\u001b[0m\n\u001b[0;32m---> 48\u001b[0;31m     \u001b[0;32mreturn\u001b[0m \u001b[0m_impl\u001b[0m\u001b[0;34m(\u001b[0m\u001b[0marray\u001b[0m\u001b[0;34m,\u001b[0m \u001b[0mallow_missing\u001b[0m\u001b[0;34m)\u001b[0m\u001b[0;34m\u001b[0m\u001b[0;34m\u001b[0m\u001b[0m\n\u001b[0m\u001b[1;32m     49\u001b[0m \u001b[0;34m\u001b[0m\u001b[0m\n",
      "\u001b[0;32m~/.local/lib/python3.9/site-packages/awkward/operations/ak_to_numpy.py\u001b[0m in \u001b[0;36m_impl\u001b[0;34m(array, allow_missing)\u001b[0m\n\u001b[1;32m     59\u001b[0m \u001b[0;34m\u001b[0m\u001b[0m\n\u001b[0;32m---> 60\u001b[0;31m         \u001b[0;32mreturn\u001b[0m \u001b[0mnumpy_layout\u001b[0m\u001b[0;34m.\u001b[0m\u001b[0mto_backend_array\u001b[0m\u001b[0;34m(\u001b[0m\u001b[0mallow_missing\u001b[0m\u001b[0;34m=\u001b[0m\u001b[0mallow_missing\u001b[0m\u001b[0;34m)\u001b[0m\u001b[0;34m\u001b[0m\u001b[0;34m\u001b[0m\u001b[0m\n\u001b[0m",
      "\u001b[0;32m~/.local/lib/python3.9/site-packages/awkward/contents/content.py\u001b[0m in \u001b[0;36mto_backend_array\u001b[0;34m(self, allow_missing, backend)\u001b[0m\n\u001b[1;32m   1019\u001b[0m             \u001b[0mbackend\u001b[0m \u001b[0;34m=\u001b[0m \u001b[0mregularize_backend\u001b[0m\u001b[0;34m(\u001b[0m\u001b[0mbackend\u001b[0m\u001b[0;34m)\u001b[0m\u001b[0;34m\u001b[0m\u001b[0;34m\u001b[0m\u001b[0m\n\u001b[0;32m-> 1020\u001b[0;31m         \u001b[0;32mreturn\u001b[0m \u001b[0mself\u001b[0m\u001b[0;34m.\u001b[0m\u001b[0m_to_backend_array\u001b[0m\u001b[0;34m(\u001b[0m\u001b[0mallow_missing\u001b[0m\u001b[0;34m,\u001b[0m \u001b[0mbackend\u001b[0m\u001b[0;34m)\u001b[0m\u001b[0;34m\u001b[0m\u001b[0;34m\u001b[0m\u001b[0m\n\u001b[0m\u001b[1;32m   1021\u001b[0m \u001b[0;34m\u001b[0m\u001b[0m\n",
      "\u001b[0;32m~/.local/lib/python3.9/site-packages/awkward/contents/recordarray.py\u001b[0m in \u001b[0;36m_to_backend_array\u001b[0;34m(self, allow_missing, backend)\u001b[0m\n\u001b[1;32m   1106\u001b[0m             \u001b[0;32mreturn\u001b[0m \u001b[0mbackend\u001b[0m\u001b[0;34m.\u001b[0m\u001b[0mnplike\u001b[0m\u001b[0;34m.\u001b[0m\u001b[0mempty\u001b[0m\u001b[0;34m(\u001b[0m\u001b[0mself\u001b[0m\u001b[0;34m.\u001b[0m\u001b[0mlength\u001b[0m\u001b[0;34m,\u001b[0m \u001b[0mdtype\u001b[0m\u001b[0;34m=\u001b[0m\u001b[0;34m[\u001b[0m\u001b[0;34m]\u001b[0m\u001b[0;34m)\u001b[0m\u001b[0;34m\u001b[0m\u001b[0;34m\u001b[0m\u001b[0m\n\u001b[0;32m-> 1107\u001b[0;31m         \u001b[0mcontents\u001b[0m \u001b[0;34m=\u001b[0m \u001b[0;34m[\u001b[0m\u001b[0mx\u001b[0m\u001b[0;34m.\u001b[0m\u001b[0m_to_backend_array\u001b[0m\u001b[0;34m(\u001b[0m\u001b[0mallow_missing\u001b[0m\u001b[0;34m,\u001b[0m \u001b[0mbackend\u001b[0m\u001b[0;34m)\u001b[0m \u001b[0;32mfor\u001b[0m \u001b[0mx\u001b[0m \u001b[0;32min\u001b[0m \u001b[0mself\u001b[0m\u001b[0;34m.\u001b[0m\u001b[0m_contents\u001b[0m\u001b[0;34m]\u001b[0m\u001b[0;34m\u001b[0m\u001b[0;34m\u001b[0m\u001b[0m\n\u001b[0m\u001b[1;32m   1108\u001b[0m         \u001b[0;32mif\u001b[0m \u001b[0many\u001b[0m\u001b[0;34m(\u001b[0m\u001b[0mlen\u001b[0m\u001b[0;34m(\u001b[0m\u001b[0mx\u001b[0m\u001b[0;34m.\u001b[0m\u001b[0mshape\u001b[0m\u001b[0;34m)\u001b[0m \u001b[0;34m!=\u001b[0m \u001b[0;36m1\u001b[0m \u001b[0;32mfor\u001b[0m \u001b[0mx\u001b[0m \u001b[0;32min\u001b[0m \u001b[0mcontents\u001b[0m\u001b[0;34m)\u001b[0m\u001b[0;34m:\u001b[0m\u001b[0;34m\u001b[0m\u001b[0;34m\u001b[0m\u001b[0m\n",
      "\u001b[0;32m~/.local/lib/python3.9/site-packages/awkward/contents/recordarray.py\u001b[0m in \u001b[0;36m<listcomp>\u001b[0;34m(.0)\u001b[0m\n\u001b[1;32m   1106\u001b[0m             \u001b[0;32mreturn\u001b[0m \u001b[0mbackend\u001b[0m\u001b[0;34m.\u001b[0m\u001b[0mnplike\u001b[0m\u001b[0;34m.\u001b[0m\u001b[0mempty\u001b[0m\u001b[0;34m(\u001b[0m\u001b[0mself\u001b[0m\u001b[0;34m.\u001b[0m\u001b[0mlength\u001b[0m\u001b[0;34m,\u001b[0m \u001b[0mdtype\u001b[0m\u001b[0;34m=\u001b[0m\u001b[0;34m[\u001b[0m\u001b[0;34m]\u001b[0m\u001b[0;34m)\u001b[0m\u001b[0;34m\u001b[0m\u001b[0;34m\u001b[0m\u001b[0m\n\u001b[0;32m-> 1107\u001b[0;31m         \u001b[0mcontents\u001b[0m \u001b[0;34m=\u001b[0m \u001b[0;34m[\u001b[0m\u001b[0mx\u001b[0m\u001b[0;34m.\u001b[0m\u001b[0m_to_backend_array\u001b[0m\u001b[0;34m(\u001b[0m\u001b[0mallow_missing\u001b[0m\u001b[0;34m,\u001b[0m \u001b[0mbackend\u001b[0m\u001b[0;34m)\u001b[0m \u001b[0;32mfor\u001b[0m \u001b[0mx\u001b[0m \u001b[0;32min\u001b[0m \u001b[0mself\u001b[0m\u001b[0;34m.\u001b[0m\u001b[0m_contents\u001b[0m\u001b[0;34m]\u001b[0m\u001b[0;34m\u001b[0m\u001b[0;34m\u001b[0m\u001b[0m\n\u001b[0m\u001b[1;32m   1108\u001b[0m         \u001b[0;32mif\u001b[0m \u001b[0many\u001b[0m\u001b[0;34m(\u001b[0m\u001b[0mlen\u001b[0m\u001b[0;34m(\u001b[0m\u001b[0mx\u001b[0m\u001b[0;34m.\u001b[0m\u001b[0mshape\u001b[0m\u001b[0;34m)\u001b[0m \u001b[0;34m!=\u001b[0m \u001b[0;36m1\u001b[0m \u001b[0;32mfor\u001b[0m \u001b[0mx\u001b[0m \u001b[0;32min\u001b[0m \u001b[0mcontents\u001b[0m\u001b[0;34m)\u001b[0m\u001b[0;34m:\u001b[0m\u001b[0;34m\u001b[0m\u001b[0;34m\u001b[0m\u001b[0m\n",
      "\u001b[0;32m~/.local/lib/python3.9/site-packages/awkward/contents/indexedarray.py\u001b[0m in \u001b[0;36m_to_backend_array\u001b[0;34m(self, allow_missing, backend)\u001b[0m\n\u001b[1;32m   1050\u001b[0m     \u001b[0;32mdef\u001b[0m \u001b[0m_to_backend_array\u001b[0m\u001b[0;34m(\u001b[0m\u001b[0mself\u001b[0m\u001b[0;34m,\u001b[0m \u001b[0mallow_missing\u001b[0m\u001b[0;34m,\u001b[0m \u001b[0mbackend\u001b[0m\u001b[0;34m)\u001b[0m\u001b[0;34m:\u001b[0m\u001b[0;34m\u001b[0m\u001b[0;34m\u001b[0m\u001b[0m\n\u001b[0;32m-> 1051\u001b[0;31m         \u001b[0;32mreturn\u001b[0m \u001b[0mself\u001b[0m\u001b[0;34m.\u001b[0m\u001b[0mproject\u001b[0m\u001b[0;34m(\u001b[0m\u001b[0;34m)\u001b[0m\u001b[0;34m.\u001b[0m\u001b[0m_to_backend_array\u001b[0m\u001b[0;34m(\u001b[0m\u001b[0mallow_missing\u001b[0m\u001b[0;34m,\u001b[0m \u001b[0mbackend\u001b[0m\u001b[0;34m)\u001b[0m\u001b[0;34m\u001b[0m\u001b[0;34m\u001b[0m\u001b[0m\n\u001b[0m\u001b[1;32m   1052\u001b[0m \u001b[0;34m\u001b[0m\u001b[0m\n",
      "\u001b[0;32m~/.local/lib/python3.9/site-packages/awkward/contents/listarray.py\u001b[0m in \u001b[0;36m_to_backend_array\u001b[0;34m(self, allow_missing, backend)\u001b[0m\n\u001b[1;32m   1507\u001b[0m         \u001b[0;32melse\u001b[0m\u001b[0;34m:\u001b[0m\u001b[0;34m\u001b[0m\u001b[0;34m\u001b[0m\u001b[0m\n\u001b[0;32m-> 1508\u001b[0;31m             \u001b[0;32mreturn\u001b[0m \u001b[0mself\u001b[0m\u001b[0;34m.\u001b[0m\u001b[0mto_RegularArray\u001b[0m\u001b[0;34m(\u001b[0m\u001b[0;34m)\u001b[0m\u001b[0;34m.\u001b[0m\u001b[0m_to_backend_array\u001b[0m\u001b[0;34m(\u001b[0m\u001b[0mallow_missing\u001b[0m\u001b[0;34m,\u001b[0m \u001b[0mbackend\u001b[0m\u001b[0;34m)\u001b[0m\u001b[0;34m\u001b[0m\u001b[0;34m\u001b[0m\u001b[0m\n\u001b[0m\u001b[1;32m   1509\u001b[0m \u001b[0;34m\u001b[0m\u001b[0m\n",
      "\u001b[0;32m~/.local/lib/python3.9/site-packages/awkward/contents/listarray.py\u001b[0m in \u001b[0;36mto_RegularArray\u001b[0;34m(self)\u001b[0m\n\u001b[1;32m    298\u001b[0m         \u001b[0moffsets\u001b[0m \u001b[0;34m=\u001b[0m \u001b[0mself\u001b[0m\u001b[0;34m.\u001b[0m\u001b[0m_compact_offsets64\u001b[0m\u001b[0;34m(\u001b[0m\u001b[0;32mTrue\u001b[0m\u001b[0;34m)\u001b[0m\u001b[0;34m\u001b[0m\u001b[0;34m\u001b[0m\u001b[0m\n\u001b[0;32m--> 299\u001b[0;31m         \u001b[0;32mreturn\u001b[0m \u001b[0mself\u001b[0m\u001b[0;34m.\u001b[0m\u001b[0m_broadcast_tooffsets64\u001b[0m\u001b[0;34m(\u001b[0m\u001b[0moffsets\u001b[0m\u001b[0;34m)\u001b[0m\u001b[0;34m.\u001b[0m\u001b[0mto_RegularArray\u001b[0m\u001b[0;34m(\u001b[0m\u001b[0;34m)\u001b[0m\u001b[0;34m\u001b[0m\u001b[0;34m\u001b[0m\u001b[0m\n\u001b[0m\u001b[1;32m    300\u001b[0m \u001b[0;34m\u001b[0m\u001b[0m\n",
      "\u001b[0;32m~/.local/lib/python3.9/site-packages/awkward/contents/listoffsetarray.py\u001b[0m in \u001b[0;36mto_RegularArray\u001b[0;34m(self)\u001b[0m\n\u001b[1;32m    282\u001b[0m         )\n\u001b[0;32m--> 283\u001b[0;31m         self._backend.maybe_kernel_error(\n\u001b[0m\u001b[1;32m    284\u001b[0m             self._backend[\n",
      "\u001b[0;32m~/.local/lib/python3.9/site-packages/awkward/_backends/backend.py\u001b[0m in \u001b[0;36mmaybe_kernel_error\u001b[0;34m(self, error)\u001b[0m\n\u001b[1;32m     66\u001b[0m         \u001b[0;32melse\u001b[0m\u001b[0;34m:\u001b[0m\u001b[0;34m\u001b[0m\u001b[0;34m\u001b[0m\u001b[0m\n\u001b[0;32m---> 67\u001b[0;31m             \u001b[0;32mraise\u001b[0m \u001b[0mValueError\u001b[0m\u001b[0;34m(\u001b[0m\u001b[0mself\u001b[0m\u001b[0;34m.\u001b[0m\u001b[0mformat_kernel_error\u001b[0m\u001b[0;34m(\u001b[0m\u001b[0merror\u001b[0m\u001b[0;34m)\u001b[0m\u001b[0;34m)\u001b[0m\u001b[0;34m\u001b[0m\u001b[0;34m\u001b[0m\u001b[0m\n\u001b[0m",
      "\u001b[0;31mValueError\u001b[0m: cannot convert to RegularArray because subarray lengths are not regular (in compiled code: https://github.com/scikit-hep/awkward/blob/awkward-cpp-34/awkward-cpp/src/cpu-kernels/awkward_ListOffsetArray_toRegularArray.cpp#L22)",
      "\nThe above exception was the direct cause of the following exception:\n",
      "\u001b[0;31mValueError\u001b[0m                                Traceback (most recent call last)",
      "\u001b[0;32m/tmp/user/22449/ipykernel_1479878/2828964126.py\u001b[0m in \u001b[0;36m<module>\u001b[0;34m\u001b[0m\n\u001b[0;32m----> 1\u001b[0;31m \u001b[0mplot_new_data\u001b[0m\u001b[0;34m(\u001b[0m\u001b[0mdata\u001b[0m\u001b[0;34m)\u001b[0m\u001b[0;34m\u001b[0m\u001b[0;34m\u001b[0m\u001b[0m\n\u001b[0m",
      "\u001b[0;32m/tmp/user/22449/ipykernel_1479878/1929275831.py\u001b[0m in \u001b[0;36mplot_new_data\u001b[0;34m(data)\u001b[0m\n\u001b[1;32m     22\u001b[0m     \u001b[0mmc_heights\u001b[0m \u001b[0;34m=\u001b[0m \u001b[0mmain_axes\u001b[0m\u001b[0;34m.\u001b[0m\u001b[0mhist\u001b[0m\u001b[0;34m(\u001b[0m\u001b[0mmc_x\u001b[0m\u001b[0;34m,\u001b[0m \u001b[0mbins\u001b[0m\u001b[0;34m=\u001b[0m\u001b[0mbin_edges\u001b[0m\u001b[0;34m,\u001b[0m \u001b[0mweights\u001b[0m\u001b[0;34m=\u001b[0m\u001b[0mmc_weights\u001b[0m\u001b[0;34m,\u001b[0m \u001b[0mstacked\u001b[0m\u001b[0;34m=\u001b[0m\u001b[0;32mTrue\u001b[0m\u001b[0;34m,\u001b[0m \u001b[0mcolor\u001b[0m\u001b[0;34m=\u001b[0m\u001b[0mmc_colors\u001b[0m\u001b[0;34m,\u001b[0m \u001b[0mlabel\u001b[0m\u001b[0;34m=\u001b[0m\u001b[0mmc_labels\u001b[0m\u001b[0;34m)\u001b[0m\u001b[0;34m\u001b[0m\u001b[0;34m\u001b[0m\u001b[0m\n\u001b[1;32m     23\u001b[0m     \u001b[0mmc_x_tot\u001b[0m \u001b[0;34m=\u001b[0m \u001b[0mmc_heights\u001b[0m\u001b[0;34m[\u001b[0m\u001b[0;36m0\u001b[0m\u001b[0;34m]\u001b[0m\u001b[0;34m[\u001b[0m\u001b[0;34m-\u001b[0m\u001b[0;36m1\u001b[0m\u001b[0;34m]\u001b[0m\u001b[0;34m\u001b[0m\u001b[0;34m\u001b[0m\u001b[0m\n\u001b[0;32m---> 24\u001b[0;31m     \u001b[0mmain_axes\u001b[0m\u001b[0;34m.\u001b[0m\u001b[0mhist\u001b[0m\u001b[0;34m(\u001b[0m\u001b[0msignal_x\u001b[0m\u001b[0;34m,\u001b[0m \u001b[0mbins\u001b[0m\u001b[0;34m=\u001b[0m\u001b[0mbin_edges\u001b[0m\u001b[0;34m,\u001b[0m \u001b[0mbottom\u001b[0m\u001b[0;34m=\u001b[0m\u001b[0mmc_x_tot\u001b[0m\u001b[0;34m,\u001b[0m \u001b[0mweights\u001b[0m\u001b[0;34m=\u001b[0m\u001b[0msignal_weights\u001b[0m\u001b[0;34m,\u001b[0m \u001b[0mcolor\u001b[0m\u001b[0;34m=\u001b[0m\u001b[0msignal_color\u001b[0m\u001b[0;34m,\u001b[0m \u001b[0mlabel\u001b[0m\u001b[0;34m=\u001b[0m\u001b[0;34mr'Signal ($m_H$ = 125 GeV)'\u001b[0m\u001b[0;34m)\u001b[0m\u001b[0;34m\u001b[0m\u001b[0;34m\u001b[0m\u001b[0m\n\u001b[0m\u001b[1;32m     25\u001b[0m     \u001b[0mmain_axes\u001b[0m\u001b[0;34m.\u001b[0m\u001b[0mset_xlim\u001b[0m\u001b[0;34m(\u001b[0m\u001b[0mleft\u001b[0m\u001b[0;34m=\u001b[0m\u001b[0mxmin\u001b[0m\u001b[0;34m,\u001b[0m \u001b[0mright\u001b[0m\u001b[0;34m=\u001b[0m\u001b[0mxmax\u001b[0m\u001b[0;34m)\u001b[0m\u001b[0;34m\u001b[0m\u001b[0;34m\u001b[0m\u001b[0m\n\u001b[1;32m     26\u001b[0m \u001b[0;34m\u001b[0m\u001b[0m\n",
      "\u001b[0;32m~/.local/lib/python3.9/site-packages/matplotlib/__init__.py\u001b[0m in \u001b[0;36minner\u001b[0;34m(ax, data, *args, **kwargs)\u001b[0m\n\u001b[1;32m   1471\u001b[0m     \u001b[0;32mdef\u001b[0m \u001b[0minner\u001b[0m\u001b[0;34m(\u001b[0m\u001b[0max\u001b[0m\u001b[0;34m,\u001b[0m \u001b[0;34m*\u001b[0m\u001b[0margs\u001b[0m\u001b[0;34m,\u001b[0m \u001b[0mdata\u001b[0m\u001b[0;34m=\u001b[0m\u001b[0;32mNone\u001b[0m\u001b[0;34m,\u001b[0m \u001b[0;34m**\u001b[0m\u001b[0mkwargs\u001b[0m\u001b[0;34m)\u001b[0m\u001b[0;34m:\u001b[0m\u001b[0;34m\u001b[0m\u001b[0;34m\u001b[0m\u001b[0m\n\u001b[1;32m   1472\u001b[0m         \u001b[0;32mif\u001b[0m \u001b[0mdata\u001b[0m \u001b[0;32mis\u001b[0m \u001b[0;32mNone\u001b[0m\u001b[0;34m:\u001b[0m\u001b[0;34m\u001b[0m\u001b[0;34m\u001b[0m\u001b[0m\n\u001b[0;32m-> 1473\u001b[0;31m             return func(\n\u001b[0m\u001b[1;32m   1474\u001b[0m                 \u001b[0max\u001b[0m\u001b[0;34m,\u001b[0m\u001b[0;34m\u001b[0m\u001b[0;34m\u001b[0m\u001b[0m\n\u001b[1;32m   1475\u001b[0m                 \u001b[0;34m*\u001b[0m\u001b[0mmap\u001b[0m\u001b[0;34m(\u001b[0m\u001b[0msanitize_sequence\u001b[0m\u001b[0;34m,\u001b[0m \u001b[0margs\u001b[0m\u001b[0;34m)\u001b[0m\u001b[0;34m,\u001b[0m\u001b[0;34m\u001b[0m\u001b[0;34m\u001b[0m\u001b[0m\n",
      "\u001b[0;32m~/.local/lib/python3.9/site-packages/matplotlib/axes/_axes.py\u001b[0m in \u001b[0;36mhist\u001b[0;34m(self, x, bins, range, density, weights, cumulative, bottom, histtype, align, orientation, rwidth, log, color, label, stacked, **kwargs)\u001b[0m\n\u001b[1;32m   6912\u001b[0m \u001b[0;34m\u001b[0m\u001b[0m\n\u001b[1;32m   6913\u001b[0m         \u001b[0;31m# Massage 'x' for processing.\u001b[0m\u001b[0;34m\u001b[0m\u001b[0;34m\u001b[0m\u001b[0m\n\u001b[0;32m-> 6914\u001b[0;31m         \u001b[0mx\u001b[0m \u001b[0;34m=\u001b[0m \u001b[0mcbook\u001b[0m\u001b[0;34m.\u001b[0m\u001b[0m_reshape_2D\u001b[0m\u001b[0;34m(\u001b[0m\u001b[0mx\u001b[0m\u001b[0;34m,\u001b[0m \u001b[0;34m'x'\u001b[0m\u001b[0;34m)\u001b[0m\u001b[0;34m\u001b[0m\u001b[0;34m\u001b[0m\u001b[0m\n\u001b[0m\u001b[1;32m   6915\u001b[0m         \u001b[0mnx\u001b[0m \u001b[0;34m=\u001b[0m \u001b[0mlen\u001b[0m\u001b[0;34m(\u001b[0m\u001b[0mx\u001b[0m\u001b[0;34m)\u001b[0m  \u001b[0;31m# number of datasets\u001b[0m\u001b[0;34m\u001b[0m\u001b[0;34m\u001b[0m\u001b[0m\n\u001b[1;32m   6916\u001b[0m \u001b[0;34m\u001b[0m\u001b[0m\n",
      "\u001b[0;32m~/.local/lib/python3.9/site-packages/matplotlib/cbook.py\u001b[0m in \u001b[0;36m_reshape_2D\u001b[0;34m(X, name)\u001b[0m\n\u001b[1;32m   1427\u001b[0m \u001b[0;34m\u001b[0m\u001b[0m\n\u001b[1;32m   1428\u001b[0m     \u001b[0;31m# Unpack in case of e.g. Pandas or xarray object\u001b[0m\u001b[0;34m\u001b[0m\u001b[0;34m\u001b[0m\u001b[0m\n\u001b[0;32m-> 1429\u001b[0;31m     \u001b[0mX\u001b[0m \u001b[0;34m=\u001b[0m \u001b[0m_unpack_to_numpy\u001b[0m\u001b[0;34m(\u001b[0m\u001b[0mX\u001b[0m\u001b[0;34m)\u001b[0m\u001b[0;34m\u001b[0m\u001b[0;34m\u001b[0m\u001b[0m\n\u001b[0m\u001b[1;32m   1430\u001b[0m \u001b[0;34m\u001b[0m\u001b[0m\n\u001b[1;32m   1431\u001b[0m     \u001b[0;31m# Iterate over columns for ndarrays.\u001b[0m\u001b[0;34m\u001b[0m\u001b[0;34m\u001b[0m\u001b[0m\n",
      "\u001b[0;32m~/.local/lib/python3.9/site-packages/matplotlib/cbook.py\u001b[0m in \u001b[0;36m_unpack_to_numpy\u001b[0;34m(x)\u001b[0m\n\u001b[1;32m   2381\u001b[0m     \u001b[0;32mif\u001b[0m \u001b[0mhasattr\u001b[0m\u001b[0;34m(\u001b[0m\u001b[0mx\u001b[0m\u001b[0;34m,\u001b[0m \u001b[0;34m'to_numpy'\u001b[0m\u001b[0;34m)\u001b[0m\u001b[0;34m:\u001b[0m\u001b[0;34m\u001b[0m\u001b[0;34m\u001b[0m\u001b[0m\n\u001b[1;32m   2382\u001b[0m         \u001b[0;31m# Assume that any to_numpy() method actually returns a numpy array\u001b[0m\u001b[0;34m\u001b[0m\u001b[0;34m\u001b[0m\u001b[0m\n\u001b[0;32m-> 2383\u001b[0;31m         \u001b[0;32mreturn\u001b[0m \u001b[0mx\u001b[0m\u001b[0;34m.\u001b[0m\u001b[0mto_numpy\u001b[0m\u001b[0;34m(\u001b[0m\u001b[0;34m)\u001b[0m\u001b[0;34m\u001b[0m\u001b[0;34m\u001b[0m\u001b[0m\n\u001b[0m\u001b[1;32m   2384\u001b[0m     \u001b[0;32mif\u001b[0m \u001b[0mhasattr\u001b[0m\u001b[0;34m(\u001b[0m\u001b[0mx\u001b[0m\u001b[0;34m,\u001b[0m \u001b[0;34m'values'\u001b[0m\u001b[0;34m)\u001b[0m\u001b[0;34m:\u001b[0m\u001b[0;34m\u001b[0m\u001b[0;34m\u001b[0m\u001b[0m\n\u001b[1;32m   2385\u001b[0m         \u001b[0mxtmp\u001b[0m \u001b[0;34m=\u001b[0m \u001b[0mx\u001b[0m\u001b[0;34m.\u001b[0m\u001b[0mvalues\u001b[0m\u001b[0;34m\u001b[0m\u001b[0;34m\u001b[0m\u001b[0m\n",
      "\u001b[0;32m~/.local/lib/python3.9/site-packages/awkward/highlevel.py\u001b[0m in \u001b[0;36mto_numpy\u001b[0;34m(self, allow_missing)\u001b[0m\n\u001b[1;32m    503\u001b[0m         \u001b[0mConverts\u001b[0m \u001b[0mthis\u001b[0m \u001b[0mArray\u001b[0m \u001b[0minto\u001b[0m \u001b[0ma\u001b[0m \u001b[0mNumPy\u001b[0m \u001b[0marray\u001b[0m\u001b[0;34m,\u001b[0m \u001b[0;32mif\u001b[0m \u001b[0mpossible\u001b[0m\u001b[0;34m;\u001b[0m \u001b[0msame\u001b[0m \u001b[0;32mas\u001b[0m \u001b[0;31m#ak.to_numpy.\u001b[0m\u001b[0;34m\u001b[0m\u001b[0;34m\u001b[0m\u001b[0m\n\u001b[1;32m    504\u001b[0m         \"\"\"\n\u001b[0;32m--> 505\u001b[0;31m         \u001b[0;32mreturn\u001b[0m \u001b[0mak\u001b[0m\u001b[0;34m.\u001b[0m\u001b[0moperations\u001b[0m\u001b[0;34m.\u001b[0m\u001b[0mto_numpy\u001b[0m\u001b[0;34m(\u001b[0m\u001b[0mself\u001b[0m\u001b[0;34m,\u001b[0m \u001b[0mallow_missing\u001b[0m\u001b[0;34m=\u001b[0m\u001b[0mallow_missing\u001b[0m\u001b[0;34m)\u001b[0m\u001b[0;34m\u001b[0m\u001b[0;34m\u001b[0m\u001b[0m\n\u001b[0m\u001b[1;32m    506\u001b[0m \u001b[0;34m\u001b[0m\u001b[0m\n\u001b[1;32m    507\u001b[0m     \u001b[0;34m@\u001b[0m\u001b[0mproperty\u001b[0m\u001b[0;34m\u001b[0m\u001b[0;34m\u001b[0m\u001b[0m\n",
      "\u001b[0;32m~/.local/lib/python3.9/site-packages/awkward/_dispatch.py\u001b[0m in \u001b[0;36mdispatch\u001b[0;34m(*args, **kwargs)\u001b[0m\n\u001b[1;32m     70\u001b[0m                     )\n\u001b[1;32m     71\u001b[0m \u001b[0;34m\u001b[0m\u001b[0m\n\u001b[0;32m---> 72\u001b[0;31m             \u001b[0;32mreturn\u001b[0m \u001b[0mgen_or_result\u001b[0m\u001b[0;34m\u001b[0m\u001b[0;34m\u001b[0m\u001b[0m\n\u001b[0m\u001b[1;32m     73\u001b[0m \u001b[0;34m\u001b[0m\u001b[0m\n\u001b[1;32m     74\u001b[0m     \u001b[0;32mreturn\u001b[0m \u001b[0mdispatch\u001b[0m\u001b[0;34m\u001b[0m\u001b[0;34m\u001b[0m\u001b[0m\n",
      "\u001b[0;32m~/.local/lib/python3.9/site-packages/awkward/_errors.py\u001b[0m in \u001b[0;36m__exit__\u001b[0;34m(self, exception_type, exception_value, traceback)\u001b[0m\n\u001b[1;32m     83\u001b[0m                 \u001b[0;32mand\u001b[0m \u001b[0mself\u001b[0m\u001b[0;34m.\u001b[0m\u001b[0mprimary\u001b[0m\u001b[0;34m(\u001b[0m\u001b[0;34m)\u001b[0m \u001b[0;32mis\u001b[0m \u001b[0mself\u001b[0m\u001b[0;34m\u001b[0m\u001b[0;34m\u001b[0m\u001b[0m\n\u001b[1;32m     84\u001b[0m             ):\n\u001b[0;32m---> 85\u001b[0;31m                 \u001b[0mself\u001b[0m\u001b[0;34m.\u001b[0m\u001b[0mhandle_exception\u001b[0m\u001b[0;34m(\u001b[0m\u001b[0mexception_type\u001b[0m\u001b[0;34m,\u001b[0m \u001b[0mexception_value\u001b[0m\u001b[0;34m)\u001b[0m\u001b[0;34m\u001b[0m\u001b[0;34m\u001b[0m\u001b[0m\n\u001b[0m\u001b[1;32m     86\u001b[0m         \u001b[0;32mfinally\u001b[0m\u001b[0;34m:\u001b[0m\u001b[0;34m\u001b[0m\u001b[0;34m\u001b[0m\u001b[0m\n\u001b[1;32m     87\u001b[0m             \u001b[0;31m# Step out of the way so that another ErrorContext can become primary.\u001b[0m\u001b[0;34m\u001b[0m\u001b[0;34m\u001b[0m\u001b[0m\n",
      "\u001b[0;32m~/.local/lib/python3.9/site-packages/awkward/_errors.py\u001b[0m in \u001b[0;36mhandle_exception\u001b[0;34m(self, cls, exception)\u001b[0m\n\u001b[1;32m     93\u001b[0m             \u001b[0mself\u001b[0m\u001b[0;34m.\u001b[0m\u001b[0mdecorate_exception\u001b[0m\u001b[0;34m(\u001b[0m\u001b[0mcls\u001b[0m\u001b[0;34m,\u001b[0m \u001b[0mexception\u001b[0m\u001b[0;34m)\u001b[0m\u001b[0;34m\u001b[0m\u001b[0;34m\u001b[0m\u001b[0m\n\u001b[1;32m     94\u001b[0m         \u001b[0;32melse\u001b[0m\u001b[0;34m:\u001b[0m\u001b[0;34m\u001b[0m\u001b[0;34m\u001b[0m\u001b[0m\n\u001b[0;32m---> 95\u001b[0;31m             \u001b[0;32mraise\u001b[0m \u001b[0mself\u001b[0m\u001b[0;34m.\u001b[0m\u001b[0mdecorate_exception\u001b[0m\u001b[0;34m(\u001b[0m\u001b[0mcls\u001b[0m\u001b[0;34m,\u001b[0m \u001b[0mexception\u001b[0m\u001b[0;34m)\u001b[0m\u001b[0;34m\u001b[0m\u001b[0;34m\u001b[0m\u001b[0m\n\u001b[0m\u001b[1;32m     96\u001b[0m \u001b[0;34m\u001b[0m\u001b[0m\n\u001b[1;32m     97\u001b[0m     \u001b[0;32mdef\u001b[0m \u001b[0mdecorate_exception\u001b[0m\u001b[0;34m(\u001b[0m\u001b[0mself\u001b[0m\u001b[0;34m,\u001b[0m \u001b[0mcls\u001b[0m\u001b[0;34m:\u001b[0m \u001b[0mtype\u001b[0m\u001b[0;34m[\u001b[0m\u001b[0mE\u001b[0m\u001b[0;34m]\u001b[0m\u001b[0;34m,\u001b[0m \u001b[0mexception\u001b[0m\u001b[0;34m:\u001b[0m \u001b[0mE\u001b[0m\u001b[0;34m)\u001b[0m \u001b[0;34m->\u001b[0m \u001b[0mException\u001b[0m\u001b[0;34m:\u001b[0m\u001b[0;34m\u001b[0m\u001b[0;34m\u001b[0m\u001b[0m\n",
      "\u001b[0;31mValueError\u001b[0m: cannot convert to RegularArray because subarray lengths are not regular (in compiled code: https://github.com/scikit-hep/awkward/blob/awkward-cpp-34/awkward-cpp/src/cpu-kernels/awkward_ListOffsetArray_toRegularArray.cpp#L22)\n\nThis error occurred while calling\n\n    ak.to_numpy(\n        <Array [{lep_pt: [...], ...}, ..., {...}] type='52 * {lep_pt: var *...'>\n        allow_missing = True\n    )"
     ]
    },
    {
     "data": {
      "image/png": "[encoded data removed]",
      "text/plain": [
       "<Figure size 432x288 with 1 Axes>"
      ]
     },
     "metadata": {
      "needs_background": "light"
     },
     "output_type": "display_data"
    }
   ],
   "source": [
    "plot_new_data(data)"
   ]
  },
  {
   "cell_type": "code",
   "execution_count": 53,
   "id": "1edd182c",
   "metadata": {},
   "outputs": [
    {
     "ename": "KeyError",
     "evalue": "'Signal ($m_H$ = 125 GeV)'",
     "output_type": "error",
     "traceback": [
      "\u001b[0;31m---------------------------------------------------------------------------\u001b[0m",
      "\u001b[0;31mKeyError\u001b[0m                                  Traceback (most recent call last)",
      "Cell \u001b[0;32mIn[53], line 1\u001b[0m\n\u001b[0;32m----> 1\u001b[0m \u001b[43mplot_data\u001b[49m\u001b[43m(\u001b[49m\u001b[43mdata\u001b[49m\u001b[43m)\u001b[49m\n",
      "Cell \u001b[0;32mIn[52], line 6\u001b[0m, in \u001b[0;36mplot_data\u001b[0;34m(data)\u001b[0m\n\u001b[1;32m      4\u001b[0m \u001b[38;5;28;01mdef\u001b[39;00m \u001b[38;5;21mplot_data\u001b[39m(data):\n\u001b[1;32m      5\u001b[0m     \u001b[38;5;66;03m# Assuming data is a dictionary\u001b[39;00m\n\u001b[0;32m----> 6\u001b[0m     signal_x \u001b[38;5;241m=\u001b[39m \u001b[43mdata\u001b[49m\u001b[43m[\u001b[49m\u001b[38;5;124;43m'\u001b[39;49m\u001b[38;5;124;43mSignal ($m_H$ = 125 GeV)\u001b[39;49m\u001b[38;5;124;43m'\u001b[39;49m\u001b[43m]\u001b[49m[\u001b[38;5;124m'\u001b[39m\u001b[38;5;124mmllll\u001b[39m\u001b[38;5;124m'\u001b[39m]\n\u001b[1;32m      7\u001b[0m     background_x \u001b[38;5;241m=\u001b[39m data[\u001b[38;5;124m'\u001b[39m\u001b[38;5;124mBackground $Z,t\u001b[39m\u001b[38;5;130;01m\\\\\u001b[39;00m\u001b[38;5;124mbar\u001b[39m\u001b[38;5;132;01m{t}\u001b[39;00m\u001b[38;5;124m$\u001b[39m\u001b[38;5;124m'\u001b[39m][\u001b[38;5;124m'\u001b[39m\u001b[38;5;124mmllll\u001b[39m\u001b[38;5;124m'\u001b[39m]\n\u001b[1;32m      9\u001b[0m     \u001b[38;5;66;03m# Plotting\u001b[39;00m\n",
      "\u001b[0;31mKeyError\u001b[0m: 'Signal ($m_H$ = 125 GeV)'"
     ]
    }
   ],
   "source": []
  },
  {
   "cell_type": "code",
   "execution_count": null,
   "id": "90e8767c",
   "metadata": {},
   "outputs": [],
   "source": [
    "\n"
   ]
  },
  {
   "cell_type": "code",
   "execution_count": null,
   "id": "96199857",
   "metadata": {},
   "outputs": [],
   "source": []
  },
  {
   "cell_type": "code",
   "execution_count": null,
   "id": "7943ae4b",
   "metadata": {},
   "outputs": [],
   "source": []
  },
  {
   "cell_type": "code",
   "execution_count": null,
   "id": "68636e44",
   "metadata": {},
   "outputs": [],
   "source": []
  }
 ],
 "metadata": {
  "kernelspec": {
   "display_name": "Python 3 (ipykernel)",
   "language": "python",
   "name": "python3"
  },
  "language_info": {
   "codemirror_mode": {
    "name": "ipython",
    "version": 3
   },
   "file_extension": ".py",
   "mimetype": "text/x-python",
   "name": "python",
   "nbconvert_exporter": "python",
   "pygments_lexer": "ipython3",
   "version": "3.9.7"
  }
 },
 "nbformat": 4,
 "nbformat_minor": 5
}
