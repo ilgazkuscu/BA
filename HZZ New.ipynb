{
 "cells": [
  {
   "cell_type": "code",
   "execution_count": 1,
   "id": "75112d9d",
   "metadata": {
    "tags": []
   },
   "outputs": [
    {
     "name": "stdout",
     "output_type": "stream",
     "text": [
      "Requirement already satisfied: pip in /home/i/I.Kuscu/.local/lib/python3.11/site-packages (24.0)\n",
      "Requirement already satisfied: uproot in /home/i/I.Kuscu/.local/lib/python3.11/site-packages (5.3.7)\n",
      "Requirement already satisfied: awkward in /home/i/I.Kuscu/.local/lib/python3.11/site-packages (2.6.5)\n",
      "Requirement already satisfied: vector in /home/i/I.Kuscu/.local/lib/python3.11/site-packages (1.4.0)\n",
      "Requirement already satisfied: matplotlib in /home/i/I.Kuscu/.local/lib/python3.11/site-packages (3.9.0)\n",
      "Requirement already satisfied: cramjam>=2.5.0 in /home/i/I.Kuscu/.local/lib/python3.11/site-packages (from uproot) (2.8.3)\n",
      "Requirement already satisfied: fsspec in /home/i/I.Kuscu/.local/lib/python3.11/site-packages (from uproot) (2024.5.0)\n",
      "Requirement already satisfied: numpy in /home/i/I.Kuscu/.local/lib/python3.11/site-packages (from uproot) (1.26.4)\n",
      "Requirement already satisfied: packaging in /software/opt/el_9/x86_64/python/3.11-2023.09/lib/python3.11/site-packages (from uproot) (23.1)\n",
      "Requirement already satisfied: awkward-cpp==34 in /home/i/I.Kuscu/.local/lib/python3.11/site-packages (from awkward) (34)\n",
      "Requirement already satisfied: importlib-metadata>=4.13.0 in /software/opt/el_9/x86_64/python/3.11-2023.09/lib/python3.11/site-packages (from awkward) (6.8.0)\n",
      "Requirement already satisfied: contourpy>=1.0.1 in /software/opt/el_9/x86_64/python/3.11-2023.09/lib/python3.11/site-packages (from matplotlib) (1.1.0)\n",
      "Requirement already satisfied: cycler>=0.10 in /software/opt/el_9/x86_64/python/3.11-2023.09/lib/python3.11/site-packages (from matplotlib) (0.11.0)\n",
      "Requirement already satisfied: fonttools>=4.22.0 in /software/opt/el_9/x86_64/python/3.11-2023.09/lib/python3.11/site-packages (from matplotlib) (4.42.1)\n",
      "Requirement already satisfied: kiwisolver>=1.3.1 in /software/opt/el_9/x86_64/python/3.11-2023.09/lib/python3.11/site-packages (from matplotlib) (1.4.5)\n",
      "Requirement already satisfied: pillow>=8 in /software/opt/el_9/x86_64/python/3.11-2023.09/lib/python3.11/site-packages (from matplotlib) (9.5.0)\n",
      "Requirement already satisfied: pyparsing>=2.3.1 in /software/opt/el_9/x86_64/python/3.11-2023.09/lib/python3.11/site-packages (from matplotlib) (3.0.9)\n",
      "Requirement already satisfied: python-dateutil>=2.7 in /software/opt/el_9/x86_64/python/3.11-2023.09/lib/python3.11/site-packages (from matplotlib) (2.8.2)\n",
      "Requirement already satisfied: zipp>=0.5 in /software/opt/el_9/x86_64/python/3.11-2023.09/lib/python3.11/site-packages (from importlib-metadata>=4.13.0->awkward) (3.16.2)\n",
      "Requirement already satisfied: six>=1.5 in /software/opt/el_9/x86_64/python/3.11-2023.09/lib/python3.11/site-packages (from python-dateutil>=2.7->matplotlib) (1.16.0)\n"
     ]
    }
   ],
   "source": [
    "import sys\n",
    "# update the pip package installer\n",
    "!{sys.executable} -m pip install --upgrade --user pip\n",
    "# install required packages\n",
    "!{sys.executable} -m pip install --upgrade --user uproot awkward vector matplotlib"
   ]
  },
  {
   "cell_type": "code",
   "execution_count": 14,
   "id": "ecb1d243",
   "metadata": {
    "tags": []
   },
   "outputs": [],
   "source": [
    "import uproot # for reading .root files\n",
    "import awkward as ak # to represent nested data in columnar format\n",
    "import vector # for 4-momentum calculations\n",
    "import time # to measure time to analyse\n",
    "import math # for mathematical functions such as square root\n",
    "import numpy as np # for numerical calculations such as histogramming\n",
    "import matplotlib.pyplot as plt # for plotting\n",
    "from matplotlib.ticker import AutoMinorLocator # for minor ticks\n",
    "import infofile # local file containing cross-sections, sums of weights, dataset IDs\n",
    "import newinfofile #neue Infofile"
   ]
  },
  {
   "cell_type": "code",
   "execution_count": 15,
   "id": "5a7a2cc0",
   "metadata": {
    "tags": []
   },
   "outputs": [],
   "source": [
    "#lumi = 0.5 # fb-1 # data_A only\n",
    "#lumi = 1.9 # fb-1 # data_B only\n",
    "#lumi = 2.9 # fb-1 # data_C only\n",
    "#lumi = 4.7 # fb-1 # data_D only\n",
    "lumi = 10 # fb-1 # data_A,data_B,data_C,data_D\n",
    "\n",
    "fraction = 1.0 # reduce this is if you want the code to run quicker\n",
    "                                                                                                                                  \n",
    "#tuple_path = \"Input/4lep/\" # local \n",
    "tuple_path = \"https://atlas-opendata.web.cern.ch/atlas-opendata/samples/2020/4lep/\" # web address\n",
    "new_tuple_path = \"/project/etp1/dkoch/ATLASOpenData-test/\""
   ]
  },
  {
   "cell_type": "code",
   "execution_count": 30,
   "id": "0a964b15",
   "metadata": {
    "tags": []
   },
   "outputs": [],
   "source": [
    "samples = {\n",
    "\n",
    "   'data': {\n",
    "        'list' : ['data_A','data_B','data_C','data_D'],\n",
    "   },\n",
    "\n",
    "    r'Background $Z,t\\bar{t}$' : { # Z + ttbar\n",
    "        # 'list' : ['Zee','Zmumu','ttbar_lep'],\n",
    "        'list': ['ttbar_lep'],\n",
    "        'color' : \"#6b59d3\" # purple\n",
    "    },\n",
    "\n",
    "     r'Background $ZZ^*$' : { # ZZ\n",
    "        'list' : ['llll'],\n",
    "      'color' : \"#ff0000\" # red\n",
    "    },\n",
    "\n",
    "     r'Signal ($m_H$ = 125 GeV)' : { # H -> ZZ -> llll\n",
    "        'list' : ['ggH125_ZZ4lep','VBFH125_ZZ4lep','WH125_ZZ4lep','ZH125_ZZ4lep'],\n",
    "        'color' : \"#00cdff\" # light blue\n",
    "    },\n",
    "\n",
    "}\n",
    "\n",
    "new_samples = {\n",
    "  \n",
    "    r'Background $Z,t\\bar{t}$' : { # Z + ttbar\n",
    "        'list' : \n",
    "        [\n",
    "            'user.garciarm.39227472._000001.output_ntup.root', \n",
    "            \n",
    "            'user.garciarm.39227472._000002.output_ntup.root',\n",
    "            'user.garciarm.39227472._000003.output_ntup.root',\n",
    "            'user.garciarm.39227472._000004.output_ntup.root',\n",
    "            'user.garciarm.39227472._000005.output_ntup.root',\n",
    "           #bem 6 und 7 15 sind nicht da!\n",
    "            'user.garciarm.39227472._000008.output_ntup.root',\n",
    "            'user.garciarm.39227472._000009.output_ntup.root',\n",
    "            'user.garciarm.39227472._000010.output_ntup.root',\n",
    "            'user.garciarm.39227472._000011.output_ntup.root',\n",
    "            'user.garciarm.39227472._000012.output_ntup.root',\n",
    "            'user.garciarm.39227472._000013.output_ntup.root',\n",
    "            'user.garciarm.39227472._000014.output_ntup.root',\n",
    "   #und  15 sind nicht da!\n",
    "            'user.garciarm.39227472._000016.output_ntup.root',\n",
    "            'user.garciarm.39227472._000017.output_ntup.root',\n",
    "            'user.garciarm.39227472._000018.output_ntup.root',\n",
    "            'user.garciarm.39227472._000019.output_ntup.root',\n",
    "            'user.garciarm.39227472._000020.output_ntup.root'\n",
    "        ],\n",
    "        'color' : \"#00ff00\" # GRUN\n",
    "    },\n",
    "}\n",
    "\n"
   ]
  },
  {
   "cell_type": "code",
   "execution_count": 31,
   "id": "dbf35dea",
   "metadata": {
    "tags": []
   },
   "outputs": [],
   "source": [
    "MeV = 0.001\n",
    "GeV = 1.0"
   ]
  },
  {
   "cell_type": "code",
   "execution_count": 32,
   "id": "1de4d239",
   "metadata": {
    "tags": []
   },
   "outputs": [],
   "source": [
    "def get_data_from_new_files():\n",
    "    new_data = {} # define empty dictionary to hold awkward arrays\n",
    "    for s in new_samples: # loop over samples\n",
    "        print('Processing NEW '+s+' samples') # print which sample\n",
    "        frames = [] # define empty list to hold data\n",
    "        for val in new_samples[s]['list']: # loop over each file\n",
    "           # if s == 'data': prefix = \"Data/\" # Data prefix  (Daten sind ausgeschlossen => unnotig?)\n",
    "            #else: #ttbar prefix\n",
    "            prefix = \"ttbar-samples-with-weights/\" #wir kümmern uns nur um ttbar\n",
    "            fileString = new_tuple_path+prefix+val # file name to open  \n",
    "            print(fileString, val) \n",
    "            temp = read_file(fileString,val,treename=\"analysis\") # call the function read_file defined below\n",
    "            frames.append(temp) # append array returned from read_file to list of awkward arrays\n",
    "        new_data[s] = ak.concatenate(frames) # dictionary entry is concatenated awkward arrays\n",
    "    \n",
    "    return new_data # return dictionary of awkward arrays"
   ]
  },
  {
   "cell_type": "code",
   "execution_count": 33,
   "id": "5096f5e7",
   "metadata": {
    "tags": []
   },
   "outputs": [],
   "source": [
    "def get_data_from_new_files2():\n",
    "    new_data = {} # define empty dictionary to hold awkward arrays\n",
    "    for val in new_samples[r'Background $Z,t\\bar{t}$']['list']:\n",
    "        frames = [] # define empty list to hold data\n",
    "        prefix = \"ttbar-samples-with-weights/\"\n",
    "        fileString = new_tuple_path+prefix+val # file name to open\n",
    "        print(fileString, val)\n",
    "        temp = read_file(fileString,val,treename=\"analysis\") # call the function read_file defined below\n",
    "        frames.append(temp) # append array returned from read_file to list of awkward arrays\n",
    "    new_data[val] = ak.concatenate(frames) # dictionary entry is concatenated awkward arrays\n",
    "        \n",
    "    return new_data # return dictionary of awkward arrays\n"
   ]
  },
  {
   "cell_type": "code",
   "execution_count": 34,
   "id": "f9b28427",
   "metadata": {
    "tags": []
   },
   "outputs": [],
   "source": [
    "def calc_new_weight(xsec_weight, events):\n",
    "    return (\n",
    "        xsec_weight\n",
    "        * events.mcWeight\n",
    "        * events.ScaleFactor_PILEUP\n",
    "        * events.ScaleFactor_ELE\n",
    "        * events.ScaleFactor_MUON \n",
    "        #* events.ScaleFactor_LepTRIGGER = 1 #keine LepTrigger bei tree.keys()\n",
    "    )"
   ]
  },
  {
   "cell_type": "code",
   "execution_count": 35,
   "id": "9b5afcd0",
   "metadata": {
    "tags": []
   },
   "outputs": [],
   "source": [
    "def get_new_xsec_weight(sample):\n",
    "    info = newinfofile.infos[sample] # open infofile\n",
    "    xsec_weight = (lumi*1000*info[\"xsec\"])/(info[\"sumw\"]) #*1000 to go from fb-1 to pb-1  ?red_eff stets = 1 ?\n",
    "    return xsec_weight # return cross-section weight"
   ]
  },
  {
   "cell_type": "code",
   "execution_count": 36,
   "id": "eec28ee0",
   "metadata": {
    "tags": []
   },
   "outputs": [],
   "source": [
    "def calc_mllll(lep_pt, lep_eta, lep_phi, lep_e):\n",
    "    # construct awkward 4-vector array\n",
    "    p4 = vector.zip({\"pt\": lep_pt, \"eta\": lep_eta, \"phi\": lep_phi, \"E\": lep_e})\n",
    "    \n",
    "    # calculate invariant mass of first 4 leptons\n",
    "    # [:, i] selects the i-th lepton in each event\n",
    "    # .M calculates the invariant mass\n",
    "    \n",
    "  \n",
    "    return (p4[:, 0] + p4[:, 1] + p4[:, 2] + p4[:, 3]).M * MeV"
   ]
  },
  {
   "cell_type": "code",
   "execution_count": 37,
   "id": "66e0bbe1",
   "metadata": {
    "tags": []
   },
   "outputs": [],
   "source": [
    "# cut on lepton charge\n",
    "# paper: \"selecting two pairs of isolated leptons, each of which is comprised of two leptons with the same flavour and opposite charge\"\n",
    "def cut_lep_charge(lep_charge):\n",
    "    # Ensure lep_charge is at least 2D\n",
    "    #lep_charge = ak.to_regular(lep_charge)\n",
    "    \n",
    "    # Initialize a mask with all False (i.e., keep all events initially)\n",
    "    mask = np.zeros(len(lep_charge), dtype=bool)\n",
    "    \n",
    "    # Iterate over events to apply the cut\n",
    "    for i, charges in enumerate(lep_charge):\n",
    "        if len(charges) >= 4:\n",
    "            if np.sum(charges[:4]) != 0:\n",
    "                mask[i] = True  # Mark event for exclusion if sum of charges is not zero\n",
    "        else:\n",
    "            mask[i] = True  # Mark event for exclusion if fewer than 4 leptons\n",
    "    \n",
    "    return mask\n",
    "\n",
    "# cut on lepton type\n",
    "# paper: \"selecting two pairs of isolated leptons, each of which is comprised of two leptons with the same flavour and opposite charge\"\n",
    "def cut_lep_type(lep_type):\n",
    "# for an electron lep_type is 11\n",
    "# for a muon lep_type is 13\n",
    "# throw away when none of eeee, mumumumu, eemumu\n",
    "    sum_lep_type = lep_type[:, 0] + lep_type[:, 1] + lep_type[:, 2] + lep_type[:, 3]\n",
    "    return (sum_lep_type != 44) #& (sum_lep_type != 48) & (sum_lep_type != 52)check, ob. die gleich wsl sind."
   ]
  },
  {
   "cell_type": "code",
   "execution_count": 38,
   "id": "d0afbada",
   "metadata": {
    "tags": []
   },
   "outputs": [],
   "source": [
    "def read_file(path,sample, treename=\"analysis\"):\n",
    "    \n",
    "    \n",
    "    start = time.time() # start the clock\n",
    "    print(\"\\tProcessing: \" + sample) # print which sample is being processed\n",
    "    data_all = [] # define empty list to hold all data for this sample\n",
    "    \n",
    "    # open the tree called mini using a context manager (will automatically close files/resources)\n",
    "    with uproot.open(path + \":\" + treename) as tree: #webseite geöffnet\n",
    "        numevents = tree.num_entries # number of events\n",
    "        #if 'data' not in sample: alle Daten sind simuliert?\n",
    "        xsec_weight = get_new_xsec_weight(sample) # get cross-section weight\n",
    "        for data in tree.iterate(['lep_pt','lep_eta','lep_phi',\n",
    "                                  'lep_e','lep_charge','lep_type', \n",
    "                                  #add more variables here if you make cuts on them \n",
    "                                  'mcWeight',\n",
    "                                  'ScaleFactor_PILEUP',\n",
    "                                  'ScaleFactor_ELE',\n",
    "                                  'ScaleFactor_MUON',\n",
    "                                  #'ScaleFactor_LepTRIGGER' # variables to calculate Monte Carlo weight\n",
    "                                  ],\n",
    "                                 library=\"ak\", # choose output type as awkward array\n",
    "                                 entry_stop=numevents):# fraction = 1 zur Zeit *fraction): # process up to numevents*fraction\n",
    "\n",
    "            nIn = len(data) # number of events in this batch\n",
    "\n",
    "            #if 'data' not in sample: # only do this for Monte Carlo simulation files\n",
    "                # multiply all Monte Carlo weights and scale factors together to give total weight\n",
    "            data['totalWeight'] = calc_new_weight(xsec_weight, data)\n",
    "\n",
    "            # cut on lepton charge using the function cut_lep_charge defined above\n",
    "            data = data[~cut_lep_charge(data.lep_charge)]\n",
    "\n",
    "            # cut on lepton type using the function cut_lep_type defined above\n",
    "            data = data[~cut_lep_type(data.lep_type)]\n",
    "\n",
    "            # calculation of 4-lepton invariant mass using the function calc_mllll defined above\n",
    "            data['mllll'] = calc_mllll(data.lep_pt, data.lep_eta, data.lep_phi, data.lep_e)\n",
    "\n",
    "            # array contents can be printed at any stage like this\n",
    "            #print(data)\n",
    "\n",
    "            # array column can be printed at any stage like this\n",
    "            #print(data['lep_pt'])\n",
    "\n",
    "            # multiple array columns can be printed at any stage like this\n",
    "            #print(data[['lep_pt','lep_eta']])\n",
    "\n",
    "            nOut = len(data) # number of events passing cuts in this batch\n",
    "            data_all.append(data) # append array from this batch\n",
    "            elapsed = time.time() - start # time taken to process\n",
    "            print(\"\\t\\t nIn: \"+str(nIn)+\",\\t nOut: \\t\"+str(nOut)+\"\\t in \"+str(round(elapsed,1))+\"s\") # events before and after\n",
    "    \n",
    "    return ak.concatenate(data_all) # return array containing events passing all cuts"
   ]
  },
  {
   "cell_type": "code",
   "execution_count": null,
   "id": "3260a514",
   "metadata": {},
   "outputs": [],
   "source": []
  },
  {
   "cell_type": "code",
   "execution_count": 25,
   "id": "803636db",
   "metadata": {
    "tags": []
   },
   "outputs": [
    {
     "name": "stdout",
     "output_type": "stream",
     "text": [
      "/project/etp1/dkoch/ATLASOpenData-test/ttbar-samples-with-weights/user.garciarm.39227472._000001.output_ntup.root user.garciarm.39227472._000001.output_ntup.root\n",
      "\tProcessing: user.garciarm.39227472._000001.output_ntup.root\n",
      "\t\t nIn: 2040025,\t nOut: \t297\t in 36.6s\n",
      "\t\t nIn: 942476,\t nOut: \t150\t in 53.5s\n",
      "/project/etp1/dkoch/ATLASOpenData-test/ttbar-samples-with-weights/user.garciarm.39227472._000002.output_ntup.root user.garciarm.39227472._000002.output_ntup.root\n",
      "\tProcessing: user.garciarm.39227472._000002.output_ntup.root\n",
      "\t\t nIn: 2041369,\t nOut: \t324\t in 36.7s\n",
      "\t\t nIn: 899717,\t nOut: \t146\t in 52.9s\n",
      "/project/etp1/dkoch/ATLASOpenData-test/ttbar-samples-with-weights/user.garciarm.39227472._000003.output_ntup.root user.garciarm.39227472._000003.output_ntup.root\n",
      "\tProcessing: user.garciarm.39227472._000003.output_ntup.root\n",
      "\t\t nIn: 2040089,\t nOut: \t322\t in 36.9s\n",
      "\t\t nIn: 900410,\t nOut: \t140\t in 53.2s\n",
      "/project/etp1/dkoch/ATLASOpenData-test/ttbar-samples-with-weights/user.garciarm.39227472._000004.output_ntup.root user.garciarm.39227472._000004.output_ntup.root\n",
      "\tProcessing: user.garciarm.39227472._000004.output_ntup.root\n",
      "\t\t nIn: 2040312,\t nOut: \t371\t in 36.9s\n",
      "\t\t nIn: 922066,\t nOut: \t158\t in 53.1s\n",
      "/project/etp1/dkoch/ATLASOpenData-test/ttbar-samples-with-weights/user.garciarm.39227472._000005.output_ntup.root user.garciarm.39227472._000005.output_ntup.root\n",
      "\tProcessing: user.garciarm.39227472._000005.output_ntup.root\n",
      "\t\t nIn: 1232444,\t nOut: \t191\t in 22.0s\n",
      "/project/etp1/dkoch/ATLASOpenData-test/ttbar-samples-with-weights/user.garciarm.39227472._000008.output_ntup.root user.garciarm.39227472._000008.output_ntup.root\n",
      "\tProcessing: user.garciarm.39227472._000008.output_ntup.root\n",
      "\t\t nIn: 2040400,\t nOut: \t336\t in 36.3s\n",
      "\t\t nIn: 848458,\t nOut: \t128\t in 51.3s\n",
      "/project/etp1/dkoch/ATLASOpenData-test/ttbar-samples-with-weights/user.garciarm.39227472._000009.output_ntup.root user.garciarm.39227472._000009.output_ntup.root\n",
      "\tProcessing: user.garciarm.39227472._000009.output_ntup.root\n",
      "\t\t nIn: 2036425,\t nOut: \t380\t in 36.3s\n",
      "\t\t nIn: 906136,\t nOut: \t156\t in 52.5s\n",
      "/project/etp1/dkoch/ATLASOpenData-test/ttbar-samples-with-weights/user.garciarm.39227472._000010.output_ntup.root user.garciarm.39227472._000010.output_ntup.root\n",
      "\tProcessing: user.garciarm.39227472._000010.output_ntup.root\n",
      "\t\t nIn: 2038117,\t nOut: \t339\t in 37.0s\n",
      "\t\t nIn: 76927,\t nOut: \t15\t in 38.3s\n",
      "/project/etp1/dkoch/ATLASOpenData-test/ttbar-samples-with-weights/user.garciarm.39227472._000011.output_ntup.root user.garciarm.39227472._000011.output_ntup.root\n",
      "\tProcessing: user.garciarm.39227472._000011.output_ntup.root\n",
      "\t\t nIn: 2037838,\t nOut: \t309\t in 36.5s\n",
      "\t\t nIn: 534194,\t nOut: \t87\t in 46.0s\n",
      "/project/etp1/dkoch/ATLASOpenData-test/ttbar-samples-with-weights/user.garciarm.39227472._000012.output_ntup.root user.garciarm.39227472._000012.output_ntup.root\n",
      "\tProcessing: user.garciarm.39227472._000012.output_ntup.root\n",
      "\t\t nIn: 2037506,\t nOut: \t337\t in 36.8s\n",
      "\t\t nIn: 1662761,\t nOut: \t251\t in 66.3s\n",
      "/project/etp1/dkoch/ATLASOpenData-test/ttbar-samples-with-weights/user.garciarm.39227472._000013.output_ntup.root user.garciarm.39227472._000013.output_ntup.root\n",
      "\tProcessing: user.garciarm.39227472._000013.output_ntup.root\n",
      "\t\t nIn: 2035895,\t nOut: \t322\t in 36.6s\n",
      "\t\t nIn: 1586455,\t nOut: \t283\t in 65.2s\n",
      "/project/etp1/dkoch/ATLASOpenData-test/ttbar-samples-with-weights/user.garciarm.39227472._000014.output_ntup.root user.garciarm.39227472._000014.output_ntup.root\n",
      "\tProcessing: user.garciarm.39227472._000014.output_ntup.root\n",
      "\t\t nIn: 517115,\t nOut: \t101\t in 9.3s\n",
      "/project/etp1/dkoch/ATLASOpenData-test/ttbar-samples-with-weights/user.garciarm.39227472._000016.output_ntup.root user.garciarm.39227472._000016.output_ntup.root\n",
      "\tProcessing: user.garciarm.39227472._000016.output_ntup.root\n",
      "\t\t nIn: 2037013,\t nOut: \t332\t in 36.9s\n",
      "/project/etp1/dkoch/ATLASOpenData-test/ttbar-samples-with-weights/user.garciarm.39227472._000017.output_ntup.root user.garciarm.39227472._000017.output_ntup.root\n",
      "\tProcessing: user.garciarm.39227472._000017.output_ntup.root\n",
      "\t\t nIn: 1443472,\t nOut: \t234\t in 26.1s\n",
      "/project/etp1/dkoch/ATLASOpenData-test/ttbar-samples-with-weights/user.garciarm.39227472._000018.output_ntup.root user.garciarm.39227472._000018.output_ntup.root\n",
      "\tProcessing: user.garciarm.39227472._000018.output_ntup.root\n",
      "\t\t nIn: 2010723,\t nOut: \t325\t in 36.1s\n",
      "/project/etp1/dkoch/ATLASOpenData-test/ttbar-samples-with-weights/user.garciarm.39227472._000019.output_ntup.root user.garciarm.39227472._000019.output_ntup.root\n",
      "\tProcessing: user.garciarm.39227472._000019.output_ntup.root\n",
      "\t\t nIn: 1988473,\t nOut: \t326\t in 35.2s\n",
      "/project/etp1/dkoch/ATLASOpenData-test/ttbar-samples-with-weights/user.garciarm.39227472._000020.output_ntup.root user.garciarm.39227472._000020.output_ntup.root\n",
      "\tProcessing: user.garciarm.39227472._000020.output_ntup.root\n",
      "\t\t nIn: 326752,\t nOut: \t52\t in 5.9s\n",
      "Time taken: 706.2s\n"
     ]
    }
   ],
   "source": [
    "start = time.time() # time at start of whole processing\n",
    "data = get_data_from_new_files2() # process all files\n",
    "elapsed = time.time() - start # time after whole processing\n",
    "print(\"Time taken: \"+str(round(elapsed,1))+\"s\") # print total time taken to process every file"
   ]
  },
  {
   "cell_type": "code",
   "execution_count": 39,
   "id": "6a849f94",
   "metadata": {
    "tags": []
   },
   "outputs": [],
   "source": [
    "def plot_data(data):\n",
    "    xmin = 80\n",
    "    xmax = 250\n",
    "    step_size = 5\n",
    "    bin_edges = np.arange(start=xmin, stop=xmax+step_size, step=step_size)\n",
    "    bin_centres = np.arange(start=xmin+step_size/2, stop=xmax+step_size/2, step=step_size)\n",
    "    data_x,_ = np.histogram(data['data']['mllll'], bins=bin_edges)\n",
    "    data_x_errors = 0\n",
    "    \n",
    "    signal_x = data[r'Signal ($m_H$ = 125 GeV)']['mllll']\n",
    "    signal_weights = data[r'Signal ($m_H$ = 125 GeV)'].totalWeight\n",
    "    signal_color = samples[r'Signal ($m_H$ = 125 GeV)']['color']\n",
    "    \n",
    "    mc_x = [data[s]['mllll'] for s in samples if s not in ['data', r'Signal ($m_H$ = 125 GeV)']]\n",
    "    mc_weights = [data[s].totalWeight for s in samples if s not in ['data', r'Signal ($m_H$ = 125 GeV)']]\n",
    "    mc_colors = [samples[s]['color'] for s in samples if s not in ['data', r'Signal ($m_H$ = 125 GeV)']]\n",
    "    mc_labels = [s for s in samples if s not in ['data', r'Signal ($m_H$ = 125 GeV)']]\n",
    "    \n",
    "    main_axes = plt.gca()\n",
    "\n",
    "    mc_heights = main_axes.hist(mc_x, bins=bin_edges, weights=mc_weights, stacked=True, color=mc_colors, label=mc_labels)\n",
    "    mc_x_tot = mc_heights[0][-1]\n",
    "    main_axes.hist(signal_x, bins=bin_edges, bottom=mc_x_tot, weights=signal_weights, color=signal_color, label=r'Signal ($m_H$ = 125 GeV)')\n",
    "    main_axes.set_xlim(left=xmin, right=xmax)\n",
    "    \n",
    "   \n",
    "    main_axes.set_xlabel(r'4-lepton invariant mass $\\mathrm{m_{4l}}$ [GeV]', fontsize=13, x=1, horizontalalignment='right')\n",
    "    main_axes.set_ylabel('Events / '+str(step_size)+' GeV', y=1, horizontalalignment='right')\n",
    "    main_axes.set_ylim(bottom=0, top=np.amax(data_x)*1.6)\n",
    "\n",
    "\n",
    "\n",
    "\n",
    "   \n",
    "    \n",
    "\n",
    "    return\n"
   ]
  },
  {
   "cell_type": "code",
   "execution_count": 40,
   "id": "d5821eb0",
   "metadata": {
    "tags": []
   },
   "outputs": [
    {
     "ename": "KeyError",
     "evalue": "'data'",
     "output_type": "error",
     "traceback": [
      "\u001b[0;31m---------------------------------------------------------------------------\u001b[0m",
      "\u001b[0;31mKeyError\u001b[0m                                  Traceback (most recent call last)",
      "Cell \u001b[0;32mIn[40], line 1\u001b[0m\n\u001b[0;32m----> 1\u001b[0m \u001b[43mplot_data\u001b[49m\u001b[43m(\u001b[49m\u001b[43mdata\u001b[49m\u001b[43m)\u001b[49m\n",
      "Cell \u001b[0;32mIn[39], line 7\u001b[0m, in \u001b[0;36mplot_data\u001b[0;34m(data)\u001b[0m\n\u001b[1;32m      5\u001b[0m bin_edges \u001b[38;5;241m=\u001b[39m np\u001b[38;5;241m.\u001b[39marange(start\u001b[38;5;241m=\u001b[39mxmin, stop\u001b[38;5;241m=\u001b[39mxmax\u001b[38;5;241m+\u001b[39mstep_size, step\u001b[38;5;241m=\u001b[39mstep_size)\n\u001b[1;32m      6\u001b[0m bin_centres \u001b[38;5;241m=\u001b[39m np\u001b[38;5;241m.\u001b[39marange(start\u001b[38;5;241m=\u001b[39mxmin\u001b[38;5;241m+\u001b[39mstep_size\u001b[38;5;241m/\u001b[39m\u001b[38;5;241m2\u001b[39m, stop\u001b[38;5;241m=\u001b[39mxmax\u001b[38;5;241m+\u001b[39mstep_size\u001b[38;5;241m/\u001b[39m\u001b[38;5;241m2\u001b[39m, step\u001b[38;5;241m=\u001b[39mstep_size)\n\u001b[0;32m----> 7\u001b[0m data_x,_ \u001b[38;5;241m=\u001b[39m np\u001b[38;5;241m.\u001b[39mhistogram(\u001b[43mdata\u001b[49m\u001b[43m[\u001b[49m\u001b[38;5;124;43m'\u001b[39;49m\u001b[38;5;124;43mdata\u001b[39;49m\u001b[38;5;124;43m'\u001b[39;49m\u001b[43m]\u001b[49m[\u001b[38;5;124m'\u001b[39m\u001b[38;5;124mmllll\u001b[39m\u001b[38;5;124m'\u001b[39m], bins\u001b[38;5;241m=\u001b[39mbin_edges)\n\u001b[1;32m      8\u001b[0m data_x_errors \u001b[38;5;241m=\u001b[39m \u001b[38;5;241m0\u001b[39m\n\u001b[1;32m     10\u001b[0m signal_x \u001b[38;5;241m=\u001b[39m data[\u001b[38;5;124mr\u001b[39m\u001b[38;5;124m'\u001b[39m\u001b[38;5;124mSignal ($m_H$ = 125 GeV)\u001b[39m\u001b[38;5;124m'\u001b[39m][\u001b[38;5;124m'\u001b[39m\u001b[38;5;124mmllll\u001b[39m\u001b[38;5;124m'\u001b[39m]\n",
      "\u001b[0;31mKeyError\u001b[0m: 'data'"
     ]
    }
   ],
   "source": [
    "plot_data(data)"
   ]
  },
  {
   "cell_type": "code",
   "execution_count": 41,
   "id": "2173179a",
   "metadata": {
    "tags": []
   },
   "outputs": [
    {
     "ename": "KeyError",
     "evalue": "'Background $Z,t\\\\bar{t}$'",
     "output_type": "error",
     "traceback": [
      "\u001b[0;31m---------------------------------------------------------------------------\u001b[0m",
      "\u001b[0;31mKeyError\u001b[0m                                  Traceback (most recent call last)",
      "Cell \u001b[0;32mIn[41], line 1\u001b[0m\n\u001b[0;32m----> 1\u001b[0m plt\u001b[38;5;241m.\u001b[39mhist(\u001b[43mdata\u001b[49m\u001b[43m[\u001b[49m\u001b[38;5;124;43m'\u001b[39;49m\u001b[38;5;124;43mBackground $Z,t\u001b[39;49m\u001b[38;5;130;43;01m\\\\\u001b[39;49;00m\u001b[38;5;124;43mbar\u001b[39;49m\u001b[38;5;132;43;01m{t}\u001b[39;49;00m\u001b[38;5;124;43m$\u001b[39;49m\u001b[38;5;124;43m'\u001b[39;49m\u001b[43m]\u001b[49m[\u001b[38;5;124m'\u001b[39m\u001b[38;5;124mmllll\u001b[39m\u001b[38;5;124m'\u001b[39m])\n\u001b[1;32m      2\u001b[0m plt\u001b[38;5;241m.\u001b[39mhist(new_data[\u001b[38;5;124m'\u001b[39m\u001b[38;5;124mBackground $Z,t\u001b[39m\u001b[38;5;130;01m\\\\\u001b[39;00m\u001b[38;5;124mbar\u001b[39m\u001b[38;5;132;01m{t}\u001b[39;00m\u001b[38;5;124m$\u001b[39m\u001b[38;5;124m'\u001b[39m][\u001b[38;5;124m'\u001b[39m\u001b[38;5;124mmllll\u001b[39m\u001b[38;5;124m'\u001b[39m])\n\u001b[1;32m      3\u001b[0m plt\u001b[38;5;241m.\u001b[39mshow()\n",
      "\u001b[0;31mKeyError\u001b[0m: 'Background $Z,t\\\\bar{t}$'"
     ]
    }
   ],
   "source": [
    "plt.hist(data['Background $Z,t\\\\bar{t}$']['mllll'])\n",
    "plt.hist(new_data['Background $Z,t\\\\bar{t}$']['mllll'])\n",
    "plt.show()"
   ]
  },
  {
   "cell_type": "code",
   "execution_count": null,
   "id": "a4f490bf",
   "metadata": {},
   "outputs": [],
   "source": []
  },
  {
   "cell_type": "code",
   "execution_count": null,
   "id": "1edd182c",
   "metadata": {},
   "outputs": [],
   "source": []
  },
  {
   "cell_type": "code",
   "execution_count": null,
   "id": "90e8767c",
   "metadata": {},
   "outputs": [],
   "source": []
  },
  {
   "cell_type": "code",
   "execution_count": null,
   "id": "96199857",
   "metadata": {},
   "outputs": [],
   "source": []
  },
  {
   "cell_type": "code",
   "execution_count": null,
   "id": "7943ae4b",
   "metadata": {},
   "outputs": [],
   "source": []
  },
  {
   "cell_type": "code",
   "execution_count": null,
   "id": "68636e44",
   "metadata": {},
   "outputs": [],
   "source": []
  }
 ],
 "metadata": {
  "kernelspec": {
   "display_name": "Python 3 (ipykernel)",
   "language": "python",
   "name": "python3"
  },
  "language_info": {
   "codemirror_mode": {
    "name": "ipython",
    "version": 3
   },
   "file_extension": ".py",
   "mimetype": "text/x-python",
   "name": "python",
   "nbconvert_exporter": "python",
   "pygments_lexer": "ipython3",
   "version": "3.11.5"
  }
 },
 "nbformat": 4,
 "nbformat_minor": 5
}
