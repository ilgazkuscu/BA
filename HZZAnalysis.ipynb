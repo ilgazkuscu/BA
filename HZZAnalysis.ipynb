{
 "cells": [
  {
   "cell_type": "markdown",
   "metadata": {},
   "source": [
    "<CENTER><img src=\"../../images/ATLASOD.gif\" style=\"width:50%\"></CENTER>"
   ]
  },
  {
   "cell_type": "markdown",
   "metadata": {},
   "source": [
    "# How to rediscover the Higgs boson yourself!\n",
    "This notebook uses ATLAS Open Data http://opendata.atlas.cern to show you the steps to rediscover the Higgs boson yourself!\n",
    "\n",
    "ATLAS Open Data provides open access to proton-proton collision data at the LHC for educational purposes. ATLAS Open Data resources are ideal for high-school, undergraduate and postgraduate students.\n",
    "\n",
    "Notebooks are web applications that allow you to create and share documents that can contain for example:\n",
    "1. live code\n",
    "2. visualisations\n",
    "3. narrative text\n",
    "\n",
    "The idea is that cuts increase the ratio of signal ($H \\rightarrow ZZ \\rightarrow \\ell\\ell\\ell\\ell$) to background ($Z, t\\bar{t}, ZZ \\rightarrow \\ell\\ell\\ell\\ell$)\n",
    "\n",
    "First, the amount of $Z$ and $t\\bar{t}$ background is reduced, since these are quite different to the signal.\n",
    "\n",
    "Then, the amount of $ZZ \\rightarrow \\ell\\ell\\ell\\ell$ is reduced, whilst keeping as much $H \\rightarrow ZZ \\rightarrow \\ell\\ell\\ell\\ell$ signal as possible.\n",
    "\n",
    "The datasets used in this notebook have already been filtered to include at least 4 leptons per event, so that processing is quicker.\n",
    "\n",
    "This analysis loosely follows the [discovery of the Higgs boson by ATLAS](https://www.sciencedirect.com/science/article/pii/S037026931200857X) (mostly Section 4 and 4.1)\n",
    "\n",
    "By the end of this notebook you will be able to:\n",
    "1. rediscover the Higgs boson yourself!\n",
    "2. know some general principles of a particle physics analysis\n",
    "\n",
    "Feynman diagram pictures are borrowed from our friends at https://www.particlezoo.net"
   ]
  },
  {
   "cell_type": "markdown",
   "metadata": {},
   "source": [
    "<CENTER><img src=\"images/feynman_diagrams/HZZ_feynman.png\" style=\"width:40%\"></CENTER>"
   ]
  },
  {
   "cell_type": "markdown",
   "metadata": {},
   "source": [
    "<a id='contents'></a>"
   ]
  },
  {
   "cell_type": "markdown",
   "metadata": {},
   "source": [
    "Contents: \n",
    "\n",
    "[Running a Jupyter notebook](#running) <br />\n",
    "[First time setup on your computer (no need on mybinder)](#setup_computer) <br />\n",
    "[To setup everytime](#setup_everytime) <br />\n",
    "[Lumi, fraction, file path](#fraction) <br />\n",
    "[Samples](#samples) <br />\n",
    "[Changing a cut](#changing_cut) <br />\n",
    "[Applying a cut](#applying_cut) <br />\n",
    "[Plotting](#plotting) <br />\n",
    "[What can you do to explore this analysis?](#going_further) <br />"
   ]
  },
  {
   "cell_type": "markdown",
   "metadata": {},
   "source": [
    "<a id='running'></a>"
   ]
  },
  {
   "cell_type": "markdown",
   "metadata": {},
   "source": [
    "## Running a Jupyter notebook\n",
    "\n",
    "To run the whole Jupyter notebook, in the top menu click Cell -> Run All.\n",
    "\n",
    "To propagate a change you've made to a piece of code, click Cell -> Run All Below.\n",
    "\n",
    "You can also run a single code cell, by clicking Cell -> Run Cells, or using the keyboard shortcut Shift+Enter."
   ]
  },
  {
   "cell_type": "markdown",
   "metadata": {},
   "source": [
    "<a id='setup_computer'></a>"
   ]
  },
  {
   "cell_type": "markdown",
   "metadata": {},
   "source": [
    "## First time setup on your computer (no need on mybinder)\n",
    "This first cell only needs to be run the first time you open this notebook on your computer. \n",
    "\n",
    "If you close Jupyter and re-open on the same computer, you won't need to run this first cell again.\n",
    "\n",
    "If you open on mybinder, you don't need to run this cell."
   ]
  },
  {
   "cell_type": "code",
   "execution_count": 137,
   "metadata": {
    "tags": []
   },
   "outputs": [
    {
     "name": "stdout",
     "output_type": "stream",
     "text": [
      "Requirement already satisfied: pip in /filer/z-sv-pool12c/i/I.Kuscu/.local/lib/python3.9/site-packages (24.0)\n",
      "Requirement already satisfied: uproot in /filer/z-sv-pool12c/i/I.Kuscu/.local/lib/python3.9/site-packages (5.3.7)\n",
      "Requirement already satisfied: awkward in /filer/z-sv-pool12c/i/I.Kuscu/.local/lib/python3.9/site-packages (2.6.5)\n",
      "Requirement already satisfied: vector in /filer/z-sv-pool12c/i/I.Kuscu/.local/lib/python3.9/site-packages (1.4.0)\n",
      "Requirement already satisfied: matplotlib in /filer/z-sv-pool12c/i/I.Kuscu/.local/lib/python3.9/site-packages (3.9.0)\n",
      "Requirement already satisfied: cramjam>=2.5.0 in /filer/z-sv-pool12c/i/I.Kuscu/.local/lib/python3.9/site-packages (from uproot) (2.8.3)\n",
      "Requirement already satisfied: fsspec in /filer/z-sv-pool12c/i/I.Kuscu/.local/lib/python3.9/site-packages (from uproot) (2024.6.0)\n",
      "Requirement already satisfied: numpy in /filer/z-sv-pool12c/i/I.Kuscu/.local/lib/python3.9/site-packages (from uproot) (1.26.4)\n",
      "Requirement already satisfied: packaging in /software/opt/focal/x86_64/python/3.9-2021.11/lib/python3.9/site-packages (from uproot) (21.2)\n",
      "Requirement already satisfied: typing-extensions>=4.1.0 in /filer/z-sv-pool12c/i/I.Kuscu/.local/lib/python3.9/site-packages (from uproot) (4.12.1)\n",
      "Requirement already satisfied: awkward-cpp==34 in /filer/z-sv-pool12c/i/I.Kuscu/.local/lib/python3.9/site-packages (from awkward) (34)\n",
      "Requirement already satisfied: importlib-metadata>=4.13.0 in /filer/z-sv-pool12c/i/I.Kuscu/.local/lib/python3.9/site-packages (from awkward) (7.1.0)\n",
      "Requirement already satisfied: contourpy>=1.0.1 in /filer/z-sv-pool12c/i/I.Kuscu/.local/lib/python3.9/site-packages (from matplotlib) (1.2.1)\n",
      "Requirement already satisfied: cycler>=0.10 in /software/opt/focal/x86_64/python/3.9-2021.11/lib/python3.9/site-packages (from matplotlib) (0.11.0)\n",
      "Requirement already satisfied: fonttools>=4.22.0 in /filer/z-sv-pool12c/i/I.Kuscu/.local/lib/python3.9/site-packages (from matplotlib) (4.53.0)\n",
      "Requirement already satisfied: kiwisolver>=1.3.1 in /software/opt/focal/x86_64/python/3.9-2021.11/lib/python3.9/site-packages (from matplotlib) (1.3.2)\n",
      "Requirement already satisfied: pillow>=8 in /software/opt/focal/x86_64/python/3.9-2021.11/lib/python3.9/site-packages (from matplotlib) (8.4.0)\n",
      "Requirement already satisfied: pyparsing>=2.3.1 in /software/opt/focal/x86_64/python/3.9-2021.11/lib/python3.9/site-packages (from matplotlib) (2.4.7)\n",
      "Requirement already satisfied: python-dateutil>=2.7 in /software/opt/focal/x86_64/python/3.9-2021.11/lib/python3.9/site-packages (from matplotlib) (2.8.2)\n",
      "Requirement already satisfied: importlib-resources>=3.2.0 in /software/opt/focal/x86_64/python/3.9-2021.11/lib/python3.9/site-packages (from matplotlib) (5.4.0)\n",
      "Requirement already satisfied: zipp>=0.5 in /software/opt/focal/x86_64/python/3.9-2021.11/lib/python3.9/site-packages (from importlib-metadata>=4.13.0->awkward) (3.6.0)\n",
      "Requirement already satisfied: six>=1.5 in /software/opt/focal/x86_64/python/3.9-2021.11/lib/python3.9/site-packages (from python-dateutil>=2.7->matplotlib) (1.15.0)\n"
     ]
    }
   ],
   "source": [
    "import sys\n",
    "# update the pip package installer\n",
    "!{sys.executable} -m pip install --upgrade --user pip\n",
    "# install required packages\n",
    "!{sys.executable} -m pip install --upgrade --user uproot awkward vector matplotlib"
   ]
  },
  {
   "cell_type": "markdown",
   "metadata": {},
   "source": [
    "[Back to contents](#contents)"
   ]
  },
  {
   "cell_type": "markdown",
   "metadata": {},
   "source": [
    "<a id='setup_everytime'></a>"
   ]
  },
  {
   "cell_type": "markdown",
   "metadata": {},
   "source": [
    "## To setup everytime\n",
    "Cell -> Run All Below\n",
    "\n",
    "to be done every time you re-open this notebook\n",
    "\n",
    "We're going to be using a number of tools to help us:\n",
    "* uproot: lets us read .root files typically used in particle physics into data formats used in python\n",
    "* awkward: lets us store data as awkward arrays, a format that generalizes numpy to nested data with possibly variable length lists\n",
    "* vector: to allow vectorized 4-momentum calculations\n",
    "* numpy: provides numerical calculations such as histogramming\n",
    "* matplotlib: common tool for making plots, figures, images, visualisations"
   ]
  },
  {
   "cell_type": "code",
   "execution_count": 18,
   "metadata": {
    "tags": []
   },
   "outputs": [],
   "source": [
    "import uproot # for reading .root files\n",
    "import awkward as ak # to represent nested data in columnar format\n",
    "import vector # for 4-momentum calculations\n",
    "import time # to measure time to analyse\n",
    "import math # for mathematical functions such as square root\n",
    "import numpy as np # for numerical calculations such as histogramming\n",
    "import matplotlib.pyplot as plt # for plotting\n",
    "from matplotlib.ticker import AutoMinorLocator # for minor ticks\n",
    "import infofile # local file containing cross-sections, sums of weights, dataset IDs\n",
    "import newinfofile #neue Infofile"
   ]
  },
  {
   "cell_type": "markdown",
   "metadata": {},
   "source": [
    "[Back to contents](#contents)"
   ]
  },
  {
   "cell_type": "markdown",
   "metadata": {},
   "source": [
    "<a id='fraction'></a>"
   ]
  },
  {
   "cell_type": "markdown",
   "metadata": {},
   "source": [
    "## Lumi, fraction, file path\n",
    "\n",
    "General definitions of fraction of data used, where to access the input files"
   ]
  },
  {
   "cell_type": "code",
   "execution_count": 19,
   "metadata": {
    "tags": []
   },
   "outputs": [],
   "source": [
    "#lumi = 0.5 # fb-1 # data_A only\n",
    "#lumi = 1.9 # fb-1 # data_B only\n",
    "#lumi = 2.9 # fb-1 # data_C only\n",
    "#lumi = 4.7 # fb-1 # data_D only\n",
    "lumi = 10 # fb-1 # data_A,data_B,data_C,data_D\n",
    "\n",
    "fraction = 1.0 # reduce this is if you want the code to run quicker\n",
    "                                                                                                                                  \n",
    "#tuple_path = \"Input/4lep/\" # local \n",
    "tuple_path = \"https://atlas-opendata.web.cern.ch/atlas-opendata/samples/2020/4lep/\" # web address\n",
    "new_tuple_path = \"/project/etp1/dkoch/ATLASOpenData-test/\""
   ]
  },
  {
   "cell_type": "markdown",
   "metadata": {},
   "source": [
    "<a id='samples'></a>"
   ]
  },
  {
   "cell_type": "markdown",
   "metadata": {},
   "source": [
    "## Samples\n",
    "\n",
    "samples to process"
   ]
  },
  {
   "cell_type": "code",
   "execution_count": 20,
   "metadata": {
    "tags": []
   },
   "outputs": [],
   "source": [
    "samples = {\n",
    "\n",
    "   'data': {\n",
    "        'list' : ['data_A','data_B','data_C','data_D'],\n",
    "   },\n",
    "\n",
    "    r'Background $Z,t\\bar{t}$' : { # Z + ttbar\n",
    "         'list' : ['Zee','Zmumu','ttbar_lep'],\n",
    "        'list': ['ttbar_lep'],\n",
    "        'color' : \"#6b59d3\" # purple\n",
    "    },\n",
    "\n",
    "     r'Background $ZZ^*$' : { # ZZ\n",
    "        'list' : ['llll'],\n",
    "      'color' : \"#ff0000\" # red\n",
    "    },\n",
    "\n",
    "     r'Signal ($m_H$ = 125 GeV)' : { # H -> ZZ -> llll\n",
    "        'list' : ['ggH125_ZZ4lep','VBFH125_ZZ4lep','WH125_ZZ4lep','ZH125_ZZ4lep'],\n",
    "        'color' : \"#00cdff\" # light blue\n",
    "    },\n",
    "\n",
    "}\n",
    "\n",
    "new_samples = {\n",
    "  \n",
    "    r'Background $Z,t\\bar{t}$' : { # Z + ttbar\n",
    "        'list' : [\n",
    "            'user.garciarm.39227472._000001.output_ntup.root', \n",
    "            \n",
    "            'user.garciarm.39227472._000002.output_ntup.root',\n",
    "            'user.garciarm.39227472._000003.output_ntup.root',\n",
    "            'user.garciarm.39227472._000004.output_ntup.root',\n",
    "            'user.garciarm.39227472._000005.output_ntup.root',\n",
    "           #bem 6 und 7 15 sind nicht da!\n",
    "            'user.garciarm.39227472._000008.output_ntup.root',\n",
    "            'user.garciarm.39227472._000009.output_ntup.root',\n",
    "            'user.garciarm.39227472._000010.output_ntup.root',\n",
    "            'user.garciarm.39227472._000011.output_ntup.root',\n",
    "            'user.garciarm.39227472._000012.output_ntup.root',\n",
    "            'user.garciarm.39227472._000013.output_ntup.root',\n",
    "            'user.garciarm.39227472._000014.output_ntup.root',\n",
    "   #und  15 sind nicht da!\n",
    "            'user.garciarm.39227472._000016.output_ntup.root',\n",
    "            'user.garciarm.39227472._000017.output_ntup.root',\n",
    "            'user.garciarm.39227472._000018.output_ntup.root',\n",
    "            'user.garciarm.39227472._000019.output_ntup.root',\n",
    "            'user.garciarm.39227472._000020.output_ntup.root'\n",
    "        ],\n",
    "        'color' : \"#00ff00\" # GRUN\n",
    "    },\n",
    "}\n",
    "\n"
   ]
  },
  {
   "cell_type": "markdown",
   "metadata": {},
   "source": [
    "### Units, as stored in the data files"
   ]
  },
  {
   "cell_type": "code",
   "execution_count": 21,
   "metadata": {
    "tags": []
   },
   "outputs": [],
   "source": [
    "MeV = 0.001\n",
    "GeV = 1.0"
   ]
  },
  {
   "cell_type": "markdown",
   "metadata": {},
   "source": [
    "[Back to contents](#contents)"
   ]
  },
  {
   "cell_type": "markdown",
   "metadata": {},
   "source": [
    "Define function to get data from files.\n",
    "\n",
    "The datasets used in this notebook have already been filtered to include at least 4 leptons per event, so that processing is quicker."
   ]
  },
  {
   "cell_type": "code",
   "execution_count": 22,
   "metadata": {
    "tags": []
   },
   "outputs": [],
   "source": [
    "def get_data_from_files():\n",
    "\n",
    "    data = {} # define empty dictionary to hold awkward arrays\n",
    "    for s in samples: # loop over samples\n",
    "        print('Processing '+s+' samples') # print which sample\n",
    "        frames = [] # define empty list to hold data\n",
    "        for val in samples[s]['list']: # loop over each file\n",
    "            if s == 'data': prefix = \"Data/\" # Data prefix\n",
    "            else: # MC prefix\n",
    "                prefix = \"MC/mc_\"+str(infofile.infos[val][\"DSID\"])+\".\"\n",
    "            fileString = tuple_path+prefix+val+\".4lep.root\" # file name to open\n",
    "            print(fileString, val)\n",
    "            temp = read_file(fileString,val) # call the function read_file defined below\n",
    "            frames.append(temp) # append array returned from read_file to list of awkward arrays\n",
    "        data[s] = ak.concatenate(frames) # dictionary entry is concatenated awkward arrays\n",
    "    \n",
    "    return data # return dictionary of awkward arrays\n",
    "\n",
    "\n",
    "def get_data_from_new_files():\n",
    "\n",
    "    new_data = {} # define empty dictionary to hold awkward arrays\n",
    "    for s in new_samples: # loop over samples\n",
    "        print('Processing NEW '+s+' samples') # print which sample\n",
    "        frames = [] # define empty list to hold data\n",
    "        for val in new_samples[s]['list']: # loop over each file\n",
    "            if s == 'data': prefix = \"Data/\" # Data prefix  (Daten sind ausgeschlossen => unnotig?)\n",
    "            else: #ttbar prefix\n",
    "                prefix = \"ttbar-samples-with-weights/\"\n",
    "            fileString = new_tuple_path+prefix+val # file name to open  \n",
    "            print(fileString, val) \n",
    "            temp = read_file(fileString,val,treename=\"analysis\") # call the function read_file defined below\n",
    "            frames.append(temp) # append array returned from read_file to list of awkward arrays\n",
    "        data[s] = ak.concatenate(frames) # dictionary entry is concatenated awkward arrays\n",
    "    \n",
    "    return new_data # return dictionary of awkward arrays"
   ]
  },
  {
   "cell_type": "markdown",
   "metadata": {},
   "source": [
    "[Back to contents](#contents)"
   ]
  },
  {
   "cell_type": "markdown",
   "metadata": {},
   "source": [
    "define function to calculate weight of MC event"
   ]
  },
  {
   "cell_type": "code",
   "execution_count": 23,
   "metadata": {
    "tags": []
   },
   "outputs": [],
   "source": [
    "def calc_weight(xsec_weight, events):\n",
    "    return (\n",
    "        xsec_weight\n",
    "        * events.mcWeight\n",
    "        * events.scaleFactor_PILEUP\n",
    "        * events.scaleFactor_ELE\n",
    "        * events.scaleFactor_MUON \n",
    "        * events.scaleFactor_LepTRIGGER\n",
    "    )"
   ]
  },
  {
   "cell_type": "code",
   "execution_count": 48,
   "metadata": {},
   "outputs": [],
   "source": [
    "def calc_new_weight(xsec_weight, events):\n",
    "    return (\n",
    "        xsec_weight\n",
    "        * events.mcWeight\n",
    "        * events.ScaleFactor_PILEUP\n",
    "        * events.ScaleFactor_ELE\n",
    "        * events.ScaleFactor_MUON \n",
    "        #* events.ScaleFactor_LepTRIGGER = 1 #keine LepTrigger bei tree.keys()\n",
    "    )"
   ]
  },
  {
   "cell_type": "markdown",
   "metadata": {},
   "source": [
    "define function to get cross-section weight"
   ]
  },
  {
   "cell_type": "code",
   "execution_count": 49,
   "metadata": {
    "tags": []
   },
   "outputs": [],
   "source": [
    "def get_xsec_weight(sample):\n",
    "    info = infofile.infos[sample] # open infofile\n",
    "    xsec_weight = (lumi*1000*info[\"xsec\"])/(info[\"sumw\"]*info[\"red_eff\"]) #*1000 to go from fb-1 to pb-1\n",
    "    return xsec_weight # return cross-section weight"
   ]
  },
  {
   "cell_type": "code",
   "execution_count": 50,
   "metadata": {},
   "outputs": [],
   "source": [
    "def get_new_xsec_weight(sample):\n",
    "    info = newinfofile.infos[sample] # open infofile\n",
    "    xsec_weight = (lumi*1000*info[\"xsec\"])/(info[\"sumw\"]) #*1000 to go from fb-1 to pb-1  ?red_eff stets = 1 ?\n",
    "    return xsec_weight # return cross-section weight"
   ]
  },
  {
   "cell_type": "markdown",
   "metadata": {},
   "source": [
    "define function to calculate 4-lepton invariant mass.\n",
    "\n",
    "Note: `lep_(pt|eta|phi|E)` are variable length lists of lepton momentum components for each event, represented by awkward arrays."
   ]
  },
  {
   "cell_type": "code",
   "execution_count": 51,
   "metadata": {
    "tags": []
   },
   "outputs": [],
   "source": [
    "def calc_mllll(lep_pt, lep_eta, lep_phi, lep_E):\n",
    "    # construct awkward 4-vector array\n",
    "    p4 = vector.zip({\"pt\": lep_pt, \"eta\": lep_eta, \"phi\": lep_phi, \"E\": lep_E})\n",
    "    \n",
    "    # calculate invariant mass of first 4 leptons\n",
    "    # [:, i] selects the i-th lepton in each event\n",
    "    # .M calculates the invariant mass\n",
    "    \n",
    "  \n",
    "    return (p4[:, 0] + p4[:, 1] + p4[:, 2] + p4[:, 3]).M * MeV"
   ]
  },
  {
   "cell_type": "markdown",
   "metadata": {},
   "source": [
    "[Back to contents](#contents)"
   ]
  },
  {
   "cell_type": "markdown",
   "metadata": {},
   "source": [
    "<a id='changing_cut'></a>"
   ]
  },
  {
   "cell_type": "markdown",
   "metadata": {},
   "source": [
    "## Changing a cut\n",
    "\n",
    "If you change a cut: Cell -> Run All Below\n",
    "\n",
    "If you change a cut here, you also need to make sure the cut is applied in the \"[Applying a cut](#applying_cut)\" cell."
   ]
  },
  {
   "cell_type": "code",
   "execution_count": 52,
   "metadata": {
    "tags": []
   },
   "outputs": [],
   "source": [
    "# cut on lepton charge\n",
    "# paper: \"selecting two pairs of isolated leptons, each of which is comprised of two leptons with the same flavour and opposite charge\"\n",
    "def cut_lep_charge(lep_charge):\n",
    "# throw away when sum of lepton charges is not equal to 0\n",
    "# first lepton in each event is [:, 0], 2nd lepton is [:, 1] etc\n",
    "\n",
    "   \n",
    "    return lep_charge[:, 0] + lep_charge[:, 1] + lep_charge[:, 2] + lep_charge[:, 3] != 0\n",
    "\n",
    "# cut on lepton type\n",
    "# paper: \"selecting two pairs of isolated leptons, each of which is comprised of two leptons with the same flavour and opposite charge\"\n",
    "def cut_lep_type(lep_type):\n",
    "# for an electron lep_type is 11\n",
    "# for a muon lep_type is 13\n",
    "# throw away when none of eeee, mumumumu, eemumu\n",
    "    sum_lep_type = lep_type[:, 0] + lep_type[:, 1] + lep_type[:, 2] + lep_type[:, 3]\n",
    "    return (sum_lep_type != 44) #& (sum_lep_type != 48) & (sum_lep_type != 52)check, ob. die gleich wsl sind."
   ]
  },
  {
   "cell_type": "code",
   "execution_count": 53,
   "metadata": {
    "tags": []
   },
   "outputs": [],
   "source": [
    "tree = uproot.open(\"https://atlas-opendata.web.cern.ch/atlas-opendata/samples/2020/4lep/Data/data_A.4lep.root:mini\")\n",
    "#Braucht man einen neuen Tree ?"
   ]
  },
  {
   "cell_type": "code",
   "execution_count": 54,
   "metadata": {
    "tags": []
   },
   "outputs": [
    {
     "name": "stdout",
     "output_type": "stream",
     "text": [
      "[{runNumber: 298773, eventNumber: 134827213, channelNumber: 298773, ...}, ...]\n"
     ]
    }
   ],
   "source": [
    "data = tree.arrays()\n",
    "print(data)"
   ]
  },
  {
   "cell_type": "code",
   "execution_count": 55,
   "metadata": {
    "tags": []
   },
   "outputs": [
    {
     "data": {
      "text/plain": [
       "awkward.highlevel.Array"
      ]
     },
     "execution_count": 55,
     "metadata": {},
     "output_type": "execute_result"
    }
   ],
   "source": [
    "type(data['runNumber'])"
   ]
  },
  {
   "cell_type": "code",
   "execution_count": 56,
   "metadata": {
    "tags": []
   },
   "outputs": [
    {
     "data": {
      "text/html": [
       "<pre>[{runNumber: 298773, eventNumber: 159503087, channelNumber: 298773, ...},\n",
       " {runNumber: 299144, eventNumber: 319936216, channelNumber: 299144, ...},\n",
       " {runNumber: 299144, eventNumber: 89679294, channelNumber: 299144, ...},\n",
       " {runNumber: 299144, eventNumber: 116604843, channelNumber: 299144, ...},\n",
       " {runNumber: 299144, eventNumber: 140994516, channelNumber: 299144, ...},\n",
       " {runNumber: 299184, eventNumber: 959669539, channelNumber: 299184, ...},\n",
       " {runNumber: 299147, eventNumber: 398316998, channelNumber: 299147, ...},\n",
       " {runNumber: 299147, eventNumber: 303900864, channelNumber: 299147, ...},\n",
       " {runNumber: 299584, eventNumber: 1822034341, channelNumber: 299584, ...},\n",
       " {runNumber: 299584, eventNumber: -1053736299, channelNumber: 299584, ...},\n",
       " {runNumber: 299584, eventNumber: -2097249597, channelNumber: 299584, ...},\n",
       " {runNumber: 298967, eventNumber: 107970783, channelNumber: 298967, ...},\n",
       " {runNumber: 298967, eventNumber: 184824467, channelNumber: 298967, ...}]\n",
       "---------------------------------------------------------------------------\n",
       "type: 13 * {\n",
       "    runNumber: int32,\n",
       "    eventNumber: int32,\n",
       "    channelNumber: int32,\n",
       "    mcWeight: float32,\n",
       "    scaleFactor_PILEUP: float32,\n",
       "    scaleFactor_ELE: float32,\n",
       "    scaleFactor_MUON: float32,\n",
       "    scaleFactor_PHOTON: float32,\n",
       "    scaleFactor_TAU: float32,\n",
       "    scaleFactor_BTAG: float32,\n",
       "    scaleFactor_LepTRIGGER: float32,\n",
       "    scaleFactor_PhotonTRIGGER: float32,\n",
       "    trigE: bool,\n",
       "    trigM: bool,\n",
       "    trigP: bool,\n",
       "    lep_n: uint32,\n",
       "    lep_truthMatched: var * bool,\n",
       "    lep_trigMatched: var * bool,\n",
       "    lep_pt: var * float32,\n",
       "    lep_eta: var * float32,\n",
       "    lep_phi: var * float32,\n",
       "    lep_E: var * float32,\n",
       "    lep_z0: var * float32,\n",
       "    lep_charge: var * int32,\n",
       "    lep_type: var * uint32,\n",
       "    lep_isTightID: var * bool,\n",
       "    lep_ptcone30: var * float32,\n",
       "    lep_etcone20: var * float32,\n",
       "    lep_trackd0pvunbiased: var * float32,\n",
       "    lep_tracksigd0pvunbiased: var * float32,\n",
       "    met_et: float32,\n",
       "    met_phi: float32,\n",
       "    jet_n: uint32,\n",
       "    jet_pt: var * float32,\n",
       "    jet_eta: var * float32,\n",
       "    jet_phi: var * float32,\n",
       "    jet_E: var * float32,\n",
       "    jet_jvt: var * float32,\n",
       "    jet_trueflav: var * int32,\n",
       "    jet_truthMatched: var * bool,\n",
       "    jet_MV2c10: var * float32,\n",
       "    photon_n: uint32,\n",
       "    photon_truthMatched: var * bool,\n",
       "    photon_trigMatched: var * bool,\n",
       "    photon_pt: var * float32,\n",
       "    photon_eta: var * float32,\n",
       "    photon_phi: var * float32,\n",
       "    photon_E: var * float32,\n",
       "    photon_isTightID: var * bool,\n",
       "    photon_ptcone30: var * float32,\n",
       "    photon_etcone20: var * float32,\n",
       "    photon_convType: var * int32,\n",
       "    tau_n: uint32,\n",
       "    tau_pt: var * float32,\n",
       "    tau_eta: var * float32,\n",
       "    tau_phi: var * float32,\n",
       "    tau_E: var * float32,\n",
       "    tau_isTightID: var * bool,\n",
       "    tau_truthMatched: var * bool,\n",
       "    tau_trigMatched: var * bool,\n",
       "    tau_nTracks: var * int32,\n",
       "    tau_BDTid: var * float32,\n",
       "    ditau_m: float32,\n",
       "    lep_pt_syst: var * float32,\n",
       "    met_et_syst: float32,\n",
       "    jet_pt_syst: var * float32,\n",
       "    photon_pt_syst: var * float32,\n",
       "    tau_pt_syst: var * float32,\n",
       "    XSection: float32,\n",
       "    SumWeights: float32,\n",
       "    largeRjet_n: uint32,\n",
       "    largeRjet_pt: var * float32,\n",
       "    largeRjet_eta: var * float32,\n",
       "    largeRjet_phi: var * float32,\n",
       "    largeRjet_E: var * float32,\n",
       "    largeRjet_m: var * float32,\n",
       "    largeRjet_truthMatched: var * float32,\n",
       "    largeRjet_D2: var * float32,\n",
       "    largeRjet_tau32: var * float32,\n",
       "    largeRjet_pt_syst: var * float32,\n",
       "    tau_charge: var * int32\n",
       "}</pre>"
      ],
      "text/plain": [
       "<Array [{runNumber: 298773, ...}, ..., {...}] type='13 * {runNumber: int32,...'>"
      ]
     },
     "execution_count": 56,
     "metadata": {},
     "output_type": "execute_result"
    }
   ],
   "source": [
    "\n",
    "data[data['lep_type'][:, 0] == 11]\n",
    "data[data['lep_type'][:, 1] == 13]"
   ]
  },
  {
   "cell_type": "markdown",
   "metadata": {},
   "source": [
    "[Back to contents](#contents)"
   ]
  },
  {
   "cell_type": "markdown",
   "metadata": {},
   "source": [
    "<a id='applying_cut'></a>"
   ]
  },
  {
   "cell_type": "markdown",
   "metadata": {},
   "source": [
    "## Applying a cut\n",
    "If you add a cut: Cell -> Run All Below"
   ]
  },
  {
   "cell_type": "code",
   "execution_count": 57,
   "metadata": {},
   "outputs": [],
   "source": [
    "def read_new_file(path,sample,treename=\"mini\"):\n",
    "    start = time.time() # start the clock\n",
    "    print(\"\\tProcessing: \"+sample) # print which sample is being processed\n",
    "    data_all = [] # define empty list to hold all data for this sample\n",
    "    \n",
    "    # open the tree called mini using a context manager (will automatically close files/resources)\n",
    "    with uproot.open(path + \":\" + treename) as tree:\n",
    "        numevents = tree.num_entries # number of events\n",
    "        if treename == \"mini\":\n",
    "            if 'data' not in sample: xsec_weight = get_xsec_weight(sample) # get cross-section weight\n",
    "        elif treename == \"analysis\":\n",
    "            if \"data\" not in sample: xsec_weight = get_new_xsec_weight(sample)\n",
    "        for data in tree.iterate(['lep_pt','lep_eta','lep_phi',\n",
    "                                  'lep_E','lep_charge','lep_type', \n",
    "                                  # add more variables here if you make cuts on them \n",
    "                                  'mcWeight','scaleFactor_PILEUP',\n",
    "                                  'scaleFactor_ELE','scaleFactor_MUON',\n",
    "                                  'scaleFactor_LepTRIGGER'], # variables to calculate Monte Carlo weight\n",
    "                                 library=\"ak\", # choose output type as awkward array\n",
    "                                 entry_stop=numevents*fraction): # process up to numevents*fraction\n",
    "\n",
    "            nIn = len(data) # number of events in this batch\n",
    "\n",
    "            if 'data' not in sample: # only do this for Monte Carlo simulation files\n",
    "                # multiply all Monte Carlo weights and scale factors together to give total weight\n",
    "                data['totalWeight'] = calc_weight(xsec_weight, data)\n",
    "\n",
    "            # cut on lepton charge using the function cut_lep_charge defined above\n",
    "            data = data[~cut_lep_charge(data.lep_charge)]\n",
    "\n",
    "            # cut on lepton type using the function cut_lep_type defined above\n",
    "            data = data[~cut_lep_type(data.lep_type)]\n",
    "\n",
    "            # calculation of 4-lepton invariant mass using the function calc_mllll defined above\n",
    "            data['mllll'] = calc_mllll(data.lep_pt, data.lep_eta, data.lep_phi, data.lep_E)\n",
    "\n",
    "            # array contents can be printed at any stage like this\n",
    "            #print(data)\n",
    "\n",
    "            # array column can be printed at any stage like this\n",
    "            #print(data['lep_pt'])\n",
    "\n",
    "            # multiple array columns can be printed at any stage like this\n",
    "            #print(data[['lep_pt','lep_eta']])\n",
    "\n",
    "            nOut = len(data) # number of events passing cuts in this batch\n",
    "            data_all.append(data) # append array from this batch\n",
    "            elapsed = time.time() - start # time taken to process\n",
    "            #print(\"\\t\\t nIn: \"+str(nIn)+\",\\t nOut: \\t\"+str(nOut)+\"\\t in \"+str(round(elapsed,1))+\"s\") # events before and after\n",
    "    \n",
    "    return ak.concatenate(data_all) # return array containing events passing all cuts"
   ]
  },
  {
   "cell_type": "code",
   "execution_count": 58,
   "metadata": {
    "tags": []
   },
   "outputs": [],
   "source": [
    "import time\n",
    "import uproot\n",
    "import awkward as ak\n",
    "\n",
    "def read_file(path, sample, fraction=1.0, treename=\"mini\"):\n",
    "    start = time.time()  # start the clock\n",
    "    print(\"\\tProcessing: \" + sample)  # print which sample is being processed\n",
    "    data_all = []  # define empty list to hold all data for this sample\n",
    "    \n",
    "    # open the tree called mini using a context manager (will automatically close files/resources)\n",
    "    with uproot.open(path + \":\" + treename) as tree: #offnet die Datei mit gegebener URL als 'tree'\n",
    "        numevents = tree.num_entries  # number of events (via .num entries() key ))\n",
    "        if treename == \"mini\":\n",
    "            if 'data' not in sample: \n",
    "                xsec_weight = get_xsec_weight(sample)  # get cross-section weight\n",
    "            for data in tree.iterate(\n",
    "                [\n",
    "                    'lep_pt', 'lep_eta', 'lep_phi', 'lep_E', 'lep_charge', 'lep_type',\n",
    "                    'mcWeight', 'scaleFactor_PILEUP', 'scaleFactor_ELE', \n",
    "                    'scaleFactor_MUON', 'scaleFactor_LepTRIGGER'\n",
    "                ],  # variables to calculate Monte Carlo weight\n",
    "                library=\"ak\",  # choose output type as awkward array\n",
    "                entry_stop=int(numevents * fraction)  # process up to numevents*fraction\n",
    "            ):\n",
    "                nIn = len(data)  # number of events in this batch\n",
    "\n",
    "                if 'data' not in sample:  # only do this for Monte Carlo simulation files\n",
    "                    # multiply all Monte Carlo weights and scale factors together to give total weight\n",
    "                    data['totalWeight'] = calc_weight(xsec_weight, data)\n",
    "\n",
    "                # cut on lepton charge using the function cut_lep_charge defined above\n",
    "                data = data[~cut_lep_charge(data.lep_charge)]\n",
    "\n",
    "                # cut on lepton type using the function cut_lep_type defined above\n",
    "                data = data[~cut_lep_type(data.lep_type)]\n",
    "\n",
    "                # calculation of 4-lepton invariant mass using the function calc_mllll defined above\n",
    "                data['mllll'] = calc_mllll(data.lep_pt, data.lep_eta, data.lep_phi, data.lep_E)\n",
    "\n",
    "                nOut = len(data)  # number of events passing cuts in this batch\n",
    "                data_all.append(data)  # append array from this batch\n",
    "                elapsed = time.time() - start  # time taken to process\n",
    "                print(f\"\\t\\t nIn: {nIn},\\t nOut: {nOut}\\t in {round(elapsed, 1)}s\")  # events before and after\n",
    "        \n",
    "        elif treename == \"analysis\":\n",
    "            if 'data' not in sample: \n",
    "                xsec_weight = get_new_xsec_weight(sample)\n",
    "            for data in tree.iterate(\n",
    "                [\n",
    "                    'lep_pt', 'lep_eta', 'lep_phi', 'lep_e', 'lep_charge', 'lep_type',\n",
    "                    'mcWeight', 'ScaleFactor_PILEUP', 'ScaleFactor_ELE',\n",
    "                    'ScaleFactor_MUON'#, 'ScaleFactor_LepTRIGGER'\n",
    "                ],  # variables to calculate Monte Carlo weight\n",
    "                library=\"ak\",  # choose output type as awkward array\n",
    "                entry_stop=int(numevents * fraction)  # process up to numevents*fraction\n",
    "            ):\n",
    "                nIn = len(data)  # number of events in this batch\n",
    "\n",
    "                if 'data' not in sample:  # only do this for Monte Carlo simulation files\n",
    "                    # multiply all Monte Carlo weights and scale factors together to give total weight\n",
    "                    data['totalWeight'] = calc_new_weight(xsec_weight, data)\n",
    "\n",
    "                # cut on lepton charge using the function cut_lep_charge defined above\n",
    "                data = data[~cut_lep_charge(data.lep_charge)]\n",
    "\n",
    "                # cut on lepton type using the function cut_lep_type defined above\n",
    "                data = data[~cut_lep_type(data.lep_type)]\n",
    "\n",
    "                # calculation of 4-lepton invariant mass using the function calc_mllll defined above\n",
    "                data['mllll'] = calc_mllll(data.lep_pt, data.lep_eta, data.lep_phi, data.lep_E)\n",
    "\n",
    "                nOut = len(data)  # number of events passing cuts in this batch\n",
    "                data_all.append(data)  # append array from this batch\n",
    "                elapsed = time.time() - start  # time taken to process\n",
    "                print(f\"\\t\\t nIn: {nIn},\\t nOut: {nOut}\\t in {round(elapsed, 1)}s\")  # events before and after\n",
    "    \n",
    "    return ak.concatenate(data_all)  # return array containing events passing all cuts\n"
   ]
  },
  {
   "cell_type": "markdown",
   "metadata": {},
   "source": [
    "[Back to contents](#contents)"
   ]
  },
  {
   "cell_type": "markdown",
   "metadata": {},
   "source": [
    "This is where the processing happens"
   ]
  },
  {
   "cell_type": "code",
   "execution_count": 59,
   "metadata": {
    "tags": []
   },
   "outputs": [
    {
     "name": "stdout",
     "output_type": "stream",
     "text": [
      "Processing NEW Background $Z,t\\bar{t}$ samples\n",
      "/project/etp1/dkoch/ATLASOpenData-test/ttbar-samples-with-weights/user.garciarm.39227472._000001.output_ntup.root user.garciarm.39227472._000001.output_ntup.root\n",
      "\tProcessing: user.garciarm.39227472._000001.output_ntup.root\n"
     ]
    },
    {
     "ename": "IndexError",
     "evalue": "cannot slice ListArray (of length 2040025) with array(0): index out of range while attempting to get index 0 (in compiled code: https://github.com/scikit-hep/awkward/blob/awkward-cpp-34/awkward-cpp/src/cpu-kernels/awkward_ListArray_getitem_next_at.cpp#L21)\n\nThis error occurred while attempting to slice\n\n    <Array [[-1, 1], [-1], ..., [-1], [1, -1]] type='2040025 * var * int32'>\n\nwith\n\n    (:, 0)",
     "output_type": "error",
     "traceback": [
      "\u001b[0;31m---------------------------------------------------------------------------\u001b[0m",
      "\u001b[0;31mIndexError\u001b[0m                                Traceback (most recent call last)",
      "\u001b[0;32m~/.local/lib/python3.9/site-packages/awkward/highlevel.py\u001b[0m in \u001b[0;36m__getitem__\u001b[0;34m(self, where)\u001b[0m\n\u001b[1;32m   1064\u001b[0m             return wrap_layout(\n\u001b[0;32m-> 1065\u001b[0;31m                 \u001b[0mprepare_layout\u001b[0m\u001b[0;34m(\u001b[0m\u001b[0mself\u001b[0m\u001b[0;34m.\u001b[0m\u001b[0m_layout\u001b[0m\u001b[0;34m[\u001b[0m\u001b[0mwhere\u001b[0m\u001b[0;34m]\u001b[0m\u001b[0;34m)\u001b[0m\u001b[0;34m,\u001b[0m\u001b[0;34m\u001b[0m\u001b[0;34m\u001b[0m\u001b[0m\n\u001b[0m\u001b[1;32m   1066\u001b[0m                 \u001b[0mself\u001b[0m\u001b[0;34m.\u001b[0m\u001b[0m_behavior\u001b[0m\u001b[0;34m,\u001b[0m\u001b[0;34m\u001b[0m\u001b[0;34m\u001b[0m\u001b[0m\n",
      "\u001b[0;32m~/.local/lib/python3.9/site-packages/awkward/contents/content.py\u001b[0m in \u001b[0;36m__getitem__\u001b[0;34m(self, where)\u001b[0m\n\u001b[1;32m    511\u001b[0m     \u001b[0;32mdef\u001b[0m \u001b[0m__getitem__\u001b[0m\u001b[0;34m(\u001b[0m\u001b[0mself\u001b[0m\u001b[0;34m,\u001b[0m \u001b[0mwhere\u001b[0m\u001b[0;34m)\u001b[0m\u001b[0;34m:\u001b[0m\u001b[0;34m\u001b[0m\u001b[0;34m\u001b[0m\u001b[0m\n\u001b[0;32m--> 512\u001b[0;31m         \u001b[0;32mreturn\u001b[0m \u001b[0mself\u001b[0m\u001b[0;34m.\u001b[0m\u001b[0m_getitem\u001b[0m\u001b[0;34m(\u001b[0m\u001b[0mwhere\u001b[0m\u001b[0;34m)\u001b[0m\u001b[0;34m\u001b[0m\u001b[0;34m\u001b[0m\u001b[0m\n\u001b[0m\u001b[1;32m    513\u001b[0m \u001b[0;34m\u001b[0m\u001b[0m\n",
      "\u001b[0;32m~/.local/lib/python3.9/site-packages/awkward/contents/content.py\u001b[0m in \u001b[0;36m_getitem\u001b[0;34m(self, where)\u001b[0m\n\u001b[1;32m    556\u001b[0m \u001b[0;34m\u001b[0m\u001b[0m\n\u001b[0;32m--> 557\u001b[0;31m             \u001b[0mout\u001b[0m \u001b[0;34m=\u001b[0m \u001b[0mnext\u001b[0m\u001b[0;34m.\u001b[0m\u001b[0m_getitem_next\u001b[0m\u001b[0;34m(\u001b[0m\u001b[0mnextwhere\u001b[0m\u001b[0;34m[\u001b[0m\u001b[0;36m0\u001b[0m\u001b[0;34m]\u001b[0m\u001b[0;34m,\u001b[0m \u001b[0mnextwhere\u001b[0m\u001b[0;34m[\u001b[0m\u001b[0;36m1\u001b[0m\u001b[0;34m:\u001b[0m\u001b[0;34m]\u001b[0m\u001b[0;34m,\u001b[0m \u001b[0;32mNone\u001b[0m\u001b[0;34m)\u001b[0m\u001b[0;34m\u001b[0m\u001b[0;34m\u001b[0m\u001b[0m\n\u001b[0m\u001b[1;32m    558\u001b[0m \u001b[0;34m\u001b[0m\u001b[0m\n",
      "\u001b[0;32m~/.local/lib/python3.9/site-packages/awkward/contents/regulararray.py\u001b[0m in \u001b[0;36m_getitem_next\u001b[0;34m(self, head, tail, advanced)\u001b[0m\n\u001b[1;32m    517\u001b[0m                 return RegularArray(\n\u001b[0;32m--> 518\u001b[0;31m                     \u001b[0mnextcontent\u001b[0m\u001b[0;34m.\u001b[0m\u001b[0m_getitem_next\u001b[0m\u001b[0;34m(\u001b[0m\u001b[0mnexthead\u001b[0m\u001b[0;34m,\u001b[0m \u001b[0mnexttail\u001b[0m\u001b[0;34m,\u001b[0m \u001b[0madvanced\u001b[0m\u001b[0;34m)\u001b[0m\u001b[0;34m,\u001b[0m\u001b[0;34m\u001b[0m\u001b[0;34m\u001b[0m\u001b[0m\n\u001b[0m\u001b[1;32m    519\u001b[0m                     \u001b[0mnextsize\u001b[0m\u001b[0;34m,\u001b[0m\u001b[0;34m\u001b[0m\u001b[0;34m\u001b[0m\u001b[0m\n",
      "\u001b[0;32m~/.local/lib/python3.9/site-packages/awkward/contents/listarray.py\u001b[0m in \u001b[0;36m_getitem_next\u001b[0;34m(self, head, tail, advanced)\u001b[0m\n\u001b[1;32m    719\u001b[0m             )\n\u001b[0;32m--> 720\u001b[0;31m             self._maybe_index_error(\n\u001b[0m\u001b[1;32m    721\u001b[0m                 self._backend[\n",
      "\u001b[0;32m~/.local/lib/python3.9/site-packages/awkward/contents/content.py\u001b[0m in \u001b[0;36m_maybe_index_error\u001b[0;34m(self, error, slicer)\u001b[0m\n\u001b[1;32m    276\u001b[0m             \u001b[0mmessage\u001b[0m \u001b[0;34m=\u001b[0m \u001b[0mself\u001b[0m\u001b[0;34m.\u001b[0m\u001b[0m_backend\u001b[0m\u001b[0;34m.\u001b[0m\u001b[0mformat_kernel_error\u001b[0m\u001b[0;34m(\u001b[0m\u001b[0merror\u001b[0m\u001b[0;34m)\u001b[0m\u001b[0;34m\u001b[0m\u001b[0;34m\u001b[0m\u001b[0m\n\u001b[0;32m--> 277\u001b[0;31m             \u001b[0;32mraise\u001b[0m \u001b[0mak\u001b[0m\u001b[0;34m.\u001b[0m\u001b[0m_errors\u001b[0m\u001b[0;34m.\u001b[0m\u001b[0mindex_error\u001b[0m\u001b[0;34m(\u001b[0m\u001b[0mself\u001b[0m\u001b[0;34m,\u001b[0m \u001b[0mslicer\u001b[0m\u001b[0;34m,\u001b[0m \u001b[0mmessage\u001b[0m\u001b[0;34m)\u001b[0m\u001b[0;34m\u001b[0m\u001b[0;34m\u001b[0m\u001b[0m\n\u001b[0m\u001b[1;32m    278\u001b[0m \u001b[0;34m\u001b[0m\u001b[0m\n",
      "\u001b[0;31mIndexError\u001b[0m: cannot slice ListArray (of length 2040025) with array(0): index out of range while attempting to get index 0 (in compiled code: https://github.com/scikit-hep/awkward/blob/awkward-cpp-34/awkward-cpp/src/cpu-kernels/awkward_ListArray_getitem_next_at.cpp#L21)",
      "\nThe above exception was the direct cause of the following exception:\n",
      "\u001b[0;31mIndexError\u001b[0m                                Traceback (most recent call last)",
      "\u001b[0;32m/tmp/user/22449/ipykernel_5163/2427312278.py\u001b[0m in \u001b[0;36m<module>\u001b[0;34m\u001b[0m\n\u001b[1;32m      1\u001b[0m \u001b[0mstart\u001b[0m \u001b[0;34m=\u001b[0m \u001b[0mtime\u001b[0m\u001b[0;34m.\u001b[0m\u001b[0mtime\u001b[0m\u001b[0;34m(\u001b[0m\u001b[0;34m)\u001b[0m \u001b[0;31m# time at start of whole processing\u001b[0m\u001b[0;34m\u001b[0m\u001b[0;34m\u001b[0m\u001b[0m\n\u001b[1;32m      2\u001b[0m \u001b[0;31m# data = get_data_from_files() # process all files\u001b[0m\u001b[0;34m\u001b[0m\u001b[0;34m\u001b[0m\u001b[0m\n\u001b[0;32m----> 3\u001b[0;31m \u001b[0mnew_data\u001b[0m \u001b[0;34m=\u001b[0m \u001b[0mget_data_from_new_files\u001b[0m\u001b[0;34m(\u001b[0m\u001b[0;34m)\u001b[0m\u001b[0;34m\u001b[0m\u001b[0;34m\u001b[0m\u001b[0m\n\u001b[0m\u001b[1;32m      4\u001b[0m \u001b[0melapsed\u001b[0m \u001b[0;34m=\u001b[0m \u001b[0mtime\u001b[0m\u001b[0;34m.\u001b[0m\u001b[0mtime\u001b[0m\u001b[0;34m(\u001b[0m\u001b[0;34m)\u001b[0m \u001b[0;34m-\u001b[0m \u001b[0mstart\u001b[0m \u001b[0;31m# time after whole processing\u001b[0m\u001b[0;34m\u001b[0m\u001b[0;34m\u001b[0m\u001b[0m\n\u001b[1;32m      5\u001b[0m \u001b[0mprint\u001b[0m\u001b[0;34m(\u001b[0m\u001b[0;34m\"Time taken: \"\u001b[0m\u001b[0;34m+\u001b[0m\u001b[0mstr\u001b[0m\u001b[0;34m(\u001b[0m\u001b[0mround\u001b[0m\u001b[0;34m(\u001b[0m\u001b[0melapsed\u001b[0m\u001b[0;34m,\u001b[0m\u001b[0;36m1\u001b[0m\u001b[0;34m)\u001b[0m\u001b[0;34m)\u001b[0m\u001b[0;34m+\u001b[0m\u001b[0;34m\"s\"\u001b[0m\u001b[0;34m)\u001b[0m \u001b[0;31m# print total time taken to process every file\u001b[0m\u001b[0;34m\u001b[0m\u001b[0;34m\u001b[0m\u001b[0m\n",
      "\u001b[0;32m/tmp/user/22449/ipykernel_5163/3914289796.py\u001b[0m in \u001b[0;36mget_data_from_new_files\u001b[0;34m()\u001b[0m\n\u001b[1;32m     30\u001b[0m             \u001b[0mfileString\u001b[0m \u001b[0;34m=\u001b[0m \u001b[0mnew_tuple_path\u001b[0m\u001b[0;34m+\u001b[0m\u001b[0mprefix\u001b[0m\u001b[0;34m+\u001b[0m\u001b[0mval\u001b[0m \u001b[0;31m# file name to open  //TODO filename zu finden\u001b[0m\u001b[0;34m\u001b[0m\u001b[0;34m\u001b[0m\u001b[0m\n\u001b[1;32m     31\u001b[0m             \u001b[0mprint\u001b[0m\u001b[0;34m(\u001b[0m\u001b[0mfileString\u001b[0m\u001b[0;34m,\u001b[0m \u001b[0mval\u001b[0m\u001b[0;34m)\u001b[0m\u001b[0;34m\u001b[0m\u001b[0;34m\u001b[0m\u001b[0m\n\u001b[0;32m---> 32\u001b[0;31m             \u001b[0mtemp\u001b[0m \u001b[0;34m=\u001b[0m \u001b[0mread_file\u001b[0m\u001b[0;34m(\u001b[0m\u001b[0mfileString\u001b[0m\u001b[0;34m,\u001b[0m\u001b[0mval\u001b[0m\u001b[0;34m,\u001b[0m\u001b[0mtreename\u001b[0m\u001b[0;34m=\u001b[0m\u001b[0;34m\"analysis\"\u001b[0m\u001b[0;34m)\u001b[0m \u001b[0;31m# call the function read_file defined below\u001b[0m\u001b[0;34m\u001b[0m\u001b[0;34m\u001b[0m\u001b[0m\n\u001b[0m\u001b[1;32m     33\u001b[0m             \u001b[0mframes\u001b[0m\u001b[0;34m.\u001b[0m\u001b[0mappend\u001b[0m\u001b[0;34m(\u001b[0m\u001b[0mtemp\u001b[0m\u001b[0;34m)\u001b[0m \u001b[0;31m# append array returned from read_file to list of awkward arrays\u001b[0m\u001b[0;34m\u001b[0m\u001b[0;34m\u001b[0m\u001b[0m\n\u001b[1;32m     34\u001b[0m         \u001b[0mdata\u001b[0m\u001b[0;34m[\u001b[0m\u001b[0ms\u001b[0m\u001b[0;34m]\u001b[0m \u001b[0;34m=\u001b[0m \u001b[0mak\u001b[0m\u001b[0;34m.\u001b[0m\u001b[0mconcatenate\u001b[0m\u001b[0;34m(\u001b[0m\u001b[0mframes\u001b[0m\u001b[0;34m)\u001b[0m \u001b[0;31m# dictionary entry is concatenated awkward arrays\u001b[0m\u001b[0;34m\u001b[0m\u001b[0;34m\u001b[0m\u001b[0m\n",
      "\u001b[0;32m/tmp/user/22449/ipykernel_5163/738629990.py\u001b[0m in \u001b[0;36mread_file\u001b[0;34m(path, sample, fraction, treename)\u001b[0m\n\u001b[1;32m     62\u001b[0m \u001b[0;34m\u001b[0m\u001b[0m\n\u001b[1;32m     63\u001b[0m                 \u001b[0;31m# cut on lepton charge using the function cut_lep_charge defined above\u001b[0m\u001b[0;34m\u001b[0m\u001b[0;34m\u001b[0m\u001b[0m\n\u001b[0;32m---> 64\u001b[0;31m                 \u001b[0mdata\u001b[0m \u001b[0;34m=\u001b[0m \u001b[0mdata\u001b[0m\u001b[0;34m[\u001b[0m\u001b[0;34m~\u001b[0m\u001b[0mcut_lep_charge\u001b[0m\u001b[0;34m(\u001b[0m\u001b[0mdata\u001b[0m\u001b[0;34m.\u001b[0m\u001b[0mlep_charge\u001b[0m\u001b[0;34m)\u001b[0m\u001b[0;34m]\u001b[0m\u001b[0;34m\u001b[0m\u001b[0;34m\u001b[0m\u001b[0m\n\u001b[0m\u001b[1;32m     65\u001b[0m \u001b[0;34m\u001b[0m\u001b[0m\n\u001b[1;32m     66\u001b[0m                 \u001b[0;31m# cut on lepton type using the function cut_lep_type defined above\u001b[0m\u001b[0;34m\u001b[0m\u001b[0;34m\u001b[0m\u001b[0m\n",
      "\u001b[0;32m/tmp/user/22449/ipykernel_5163/1868701865.py\u001b[0m in \u001b[0;36mcut_lep_charge\u001b[0;34m(lep_charge)\u001b[0m\n\u001b[1;32m      6\u001b[0m \u001b[0;34m\u001b[0m\u001b[0m\n\u001b[1;32m      7\u001b[0m \u001b[0;34m\u001b[0m\u001b[0m\n\u001b[0;32m----> 8\u001b[0;31m     \u001b[0;32mreturn\u001b[0m \u001b[0mlep_charge\u001b[0m\u001b[0;34m[\u001b[0m\u001b[0;34m:\u001b[0m\u001b[0;34m,\u001b[0m \u001b[0;36m0\u001b[0m\u001b[0;34m]\u001b[0m \u001b[0;34m+\u001b[0m \u001b[0mlep_charge\u001b[0m\u001b[0;34m[\u001b[0m\u001b[0;34m:\u001b[0m\u001b[0;34m,\u001b[0m \u001b[0;36m1\u001b[0m\u001b[0;34m]\u001b[0m \u001b[0;34m+\u001b[0m \u001b[0mlep_charge\u001b[0m\u001b[0;34m[\u001b[0m\u001b[0;34m:\u001b[0m\u001b[0;34m,\u001b[0m \u001b[0;36m2\u001b[0m\u001b[0;34m]\u001b[0m \u001b[0;34m+\u001b[0m \u001b[0mlep_charge\u001b[0m\u001b[0;34m[\u001b[0m\u001b[0;34m:\u001b[0m\u001b[0;34m,\u001b[0m \u001b[0;36m3\u001b[0m\u001b[0;34m]\u001b[0m \u001b[0;34m!=\u001b[0m \u001b[0;36m0\u001b[0m\u001b[0;34m\u001b[0m\u001b[0;34m\u001b[0m\u001b[0m\n\u001b[0m\u001b[1;32m      9\u001b[0m \u001b[0;34m\u001b[0m\u001b[0m\n\u001b[1;32m     10\u001b[0m \u001b[0;31m# cut on lepton type\u001b[0m\u001b[0;34m\u001b[0m\u001b[0;34m\u001b[0m\u001b[0m\n",
      "\u001b[0;32m~/.local/lib/python3.9/site-packages/awkward/highlevel.py\u001b[0m in \u001b[0;36m__getitem__\u001b[0;34m(self, where)\u001b[0m\n\u001b[1;32m   1062\u001b[0m         \"\"\"\n\u001b[1;32m   1063\u001b[0m         \u001b[0;32mwith\u001b[0m \u001b[0mak\u001b[0m\u001b[0;34m.\u001b[0m\u001b[0m_errors\u001b[0m\u001b[0;34m.\u001b[0m\u001b[0mSlicingErrorContext\u001b[0m\u001b[0;34m(\u001b[0m\u001b[0mself\u001b[0m\u001b[0;34m,\u001b[0m \u001b[0mwhere\u001b[0m\u001b[0;34m)\u001b[0m\u001b[0;34m:\u001b[0m\u001b[0;34m\u001b[0m\u001b[0;34m\u001b[0m\u001b[0m\n\u001b[0;32m-> 1064\u001b[0;31m             return wrap_layout(\n\u001b[0m\u001b[1;32m   1065\u001b[0m                 \u001b[0mprepare_layout\u001b[0m\u001b[0;34m(\u001b[0m\u001b[0mself\u001b[0m\u001b[0;34m.\u001b[0m\u001b[0m_layout\u001b[0m\u001b[0;34m[\u001b[0m\u001b[0mwhere\u001b[0m\u001b[0;34m]\u001b[0m\u001b[0;34m)\u001b[0m\u001b[0;34m,\u001b[0m\u001b[0;34m\u001b[0m\u001b[0;34m\u001b[0m\u001b[0m\n\u001b[1;32m   1066\u001b[0m                 \u001b[0mself\u001b[0m\u001b[0;34m.\u001b[0m\u001b[0m_behavior\u001b[0m\u001b[0;34m,\u001b[0m\u001b[0;34m\u001b[0m\u001b[0;34m\u001b[0m\u001b[0m\n",
      "\u001b[0;32m~/.local/lib/python3.9/site-packages/awkward/_errors.py\u001b[0m in \u001b[0;36m__exit__\u001b[0;34m(self, exception_type, exception_value, traceback)\u001b[0m\n\u001b[1;32m     83\u001b[0m                 \u001b[0;32mand\u001b[0m \u001b[0mself\u001b[0m\u001b[0;34m.\u001b[0m\u001b[0mprimary\u001b[0m\u001b[0;34m(\u001b[0m\u001b[0;34m)\u001b[0m \u001b[0;32mis\u001b[0m \u001b[0mself\u001b[0m\u001b[0;34m\u001b[0m\u001b[0;34m\u001b[0m\u001b[0m\n\u001b[1;32m     84\u001b[0m             ):\n\u001b[0;32m---> 85\u001b[0;31m                 \u001b[0mself\u001b[0m\u001b[0;34m.\u001b[0m\u001b[0mhandle_exception\u001b[0m\u001b[0;34m(\u001b[0m\u001b[0mexception_type\u001b[0m\u001b[0;34m,\u001b[0m \u001b[0mexception_value\u001b[0m\u001b[0;34m)\u001b[0m\u001b[0;34m\u001b[0m\u001b[0;34m\u001b[0m\u001b[0m\n\u001b[0m\u001b[1;32m     86\u001b[0m         \u001b[0;32mfinally\u001b[0m\u001b[0;34m:\u001b[0m\u001b[0;34m\u001b[0m\u001b[0;34m\u001b[0m\u001b[0m\n\u001b[1;32m     87\u001b[0m             \u001b[0;31m# Step out of the way so that another ErrorContext can become primary.\u001b[0m\u001b[0;34m\u001b[0m\u001b[0;34m\u001b[0m\u001b[0m\n",
      "\u001b[0;32m~/.local/lib/python3.9/site-packages/awkward/_errors.py\u001b[0m in \u001b[0;36mhandle_exception\u001b[0;34m(self, cls, exception)\u001b[0m\n\u001b[1;32m     93\u001b[0m             \u001b[0mself\u001b[0m\u001b[0;34m.\u001b[0m\u001b[0mdecorate_exception\u001b[0m\u001b[0;34m(\u001b[0m\u001b[0mcls\u001b[0m\u001b[0;34m,\u001b[0m \u001b[0mexception\u001b[0m\u001b[0;34m)\u001b[0m\u001b[0;34m\u001b[0m\u001b[0;34m\u001b[0m\u001b[0m\n\u001b[1;32m     94\u001b[0m         \u001b[0;32melse\u001b[0m\u001b[0;34m:\u001b[0m\u001b[0;34m\u001b[0m\u001b[0;34m\u001b[0m\u001b[0m\n\u001b[0;32m---> 95\u001b[0;31m             \u001b[0;32mraise\u001b[0m \u001b[0mself\u001b[0m\u001b[0;34m.\u001b[0m\u001b[0mdecorate_exception\u001b[0m\u001b[0;34m(\u001b[0m\u001b[0mcls\u001b[0m\u001b[0;34m,\u001b[0m \u001b[0mexception\u001b[0m\u001b[0;34m)\u001b[0m\u001b[0;34m\u001b[0m\u001b[0;34m\u001b[0m\u001b[0m\n\u001b[0m\u001b[1;32m     96\u001b[0m \u001b[0;34m\u001b[0m\u001b[0m\n\u001b[1;32m     97\u001b[0m     \u001b[0;32mdef\u001b[0m \u001b[0mdecorate_exception\u001b[0m\u001b[0;34m(\u001b[0m\u001b[0mself\u001b[0m\u001b[0;34m,\u001b[0m \u001b[0mcls\u001b[0m\u001b[0;34m:\u001b[0m \u001b[0mtype\u001b[0m\u001b[0;34m[\u001b[0m\u001b[0mE\u001b[0m\u001b[0;34m]\u001b[0m\u001b[0;34m,\u001b[0m \u001b[0mexception\u001b[0m\u001b[0;34m:\u001b[0m \u001b[0mE\u001b[0m\u001b[0;34m)\u001b[0m \u001b[0;34m->\u001b[0m \u001b[0mException\u001b[0m\u001b[0;34m:\u001b[0m\u001b[0;34m\u001b[0m\u001b[0;34m\u001b[0m\u001b[0m\n",
      "\u001b[0;31mIndexError\u001b[0m: cannot slice ListArray (of length 2040025) with array(0): index out of range while attempting to get index 0 (in compiled code: https://github.com/scikit-hep/awkward/blob/awkward-cpp-34/awkward-cpp/src/cpu-kernels/awkward_ListArray_getitem_next_at.cpp#L21)\n\nThis error occurred while attempting to slice\n\n    <Array [[-1, 1], [-1], ..., [-1], [1, -1]] type='2040025 * var * int32'>\n\nwith\n\n    (:, 0)"
     ]
    }
   ],
   "source": [
    "start = time.time() # time at start of whole processing\n",
    "# data = get_data_from_files() # process all files\n",
    "new_data = get_data_from_new_files()\n",
    "elapsed = time.time() - start # time after whole processing\n",
    "print(\"Time taken: \"+str(round(elapsed,1))+\"s\") # print total time taken to process every file"
   ]
  },
  {
   "cell_type": "code",
   "execution_count": 241,
   "metadata": {
    "scrolled": true,
    "tags": []
   },
   "outputs": [
    {
     "ename": "FieldNotFoundError",
     "evalue": "no field 'Background $Z,t\\\\bar{t}$' in record with 81 fields\n\nThis error occurred while attempting to slice\n\n    <Array [{runNumber: 298773, ...}, ..., {...}] type='39 * {runNumber: in...'>\n\nwith\n\n    'Background $Z,t\\\\bar{t}$'",
     "output_type": "error",
     "traceback": [
      "\u001b[0;31m---------------------------------------------------------------------------\u001b[0m",
      "\u001b[0;31mFieldNotFoundError\u001b[0m                        Traceback (most recent call last)",
      "\u001b[0;32m~/.local/lib/python3.9/site-packages/awkward/highlevel.py\u001b[0m in \u001b[0;36m__getitem__\u001b[0;34m(self, where)\u001b[0m\n\u001b[1;32m   1064\u001b[0m             return wrap_layout(\n\u001b[0;32m-> 1065\u001b[0;31m                 \u001b[0mprepare_layout\u001b[0m\u001b[0;34m(\u001b[0m\u001b[0mself\u001b[0m\u001b[0;34m.\u001b[0m\u001b[0m_layout\u001b[0m\u001b[0;34m[\u001b[0m\u001b[0mwhere\u001b[0m\u001b[0;34m]\u001b[0m\u001b[0;34m)\u001b[0m\u001b[0;34m,\u001b[0m\u001b[0;34m\u001b[0m\u001b[0;34m\u001b[0m\u001b[0m\n\u001b[0m\u001b[1;32m   1066\u001b[0m                 \u001b[0mself\u001b[0m\u001b[0;34m.\u001b[0m\u001b[0m_behavior\u001b[0m\u001b[0;34m,\u001b[0m\u001b[0;34m\u001b[0m\u001b[0;34m\u001b[0m\u001b[0m\n",
      "\u001b[0;32m~/.local/lib/python3.9/site-packages/awkward/contents/content.py\u001b[0m in \u001b[0;36m__getitem__\u001b[0;34m(self, where)\u001b[0m\n\u001b[1;32m    511\u001b[0m     \u001b[0;32mdef\u001b[0m \u001b[0m__getitem__\u001b[0m\u001b[0;34m(\u001b[0m\u001b[0mself\u001b[0m\u001b[0;34m,\u001b[0m \u001b[0mwhere\u001b[0m\u001b[0;34m)\u001b[0m\u001b[0;34m:\u001b[0m\u001b[0;34m\u001b[0m\u001b[0;34m\u001b[0m\u001b[0m\n\u001b[0;32m--> 512\u001b[0;31m         \u001b[0;32mreturn\u001b[0m \u001b[0mself\u001b[0m\u001b[0;34m.\u001b[0m\u001b[0m_getitem\u001b[0m\u001b[0;34m(\u001b[0m\u001b[0mwhere\u001b[0m\u001b[0;34m)\u001b[0m\u001b[0;34m\u001b[0m\u001b[0;34m\u001b[0m\u001b[0m\n\u001b[0m\u001b[1;32m    513\u001b[0m \u001b[0;34m\u001b[0m\u001b[0m\n",
      "\u001b[0;32m~/.local/lib/python3.9/site-packages/awkward/contents/content.py\u001b[0m in \u001b[0;36m_getitem\u001b[0;34m(self, where)\u001b[0m\n\u001b[1;32m    528\u001b[0m         \u001b[0;32melif\u001b[0m \u001b[0misinstance\u001b[0m\u001b[0;34m(\u001b[0m\u001b[0mwhere\u001b[0m\u001b[0;34m,\u001b[0m \u001b[0mstr\u001b[0m\u001b[0;34m)\u001b[0m\u001b[0;34m:\u001b[0m\u001b[0;34m\u001b[0m\u001b[0;34m\u001b[0m\u001b[0m\n\u001b[0;32m--> 529\u001b[0;31m             \u001b[0;32mreturn\u001b[0m \u001b[0mself\u001b[0m\u001b[0;34m.\u001b[0m\u001b[0m_getitem_field\u001b[0m\u001b[0;34m(\u001b[0m\u001b[0mwhere\u001b[0m\u001b[0;34m)\u001b[0m\u001b[0;34m\u001b[0m\u001b[0;34m\u001b[0m\u001b[0m\n\u001b[0m\u001b[1;32m    530\u001b[0m \u001b[0;34m\u001b[0m\u001b[0m\n",
      "\u001b[0;32m~/.local/lib/python3.9/site-packages/awkward/contents/recordarray.py\u001b[0m in \u001b[0;36m_getitem_field\u001b[0;34m(self, where, only_fields)\u001b[0m\n\u001b[1;32m    457\u001b[0m         \u001b[0;32mif\u001b[0m \u001b[0mlen\u001b[0m\u001b[0;34m(\u001b[0m\u001b[0monly_fields\u001b[0m\u001b[0;34m)\u001b[0m \u001b[0;34m==\u001b[0m \u001b[0;36m0\u001b[0m\u001b[0;34m:\u001b[0m\u001b[0;34m\u001b[0m\u001b[0;34m\u001b[0m\u001b[0m\n\u001b[0;32m--> 458\u001b[0;31m             \u001b[0;32mreturn\u001b[0m \u001b[0mself\u001b[0m\u001b[0;34m.\u001b[0m\u001b[0mcontent\u001b[0m\u001b[0;34m(\u001b[0m\u001b[0mwhere\u001b[0m\u001b[0;34m)\u001b[0m\u001b[0;34m\u001b[0m\u001b[0;34m\u001b[0m\u001b[0m\n\u001b[0m\u001b[1;32m    459\u001b[0m \u001b[0;34m\u001b[0m\u001b[0m\n",
      "\u001b[0;32m~/.local/lib/python3.9/site-packages/awkward/contents/recordarray.py\u001b[0m in \u001b[0;36mcontent\u001b[0;34m(self, index_or_field)\u001b[0m\n\u001b[1;32m    393\u001b[0m     \u001b[0;32mdef\u001b[0m \u001b[0mcontent\u001b[0m\u001b[0;34m(\u001b[0m\u001b[0mself\u001b[0m\u001b[0;34m,\u001b[0m \u001b[0mindex_or_field\u001b[0m\u001b[0;34m:\u001b[0m \u001b[0mstr\u001b[0m \u001b[0;34m|\u001b[0m \u001b[0mSupportsIndex\u001b[0m\u001b[0;34m)\u001b[0m \u001b[0;34m->\u001b[0m \u001b[0mContent\u001b[0m\u001b[0;34m:\u001b[0m\u001b[0;34m\u001b[0m\u001b[0;34m\u001b[0m\u001b[0m\n\u001b[0;32m--> 394\u001b[0;31m         \u001b[0mout\u001b[0m \u001b[0;34m=\u001b[0m \u001b[0msuper\u001b[0m\u001b[0;34m(\u001b[0m\u001b[0;34m)\u001b[0m\u001b[0;34m.\u001b[0m\u001b[0mcontent\u001b[0m\u001b[0;34m(\u001b[0m\u001b[0mindex_or_field\u001b[0m\u001b[0;34m)\u001b[0m\u001b[0;34m\u001b[0m\u001b[0;34m\u001b[0m\u001b[0m\n\u001b[0m\u001b[1;32m    395\u001b[0m         if (\n",
      "\u001b[0;32m~/.local/lib/python3.9/site-packages/awkward/_meta/recordmeta.py\u001b[0m in \u001b[0;36mcontent\u001b[0;34m(self, index_or_field)\u001b[0m\n\u001b[1;32m    135\u001b[0m         \u001b[0;32melif\u001b[0m \u001b[0misinstance\u001b[0m\u001b[0;34m(\u001b[0m\u001b[0mindex_or_field\u001b[0m\u001b[0;34m,\u001b[0m \u001b[0mstr\u001b[0m\u001b[0;34m)\u001b[0m\u001b[0;34m:\u001b[0m\u001b[0;34m\u001b[0m\u001b[0;34m\u001b[0m\u001b[0m\n\u001b[0;32m--> 136\u001b[0;31m             \u001b[0mindex\u001b[0m \u001b[0;34m=\u001b[0m \u001b[0mself\u001b[0m\u001b[0;34m.\u001b[0m\u001b[0mfield_to_index\u001b[0m\u001b[0;34m(\u001b[0m\u001b[0mindex_or_field\u001b[0m\u001b[0;34m)\u001b[0m\u001b[0;34m\u001b[0m\u001b[0;34m\u001b[0m\u001b[0m\n\u001b[0m\u001b[1;32m    137\u001b[0m         \u001b[0;32melse\u001b[0m\u001b[0;34m:\u001b[0m\u001b[0;34m\u001b[0m\u001b[0;34m\u001b[0m\u001b[0m\n",
      "\u001b[0;32m~/.local/lib/python3.9/site-packages/awkward/_meta/recordmeta.py\u001b[0m in \u001b[0;36mfield_to_index\u001b[0;34m(self, field)\u001b[0m\n\u001b[1;32m    116\u001b[0m                 \u001b[0;32mreturn\u001b[0m \u001b[0mi\u001b[0m\u001b[0;34m\u001b[0m\u001b[0;34m\u001b[0m\u001b[0m\n\u001b[0;32m--> 117\u001b[0;31m         raise FieldNotFoundError(\n\u001b[0m\u001b[1;32m    118\u001b[0m             \u001b[0;34mf\"no field {field!r} in record with {len(self._contents)} fields\"\u001b[0m\u001b[0;34m\u001b[0m\u001b[0;34m\u001b[0m\u001b[0m\n",
      "\u001b[0;31mFieldNotFoundError\u001b[0m: no field 'Background $Z,t\\\\bar{t}$' in record with 81 fields",
      "\nThe above exception was the direct cause of the following exception:\n",
      "\u001b[0;31mFieldNotFoundError\u001b[0m                        Traceback (most recent call last)",
      "\u001b[0;32m/tmp/user/22449/ipykernel_1600394/2589955938.py\u001b[0m in \u001b[0;36m<module>\u001b[0;34m\u001b[0m\n\u001b[1;32m      1\u001b[0m \u001b[0;31m#data['Background $Z,t\\\\bar{t}$']['mllll'] #calculates the invariant mass\u001b[0m\u001b[0;34m\u001b[0m\u001b[0;34m\u001b[0m\u001b[0m\n\u001b[1;32m      2\u001b[0m \u001b[0;31m#data['Background $Z,t\\\\bar{t}$'].lep_pt\u001b[0m\u001b[0;34m\u001b[0m\u001b[0;34m\u001b[0m\u001b[0m\n\u001b[0;32m----> 3\u001b[0;31m \u001b[0mdata\u001b[0m\u001b[0;34m[\u001b[0m\u001b[0;34m'Background $Z,t\\\\bar{t}$'\u001b[0m\u001b[0;34m]\u001b[0m\u001b[0;34m.\u001b[0m\u001b[0mlep_E\u001b[0m\u001b[0;34m\u001b[0m\u001b[0;34m\u001b[0m\u001b[0m\n\u001b[0m",
      "\u001b[0;32m~/.local/lib/python3.9/site-packages/awkward/highlevel.py\u001b[0m in \u001b[0;36m__getitem__\u001b[0;34m(self, where)\u001b[0m\n\u001b[1;32m   1062\u001b[0m         \"\"\"\n\u001b[1;32m   1063\u001b[0m         \u001b[0;32mwith\u001b[0m \u001b[0mak\u001b[0m\u001b[0;34m.\u001b[0m\u001b[0m_errors\u001b[0m\u001b[0;34m.\u001b[0m\u001b[0mSlicingErrorContext\u001b[0m\u001b[0;34m(\u001b[0m\u001b[0mself\u001b[0m\u001b[0;34m,\u001b[0m \u001b[0mwhere\u001b[0m\u001b[0;34m)\u001b[0m\u001b[0;34m:\u001b[0m\u001b[0;34m\u001b[0m\u001b[0;34m\u001b[0m\u001b[0m\n\u001b[0;32m-> 1064\u001b[0;31m             return wrap_layout(\n\u001b[0m\u001b[1;32m   1065\u001b[0m                 \u001b[0mprepare_layout\u001b[0m\u001b[0;34m(\u001b[0m\u001b[0mself\u001b[0m\u001b[0;34m.\u001b[0m\u001b[0m_layout\u001b[0m\u001b[0;34m[\u001b[0m\u001b[0mwhere\u001b[0m\u001b[0;34m]\u001b[0m\u001b[0;34m)\u001b[0m\u001b[0;34m,\u001b[0m\u001b[0;34m\u001b[0m\u001b[0;34m\u001b[0m\u001b[0m\n\u001b[1;32m   1066\u001b[0m                 \u001b[0mself\u001b[0m\u001b[0;34m.\u001b[0m\u001b[0m_behavior\u001b[0m\u001b[0;34m,\u001b[0m\u001b[0;34m\u001b[0m\u001b[0;34m\u001b[0m\u001b[0m\n",
      "\u001b[0;32m~/.local/lib/python3.9/site-packages/awkward/_errors.py\u001b[0m in \u001b[0;36m__exit__\u001b[0;34m(self, exception_type, exception_value, traceback)\u001b[0m\n\u001b[1;32m     83\u001b[0m                 \u001b[0;32mand\u001b[0m \u001b[0mself\u001b[0m\u001b[0;34m.\u001b[0m\u001b[0mprimary\u001b[0m\u001b[0;34m(\u001b[0m\u001b[0;34m)\u001b[0m \u001b[0;32mis\u001b[0m \u001b[0mself\u001b[0m\u001b[0;34m\u001b[0m\u001b[0;34m\u001b[0m\u001b[0m\n\u001b[1;32m     84\u001b[0m             ):\n\u001b[0;32m---> 85\u001b[0;31m                 \u001b[0mself\u001b[0m\u001b[0;34m.\u001b[0m\u001b[0mhandle_exception\u001b[0m\u001b[0;34m(\u001b[0m\u001b[0mexception_type\u001b[0m\u001b[0;34m,\u001b[0m \u001b[0mexception_value\u001b[0m\u001b[0;34m)\u001b[0m\u001b[0;34m\u001b[0m\u001b[0;34m\u001b[0m\u001b[0m\n\u001b[0m\u001b[1;32m     86\u001b[0m         \u001b[0;32mfinally\u001b[0m\u001b[0;34m:\u001b[0m\u001b[0;34m\u001b[0m\u001b[0;34m\u001b[0m\u001b[0m\n\u001b[1;32m     87\u001b[0m             \u001b[0;31m# Step out of the way so that another ErrorContext can become primary.\u001b[0m\u001b[0;34m\u001b[0m\u001b[0;34m\u001b[0m\u001b[0m\n",
      "\u001b[0;32m~/.local/lib/python3.9/site-packages/awkward/_errors.py\u001b[0m in \u001b[0;36mhandle_exception\u001b[0;34m(self, cls, exception)\u001b[0m\n\u001b[1;32m     93\u001b[0m             \u001b[0mself\u001b[0m\u001b[0;34m.\u001b[0m\u001b[0mdecorate_exception\u001b[0m\u001b[0;34m(\u001b[0m\u001b[0mcls\u001b[0m\u001b[0;34m,\u001b[0m \u001b[0mexception\u001b[0m\u001b[0;34m)\u001b[0m\u001b[0;34m\u001b[0m\u001b[0;34m\u001b[0m\u001b[0m\n\u001b[1;32m     94\u001b[0m         \u001b[0;32melse\u001b[0m\u001b[0;34m:\u001b[0m\u001b[0;34m\u001b[0m\u001b[0;34m\u001b[0m\u001b[0m\n\u001b[0;32m---> 95\u001b[0;31m             \u001b[0;32mraise\u001b[0m \u001b[0mself\u001b[0m\u001b[0;34m.\u001b[0m\u001b[0mdecorate_exception\u001b[0m\u001b[0;34m(\u001b[0m\u001b[0mcls\u001b[0m\u001b[0;34m,\u001b[0m \u001b[0mexception\u001b[0m\u001b[0;34m)\u001b[0m\u001b[0;34m\u001b[0m\u001b[0;34m\u001b[0m\u001b[0m\n\u001b[0m\u001b[1;32m     96\u001b[0m \u001b[0;34m\u001b[0m\u001b[0m\n\u001b[1;32m     97\u001b[0m     \u001b[0;32mdef\u001b[0m \u001b[0mdecorate_exception\u001b[0m\u001b[0;34m(\u001b[0m\u001b[0mself\u001b[0m\u001b[0;34m,\u001b[0m \u001b[0mcls\u001b[0m\u001b[0;34m:\u001b[0m \u001b[0mtype\u001b[0m\u001b[0;34m[\u001b[0m\u001b[0mE\u001b[0m\u001b[0;34m]\u001b[0m\u001b[0;34m,\u001b[0m \u001b[0mexception\u001b[0m\u001b[0;34m:\u001b[0m \u001b[0mE\u001b[0m\u001b[0;34m)\u001b[0m \u001b[0;34m->\u001b[0m \u001b[0mException\u001b[0m\u001b[0;34m:\u001b[0m\u001b[0;34m\u001b[0m\u001b[0;34m\u001b[0m\u001b[0m\n",
      "\u001b[0;31mFieldNotFoundError\u001b[0m: no field 'Background $Z,t\\\\bar{t}$' in record with 81 fields\n\nThis error occurred while attempting to slice\n\n    <Array [{runNumber: 298773, ...}, ..., {...}] type='39 * {runNumber: in...'>\n\nwith\n\n    'Background $Z,t\\\\bar{t}$'"
     ]
    }
   ],
   "source": [
    "#data['Background $Z,t\\\\bar{t}$']['mllll'] #calculates the invariant mass\n",
    "#data['Background $Z,t\\\\bar{t}$'].lep_pt\n",
    "data['Background $Z,t\\\\bar{t}$'].lep_E\n"
   ]
  },
  {
   "cell_type": "code",
   "execution_count": 242,
   "metadata": {},
   "outputs": [
    {
     "ename": "FieldNotFoundError",
     "evalue": "no field 'Background $Z,t\\\\bar{t}$' in record with 81 fields\n\nThis error occurred while attempting to slice\n\n    <Array [{runNumber: 298773, ...}, ..., {...}] type='39 * {runNumber: in...'>\n\nwith\n\n    'Background $Z,t\\\\bar{t}$'",
     "output_type": "error",
     "traceback": [
      "\u001b[0;31m---------------------------------------------------------------------------\u001b[0m",
      "\u001b[0;31mFieldNotFoundError\u001b[0m                        Traceback (most recent call last)",
      "\u001b[0;32m~/.local/lib/python3.9/site-packages/awkward/highlevel.py\u001b[0m in \u001b[0;36m__getitem__\u001b[0;34m(self, where)\u001b[0m\n\u001b[1;32m   1064\u001b[0m             return wrap_layout(\n\u001b[0;32m-> 1065\u001b[0;31m                 \u001b[0mprepare_layout\u001b[0m\u001b[0;34m(\u001b[0m\u001b[0mself\u001b[0m\u001b[0;34m.\u001b[0m\u001b[0m_layout\u001b[0m\u001b[0;34m[\u001b[0m\u001b[0mwhere\u001b[0m\u001b[0;34m]\u001b[0m\u001b[0;34m)\u001b[0m\u001b[0;34m,\u001b[0m\u001b[0;34m\u001b[0m\u001b[0;34m\u001b[0m\u001b[0m\n\u001b[0m\u001b[1;32m   1066\u001b[0m                 \u001b[0mself\u001b[0m\u001b[0;34m.\u001b[0m\u001b[0m_behavior\u001b[0m\u001b[0;34m,\u001b[0m\u001b[0;34m\u001b[0m\u001b[0;34m\u001b[0m\u001b[0m\n",
      "\u001b[0;32m~/.local/lib/python3.9/site-packages/awkward/contents/content.py\u001b[0m in \u001b[0;36m__getitem__\u001b[0;34m(self, where)\u001b[0m\n\u001b[1;32m    511\u001b[0m     \u001b[0;32mdef\u001b[0m \u001b[0m__getitem__\u001b[0m\u001b[0;34m(\u001b[0m\u001b[0mself\u001b[0m\u001b[0;34m,\u001b[0m \u001b[0mwhere\u001b[0m\u001b[0;34m)\u001b[0m\u001b[0;34m:\u001b[0m\u001b[0;34m\u001b[0m\u001b[0;34m\u001b[0m\u001b[0m\n\u001b[0;32m--> 512\u001b[0;31m         \u001b[0;32mreturn\u001b[0m \u001b[0mself\u001b[0m\u001b[0;34m.\u001b[0m\u001b[0m_getitem\u001b[0m\u001b[0;34m(\u001b[0m\u001b[0mwhere\u001b[0m\u001b[0;34m)\u001b[0m\u001b[0;34m\u001b[0m\u001b[0;34m\u001b[0m\u001b[0m\n\u001b[0m\u001b[1;32m    513\u001b[0m \u001b[0;34m\u001b[0m\u001b[0m\n",
      "\u001b[0;32m~/.local/lib/python3.9/site-packages/awkward/contents/content.py\u001b[0m in \u001b[0;36m_getitem\u001b[0;34m(self, where)\u001b[0m\n\u001b[1;32m    528\u001b[0m         \u001b[0;32melif\u001b[0m \u001b[0misinstance\u001b[0m\u001b[0;34m(\u001b[0m\u001b[0mwhere\u001b[0m\u001b[0;34m,\u001b[0m \u001b[0mstr\u001b[0m\u001b[0;34m)\u001b[0m\u001b[0;34m:\u001b[0m\u001b[0;34m\u001b[0m\u001b[0;34m\u001b[0m\u001b[0m\n\u001b[0;32m--> 529\u001b[0;31m             \u001b[0;32mreturn\u001b[0m \u001b[0mself\u001b[0m\u001b[0;34m.\u001b[0m\u001b[0m_getitem_field\u001b[0m\u001b[0;34m(\u001b[0m\u001b[0mwhere\u001b[0m\u001b[0;34m)\u001b[0m\u001b[0;34m\u001b[0m\u001b[0;34m\u001b[0m\u001b[0m\n\u001b[0m\u001b[1;32m    530\u001b[0m \u001b[0;34m\u001b[0m\u001b[0m\n",
      "\u001b[0;32m~/.local/lib/python3.9/site-packages/awkward/contents/recordarray.py\u001b[0m in \u001b[0;36m_getitem_field\u001b[0;34m(self, where, only_fields)\u001b[0m\n\u001b[1;32m    457\u001b[0m         \u001b[0;32mif\u001b[0m \u001b[0mlen\u001b[0m\u001b[0;34m(\u001b[0m\u001b[0monly_fields\u001b[0m\u001b[0;34m)\u001b[0m \u001b[0;34m==\u001b[0m \u001b[0;36m0\u001b[0m\u001b[0;34m:\u001b[0m\u001b[0;34m\u001b[0m\u001b[0;34m\u001b[0m\u001b[0m\n\u001b[0;32m--> 458\u001b[0;31m             \u001b[0;32mreturn\u001b[0m \u001b[0mself\u001b[0m\u001b[0;34m.\u001b[0m\u001b[0mcontent\u001b[0m\u001b[0;34m(\u001b[0m\u001b[0mwhere\u001b[0m\u001b[0;34m)\u001b[0m\u001b[0;34m\u001b[0m\u001b[0;34m\u001b[0m\u001b[0m\n\u001b[0m\u001b[1;32m    459\u001b[0m \u001b[0;34m\u001b[0m\u001b[0m\n",
      "\u001b[0;32m~/.local/lib/python3.9/site-packages/awkward/contents/recordarray.py\u001b[0m in \u001b[0;36mcontent\u001b[0;34m(self, index_or_field)\u001b[0m\n\u001b[1;32m    393\u001b[0m     \u001b[0;32mdef\u001b[0m \u001b[0mcontent\u001b[0m\u001b[0;34m(\u001b[0m\u001b[0mself\u001b[0m\u001b[0;34m,\u001b[0m \u001b[0mindex_or_field\u001b[0m\u001b[0;34m:\u001b[0m \u001b[0mstr\u001b[0m \u001b[0;34m|\u001b[0m \u001b[0mSupportsIndex\u001b[0m\u001b[0;34m)\u001b[0m \u001b[0;34m->\u001b[0m \u001b[0mContent\u001b[0m\u001b[0;34m:\u001b[0m\u001b[0;34m\u001b[0m\u001b[0;34m\u001b[0m\u001b[0m\n\u001b[0;32m--> 394\u001b[0;31m         \u001b[0mout\u001b[0m \u001b[0;34m=\u001b[0m \u001b[0msuper\u001b[0m\u001b[0;34m(\u001b[0m\u001b[0;34m)\u001b[0m\u001b[0;34m.\u001b[0m\u001b[0mcontent\u001b[0m\u001b[0;34m(\u001b[0m\u001b[0mindex_or_field\u001b[0m\u001b[0;34m)\u001b[0m\u001b[0;34m\u001b[0m\u001b[0;34m\u001b[0m\u001b[0m\n\u001b[0m\u001b[1;32m    395\u001b[0m         if (\n",
      "\u001b[0;32m~/.local/lib/python3.9/site-packages/awkward/_meta/recordmeta.py\u001b[0m in \u001b[0;36mcontent\u001b[0;34m(self, index_or_field)\u001b[0m\n\u001b[1;32m    135\u001b[0m         \u001b[0;32melif\u001b[0m \u001b[0misinstance\u001b[0m\u001b[0;34m(\u001b[0m\u001b[0mindex_or_field\u001b[0m\u001b[0;34m,\u001b[0m \u001b[0mstr\u001b[0m\u001b[0;34m)\u001b[0m\u001b[0;34m:\u001b[0m\u001b[0;34m\u001b[0m\u001b[0;34m\u001b[0m\u001b[0m\n\u001b[0;32m--> 136\u001b[0;31m             \u001b[0mindex\u001b[0m \u001b[0;34m=\u001b[0m \u001b[0mself\u001b[0m\u001b[0;34m.\u001b[0m\u001b[0mfield_to_index\u001b[0m\u001b[0;34m(\u001b[0m\u001b[0mindex_or_field\u001b[0m\u001b[0;34m)\u001b[0m\u001b[0;34m\u001b[0m\u001b[0;34m\u001b[0m\u001b[0m\n\u001b[0m\u001b[1;32m    137\u001b[0m         \u001b[0;32melse\u001b[0m\u001b[0;34m:\u001b[0m\u001b[0;34m\u001b[0m\u001b[0;34m\u001b[0m\u001b[0m\n",
      "\u001b[0;32m~/.local/lib/python3.9/site-packages/awkward/_meta/recordmeta.py\u001b[0m in \u001b[0;36mfield_to_index\u001b[0;34m(self, field)\u001b[0m\n\u001b[1;32m    116\u001b[0m                 \u001b[0;32mreturn\u001b[0m \u001b[0mi\u001b[0m\u001b[0;34m\u001b[0m\u001b[0;34m\u001b[0m\u001b[0m\n\u001b[0;32m--> 117\u001b[0;31m         raise FieldNotFoundError(\n\u001b[0m\u001b[1;32m    118\u001b[0m             \u001b[0;34mf\"no field {field!r} in record with {len(self._contents)} fields\"\u001b[0m\u001b[0;34m\u001b[0m\u001b[0;34m\u001b[0m\u001b[0m\n",
      "\u001b[0;31mFieldNotFoundError\u001b[0m: no field 'Background $Z,t\\\\bar{t}$' in record with 81 fields",
      "\nThe above exception was the direct cause of the following exception:\n",
      "\u001b[0;31mFieldNotFoundError\u001b[0m                        Traceback (most recent call last)",
      "\u001b[0;32m/tmp/user/22449/ipykernel_1600394/2544152628.py\u001b[0m in \u001b[0;36m<module>\u001b[0;34m\u001b[0m\n\u001b[0;32m----> 1\u001b[0;31m \u001b[0mplt\u001b[0m\u001b[0;34m.\u001b[0m\u001b[0mhist\u001b[0m\u001b[0;34m(\u001b[0m\u001b[0mdata\u001b[0m\u001b[0;34m[\u001b[0m\u001b[0;34m'Background $Z,t\\\\bar{t}$'\u001b[0m\u001b[0;34m]\u001b[0m\u001b[0;34m[\u001b[0m\u001b[0;34m'mllll'\u001b[0m\u001b[0;34m]\u001b[0m\u001b[0;34m)\u001b[0m\u001b[0;34m\u001b[0m\u001b[0;34m\u001b[0m\u001b[0m\n\u001b[0m\u001b[1;32m      2\u001b[0m \u001b[0mplt\u001b[0m\u001b[0;34m.\u001b[0m\u001b[0mhist\u001b[0m\u001b[0;34m(\u001b[0m\u001b[0mnew_data\u001b[0m\u001b[0;34m[\u001b[0m\u001b[0;34m'Background $Z,t\\\\bar{t}$'\u001b[0m\u001b[0;34m]\u001b[0m\u001b[0;34m[\u001b[0m\u001b[0;34m'mllll'\u001b[0m\u001b[0;34m]\u001b[0m\u001b[0;34m)\u001b[0m\u001b[0;34m\u001b[0m\u001b[0;34m\u001b[0m\u001b[0m\n\u001b[1;32m      3\u001b[0m \u001b[0mplt\u001b[0m\u001b[0;34m.\u001b[0m\u001b[0mshow\u001b[0m\u001b[0;34m(\u001b[0m\u001b[0;34m)\u001b[0m\u001b[0;34m\u001b[0m\u001b[0;34m\u001b[0m\u001b[0m\n",
      "\u001b[0;32m~/.local/lib/python3.9/site-packages/awkward/highlevel.py\u001b[0m in \u001b[0;36m__getitem__\u001b[0;34m(self, where)\u001b[0m\n\u001b[1;32m   1062\u001b[0m         \"\"\"\n\u001b[1;32m   1063\u001b[0m         \u001b[0;32mwith\u001b[0m \u001b[0mak\u001b[0m\u001b[0;34m.\u001b[0m\u001b[0m_errors\u001b[0m\u001b[0;34m.\u001b[0m\u001b[0mSlicingErrorContext\u001b[0m\u001b[0;34m(\u001b[0m\u001b[0mself\u001b[0m\u001b[0;34m,\u001b[0m \u001b[0mwhere\u001b[0m\u001b[0;34m)\u001b[0m\u001b[0;34m:\u001b[0m\u001b[0;34m\u001b[0m\u001b[0;34m\u001b[0m\u001b[0m\n\u001b[0;32m-> 1064\u001b[0;31m             return wrap_layout(\n\u001b[0m\u001b[1;32m   1065\u001b[0m                 \u001b[0mprepare_layout\u001b[0m\u001b[0;34m(\u001b[0m\u001b[0mself\u001b[0m\u001b[0;34m.\u001b[0m\u001b[0m_layout\u001b[0m\u001b[0;34m[\u001b[0m\u001b[0mwhere\u001b[0m\u001b[0;34m]\u001b[0m\u001b[0;34m)\u001b[0m\u001b[0;34m,\u001b[0m\u001b[0;34m\u001b[0m\u001b[0;34m\u001b[0m\u001b[0m\n\u001b[1;32m   1066\u001b[0m                 \u001b[0mself\u001b[0m\u001b[0;34m.\u001b[0m\u001b[0m_behavior\u001b[0m\u001b[0;34m,\u001b[0m\u001b[0;34m\u001b[0m\u001b[0;34m\u001b[0m\u001b[0m\n",
      "\u001b[0;32m~/.local/lib/python3.9/site-packages/awkward/_errors.py\u001b[0m in \u001b[0;36m__exit__\u001b[0;34m(self, exception_type, exception_value, traceback)\u001b[0m\n\u001b[1;32m     83\u001b[0m                 \u001b[0;32mand\u001b[0m \u001b[0mself\u001b[0m\u001b[0;34m.\u001b[0m\u001b[0mprimary\u001b[0m\u001b[0;34m(\u001b[0m\u001b[0;34m)\u001b[0m \u001b[0;32mis\u001b[0m \u001b[0mself\u001b[0m\u001b[0;34m\u001b[0m\u001b[0;34m\u001b[0m\u001b[0m\n\u001b[1;32m     84\u001b[0m             ):\n\u001b[0;32m---> 85\u001b[0;31m                 \u001b[0mself\u001b[0m\u001b[0;34m.\u001b[0m\u001b[0mhandle_exception\u001b[0m\u001b[0;34m(\u001b[0m\u001b[0mexception_type\u001b[0m\u001b[0;34m,\u001b[0m \u001b[0mexception_value\u001b[0m\u001b[0;34m)\u001b[0m\u001b[0;34m\u001b[0m\u001b[0;34m\u001b[0m\u001b[0m\n\u001b[0m\u001b[1;32m     86\u001b[0m         \u001b[0;32mfinally\u001b[0m\u001b[0;34m:\u001b[0m\u001b[0;34m\u001b[0m\u001b[0;34m\u001b[0m\u001b[0m\n\u001b[1;32m     87\u001b[0m             \u001b[0;31m# Step out of the way so that another ErrorContext can become primary.\u001b[0m\u001b[0;34m\u001b[0m\u001b[0;34m\u001b[0m\u001b[0m\n",
      "\u001b[0;32m~/.local/lib/python3.9/site-packages/awkward/_errors.py\u001b[0m in \u001b[0;36mhandle_exception\u001b[0;34m(self, cls, exception)\u001b[0m\n\u001b[1;32m     93\u001b[0m             \u001b[0mself\u001b[0m\u001b[0;34m.\u001b[0m\u001b[0mdecorate_exception\u001b[0m\u001b[0;34m(\u001b[0m\u001b[0mcls\u001b[0m\u001b[0;34m,\u001b[0m \u001b[0mexception\u001b[0m\u001b[0;34m)\u001b[0m\u001b[0;34m\u001b[0m\u001b[0;34m\u001b[0m\u001b[0m\n\u001b[1;32m     94\u001b[0m         \u001b[0;32melse\u001b[0m\u001b[0;34m:\u001b[0m\u001b[0;34m\u001b[0m\u001b[0;34m\u001b[0m\u001b[0m\n\u001b[0;32m---> 95\u001b[0;31m             \u001b[0;32mraise\u001b[0m \u001b[0mself\u001b[0m\u001b[0;34m.\u001b[0m\u001b[0mdecorate_exception\u001b[0m\u001b[0;34m(\u001b[0m\u001b[0mcls\u001b[0m\u001b[0;34m,\u001b[0m \u001b[0mexception\u001b[0m\u001b[0;34m)\u001b[0m\u001b[0;34m\u001b[0m\u001b[0;34m\u001b[0m\u001b[0m\n\u001b[0m\u001b[1;32m     96\u001b[0m \u001b[0;34m\u001b[0m\u001b[0m\n\u001b[1;32m     97\u001b[0m     \u001b[0;32mdef\u001b[0m \u001b[0mdecorate_exception\u001b[0m\u001b[0;34m(\u001b[0m\u001b[0mself\u001b[0m\u001b[0;34m,\u001b[0m \u001b[0mcls\u001b[0m\u001b[0;34m:\u001b[0m \u001b[0mtype\u001b[0m\u001b[0;34m[\u001b[0m\u001b[0mE\u001b[0m\u001b[0;34m]\u001b[0m\u001b[0;34m,\u001b[0m \u001b[0mexception\u001b[0m\u001b[0;34m:\u001b[0m \u001b[0mE\u001b[0m\u001b[0;34m)\u001b[0m \u001b[0;34m->\u001b[0m \u001b[0mException\u001b[0m\u001b[0;34m:\u001b[0m\u001b[0;34m\u001b[0m\u001b[0;34m\u001b[0m\u001b[0m\n",
      "\u001b[0;31mFieldNotFoundError\u001b[0m: no field 'Background $Z,t\\\\bar{t}$' in record with 81 fields\n\nThis error occurred while attempting to slice\n\n    <Array [{runNumber: 298773, ...}, ..., {...}] type='39 * {runNumber: in...'>\n\nwith\n\n    'Background $Z,t\\\\bar{t}$'"
     ]
    }
   ],
   "source": [
    "plt.hist(data['Background $Z,t\\\\bar{t}$']['mllll'])\n",
    "plt.hist(new_data['Background $Z,t\\\\bar{t}$']['mllll'])\n",
    "plt.show()"
   ]
  },
  {
   "cell_type": "markdown",
   "metadata": {},
   "source": [
    "[Back to contents](#contents)"
   ]
  },
  {
   "cell_type": "markdown",
   "metadata": {},
   "source": [
    "<a id='plotting'></a>"
   ]
  },
  {
   "cell_type": "markdown",
   "metadata": {},
   "source": [
    "## Plotting\n",
    "If you only want to make a change in plotting: Cell -> Run All Below\n",
    "\n",
    "Define function to plot the data"
   ]
  },
  {
   "cell_type": "code",
   "execution_count": null,
   "metadata": {},
   "outputs": [],
   "source": []
  },
  {
   "cell_type": "code",
   "execution_count": 154,
   "metadata": {},
   "outputs": [],
   "source": [
    "def plot_data(data):\n",
    "    xmin = 80\n",
    "    xmax = 250\n",
    "    step_size = 5\n",
    "    bin_edges = np.arange(start=xmin, stop=xmax+step_size, step=step_size)\n",
    "    bin_centres = np.arange(start=xmin+step_size/2, stop=xmax+step_size/2, step=step_size)\n",
    "    data_x,_ = np.histogram(data['data']['mllll'], bins=bin_edges)\n",
    "    data_x_errors = 0\n",
    "    \n",
    "    signal_x = data[r'Signal ($m_H$ = 125 GeV)']['mllll']\n",
    "    signal_weights = data[r'Signal ($m_H$ = 125 GeV)'].totalWeight\n",
    "    signal_color = samples[r'Signal ($m_H$ = 125 GeV)']['color']\n",
    "    \n",
    "    mc_x = [data[s]['mllll'] for s in samples if s not in ['data', r'Signal ($m_H$ = 125 GeV)']]\n",
    "    mc_weights = [data[s].totalWeight for s in samples if s not in ['data', r'Signal ($m_H$ = 125 GeV)']]\n",
    "    mc_colors = [samples[s]['color'] for s in samples if s not in ['data', r'Signal ($m_H$ = 125 GeV)']]\n",
    "    mc_labels = [s for s in samples if s not in ['data', r'Signal ($m_H$ = 125 GeV)']]\n",
    "    \n",
    "    main_axes = plt.gca()\n",
    "\n",
    "    mc_heights = main_axes.hist(mc_x, bins=bin_edges, weights=mc_weights, stacked=True, color=mc_colors, label=mc_labels)\n",
    "    mc_x_tot = mc_heights[0][-1]\n",
    "    main_axes.hist(signal_x, bins=bin_edges, bottom=mc_x_tot, weights=signal_weights, color=signal_color, label=r'Signal ($m_H$ = 125 GeV)')\n",
    "    main_axes.set_xlim(left=xmin, right=xmax)\n",
    "    \n",
    "   \n",
    "    main_axes.set_xlabel(r'4-lepton invariant mass $\\mathrm{m_{4l}}$ [GeV]', fontsize=13, x=1, horizontalalignment='right')\n",
    "    main_axes.set_ylabel('Events / '+str(step_size)+' GeV', y=1, horizontalalignment='right')\n",
    "    main_axes.set_ylim(bottom=0, top=np.amax(data_x)*1.6)\n",
    "\n",
    "\n",
    "\n",
    "\n",
    "   \n",
    "    \n",
    "\n",
    "    return\n"
   ]
  },
  {
   "cell_type": "code",
   "execution_count": 164,
   "metadata": {
    "tags": []
   },
   "outputs": [],
   "source": [
    "def plot_new_data(data):\n",
    "    xmin = 80\n",
    "    xmax = 250\n",
    "    step_size = 5\n",
    "\n",
    "    bin_edges = np.arange(start=xmin, stop=xmax+step_size, step=step_size)\n",
    "    bin_centres = np.arange(start=xmin+step_size/2, stop=xmax+step_size/2, step=step_size)\n",
    "    data_x,_ = np.histogram(data['Background $Z,t\\\\bar{t}$']['mllll'], bins=bin_edges)\n",
    "    data_x_errors = 0\n",
    "    \n",
    "    signal_x = data['Background $Z,t\\\\bar{t}$']\n",
    "    signal_weights = data['Background $Z,t\\\\bar{t}$'].totalWeight\n",
    "    signal_color = new_samples['Background $Z,t\\\\bar{t}$']['color']\n",
    "    \n",
    "    mc_x = [data[s]['mllll'] for s in new_samples ]\n",
    "    mc_weights = [data[s].totalWeight for s in new_samples ]\n",
    "    mc_colors = [samples[s]['color'] for s in new_samples ]\n",
    "    mc_labels = [s for s in new_samples]\n",
    "    \n",
    "    main_axes = plt.gca()\n",
    "\n",
    "    mc_heights = main_axes.hist(mc_x, bins=bin_edges, weights=mc_weights, stacked=True, color=mc_colors, label=mc_labels)\n",
    "    mc_x_tot = mc_heights[0][-1]\n",
    "    main_axes.hist(signal_x, bins=bin_edges, bottom=mc_x_tot, weights=signal_weights, color=signal_color, label=r'Signal ($m_H$ = 125 GeV)')\n",
    "    main_axes.set_xlim(left=xmin, right=xmax)\n",
    "    \n",
    "   \n",
    "    main_axes.set_xlabel(r'4-lepton invariant mass $\\mathrm{m_{4l}}$ [GeV]', fontsize=13, x=1, horizontalalignment='right')\n",
    "    main_axes.set_ylabel('Events / '+str(step_size)+' GeV', y=1, horizontalalignment='right')\n",
    "    main_axes.set_ylim(bottom=0, top=np.amax(data_x)*1.6)\n",
    "\n",
    "\n",
    "\n",
    "\n",
    "   \n",
    "    main_axes.legend(frameon=False)\n",
    "\n",
    "    return\n"
   ]
  },
  {
   "cell_type": "markdown",
   "metadata": {},
   "source": [
    "[Back to contents](#contents)"
   ]
  },
  {
   "cell_type": "markdown",
   "metadata": {},
   "source": [
    "Call the function to plot the data"
   ]
  },
  {
   "cell_type": "code",
   "execution_count": 165,
   "metadata": {
    "tags": []
   },
   "outputs": [
    {
     "data": {
      "image/png": "[encoded data removed]",
      "text/plain": [
       "<Figure size 432x288 with 1 Axes>"
      ]
     },
     "metadata": {
      "needs_background": "light"
     },
     "output_type": "display_data"
    }
   ],
   "source": [
    "plot_data(data)\n",
    "\n"
   ]
  },
  {
   "cell_type": "markdown",
   "metadata": {},
   "source": [
    "[Back to contents](#contents)"
   ]
  },
  {
   "cell_type": "code",
   "execution_count": 166,
   "metadata": {},
   "outputs": [
    {
     "ename": "ValueError",
     "evalue": "cannot convert <RecordArray is_tuple='false' len='35'>\n    <content index='0' field='lep_pt'>\n        <IndexedArray len='35'>\n            <index><Index dtype='int64' len='35'>\n                [   8   12   30   48  149  173  211  215  232  238  265  449\n                  450  453  458  527  542  545  561  566  648  671  684  772\n                  811  818  819  846  854  894  920  931  936  943 1003]\n            </Index></index>\n            <content><ListOffsetArray len='1031'>\n                <offsets><Index dtype='int64' len='1032'>\n                    [   0    4    8 ... 4127 4131 4135]\n                </Index></offsets>\n                <content><NumpyArray dtype='float32' len='4135'>\n                    [72882.97  38832.246 12576.012 ... 10386.254 10364.022\n                      8407.727]\n                </NumpyArray></content>\n            </ListOffsetArray></content>\n        </IndexedArray>\n    </content>\n    <content index='1' field='lep_eta'>\n        <IndexedArray len='35'>\n            <index><Index dtype='int64' len='35'>\n                [   8   12   30   48  149  173  211  215  232  238  265  449\n                  450  453  458  527  542  545  561  566  648  671  684  772\n                  811  818  819  846  854  894  920  931  936  943 1003]\n            </Index></index>\n            <content><ListOffsetArray len='1031'>\n                <offsets><Index dtype='int64' len='1032'>\n                    [   0    4    8 ... 4127 4131 4135]\n                </Index></offsets>\n                <content><NumpyArray dtype='float32' len='4135'>\n                    [-0.9124997  0.6198302 -1.5382785 ... -0.7793907  1.1430261\n                     -2.0365002]\n                </NumpyArray></content>\n            </ListOffsetArray></content>\n        </IndexedArray>\n    </content>\n    <content index='2' field='lep_phi'>\n        <IndexedArray len='35'>\n            <index><Index dtype='int64' len='35'>\n                [   8   12   30   48  149  173  211  215  232  238  265  449\n                  450  453  458  527  542  545  561  566  648  671  684  772\n                  811  818  819  846  854  894  920  931  936  943 1003]\n            </Index></index>\n            <content><ListOffsetArray len='1031'>\n                <offsets><Index dtype='int64' len='1032'>\n                    [   0    4    8 ... 4127 4131 4135]\n                </Index></offsets>\n                <content><NumpyArray dtype='float32' len='4135'>\n                    [ 0.144516    2.4599771  -2.8940504  ...  0.7079418\n                      0.68114686 -0.22048417]\n                </NumpyArray></content>\n            </ListOffsetArray></content>\n        </IndexedArray>\n    </content>\n    <content index='3' field='lep_E'>\n        <IndexedArray len='35'>\n            <index><Index dtype='int64' len='35'>\n                [   8   12   30   48  149  173  211  215  232  238  265  449\n                  450  453  458  527  542  545  561  566  648  671  684  772\n                  811  818  819  846  854  894  920  931  936  943 1003]\n            </Index></index>\n            <content><ListOffsetArray len='1031'>\n                <offsets><Index dtype='int64' len='1032'>\n                    [   0    4    8 ... 4127 4131 4135]\n                </Index></offsets>\n                <content><NumpyArray dtype='float32' len='4135'>\n                    [105391.     46533.734  30630.873 ...  13704.181  17904.354\n                      32765.857]\n                </NumpyArray></content>\n            </ListOffsetArray></content>\n        </IndexedArray>\n    </content>\n    <content index='4' field='lep_charge'>\n        <IndexedArray len='35'>\n            <index><Index dtype='int64' len='35'>\n                [   8   12   30   48  149  173  211  215  232  238  265  449\n                  450  453  458  527  542  545  561  566  648  671  684  772\n                  811  818  819  846  854  894  920  931  936  943 1003]\n            </Index></index>\n            <content><ListOffsetArray len='1031'>\n                <offsets><Index dtype='int64' len='1032'>\n                    [   0    4    8 ... 4127 4131 4135]\n                </Index></offsets>\n                <content><NumpyArray dtype='int32' len='4135'>[-1  1  1 ...  1  1 -1]</NumpyArray></content>\n            </ListOffsetArray></content>\n        </IndexedArray>\n    </content>\n    <content index='5' field='lep_type'>\n        <IndexedArray len='35'>\n            <index><Index dtype='int64' len='35'>\n                [   8   12   30   48  149  173  211  215  232  238  265  449\n                  450  453  458  527  542  545  561  566  648  671  684  772\n                  811  818  819  846  854  894  920  931  936  943 1003]\n            </Index></index>\n            <content><ListOffsetArray len='1031'>\n                <offsets><Index dtype='int64' len='1032'>\n                    [   0    4    8 ... 4127 4131 4135]\n                </Index></offsets>\n                <content><NumpyArray dtype='uint32' len='4135'>[13 13 11 ... 13 11 11]</NumpyArray></content>\n            </ListOffsetArray></content>\n        </IndexedArray>\n    </content>\n    <content index='6' field='mcWeight'>\n        <IndexedArray len='35'>\n            <index><Index dtype='int64' len='35'>\n                [   8   12   30   48  149  173  211  215  232  238  265  449\n                  450  453  458  527  542  545  561  566  648  671  684  772\n                  811  818  819  846  854  894  920  931  936  943 1003]\n            </Index></index>\n            <content><NumpyArray dtype='float32' len='1031'>[1. 1. 1. ... 1. 1. 1.]</NumpyArray></content>\n        </IndexedArray>\n    </content>\n    <content index='7' field='scaleFactor_PILEUP'>\n        <IndexedArray len='35'>\n            <index><Index dtype='int64' len='35'>\n                [   8   12   30   48  149  173  211  215  232  238  265  449\n                  450  453  458  527  542  545  561  566  648  671  684  772\n                  811  818  819  846  854  894  920  931  936  943 1003]\n            </Index></index>\n            <content><NumpyArray dtype='float32' len='1031'>\n                [1.2141223  0.59656215 1.3209485  ... 1.1961048  0.6960765\n                 1.3209485 ]\n            </NumpyArray></content>\n        </IndexedArray>\n    </content>\n    <content index='8' field='scaleFactor_ELE'>\n        <IndexedArray len='35'>\n            <index><Index dtype='int64' len='35'>\n                [   8   12   30   48  149  173  211  215  232  238  265  449\n                  450  453  458  527  542  545  561  566  648  671  684  772\n                  811  818  819  846  854  894  920  931  936  943 1003]\n            </Index></index>\n            <content><NumpyArray dtype='float32' len='1031'>\n                [1.00336    0.9594338  0.96311    ... 0.93660307 0.97921\n                 0.90892035]\n            </NumpyArray></content>\n        </IndexedArray>\n    </content>\n    <content index='9' field='scaleFactor_MUON'>\n        <IndexedArray len='35'>\n            <index><Index dtype='int64' len='35'>\n                [   8   12   30   48  149  173  211  215  232  238  265  449\n                  450  453  458  527  542  545  561  566  648  671  684  772\n                  811  818  819  846  854  894  920  931  936  943 1003]\n            </Index></index>\n            <content><NumpyArray dtype='float32' len='1031'>\n                [0.9922828  0.99809057 0.5175477  ... 0.98386043 0.9939327\n                 0.99795383]\n            </NumpyArray></content>\n        </IndexedArray>\n    </content>\n    <content index='10' field='scaleFactor_LepTRIGGER'>\n        <IndexedArray len='35'>\n            <index><Index dtype='int64' len='35'>\n                [   8   12   30   48  149  173  211  215  232  238  265  449\n                  450  453  458  527  542  545  561  566  648  671  684  772\n                  811  818  819  846  854  894  920  931  936  943 1003]\n            </Index></index>\n            <content><NumpyArray dtype='float32' len='1031'>\n                [0.7506369 1.00582   1.00058   ... 0.98448   1.00192\n                 0.99765  ]\n            </NumpyArray></content>\n        </IndexedArray>\n    </content>\n    <content index='11' field='totalWeight'>\n        <IndexedArray len='35'>\n            <index><Index dtype='int64' len='35'>\n                [   8   12   30   48  149  173  211  215  232  238  265  449\n                  450  453  458  527  542  545  561  566  648  671  684  772\n                  811  818  819  846  854  894  920  931  936  943 1003]\n            </Index></index>\n            <content><NumpyArray dtype='float32' len='1031'>\n                [0.0831725  0.05266913 0.06038918 ... 0.09946273 0.06221829\n                 0.10957099]\n            </NumpyArray></content>\n        </IndexedArray>\n    </content>\n    <content index='12' field='mllll'>\n        <NumpyArray dtype='float32' len='35'>\n            [136.48753  173.8148    82.76314   92.28136  131.06236  172.65166\n             267.3864   139.97981   95.84505  124.26087   97.70371  198.71948\n             ...\n             133.16336  113.46326  187.78648  248.57408  187.0012   141.73036\n             168.0683    93.65898   96.24837  163.98456  140.81764 ]\n        </NumpyArray>\n    </content>\n</RecordArray> into np.ndarray\n\nThis error occurred while calling\n\n    ak.to_numpy(\n        <Array [{lep_pt: [...], ...}, ..., {...}] type='35 * {lep_pt: var *...'>\n        allow_missing = True\n    )",
     "output_type": "error",
     "traceback": [
      "\u001b[0;31m---------------------------------------------------------------------------\u001b[0m",
      "\u001b[0;31mValueError\u001b[0m                                Traceback (most recent call last)",
      "\u001b[0;32m~/.local/lib/python3.9/site-packages/awkward/_dispatch.py\u001b[0m in \u001b[0;36mdispatch\u001b[0;34m(*args, **kwargs)\u001b[0m\n\u001b[1;32m     63\u001b[0m                 \u001b[0;32mtry\u001b[0m\u001b[0;34m:\u001b[0m\u001b[0;34m\u001b[0m\u001b[0;34m\u001b[0m\u001b[0m\n\u001b[0;32m---> 64\u001b[0;31m                     \u001b[0mnext\u001b[0m\u001b[0;34m(\u001b[0m\u001b[0mgen_or_result\u001b[0m\u001b[0;34m)\u001b[0m\u001b[0;34m\u001b[0m\u001b[0;34m\u001b[0m\u001b[0m\n\u001b[0m\u001b[1;32m     65\u001b[0m                 \u001b[0;32mexcept\u001b[0m \u001b[0mStopIteration\u001b[0m \u001b[0;32mas\u001b[0m \u001b[0merr\u001b[0m\u001b[0;34m:\u001b[0m\u001b[0;34m\u001b[0m\u001b[0;34m\u001b[0m\u001b[0m\n",
      "\u001b[0;32m~/.local/lib/python3.9/site-packages/awkward/operations/ak_to_numpy.py\u001b[0m in \u001b[0;36mto_numpy\u001b[0;34m(array, allow_missing)\u001b[0m\n\u001b[1;32m     47\u001b[0m     \u001b[0;31m# Implementation\u001b[0m\u001b[0;34m\u001b[0m\u001b[0;34m\u001b[0m\u001b[0m\n\u001b[0;32m---> 48\u001b[0;31m     \u001b[0;32mreturn\u001b[0m \u001b[0m_impl\u001b[0m\u001b[0;34m(\u001b[0m\u001b[0marray\u001b[0m\u001b[0;34m,\u001b[0m \u001b[0mallow_missing\u001b[0m\u001b[0;34m)\u001b[0m\u001b[0;34m\u001b[0m\u001b[0;34m\u001b[0m\u001b[0m\n\u001b[0m\u001b[1;32m     49\u001b[0m \u001b[0;34m\u001b[0m\u001b[0m\n",
      "\u001b[0;32m~/.local/lib/python3.9/site-packages/awkward/operations/ak_to_numpy.py\u001b[0m in \u001b[0;36m_impl\u001b[0;34m(array, allow_missing)\u001b[0m\n\u001b[1;32m     59\u001b[0m \u001b[0;34m\u001b[0m\u001b[0m\n\u001b[0;32m---> 60\u001b[0;31m         \u001b[0;32mreturn\u001b[0m \u001b[0mnumpy_layout\u001b[0m\u001b[0;34m.\u001b[0m\u001b[0mto_backend_array\u001b[0m\u001b[0;34m(\u001b[0m\u001b[0mallow_missing\u001b[0m\u001b[0;34m=\u001b[0m\u001b[0mallow_missing\u001b[0m\u001b[0;34m)\u001b[0m\u001b[0;34m\u001b[0m\u001b[0;34m\u001b[0m\u001b[0m\n\u001b[0m",
      "\u001b[0;32m~/.local/lib/python3.9/site-packages/awkward/contents/content.py\u001b[0m in \u001b[0;36mto_backend_array\u001b[0;34m(self, allow_missing, backend)\u001b[0m\n\u001b[1;32m   1019\u001b[0m             \u001b[0mbackend\u001b[0m \u001b[0;34m=\u001b[0m \u001b[0mregularize_backend\u001b[0m\u001b[0;34m(\u001b[0m\u001b[0mbackend\u001b[0m\u001b[0;34m)\u001b[0m\u001b[0;34m\u001b[0m\u001b[0;34m\u001b[0m\u001b[0m\n\u001b[0;32m-> 1020\u001b[0;31m         \u001b[0;32mreturn\u001b[0m \u001b[0mself\u001b[0m\u001b[0;34m.\u001b[0m\u001b[0m_to_backend_array\u001b[0m\u001b[0;34m(\u001b[0m\u001b[0mallow_missing\u001b[0m\u001b[0;34m,\u001b[0m \u001b[0mbackend\u001b[0m\u001b[0;34m)\u001b[0m\u001b[0;34m\u001b[0m\u001b[0;34m\u001b[0m\u001b[0m\n\u001b[0m\u001b[1;32m   1021\u001b[0m \u001b[0;34m\u001b[0m\u001b[0m\n",
      "\u001b[0;32m~/.local/lib/python3.9/site-packages/awkward/contents/recordarray.py\u001b[0m in \u001b[0;36m_to_backend_array\u001b[0;34m(self, allow_missing, backend)\u001b[0m\n\u001b[1;32m   1108\u001b[0m         \u001b[0;32mif\u001b[0m \u001b[0many\u001b[0m\u001b[0;34m(\u001b[0m\u001b[0mlen\u001b[0m\u001b[0;34m(\u001b[0m\u001b[0mx\u001b[0m\u001b[0;34m.\u001b[0m\u001b[0mshape\u001b[0m\u001b[0;34m)\u001b[0m \u001b[0;34m!=\u001b[0m \u001b[0;36m1\u001b[0m \u001b[0;32mfor\u001b[0m \u001b[0mx\u001b[0m \u001b[0;32min\u001b[0m \u001b[0mcontents\u001b[0m\u001b[0;34m)\u001b[0m\u001b[0;34m:\u001b[0m\u001b[0;34m\u001b[0m\u001b[0;34m\u001b[0m\u001b[0m\n\u001b[0;32m-> 1109\u001b[0;31m             \u001b[0;32mraise\u001b[0m \u001b[0mValueError\u001b[0m\u001b[0;34m(\u001b[0m\u001b[0;34mf\"cannot convert {self} into np.ndarray\"\u001b[0m\u001b[0;34m)\u001b[0m\u001b[0;34m\u001b[0m\u001b[0;34m\u001b[0m\u001b[0m\n\u001b[0m\u001b[1;32m   1110\u001b[0m \u001b[0;34m\u001b[0m\u001b[0m\n",
      "\u001b[0;31mValueError\u001b[0m: cannot convert <RecordArray is_tuple='false' len='35'>\n    <content index='0' field='lep_pt'>\n        <IndexedArray len='35'>\n            <index><Index dtype='int64' len='35'>\n                [   8   12   30   48  149  173  211  215  232  238  265  449\n                  450  453  458  527  542  545  561  566  648  671  684  772\n                  811  818  819  846  854  894  920  931  936  943 1003]\n            </Index></index>\n            <content><ListOffsetArray len='1031'>\n                <offsets><Index dtype='int64' len='1032'>\n                    [   0    4    8 ... 4127 4131 4135]\n                </Index></offsets>\n                <content><NumpyArray dtype='float32' len='4135'>\n                    [72882.97  38832.246 12576.012 ... 10386.254 10364.022\n                      8407.727]\n                </NumpyArray></content>\n            </ListOffsetArray></content>\n        </IndexedArray>\n    </content>\n    <content index='1' field='lep_eta'>\n        <IndexedArray len='35'>\n            <index><Index dtype='int64' len='35'>\n                [   8   12   30   48  149  173  211  215  232  238  265  449\n                  450  453  458  527  542  545  561  566  648  671  684  772\n                  811  818  819  846  854  894  920  931  936  943 1003]\n            </Index></index>\n            <content><ListOffsetArray len='1031'>\n                <offsets><Index dtype='int64' len='1032'>\n                    [   0    4    8 ... 4127 4131 4135]\n                </Index></offsets>\n                <content><NumpyArray dtype='float32' len='4135'>\n                    [-0.9124997  0.6198302 -1.5382785 ... -0.7793907  1.1430261\n                     -2.0365002]\n                </NumpyArray></content>\n            </ListOffsetArray></content>\n        </IndexedArray>\n    </content>\n    <content index='2' field='lep_phi'>\n        <IndexedArray len='35'>\n            <index><Index dtype='int64' len='35'>\n                [   8   12   30   48  149  173  211  215  232  238  265  449\n                  450  453  458  527  542  545  561  566  648  671  684  772\n                  811  818  819  846  854  894  920  931  936  943 1003]\n            </Index></index>\n            <content><ListOffsetArray len='1031'>\n                <offsets><Index dtype='int64' len='1032'>\n                    [   0    4    8 ... 4127 4131 4135]\n                </Index></offsets>\n                <content><NumpyArray dtype='float32' len='4135'>\n                    [ 0.144516    2.4599771  -2.8940504  ...  0.7079418\n                      0.68114686 -0.22048417]\n                </NumpyArray></content>\n            </ListOffsetArray></content>\n        </IndexedArray>\n    </content>\n    <content index='3' field='lep_E'>\n        <IndexedArray len='35'>\n            <index><Index dtype='int64' len='35'>\n                [   8   12   30   48  149  173  211  215  232  238  265  449\n                  450  453  458  527  542  545  561  566  648  671  684  772\n                  811  818  819  846  854  894  920  931  936  943 1003]\n            </Index></index>\n            <content><ListOffsetArray len='1031'>\n                <offsets><Index dtype='int64' len='1032'>\n                    [   0    4    8 ... 4127 4131 4135]\n                </Index></offsets>\n                <content><NumpyArray dtype='float32' len='4135'>\n                    [105391.     46533.734  30630.873 ...  13704.181  17904.354\n                      32765.857]\n                </NumpyArray></content>\n            </ListOffsetArray></content>\n        </IndexedArray>\n    </content>\n    <content index='4' field='lep_charge'>\n        <IndexedArray len='35'>\n            <index><Index dtype='int64' len='35'>\n                [   8   12   30   48  149  173  211  215  232  238  265  449\n                  450  453  458  527  542  545  561  566  648  671  684  772\n                  811  818  819  846  854  894  920  931  936  943 1003]\n            </Index></index>\n            <content><ListOffsetArray len='1031'>\n                <offsets><Index dtype='int64' len='1032'>\n                    [   0    4    8 ... 4127 4131 4135]\n                </Index></offsets>\n                <content><NumpyArray dtype='int32' len='4135'>[-1  1  1 ...  1  1 -1]</NumpyArray></content>\n            </ListOffsetArray></content>\n        </IndexedArray>\n    </content>\n    <content index='5' field='lep_type'>\n        <IndexedArray len='35'>\n            <index><Index dtype='int64' len='35'>\n                [   8   12   30   48  149  173  211  215  232  238  265  449\n                  450  453  458  527  542  545  561  566  648  671  684  772\n                  811  818  819  846  854  894  920  931  936  943 1003]\n            </Index></index>\n            <content><ListOffsetArray len='1031'>\n                <offsets><Index dtype='int64' len='1032'>\n                    [   0    4    8 ... 4127 4131 4135]\n                </Index></offsets>\n                <content><NumpyArray dtype='uint32' len='4135'>[13 13 11 ... 13 11 11]</NumpyArray></content>\n            </ListOffsetArray></content>\n        </IndexedArray>\n    </content>\n    <content index='6' field='mcWeight'>\n        <IndexedArray len='35'>\n            <index><Index dtype='int64' len='35'>\n                [   8   12   30   48  149  173  211  215  232  238  265  449\n                  450  453  458  527  542  545  561  566  648  671  684  772\n                  811  818  819  846  854  894  920  931  936  943 1003]\n            </Index></index>\n            <content><NumpyArray dtype='float32' len='1031'>[1. 1. 1. ... 1. 1. 1.]</NumpyArray></content>\n        </IndexedArray>\n    </content>\n    <content index='7' field='scaleFactor_PILEUP'>\n        <IndexedArray len='35'>\n            <index><Index dtype='int64' len='35'>\n                [   8   12   30   48  149  173  211  215  232  238  265  449\n                  450  453  458  527  542  545  561  566  648  671  684  772\n                  811  818  819  846  854  894  920  931  936  943 1003]\n            </Index></index>\n            <content><NumpyArray dtype='float32' len='1031'>\n                [1.2141223  0.59656215 1.3209485  ... 1.1961048  0.6960765\n                 1.3209485 ]\n            </NumpyArray></content>\n        </IndexedArray>\n    </content>\n    <content index='8' field='scaleFactor_ELE'>\n        <IndexedArray len='35'>\n            <index><Index dtype='int64' len='35'>\n                [   8   12   30   48  149  173  211  215  232  238  265  449\n                  450  453  458  527  542  545  561  566  648  671  684  772\n                  811  818  819  846  854  894  920  931  936  943 1003]\n            </Index></index>\n            <content><NumpyArray dtype='float32' len='1031'>\n                [1.00336    0.9594338  0.96311    ... 0.93660307 0.97921\n                 0.90892035]\n            </NumpyArray></content>\n        </IndexedArray>\n    </content>\n    <content index='9' field='scaleFactor_MUON'>\n        <IndexedArray len='35'>\n            <index><Index dtype='int64' len='35'>\n                [   8   12   30   48  149  173  211  215  232  238  265  449\n                  450  453  458  527  542  545  561  566  648  671  684  772\n                  811  818  819  846  854  894  920  931  936  943 1003]\n            </Index></index>\n            <content><NumpyArray dtype='float32' len='1031'>\n                [0.9922828  0.99809057 0.5175477  ... 0.98386043 0.9939327\n                 0.99795383]\n            </NumpyArray></content>\n        </IndexedArray>\n    </content>\n    <content index='10' field='scaleFactor_LepTRIGGER'>\n        <IndexedArray len='35'>\n            <index><Index dtype='int64' len='35'>\n                [   8   12   30   48  149  173  211  215  232  238  265  449\n                  450  453  458  527  542  545  561  566  648  671  684  772\n                  811  818  819  846  854  894  920  931  936  943 1003]\n            </Index></index>\n            <content><NumpyArray dtype='float32' len='1031'>\n                [0.7506369 1.00582   1.00058   ... 0.98448   1.00192\n                 0.99765  ]\n            </NumpyArray></content>\n        </IndexedArray>\n    </content>\n    <content index='11' field='totalWeight'>\n        <IndexedArray len='35'>\n            <index><Index dtype='int64' len='35'>\n                [   8   12   30   48  149  173  211  215  232  238  265  449\n                  450  453  458  527  542  545  561  566  648  671  684  772\n                  811  818  819  846  854  894  920  931  936  943 1003]\n            </Index></index>\n            <content><NumpyArray dtype='float32' len='1031'>\n                [0.0831725  0.05266913 0.06038918 ... 0.09946273 0.06221829\n                 0.10957099]\n            </NumpyArray></content>\n        </IndexedArray>\n    </content>\n    <content index='12' field='mllll'>\n        <NumpyArray dtype='float32' len='35'>\n            [136.48753  173.8148    82.76314   92.28136  131.06236  172.65166\n             267.3864   139.97981   95.84505  124.26087   97.70371  198.71948\n             ...\n             133.16336  113.46326  187.78648  248.57408  187.0012   141.73036\n             168.0683    93.65898   96.24837  163.98456  140.81764 ]\n        </NumpyArray>\n    </content>\n</RecordArray> into np.ndarray",
      "\nThe above exception was the direct cause of the following exception:\n",
      "\u001b[0;31mValueError\u001b[0m                                Traceback (most recent call last)",
      "\u001b[0;32m/tmp/user/22449/ipykernel_1600394/2828964126.py\u001b[0m in \u001b[0;36m<module>\u001b[0;34m\u001b[0m\n\u001b[0;32m----> 1\u001b[0;31m \u001b[0mplot_new_data\u001b[0m\u001b[0;34m(\u001b[0m\u001b[0mdata\u001b[0m\u001b[0;34m)\u001b[0m\u001b[0;34m\u001b[0m\u001b[0;34m\u001b[0m\u001b[0m\n\u001b[0m",
      "\u001b[0;32m/tmp/user/22449/ipykernel_1600394/2251908992.py\u001b[0m in \u001b[0;36mplot_new_data\u001b[0;34m(data)\u001b[0m\n\u001b[1;32m     22\u001b[0m     \u001b[0mmc_heights\u001b[0m \u001b[0;34m=\u001b[0m \u001b[0mmain_axes\u001b[0m\u001b[0;34m.\u001b[0m\u001b[0mhist\u001b[0m\u001b[0;34m(\u001b[0m\u001b[0mmc_x\u001b[0m\u001b[0;34m,\u001b[0m \u001b[0mbins\u001b[0m\u001b[0;34m=\u001b[0m\u001b[0mbin_edges\u001b[0m\u001b[0;34m,\u001b[0m \u001b[0mweights\u001b[0m\u001b[0;34m=\u001b[0m\u001b[0mmc_weights\u001b[0m\u001b[0;34m,\u001b[0m \u001b[0mstacked\u001b[0m\u001b[0;34m=\u001b[0m\u001b[0;32mTrue\u001b[0m\u001b[0;34m,\u001b[0m \u001b[0mcolor\u001b[0m\u001b[0;34m=\u001b[0m\u001b[0mmc_colors\u001b[0m\u001b[0;34m,\u001b[0m \u001b[0mlabel\u001b[0m\u001b[0;34m=\u001b[0m\u001b[0mmc_labels\u001b[0m\u001b[0;34m)\u001b[0m\u001b[0;34m\u001b[0m\u001b[0;34m\u001b[0m\u001b[0m\n\u001b[1;32m     23\u001b[0m     \u001b[0mmc_x_tot\u001b[0m \u001b[0;34m=\u001b[0m \u001b[0mmc_heights\u001b[0m\u001b[0;34m[\u001b[0m\u001b[0;36m0\u001b[0m\u001b[0;34m]\u001b[0m\u001b[0;34m[\u001b[0m\u001b[0;34m-\u001b[0m\u001b[0;36m1\u001b[0m\u001b[0;34m]\u001b[0m\u001b[0;34m\u001b[0m\u001b[0;34m\u001b[0m\u001b[0m\n\u001b[0;32m---> 24\u001b[0;31m     \u001b[0mmain_axes\u001b[0m\u001b[0;34m.\u001b[0m\u001b[0mhist\u001b[0m\u001b[0;34m(\u001b[0m\u001b[0msignal_x\u001b[0m\u001b[0;34m,\u001b[0m \u001b[0mbins\u001b[0m\u001b[0;34m=\u001b[0m\u001b[0mbin_edges\u001b[0m\u001b[0;34m,\u001b[0m \u001b[0mbottom\u001b[0m\u001b[0;34m=\u001b[0m\u001b[0mmc_x_tot\u001b[0m\u001b[0;34m,\u001b[0m \u001b[0mweights\u001b[0m\u001b[0;34m=\u001b[0m\u001b[0msignal_weights\u001b[0m\u001b[0;34m,\u001b[0m \u001b[0mcolor\u001b[0m\u001b[0;34m=\u001b[0m\u001b[0msignal_color\u001b[0m\u001b[0;34m,\u001b[0m \u001b[0mlabel\u001b[0m\u001b[0;34m=\u001b[0m\u001b[0;34mr'Signal ($m_H$ = 125 GeV)'\u001b[0m\u001b[0;34m)\u001b[0m\u001b[0;34m\u001b[0m\u001b[0;34m\u001b[0m\u001b[0m\n\u001b[0m\u001b[1;32m     25\u001b[0m     \u001b[0mmain_axes\u001b[0m\u001b[0;34m.\u001b[0m\u001b[0mset_xlim\u001b[0m\u001b[0;34m(\u001b[0m\u001b[0mleft\u001b[0m\u001b[0;34m=\u001b[0m\u001b[0mxmin\u001b[0m\u001b[0;34m,\u001b[0m \u001b[0mright\u001b[0m\u001b[0;34m=\u001b[0m\u001b[0mxmax\u001b[0m\u001b[0;34m)\u001b[0m\u001b[0;34m\u001b[0m\u001b[0;34m\u001b[0m\u001b[0m\n\u001b[1;32m     26\u001b[0m \u001b[0;34m\u001b[0m\u001b[0m\n",
      "\u001b[0;32m~/.local/lib/python3.9/site-packages/matplotlib/__init__.py\u001b[0m in \u001b[0;36minner\u001b[0;34m(ax, data, *args, **kwargs)\u001b[0m\n\u001b[1;32m   1471\u001b[0m     \u001b[0;32mdef\u001b[0m \u001b[0minner\u001b[0m\u001b[0;34m(\u001b[0m\u001b[0max\u001b[0m\u001b[0;34m,\u001b[0m \u001b[0;34m*\u001b[0m\u001b[0margs\u001b[0m\u001b[0;34m,\u001b[0m \u001b[0mdata\u001b[0m\u001b[0;34m=\u001b[0m\u001b[0;32mNone\u001b[0m\u001b[0;34m,\u001b[0m \u001b[0;34m**\u001b[0m\u001b[0mkwargs\u001b[0m\u001b[0;34m)\u001b[0m\u001b[0;34m:\u001b[0m\u001b[0;34m\u001b[0m\u001b[0;34m\u001b[0m\u001b[0m\n\u001b[1;32m   1472\u001b[0m         \u001b[0;32mif\u001b[0m \u001b[0mdata\u001b[0m \u001b[0;32mis\u001b[0m \u001b[0;32mNone\u001b[0m\u001b[0;34m:\u001b[0m\u001b[0;34m\u001b[0m\u001b[0;34m\u001b[0m\u001b[0m\n\u001b[0;32m-> 1473\u001b[0;31m             return func(\n\u001b[0m\u001b[1;32m   1474\u001b[0m                 \u001b[0max\u001b[0m\u001b[0;34m,\u001b[0m\u001b[0;34m\u001b[0m\u001b[0;34m\u001b[0m\u001b[0m\n\u001b[1;32m   1475\u001b[0m                 \u001b[0;34m*\u001b[0m\u001b[0mmap\u001b[0m\u001b[0;34m(\u001b[0m\u001b[0msanitize_sequence\u001b[0m\u001b[0;34m,\u001b[0m \u001b[0margs\u001b[0m\u001b[0;34m)\u001b[0m\u001b[0;34m,\u001b[0m\u001b[0;34m\u001b[0m\u001b[0;34m\u001b[0m\u001b[0m\n",
      "\u001b[0;32m~/.local/lib/python3.9/site-packages/matplotlib/axes/_axes.py\u001b[0m in \u001b[0;36mhist\u001b[0;34m(self, x, bins, range, density, weights, cumulative, bottom, histtype, align, orientation, rwidth, log, color, label, stacked, **kwargs)\u001b[0m\n\u001b[1;32m   6912\u001b[0m \u001b[0;34m\u001b[0m\u001b[0m\n\u001b[1;32m   6913\u001b[0m         \u001b[0;31m# Massage 'x' for processing.\u001b[0m\u001b[0;34m\u001b[0m\u001b[0;34m\u001b[0m\u001b[0m\n\u001b[0;32m-> 6914\u001b[0;31m         \u001b[0mx\u001b[0m \u001b[0;34m=\u001b[0m \u001b[0mcbook\u001b[0m\u001b[0;34m.\u001b[0m\u001b[0m_reshape_2D\u001b[0m\u001b[0;34m(\u001b[0m\u001b[0mx\u001b[0m\u001b[0;34m,\u001b[0m \u001b[0;34m'x'\u001b[0m\u001b[0;34m)\u001b[0m\u001b[0;34m\u001b[0m\u001b[0;34m\u001b[0m\u001b[0m\n\u001b[0m\u001b[1;32m   6915\u001b[0m         \u001b[0mnx\u001b[0m \u001b[0;34m=\u001b[0m \u001b[0mlen\u001b[0m\u001b[0;34m(\u001b[0m\u001b[0mx\u001b[0m\u001b[0;34m)\u001b[0m  \u001b[0;31m# number of datasets\u001b[0m\u001b[0;34m\u001b[0m\u001b[0;34m\u001b[0m\u001b[0m\n\u001b[1;32m   6916\u001b[0m \u001b[0;34m\u001b[0m\u001b[0m\n",
      "\u001b[0;32m~/.local/lib/python3.9/site-packages/matplotlib/cbook.py\u001b[0m in \u001b[0;36m_reshape_2D\u001b[0;34m(X, name)\u001b[0m\n\u001b[1;32m   1427\u001b[0m \u001b[0;34m\u001b[0m\u001b[0m\n\u001b[1;32m   1428\u001b[0m     \u001b[0;31m# Unpack in case of e.g. Pandas or xarray object\u001b[0m\u001b[0;34m\u001b[0m\u001b[0;34m\u001b[0m\u001b[0m\n\u001b[0;32m-> 1429\u001b[0;31m     \u001b[0mX\u001b[0m \u001b[0;34m=\u001b[0m \u001b[0m_unpack_to_numpy\u001b[0m\u001b[0;34m(\u001b[0m\u001b[0mX\u001b[0m\u001b[0;34m)\u001b[0m\u001b[0;34m\u001b[0m\u001b[0;34m\u001b[0m\u001b[0m\n\u001b[0m\u001b[1;32m   1430\u001b[0m \u001b[0;34m\u001b[0m\u001b[0m\n\u001b[1;32m   1431\u001b[0m     \u001b[0;31m# Iterate over columns for ndarrays.\u001b[0m\u001b[0;34m\u001b[0m\u001b[0;34m\u001b[0m\u001b[0m\n",
      "\u001b[0;32m~/.local/lib/python3.9/site-packages/matplotlib/cbook.py\u001b[0m in \u001b[0;36m_unpack_to_numpy\u001b[0;34m(x)\u001b[0m\n\u001b[1;32m   2381\u001b[0m     \u001b[0;32mif\u001b[0m \u001b[0mhasattr\u001b[0m\u001b[0;34m(\u001b[0m\u001b[0mx\u001b[0m\u001b[0;34m,\u001b[0m \u001b[0;34m'to_numpy'\u001b[0m\u001b[0;34m)\u001b[0m\u001b[0;34m:\u001b[0m\u001b[0;34m\u001b[0m\u001b[0;34m\u001b[0m\u001b[0m\n\u001b[1;32m   2382\u001b[0m         \u001b[0;31m# Assume that any to_numpy() method actually returns a numpy array\u001b[0m\u001b[0;34m\u001b[0m\u001b[0;34m\u001b[0m\u001b[0m\n\u001b[0;32m-> 2383\u001b[0;31m         \u001b[0;32mreturn\u001b[0m \u001b[0mx\u001b[0m\u001b[0;34m.\u001b[0m\u001b[0mto_numpy\u001b[0m\u001b[0;34m(\u001b[0m\u001b[0;34m)\u001b[0m\u001b[0;34m\u001b[0m\u001b[0;34m\u001b[0m\u001b[0m\n\u001b[0m\u001b[1;32m   2384\u001b[0m     \u001b[0;32mif\u001b[0m \u001b[0mhasattr\u001b[0m\u001b[0;34m(\u001b[0m\u001b[0mx\u001b[0m\u001b[0;34m,\u001b[0m \u001b[0;34m'values'\u001b[0m\u001b[0;34m)\u001b[0m\u001b[0;34m:\u001b[0m\u001b[0;34m\u001b[0m\u001b[0;34m\u001b[0m\u001b[0m\n\u001b[1;32m   2385\u001b[0m         \u001b[0mxtmp\u001b[0m \u001b[0;34m=\u001b[0m \u001b[0mx\u001b[0m\u001b[0;34m.\u001b[0m\u001b[0mvalues\u001b[0m\u001b[0;34m\u001b[0m\u001b[0;34m\u001b[0m\u001b[0m\n",
      "\u001b[0;32m~/.local/lib/python3.9/site-packages/awkward/highlevel.py\u001b[0m in \u001b[0;36mto_numpy\u001b[0;34m(self, allow_missing)\u001b[0m\n\u001b[1;32m    503\u001b[0m         \u001b[0mConverts\u001b[0m \u001b[0mthis\u001b[0m \u001b[0mArray\u001b[0m \u001b[0minto\u001b[0m \u001b[0ma\u001b[0m \u001b[0mNumPy\u001b[0m \u001b[0marray\u001b[0m\u001b[0;34m,\u001b[0m \u001b[0;32mif\u001b[0m \u001b[0mpossible\u001b[0m\u001b[0;34m;\u001b[0m \u001b[0msame\u001b[0m \u001b[0;32mas\u001b[0m \u001b[0;31m#ak.to_numpy.\u001b[0m\u001b[0;34m\u001b[0m\u001b[0;34m\u001b[0m\u001b[0m\n\u001b[1;32m    504\u001b[0m         \"\"\"\n\u001b[0;32m--> 505\u001b[0;31m         \u001b[0;32mreturn\u001b[0m \u001b[0mak\u001b[0m\u001b[0;34m.\u001b[0m\u001b[0moperations\u001b[0m\u001b[0;34m.\u001b[0m\u001b[0mto_numpy\u001b[0m\u001b[0;34m(\u001b[0m\u001b[0mself\u001b[0m\u001b[0;34m,\u001b[0m \u001b[0mallow_missing\u001b[0m\u001b[0;34m=\u001b[0m\u001b[0mallow_missing\u001b[0m\u001b[0;34m)\u001b[0m\u001b[0;34m\u001b[0m\u001b[0;34m\u001b[0m\u001b[0m\n\u001b[0m\u001b[1;32m    506\u001b[0m \u001b[0;34m\u001b[0m\u001b[0m\n\u001b[1;32m    507\u001b[0m     \u001b[0;34m@\u001b[0m\u001b[0mproperty\u001b[0m\u001b[0;34m\u001b[0m\u001b[0;34m\u001b[0m\u001b[0m\n",
      "\u001b[0;32m~/.local/lib/python3.9/site-packages/awkward/_dispatch.py\u001b[0m in \u001b[0;36mdispatch\u001b[0;34m(*args, **kwargs)\u001b[0m\n\u001b[1;32m     70\u001b[0m                     )\n\u001b[1;32m     71\u001b[0m \u001b[0;34m\u001b[0m\u001b[0m\n\u001b[0;32m---> 72\u001b[0;31m             \u001b[0;32mreturn\u001b[0m \u001b[0mgen_or_result\u001b[0m\u001b[0;34m\u001b[0m\u001b[0;34m\u001b[0m\u001b[0m\n\u001b[0m\u001b[1;32m     73\u001b[0m \u001b[0;34m\u001b[0m\u001b[0m\n\u001b[1;32m     74\u001b[0m     \u001b[0;32mreturn\u001b[0m \u001b[0mdispatch\u001b[0m\u001b[0;34m\u001b[0m\u001b[0;34m\u001b[0m\u001b[0m\n",
      "\u001b[0;32m~/.local/lib/python3.9/site-packages/awkward/_errors.py\u001b[0m in \u001b[0;36m__exit__\u001b[0;34m(self, exception_type, exception_value, traceback)\u001b[0m\n\u001b[1;32m     83\u001b[0m                 \u001b[0;32mand\u001b[0m \u001b[0mself\u001b[0m\u001b[0;34m.\u001b[0m\u001b[0mprimary\u001b[0m\u001b[0;34m(\u001b[0m\u001b[0;34m)\u001b[0m \u001b[0;32mis\u001b[0m \u001b[0mself\u001b[0m\u001b[0;34m\u001b[0m\u001b[0;34m\u001b[0m\u001b[0m\n\u001b[1;32m     84\u001b[0m             ):\n\u001b[0;32m---> 85\u001b[0;31m                 \u001b[0mself\u001b[0m\u001b[0;34m.\u001b[0m\u001b[0mhandle_exception\u001b[0m\u001b[0;34m(\u001b[0m\u001b[0mexception_type\u001b[0m\u001b[0;34m,\u001b[0m \u001b[0mexception_value\u001b[0m\u001b[0;34m)\u001b[0m\u001b[0;34m\u001b[0m\u001b[0;34m\u001b[0m\u001b[0m\n\u001b[0m\u001b[1;32m     86\u001b[0m         \u001b[0;32mfinally\u001b[0m\u001b[0;34m:\u001b[0m\u001b[0;34m\u001b[0m\u001b[0;34m\u001b[0m\u001b[0m\n\u001b[1;32m     87\u001b[0m             \u001b[0;31m# Step out of the way so that another ErrorContext can become primary.\u001b[0m\u001b[0;34m\u001b[0m\u001b[0;34m\u001b[0m\u001b[0m\n",
      "\u001b[0;32m~/.local/lib/python3.9/site-packages/awkward/_errors.py\u001b[0m in \u001b[0;36mhandle_exception\u001b[0;34m(self, cls, exception)\u001b[0m\n\u001b[1;32m     93\u001b[0m             \u001b[0mself\u001b[0m\u001b[0;34m.\u001b[0m\u001b[0mdecorate_exception\u001b[0m\u001b[0;34m(\u001b[0m\u001b[0mcls\u001b[0m\u001b[0;34m,\u001b[0m \u001b[0mexception\u001b[0m\u001b[0;34m)\u001b[0m\u001b[0;34m\u001b[0m\u001b[0;34m\u001b[0m\u001b[0m\n\u001b[1;32m     94\u001b[0m         \u001b[0;32melse\u001b[0m\u001b[0;34m:\u001b[0m\u001b[0;34m\u001b[0m\u001b[0;34m\u001b[0m\u001b[0m\n\u001b[0;32m---> 95\u001b[0;31m             \u001b[0;32mraise\u001b[0m \u001b[0mself\u001b[0m\u001b[0;34m.\u001b[0m\u001b[0mdecorate_exception\u001b[0m\u001b[0;34m(\u001b[0m\u001b[0mcls\u001b[0m\u001b[0;34m,\u001b[0m \u001b[0mexception\u001b[0m\u001b[0;34m)\u001b[0m\u001b[0;34m\u001b[0m\u001b[0;34m\u001b[0m\u001b[0m\n\u001b[0m\u001b[1;32m     96\u001b[0m \u001b[0;34m\u001b[0m\u001b[0m\n\u001b[1;32m     97\u001b[0m     \u001b[0;32mdef\u001b[0m \u001b[0mdecorate_exception\u001b[0m\u001b[0;34m(\u001b[0m\u001b[0mself\u001b[0m\u001b[0;34m,\u001b[0m \u001b[0mcls\u001b[0m\u001b[0;34m:\u001b[0m \u001b[0mtype\u001b[0m\u001b[0;34m[\u001b[0m\u001b[0mE\u001b[0m\u001b[0;34m]\u001b[0m\u001b[0;34m,\u001b[0m \u001b[0mexception\u001b[0m\u001b[0;34m:\u001b[0m \u001b[0mE\u001b[0m\u001b[0;34m)\u001b[0m \u001b[0;34m->\u001b[0m \u001b[0mException\u001b[0m\u001b[0;34m:\u001b[0m\u001b[0;34m\u001b[0m\u001b[0;34m\u001b[0m\u001b[0m\n",
      "\u001b[0;31mValueError\u001b[0m: cannot convert <RecordArray is_tuple='false' len='35'>\n    <content index='0' field='lep_pt'>\n        <IndexedArray len='35'>\n            <index><Index dtype='int64' len='35'>\n                [   8   12   30   48  149  173  211  215  232  238  265  449\n                  450  453  458  527  542  545  561  566  648  671  684  772\n                  811  818  819  846  854  894  920  931  936  943 1003]\n            </Index></index>\n            <content><ListOffsetArray len='1031'>\n                <offsets><Index dtype='int64' len='1032'>\n                    [   0    4    8 ... 4127 4131 4135]\n                </Index></offsets>\n                <content><NumpyArray dtype='float32' len='4135'>\n                    [72882.97  38832.246 12576.012 ... 10386.254 10364.022\n                      8407.727]\n                </NumpyArray></content>\n            </ListOffsetArray></content>\n        </IndexedArray>\n    </content>\n    <content index='1' field='lep_eta'>\n        <IndexedArray len='35'>\n            <index><Index dtype='int64' len='35'>\n                [   8   12   30   48  149  173  211  215  232  238  265  449\n                  450  453  458  527  542  545  561  566  648  671  684  772\n                  811  818  819  846  854  894  920  931  936  943 1003]\n            </Index></index>\n            <content><ListOffsetArray len='1031'>\n                <offsets><Index dtype='int64' len='1032'>\n                    [   0    4    8 ... 4127 4131 4135]\n                </Index></offsets>\n                <content><NumpyArray dtype='float32' len='4135'>\n                    [-0.9124997  0.6198302 -1.5382785 ... -0.7793907  1.1430261\n                     -2.0365002]\n                </NumpyArray></content>\n            </ListOffsetArray></content>\n        </IndexedArray>\n    </content>\n    <content index='2' field='lep_phi'>\n        <IndexedArray len='35'>\n            <index><Index dtype='int64' len='35'>\n                [   8   12   30   48  149  173  211  215  232  238  265  449\n                  450  453  458  527  542  545  561  566  648  671  684  772\n                  811  818  819  846  854  894  920  931  936  943 1003]\n            </Index></index>\n            <content><ListOffsetArray len='1031'>\n                <offsets><Index dtype='int64' len='1032'>\n                    [   0    4    8 ... 4127 4131 4135]\n                </Index></offsets>\n                <content><NumpyArray dtype='float32' len='4135'>\n                    [ 0.144516    2.4599771  -2.8940504  ...  0.7079418\n                      0.68114686 -0.22048417]\n                </NumpyArray></content>\n            </ListOffsetArray></content>\n        </IndexedArray>\n    </content>\n    <content index='3' field='lep_E'>\n        <IndexedArray len='35'>\n            <index><Index dtype='int64' len='35'>\n                [   8   12   30   48  149  173  211  215  232  238  265  449\n                  450  453  458  527  542  545  561  566  648  671  684  772\n                  811  818  819  846  854  894  920  931  936  943 1003]\n            </Index></index>\n            <content><ListOffsetArray len='1031'>\n                <offsets><Index dtype='int64' len='1032'>\n                    [   0    4    8 ... 4127 4131 4135]\n                </Index></offsets>\n                <content><NumpyArray dtype='float32' len='4135'>\n                    [105391.     46533.734  30630.873 ...  13704.181  17904.354\n                      32765.857]\n                </NumpyArray></content>\n            </ListOffsetArray></content>\n        </IndexedArray>\n    </content>\n    <content index='4' field='lep_charge'>\n        <IndexedArray len='35'>\n            <index><Index dtype='int64' len='35'>\n                [   8   12   30   48  149  173  211  215  232  238  265  449\n                  450  453  458  527  542  545  561  566  648  671  684  772\n                  811  818  819  846  854  894  920  931  936  943 1003]\n            </Index></index>\n            <content><ListOffsetArray len='1031'>\n                <offsets><Index dtype='int64' len='1032'>\n                    [   0    4    8 ... 4127 4131 4135]\n                </Index></offsets>\n                <content><NumpyArray dtype='int32' len='4135'>[-1  1  1 ...  1  1 -1]</NumpyArray></content>\n            </ListOffsetArray></content>\n        </IndexedArray>\n    </content>\n    <content index='5' field='lep_type'>\n        <IndexedArray len='35'>\n            <index><Index dtype='int64' len='35'>\n                [   8   12   30   48  149  173  211  215  232  238  265  449\n                  450  453  458  527  542  545  561  566  648  671  684  772\n                  811  818  819  846  854  894  920  931  936  943 1003]\n            </Index></index>\n            <content><ListOffsetArray len='1031'>\n                <offsets><Index dtype='int64' len='1032'>\n                    [   0    4    8 ... 4127 4131 4135]\n                </Index></offsets>\n                <content><NumpyArray dtype='uint32' len='4135'>[13 13 11 ... 13 11 11]</NumpyArray></content>\n            </ListOffsetArray></content>\n        </IndexedArray>\n    </content>\n    <content index='6' field='mcWeight'>\n        <IndexedArray len='35'>\n            <index><Index dtype='int64' len='35'>\n                [   8   12   30   48  149  173  211  215  232  238  265  449\n                  450  453  458  527  542  545  561  566  648  671  684  772\n                  811  818  819  846  854  894  920  931  936  943 1003]\n            </Index></index>\n            <content><NumpyArray dtype='float32' len='1031'>[1. 1. 1. ... 1. 1. 1.]</NumpyArray></content>\n        </IndexedArray>\n    </content>\n    <content index='7' field='scaleFactor_PILEUP'>\n        <IndexedArray len='35'>\n            <index><Index dtype='int64' len='35'>\n                [   8   12   30   48  149  173  211  215  232  238  265  449\n                  450  453  458  527  542  545  561  566  648  671  684  772\n                  811  818  819  846  854  894  920  931  936  943 1003]\n            </Index></index>\n            <content><NumpyArray dtype='float32' len='1031'>\n                [1.2141223  0.59656215 1.3209485  ... 1.1961048  0.6960765\n                 1.3209485 ]\n            </NumpyArray></content>\n        </IndexedArray>\n    </content>\n    <content index='8' field='scaleFactor_ELE'>\n        <IndexedArray len='35'>\n            <index><Index dtype='int64' len='35'>\n                [   8   12   30   48  149  173  211  215  232  238  265  449\n                  450  453  458  527  542  545  561  566  648  671  684  772\n                  811  818  819  846  854  894  920  931  936  943 1003]\n            </Index></index>\n            <content><NumpyArray dtype='float32' len='1031'>\n                [1.00336    0.9594338  0.96311    ... 0.93660307 0.97921\n                 0.90892035]\n            </NumpyArray></content>\n        </IndexedArray>\n    </content>\n    <content index='9' field='scaleFactor_MUON'>\n        <IndexedArray len='35'>\n            <index><Index dtype='int64' len='35'>\n                [   8   12   30   48  149  173  211  215  232  238  265  449\n                  450  453  458  527  542  545  561  566  648  671  684  772\n                  811  818  819  846  854  894  920  931  936  943 1003]\n            </Index></index>\n            <content><NumpyArray dtype='float32' len='1031'>\n                [0.9922828  0.99809057 0.5175477  ... 0.98386043 0.9939327\n                 0.99795383]\n            </NumpyArray></content>\n        </IndexedArray>\n    </content>\n    <content index='10' field='scaleFactor_LepTRIGGER'>\n        <IndexedArray len='35'>\n            <index><Index dtype='int64' len='35'>\n                [   8   12   30   48  149  173  211  215  232  238  265  449\n                  450  453  458  527  542  545  561  566  648  671  684  772\n                  811  818  819  846  854  894  920  931  936  943 1003]\n            </Index></index>\n            <content><NumpyArray dtype='float32' len='1031'>\n                [0.7506369 1.00582   1.00058   ... 0.98448   1.00192\n                 0.99765  ]\n            </NumpyArray></content>\n        </IndexedArray>\n    </content>\n    <content index='11' field='totalWeight'>\n        <IndexedArray len='35'>\n            <index><Index dtype='int64' len='35'>\n                [   8   12   30   48  149  173  211  215  232  238  265  449\n                  450  453  458  527  542  545  561  566  648  671  684  772\n                  811  818  819  846  854  894  920  931  936  943 1003]\n            </Index></index>\n            <content><NumpyArray dtype='float32' len='1031'>\n                [0.0831725  0.05266913 0.06038918 ... 0.09946273 0.06221829\n                 0.10957099]\n            </NumpyArray></content>\n        </IndexedArray>\n    </content>\n    <content index='12' field='mllll'>\n        <NumpyArray dtype='float32' len='35'>\n            [136.48753  173.8148    82.76314   92.28136  131.06236  172.65166\n             267.3864   139.97981   95.84505  124.26087   97.70371  198.71948\n             ...\n             133.16336  113.46326  187.78648  248.57408  187.0012   141.73036\n             168.0683    93.65898   96.24837  163.98456  140.81764 ]\n        </NumpyArray>\n    </content>\n</RecordArray> into np.ndarray\n\nThis error occurred while calling\n\n    ak.to_numpy(\n        <Array [{lep_pt: [...], ...}, ..., {...}] type='35 * {lep_pt: var *...'>\n        allow_missing = True\n    )"
     ]
    },
    {
     "data": {
      "image/png": "[encoded data removed]",
      "text/plain": [
       "<Figure size 432x288 with 1 Axes>"
      ]
     },
     "metadata": {
      "needs_background": "light"
     },
     "output_type": "display_data"
    }
   ],
   "source": [
    "plot_new_data(data)"
   ]
  },
  {
   "cell_type": "markdown",
   "metadata": {},
   "source": [
    "<a id='going_further'></a>"
   ]
  },
  {
   "cell_type": "markdown",
   "metadata": {},
   "source": [
    "## What can you do to explore this analysis?\n",
    "\n",
    "* Increase the fraction of data used in '[Lumi, fraction, file path](#fraction)'\n",
    "* Check how many events are being thrown away by each cut in '[Applying a cut](#applying_cut)'\n",
    "* Add more cuts from the [Higgs discovery paper](https://www.sciencedirect.com/science/article/pii/S037026931200857X#se0040) in '[Changing a cut](#changing_cut)' and '[Applying a cut](#applying_cut)'\n",
    "* Add a plot to show the ratio between Data and MC other than Higgs\n",
    "* Add a plot to show the invariant mass distribution of the sub-leading lepton pair, like [Figure 1 of the Higgs discovery paper](https://www.sciencedirect.com/science/article/pii/S037026931200857X#fg0010)\n",
    "* Get the estimated numbers of events, like [Table 3 of the Higgs discovery paper](https://www.sciencedirect.com/science/article/pii/S037026931200857X#tl0030)\n",
    "* Add a plot of m12 against m34, like [Figure 3 of the Higgs discovery paper](https://www.sciencedirect.com/science/article/pii/S037026931200857X#fg0030)\n",
    "* Your idea!"
   ]
  },
  {
   "cell_type": "markdown",
   "metadata": {},
   "source": [
    "[Back to contents](#contents)"
   ]
  }
 ],
 "metadata": {
  "kernelspec": {
   "display_name": "Python 3 (ipykernel)",
   "language": "python",
   "name": "python3"
  },
  "language_info": {
   "codemirror_mode": {
    "name": "ipython",
    "version": 3
   },
   "file_extension": ".py",
   "mimetype": "text/x-python",
   "name": "python",
   "nbconvert_exporter": "python",
   "pygments_lexer": "ipython3",
   "version": "3.9.7"
  },
  "toc": {
   "base_numbering": 1,
   "nav_menu": {},
   "number_sections": true,
   "sideBar": true,
   "skip_h1_title": false,
   "title_cell": "Table of Contents",
   "title_sidebar": "Contents",
   "toc_cell": false,
   "toc_position": {},
   "toc_section_display": true,
   "toc_window_display": false
  }
 },
 "nbformat": 4,
 "nbformat_minor": 4
}
