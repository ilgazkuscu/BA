{
 "cells": [
  {
   "cell_type": "markdown",
   "metadata": {},
   "source": [
    "<CENTER><img src=\"../../images/ATLASOD.gif\" style=\"width:50%\"></CENTER>"
   ]
  },
  {
   "cell_type": "code",
   "execution_count": 88,
   "metadata": {
    "tags": []
   },
   "outputs": [],
   "source": [
    "\n",
    "import uproot # for reading .root files\n",
    "import time # to measure time to analyse\n",
    "import math # for mathematical functions such as square root\n",
    "#import awkward as ak # for handling complex and nested data structures efficiently\n",
    "import numpy as np # # for numerical calculations such as histogramming\n",
    "import matplotlib.pyplot as plt # for plotting\n",
    "from matplotlib.ticker import MaxNLocator,AutoMinorLocator # for minor ticks\n",
    "from lmfit.models import PolynomialModel, GaussianModel # for the signal and background fits\n",
    "import vector #to use vectors\n",
    "import requests # for HTTP access\n",
    "import aiohttp # HTTP client support"
   ]
  },
  {
   "cell_type": "code",
   "execution_count": 89,
   "metadata": {
    "tags": []
   },
   "outputs": [],
   "source": [
    "# ATLAS Open Data directory\n",
    "path = \"https://atlas-opendata.web.cern.ch/atlas-opendata/13TeV/GamGam/Data/\" # web address\n",
    "tuple_path = \"/project/etp1/gduckeck/atlas/13TeV/GamGam/Data/\" #Current path!\n",
    "#tuple_path = \\\"~/Downloads/GamGamNew/\\\" # local"
   ]
  },
  {
   "cell_type": "code",
   "execution_count": 90,
   "metadata": {
    "tags": []
   },
   "outputs": [],
   "source": [
    "samples_list = ['data15_periodD','data15_periodE','data15_periodF','data15_periodG','data15_periodH','data15_periodJ','data16_periodA','data16_periodB','data16_periodC','data16_periodD','data16_periodE','data16_periodF','data16_periodG','data16_periodK','data16_periodL']"
   ]
  },
  {
   "cell_type": "code",
   "execution_count": 91,
   "metadata": {
    "tags": []
   },
   "outputs": [
    {
     "name": "stdout",
     "output_type": "stream",
     "text": [
      "data15_periodE\n"
     ]
    }
   ],
   "source": [
    "print(samples_list[1])\n",
    "\n",
    "# This is now appended to our file path to retrieve the data15_periodG.root file\n",
    "data_15G_path = path + samples_list[3] + \".root\""
   ]
  },
  {
   "cell_type": "code",
   "execution_count": 92,
   "metadata": {
    "tags": []
   },
   "outputs": [
    {
     "data": {
      "text/plain": [
       "'https://atlas-opendata.web.cern.ch/atlas-opendata/13TeV/GamGam/Data/data15_periodG.root'"
      ]
     },
     "execution_count": 92,
     "metadata": {},
     "output_type": "execute_result"
    }
   ],
   "source": [
    "data_15G_path"
   ]
  },
  {
   "cell_type": "code",
   "execution_count": 93,
   "metadata": {
    "tags": []
   },
   "outputs": [
    {
     "name": "stdout",
     "output_type": "stream",
     "text": [
      "Processing data15_periodD:\n",
      "Number of entries in the tree: 2396\n",
      "Processing data15_periodE:\n",
      "Number of entries in the tree: 21942\n",
      "Processing data15_periodF:\n",
      "Number of entries in the tree: 15585\n",
      "Processing data15_periodG:\n",
      "Number of entries in the tree: 36070\n",
      "Processing data15_periodH:\n",
      "Number of entries in the tree: 13613\n",
      "Processing data15_periodJ:\n",
      "Number of entries in the tree: 73987\n",
      "Processing data16_periodA:\n",
      "Number of entries in the tree: 22978\n",
      "Processing data16_periodB:\n",
      "Number of entries in the tree: 60391\n",
      "Processing data16_periodC:\n",
      "Number of entries in the tree: 96566\n",
      "Processing data16_periodD:\n",
      "Number of entries in the tree: 151983\n",
      "Processing data16_periodE:\n",
      "Number of entries in the tree: 48254\n",
      "Processing data16_periodF:\n",
      "Number of entries in the tree: 113617\n",
      "Processing data16_periodG:\n",
      "Number of entries in the tree: 136784\n",
      "Processing data16_periodK:\n",
      "Number of entries in the tree: 76021\n",
      "Processing data16_periodL:\n",
      "Number of entries in the tree: 207065\n",
      "The number of entries in the tree are: 207065\n",
      "The information stored in the tree is: ['num_events', 'sum_of_weights', 'sum_of_weights_squared', 'corrected_xsec', 'dsid', 'category', 'sig_ph', 'n_sig_ph', 'ScaleFactor_PILEUP', 'mcWeight', 'xsec', 'trigE', 'trigM', 'ScaleFactor_BTAG', 'jet_n', 'jet_pt', 'jet_eta', 'jet_phi', 'jet_e', 'jet_DL1d77_isBtagged', 'jet_jvt', 'largeRJet_n', 'largeRJet_pt', 'largeRJet_eta', 'largeRJet_phi', 'largeRJet_e', 'largeRJet_m', 'largeRJet_D2', 'ScaleFactor_ELE', 'ScaleFactor_MUON', 'lep_n', 'lep_type', 'lep_pt', 'lep_eta', 'lep_phi', 'lep_e', 'lep_charge', 'lep_ptvarcone30', 'lep_topoetcone20', 'lep_z0', 'lep_d0', 'lep_d0sig', 'lep_isTight', 'lep_isTightID', 'lep_isTightIso', 'ScaleFactor_PHOTON', 'photon_n', 'photon_pt', 'photon_eta', 'photon_phi', 'photon_e', 'photon_ptcone20', 'photon_topoetcone40', 'photon_isTight', 'photon_isTightID', 'photon_isTightIso', 'ScaleFactor_TAU', 'tau_n', 'tau_pt', 'tau_eta', 'tau_phi', 'tau_e', 'tau_charge', 'tau_nTracks', 'tau_isTight', 'tau_RNNJetScore', 'tau_RNNEleScore', 'met', 'met_phi', 'met_mpx', 'met_mpy']\n"
     ]
    }
   ],
   "source": [
    "# Accessing the file from the online database (\":analysis\" opens the tree in a desired manner)\n",
    "for sample in samples_list:\n",
    "    # Construct the file path\n",
    "    file_path = f\"{path}{sample}.root\" #e.g. tree = .../GamGam/Data/data15_periodD.root + :analysis\n",
    "    \n",
    "    try:\n",
    "        # Open the tree named \":analysis\" in each file\n",
    "        with uproot.open(file_path + \":analysis\") as t:\n",
    "            tree = t\n",
    "            \n",
    "            # Print the number of entries in the tree\n",
    "            print(f\"Processing {sample}:\")\n",
    "            print(f\"Number of entries in the tree: {tree.num_entries}\")\n",
    "            \n",
    "            # Print the information stored in the tree\n",
    "         \n",
    "            \n",
    "            # Perform any additional operations on the tree here\n",
    "            # For example, applying cuts, extracting data, etc.\n",
    "            # ...\n",
    "            \n",
    "    except Exception as e:\n",
    "        print(f\"Failed to process {sample}. Error: {e}\")\n",
    "\n",
    "\n",
    "# The number of entries in the tree can be viewed\n",
    "print(\"The number of entries in the tree are:\", tree.num_entries)\n",
    "\n",
    "# All the information stored in the tree can be viewed using the .keys() method.\n",
    "print(\"The information stored in the tree is:\", tree.keys())"
   ]
  },
  {
   "cell_type": "markdown",
   "metadata": {},
   "source": [
    "Perhaps we'd like to see the energies of the photons. \n",
    "We can access this from our tree using the key `photon_e`."
   ]
  },
  {
   "cell_type": "code",
   "execution_count": 149,
   "metadata": {
    "tags": []
   },
   "outputs": [
    {
     "data": {
      "text/plain": [
       "0        2\n",
       "1        4\n",
       "2        5\n",
       "3        3\n",
       "4        5\n",
       "        ..\n",
       "18763    4\n",
       "18764    4\n",
       "18765    3\n",
       "18766    4\n",
       "18767    4\n",
       "Name: photon_n, Length: 96820, dtype: int32"
      ]
     },
     "execution_count": 149,
     "metadata": {},
     "output_type": "execute_result"
    }
   ],
   "source": [
    "\n",
    "data.photon_n"
   ]
  },
  {
   "cell_type": "code",
   "execution_count": 176,
   "metadata": {
    "tags": []
   },
   "outputs": [
    {
     "data": {
      "text/plain": [
       "0                        [0.0, 38.22719955444336]\n",
       "1                            [0.0, 0.0, 0.0, 0.0]\n",
       "2                                 [0.0, 0.0, 0.0]\n",
       "3        [0.0, 0.0, 1.0714765787124634, 0.0, 0.0]\n",
       "4                  [0.0, 10.952816009521484, 0.0]\n",
       "                           ...                   \n",
       "17612                                  [0.0, 0.0]\n",
       "17613         [0.0, 1.1279664039611816, 0.0, 0.0]\n",
       "17614         [1.1506789922714233, 0.0, 0.0, 0.0]\n",
       "17615                             [0.0, 0.0, 0.0]\n",
       "17616         [0.0, 0.0, 0.0, 1.4038175344467163]\n",
       "Name: photon_ptcone20, Length: 91139, dtype: awkward"
      ]
     },
     "execution_count": 176,
     "metadata": {},
     "output_type": "execute_result"
    }
   ],
   "source": [
    "data.photon_ptcone20"
   ]
  },
  {
   "cell_type": "code",
   "execution_count": 95,
   "metadata": {
    "tags": []
   },
   "outputs": [],
   "source": [
    "variables = [\"photon_pt\",\"photon_eta\",\"photon_phi\",\"photon_e\",\n",
    "                            \"photon_isTightID\",\"photon_ptcone20\"]"
   ]
  },
  {
   "cell_type": "code",
   "execution_count": 165,
   "metadata": {
    "tags": []
   },
   "outputs": [],
   "source": [
    "def calc_myy(photon_pt,photon_eta,photon_phi,photon_E):\n",
    "    # first photon is [0], 2nd photon is [1] etc\n",
    "    px_0 = photon_pt[0]*math.cos(photon_phi[0]) # x-component of photon[0] momentum\n",
    "    py_0 = photon_pt[0]*math.sin(photon_phi[0]) # y-component of photon[0] momentum\n",
    "    pz_0 = photon_pt[0]*math.sinh(photon_eta[0]) # z-component of photon[0] momentum\n",
    "    px_1 = photon_pt[1]*math.cos(photon_phi[1]) # x-component of photon[1] momentum\n",
    "    py_1 = photon_pt[1]*math.sin(photon_phi[1]) # y-component of photon[1] momentum\n",
    "    pz_1 = photon_pt[1]*math.sinh(photon_eta[1]) # z-component of photon[1] momentum\n",
    "    sumpx = px_0 + px_1 # x-component of diphoton momentum\n",
    "    sumpy = py_0 + py_1 # y-component of diphoton momentum\n",
    "    sumpz = pz_0 + pz_1 # z-component of diphoton momentum \n",
    "    sump = math.sqrt(sumpx**2 + sumpy**2 + sumpz**2) # magnitude of diphoton momentum \n",
    "    sumE = photon_E[0] + photon_E[1] # energy of diphoton system\n",
    "    m2 = sumE**2 - sump**2\n",
    "    if m2>0.:\n",
    "        m = m2**0.5\n",
    "    else:\n",
    "        print('calc_myy error neg mass**2', m2)\n",
    "        m = 0.\n",
    "    return m "
   ]
  },
  {
   "cell_type": "markdown",
   "metadata": {},
   "source": [
    "Based on our analysis, this entry should be removed because the photons do not match all our requirements.\n",
    "We can turn these checks and calculations into a set of functions."
   ]
  },
  {
   "cell_type": "code",
   "execution_count": 177,
   "metadata": {
    "tags": []
   },
   "outputs": [],
   "source": [
    "def cut_photon_reconstruction(photon_isTightID):\n",
    "    return photon_isTightID[0]==True and photon_isTightID[1]==True\n",
    "\n",
    "def cut_photon_pt(photon_pt):\n",
    "    return photon_pt[0]>40 and photon_pt[1]>30\n",
    "\n",
    "def cut_photon_eta_transition(photon_eta):\n",
    "    return (abs(photon_eta[0])>1.52 or abs(photon_eta[0])<1.37) and (abs(photon_eta[1])>1.52 or abs(photon_eta[1])<1.37)\n",
    "\n",
    "def cut_n_photon(photon_n):\n",
    "    return photon_n>=2\n",
    "\n",
    "def cut_isolation_pt(photon_ptcone20):\n",
    "    # Keep only the events where first two photons have isolation pt < 4 GeV\n",
    "    return (photon_ptcone20[0] < 4) and (photon_ptcone20[1] < 4)\n",
    "\n"
   ]
  },
  {
   "cell_type": "markdown",
   "metadata": {},
   "source": [
    "You may verify on your own that these functions give the same outputs as the previous code block.\n",
    "Now, \n",
    "    we shall apply these functions over the entire data tree using a `for` loop."
   ]
  },
  {
   "cell_type": "code",
   "execution_count": 178,
   "metadata": {
    "tags": []
   },
   "outputs": [],
   "source": [
    "def get_data_from_files():\n",
    "\n",
    "    frames = [] # define empty list to hold data\n",
    "    for val in samples_list: # loop over each file\n",
    "        fileString = tuple_path+val+\".root\" # file name to open\n",
    "        temp = read_file_new(fileString) # call the function read_file defined below\n",
    "        frames.append(temp) # append dataframe returned from read_file to list of dataframes\n",
    "    data = pd.concat(frames) # concatenate list of dataframes together into one dataframe\n",
    "    \n",
    "    return data # return dataframe"
   ]
  },
  {
   "cell_type": "code",
   "execution_count": 179,
   "metadata": {
    "tags": []
   },
   "outputs": [],
   "source": [
    "#pname = '/project/etp1/dkoch/ATLASOpenData/ntuples-data-samples/data15_allyear.root'\n",
    "#tree = uproot.open(pname+':analysis')\n",
    "def read_file_new(path):\n",
    "    start = time.time() # start the clock\n",
    "    print(\"Processing: \"+path) # print which sample is being processed\n",
    "    data_all = pd.DataFrame() # define empty pandas DataFrame to hold all data for this sample\n",
    "    tree = uproot.open(path + \":analysis\")\n",
    "    numevents = tree.num_entries # number of events\n",
    "    for data in tree.iterate([\"photon_n\",\"photon_pt\",\"photon_eta\",\"photon_phi\",\"photon_e\",\n",
    "                            \"photon_isTightID\",\"photon_ptcone20\"], # add more variables here if you want to use them\n",
    "                           library=\"pd\", # choose output type as pandas DataFrame\n",
    "                           entry_stop=numevents*fraction): # process up to numevents*fraction\n",
    "\n",
    "        nIn = len(data.index) # number of events in this batch\n",
    "        \n",
    "        # Cut on photon reconstruction quality using the function cut_photon_reconstruction defined above\n",
    "        print(\"before cut \",len(data.index))\n",
    "        data = data[ np.vectorize(cut_photon_reconstruction)(data.photon_isTightID)]\n",
    "        print(\"istight-cut \",len(data.index))\n",
    "        \n",
    "        # Cut on transverse momentum of the photons using the function cut_photon_pt defined above\n",
    "        data = data[ np.vectorize(cut_photon_pt)(data.photon_pt)]\n",
    "        print(\"pt-cut \",len(data.index))\n",
    "        \n",
    "        # Cut on ptcone20\n",
    "        data = data[np.vectorize(cut_isolation_pt)(data.photon_ptcone20)]\n",
    "        print(\"iso-cut \",len(data.index))\n",
    "        \n",
    "        # Cut on pseudorapidity inside barrel/end-cap transition region using the function cut_photon_eta_transition\n",
    "        data = data[ np.vectorize(cut_photon_eta_transition)(data.photon_eta)]\n",
    "        print(\"eta-cut \",len(data.index))\n",
    "       \n",
    "        \n",
    "        # Calculate reconstructed diphoton invariant mass using the function calc_myy defined above\n",
    "        data['myy'] = np.vectorize(calc_myy)(data.photon_pt,data.photon_eta,data.photon_phi,data.photon_e)\n",
    "        \n",
    "        # dataframe contents can be printed at any stage like this\n",
    "        #print(data)\n",
    "\n",
    "        # dataframe column can be printed at any stage like this\n",
    "        #print(data['photon_pt'])\n",
    "\n",
    "        # multiple dataframe columns can be printed at any stage like this\n",
    "        #print(data[['photon_pt','photon_eta']])\n",
    "\n",
    "        nOut = len(data.index) # number of events passing cuts in this batch\n",
    "        data_all = pd.concat([data_all, data], ignore_index=True)\n",
    "        elapsed = time.time() - start # time taken to process\n",
    "        print(\"\\t nIn: \"+str(nIn)+\",\\t nOut: \\t\"+str(nOut)+\"\\t in \"+str(round(elapsed,1))+\"s\") # events before and after\n",
    "    \n",
    "    return data_all # return dataframe containing events passing all cuts"
   ]
  },
  {
   "cell_type": "code",
   "execution_count": 180,
   "metadata": {
    "tags": []
   },
   "outputs": [
    {
     "name": "stdout",
     "output_type": "stream",
     "text": [
      "Processing: /project/etp1/gduckeck/atlas/13TeV/GamGam/Data/data15_periodD.root\n",
      "before cut  2396\n",
      "istight-cut  478\n",
      "pt-cut  191\n",
      "iso-cut  105\n",
      "eta-cut  104\n",
      "\t nIn: 2396,\t nOut: \t104\t in 0.5s\n",
      "Processing: /project/etp1/gduckeck/atlas/13TeV/GamGam/Data/data15_periodE.root\n",
      "before cut  21942\n",
      "istight-cut  4436\n",
      "pt-cut  1761\n",
      "iso-cut  1161\n",
      "eta-cut  1151\n",
      "\t nIn: 21942,\t nOut: \t1151\t in 0.3s\n",
      "Processing: /project/etp1/gduckeck/atlas/13TeV/GamGam/Data/data15_periodF.root\n",
      "before cut  15585\n",
      "istight-cut  3173\n",
      "pt-cut  1339\n",
      "iso-cut  859\n",
      "eta-cut  855\n",
      "\t nIn: 15585,\t nOut: \t855\t in 0.3s\n",
      "Processing: /project/etp1/gduckeck/atlas/13TeV/GamGam/Data/data15_periodG.root\n",
      "before cut  36070\n",
      "istight-cut  7327\n",
      "pt-cut  2942\n",
      "iso-cut  1913\n",
      "eta-cut  1901\n",
      "\t nIn: 36070,\t nOut: \t1901\t in 0.8s\n",
      "Processing: /project/etp1/gduckeck/atlas/13TeV/GamGam/Data/data15_periodH.root\n",
      "before cut  13613\n",
      "istight-cut  2812\n",
      "pt-cut  1150\n",
      "iso-cut  761\n",
      "eta-cut  754\n",
      "\t nIn: 13613,\t nOut: \t754\t in 0.2s\n",
      "Processing: /project/etp1/gduckeck/atlas/13TeV/GamGam/Data/data15_periodJ.root\n",
      "before cut  73987\n",
      "istight-cut  15257\n",
      "pt-cut  6207\n",
      "iso-cut  4000\n",
      "eta-cut  3958\n",
      "\t nIn: 73987,\t nOut: \t3958\t in 1.2s\n",
      "Processing: /project/etp1/gduckeck/atlas/13TeV/GamGam/Data/data16_periodA.root\n",
      "before cut  22978\n",
      "istight-cut  4378\n",
      "pt-cut  2021\n",
      "iso-cut  1351\n",
      "eta-cut  1343\n",
      "\t nIn: 22978,\t nOut: \t1343\t in 0.4s\n",
      "Processing: /project/etp1/gduckeck/atlas/13TeV/GamGam/Data/data16_periodB.root\n",
      "before cut  60391\n",
      "istight-cut  11256\n",
      "pt-cut  5587\n",
      "iso-cut  3784\n",
      "eta-cut  3762\n",
      "calc_myy error neg mass**2 -0.0011163794697495177\n",
      "\t nIn: 60391,\t nOut: \t3762\t in 0.9s\n",
      "Processing: /project/etp1/gduckeck/atlas/13TeV/GamGam/Data/data16_periodC.root\n",
      "before cut  96566\n",
      "istight-cut  18015\n",
      "pt-cut  9103\n",
      "iso-cut  6060\n",
      "eta-cut  6031\n",
      "\t nIn: 96566,\t nOut: \t6031\t in 1.3s\n",
      "Processing: /project/etp1/gduckeck/atlas/13TeV/GamGam/Data/data16_periodD.root\n",
      "before cut  151983\n",
      "istight-cut  28313\n",
      "pt-cut  14177\n",
      "iso-cut  9437\n",
      "eta-cut  9380\n",
      "calc_myy error neg mass**2 -0.005610572945442982\n",
      "\t nIn: 151983,\t nOut: \t9380\t in 2.1s\n",
      "Processing: /project/etp1/gduckeck/atlas/13TeV/GamGam/Data/data16_periodE.root\n",
      "before cut  48254\n",
      "istight-cut  8899\n",
      "pt-cut  4474\n",
      "iso-cut  2998\n",
      "eta-cut  2984\n",
      "\t nIn: 48254,\t nOut: \t2984\t in 0.8s\n",
      "Processing: /project/etp1/gduckeck/atlas/13TeV/GamGam/Data/data16_periodF.root\n",
      "before cut  113617\n",
      "istight-cut  20635\n",
      "pt-cut  10245\n",
      "iso-cut  6816\n",
      "eta-cut  6786\n",
      "\t nIn: 113617,\t nOut: \t6786\t in 1.7s\n",
      "Processing: /project/etp1/gduckeck/atlas/13TeV/GamGam/Data/data16_periodG.root\n",
      "before cut  136784\n",
      "istight-cut  24301\n",
      "pt-cut  12378\n",
      "iso-cut  7925\n",
      "eta-cut  7903\n",
      "calc_myy error neg mass**2 -0.006504823002615012\n",
      "calc_myy error neg mass**2 -0.0006655460110778222\n",
      "calc_myy error neg mass**2 -0.0012528597289929166\n",
      "calc_myy error neg mass**2 -0.0041603779754950665\n",
      "\t nIn: 136784,\t nOut: \t7903\t in 1.7s\n",
      "Processing: /project/etp1/gduckeck/atlas/13TeV/GamGam/Data/data16_periodK.root\n",
      "before cut  76021\n",
      "istight-cut  13707\n",
      "pt-cut  6922\n",
      "iso-cut  4487\n",
      "eta-cut  4468\n",
      "\t nIn: 76021,\t nOut: \t4468\t in 1.0s\n",
      "Processing: /project/etp1/gduckeck/atlas/13TeV/GamGam/Data/data16_periodL.root\n",
      "before cut  207065\n",
      "istight-cut  37533\n",
      "pt-cut  18868\n",
      "iso-cut  12460\n",
      "eta-cut  12397\n",
      "calc_myy error neg mass**2 -0.0015388385727419518\n",
      "calc_myy error neg mass**2 -0.0007443808881362202\n",
      "calc_myy error neg mass**2 -0.00013743274485022994\n",
      "\t nIn: 207065,\t nOut: \t12397\t in 2.6s\n",
      "Time taken: 42.9s\n"
     ]
    }
   ],
   "source": [
    "start = time.time() # time at start of whole processing\n",
    "data = get_data_from_files() # process all files\n",
    "elapsed = time.time() - start # time after whole processing\n",
    "print(\"Time taken: \"+str(round(elapsed,1))+\"s\") # print total time taken to process every file"
   ]
  },
  {
   "cell_type": "markdown",
   "metadata": {},
   "source": [
    "We are now ready to fit our data to effectively detect the Higgs boson! We will use a combination of a 4th order polynomial and a Gaussian function. The polynomial function represents the background, while the Gaussian function represents our signal. The Gaussian model is used to fit the signal due to the nature of the detector's resolution. The fourth-order polynomial is chosen for the background because it offers enough flexibility to capture the overall shape without overfitting, thereby reducing the influence of spurious data—random, irrelevant fluctuations or noise that do not correspond to the true signal or background."
   ]
  },
  {
   "cell_type": "code",
   "execution_count": 181,
   "metadata": {
    "tags": []
   },
   "outputs": [
    {
     "data": {
      "text/plain": [
       "63777"
      ]
     },
     "execution_count": 181,
     "metadata": {},
     "output_type": "execute_result"
    }
   ],
   "source": [
    "len(data)"
   ]
  },
  {
   "cell_type": "code",
   "execution_count": 186,
   "metadata": {
    "tags": []
   },
   "outputs": [
    {
     "data": {
      "text/plain": [
       "0        141.295156\n",
       "1        113.982391\n",
       "2         92.164946\n",
       "3        361.862695\n",
       "4         89.845035\n",
       "            ...    \n",
       "12392    126.100221\n",
       "12393     91.483729\n",
       "12394     94.305629\n",
       "12395    222.713095\n",
       "12396     91.849846\n",
       "Name: myy, Length: 63777, dtype: float64"
      ]
     },
     "execution_count": 186,
     "metadata": {},
     "output_type": "execute_result"
    }
   ],
   "source": [
    "data['myy']"
   ]
  },
  {
   "cell_type": "code",
   "execution_count": 187,
   "metadata": {
    "tags": []
   },
   "outputs": [
    {
     "data": {
      "image/png": "[encoded data removed]",
      "text/plain": [
       "<Figure size 640x480 with 2 Axes>"
      ]
     },
     "metadata": {},
     "output_type": "display_data"
    }
   ],
   "source": [
    "\n",
    "data_x,_ = np.histogram(ak.to_numpy(data['myy']), \n",
    "                            bins=bin_edges ) # histogram the data\n",
    "data_x_errors = np.sqrt( data_x ) # statistical error on the data\n",
    "\n",
    "# data fit\n",
    "polynomial_mod = PolynomialModel( 4 ) # 4th order polynomial\n",
    "gaussian_mod = GaussianModel() # Gaussian\n",
    "\n",
    "# set initial guesses for the parameters of the polynomial model\n",
    "# c0 + c1*x + c2*x^2 + c3*x^3 + c4*x^4\n",
    "pars = polynomial_mod.guess(data_x, # data to use to guess parameter values\n",
    "                            x=bin_centres, c0=data_x.max(), c1=0,\n",
    "                            c2=0, c3=0, c4=0 )\n",
    "\n",
    "# set initial guesses for the parameters of the Gaussian model\n",
    "pars += gaussian_mod.guess(data_x, # data to use to guess parameter values\n",
    "                        x=bin_centres, amplitude=100, \n",
    "                        center=125, sigma=2 )\n",
    "\n",
    "model = polynomial_mod + gaussian_mod # combined model\n",
    "\n",
    "# fit the model to the data\n",
    "out = model.fit(data_x, # data to be fit\n",
    "                pars, # guesses for the parameters\n",
    "                x=bin_centres, weights=1/data_x_errors ) #ASK\n",
    "\n",
    "# background part of fit\n",
    "params_dict = out.params.valuesdict() # get the parameters from the fit to data\n",
    "c0 = params_dict['c0'] # c0 of c0 + c1*x + c2*x^2 + c3*x^3 + c4*x^4\n",
    "c1 = params_dict['c1'] # c1 of c0 + c1*x + c2*x^2 + c3*x^3 + c4*x^4\n",
    "c2 = params_dict['c2'] # c2 of c0 + c1*x + c2*x^2 + c3*x^3 + c4*x^4\n",
    "c3 = params_dict['c3'] # c3 of c0 + c1*x + c2*x^2 + c3*x^3 + c4*x^4\n",
    "c4 = params_dict['c4'] # c4 of c0 + c1*x + c2*x^2 + c3*x^3 + c4*x^4\n",
    "\n",
    "# get the background only part of the fit to data\n",
    "background = c0 + c1*bin_centres + c2*bin_centres**2 + c3*bin_centres**3 + c4*bin_centres**4\n",
    "\n",
    "# data fit - background fit = signal fit\n",
    "signal_x = data_x - background \n",
    "\n",
    "# *************\n",
    "# Main plot \n",
    "# *************\n",
    "plt.axes([0.1,0.3,0.85,0.65]) # left, bottom, width, height \n",
    "main_axes = plt.gca() # get current axes\n",
    "\n",
    "# plot the data points\n",
    "main_axes.errorbar(x=bin_centres, y=data_x, yerr=data_x_errors, \n",
    "                fmt='ko', # 'k' means black and 'o' means circles\n",
    "                label='Data' ) \n",
    "\n",
    "# plot the signal + background fit\n",
    "main_axes.plot(bin_centres, # x\n",
    "            out.best_fit, # y\n",
    "            '-r', # single red line\n",
    "            label='Sig+Bkg Fit ($m_H=125$ GeV)' )\n",
    "\n",
    "# plot the background only fit\n",
    "main_axes.plot(bin_centres, # x\n",
    "            background, # y\n",
    "            '--r', # dashed red line\n",
    "            label='Bkg (4th order polynomial)' )\n",
    "\n",
    "# set the x-limit of the main axes\n",
    "main_axes.set_xlim( left=xmin, right=xmax ) \n",
    "\n",
    "# separation of x-axis minor ticks\n",
    "main_axes.xaxis.set_minor_locator( AutoMinorLocator() ) \n",
    "\n",
    "# set the axis tick parameters for the main axes\n",
    "main_axes.tick_params(which='both', # ticks on both x and y axes\n",
    "                    direction='in', # Put ticks inside and outside the axes\n",
    "                    top=True, # draw ticks on the top axis\n",
    "                    labelbottom=False, # don't draw tick labels on bottom axis\n",
    "                    right=True ) # draw ticks on right axis\n",
    "\n",
    "# write y-axis label for main \n",
    "main_axes.set_ylabel('Events / '+str(step_size)+' GeV', \n",
    "                    horizontalalignment='right') \n",
    "\n",
    "# set the y-axis limit for the main axes\n",
    "main_axes.set_ylim( bottom=0, top=np.amax(data_x)*1.1 ) \n",
    "\n",
    "# set minor ticks on the y-axis of the main axes\n",
    "main_axes.yaxis.set_minor_locator( AutoMinorLocator() ) \n",
    "\n",
    "# avoid displaying y=0 on the main axes\n",
    "main_axes.yaxis.get_major_ticks()[0].set_visible(False) \n",
    "\n",
    "# Add text 'ATLAS Open Data' on plot\n",
    "plt.text(0.2, # x\n",
    "        0.92, # y\n",
    "        'ATLAS Open Data', # text\n",
    "        transform=main_axes.transAxes, # coordinate system used is that of main_axes\n",
    "        fontsize=13 ) \n",
    "\n",
    "# Add text 'for education' on plot\n",
    "plt.text(0.2, # x\n",
    "        0.86, # y\n",
    "        'for education', # text\n",
    "        transform=main_axes.transAxes, # coordinate system used is that of main_axes\n",
    "        style='italic',\n",
    "        fontsize=8 ) \n",
    "\n",
    "lumi = 36.1\n",
    "lumi_used = str(lumi*fraction) # luminosity to write on the plot\n",
    "plt.text(0.2, # x\n",
    "        0.8, # y\n",
    "        '$\\sqrt{s}$=13 TeV,$\\int$L dt = '+lumi_used+' fb$^{-1}$', # text\n",
    "        transform=main_axes.transAxes ) # coordinate system used is that of main_axes \n",
    "\n",
    "# Add a label for the analysis carried out\n",
    "plt.text(0.2, # x\n",
    "        0.74, # y\n",
    "        r'$H \\rightarrow \\gamma\\gamma$', # text \n",
    "        transform=main_axes.transAxes ) # coordinate system used is that of main_axes\n",
    "\n",
    "# draw the legend\n",
    "main_axes.legend(frameon=False, # no box around the legend\n",
    "                loc='lower left' ) # legend location \n",
    "\n",
    "\n",
    "# *************\n",
    "# Data-Bkg plot \n",
    "# *************\n",
    "plt.axes([0.1,0.1,0.85,0.2]) # left, bottom, width, height\n",
    "sub_axes = plt.gca() # get the current axes\n",
    "\n",
    "# set the y axis to be symmetric about Data-Background=0\n",
    "sub_axes.yaxis.set_major_locator( MaxNLocator(nbins='auto', \n",
    "                                            symmetric=True) )\n",
    "\n",
    "# plot Data-Background\n",
    "sub_axes.errorbar(x=bin_centres, y=signal_x, yerr=data_x_errors,\n",
    "                fmt='ko' ) # 'k' means black and 'o' means circles\n",
    "\n",
    "# draw the fit to data\n",
    "sub_axes.plot(bin_centres, # x\n",
    "            out.best_fit-background, # y\n",
    "            '-r' ) # single red line\n",
    "\n",
    "# draw the background only fit\n",
    "sub_axes.plot(bin_centres, # x\n",
    "            background-background, # y\n",
    "            '--r' )  # dashed red line\n",
    "\n",
    "# set the x-axis limits on the sub axes\n",
    "sub_axes.set_xlim( left=xmin, right=xmax ) \n",
    "\n",
    "# separation of x-axis minor ticks\n",
    "sub_axes.xaxis.set_minor_locator( AutoMinorLocator() ) \n",
    "\n",
    "# x-axis label\n",
    "sub_axes.set_xlabel(r'di-photon invariant mass $\\mathrm{m_{\\gamma\\gamma}}$ [GeV]',\n",
    "                    x=1, horizontalalignment='right', \n",
    "                    fontsize=13 ) \n",
    "\n",
    "# set the tick parameters for the sub axes\n",
    "sub_axes.tick_params(which='both', # ticks on both x and y axes\n",
    "                    direction='in', # Put ticks inside and outside the axes\n",
    "                    top=True, # draw ticks on the top axis\n",
    "                    right=True ) # draw ticks on right axis \n",
    "\n",
    "# separation of y-axis minor ticks\n",
    "sub_axes.yaxis.set_minor_locator( AutoMinorLocator() ) \n",
    "\n",
    "# y-axis label on the sub axes\n",
    "sub_axes.set_ylabel( 'Events-Bkg' ) \n",
    "\n",
    "\n",
    "# Generic features for both plots\n",
    "main_axes.yaxis.set_label_coords( -0.09, 1 ) # x,y coordinates of the y-axis label on the main axes\n",
    "sub_axes.yaxis.set_label_coords( -0.09, 0.5 ) # x,y coordinates of the y-axis label on the sub axes make it pandas eligible"
   ]
  },
  {
   "cell_type": "code",
   "execution_count": null,
   "metadata": {
    "tags": []
   },
   "outputs": [],
   "source": []
  },
  {
   "cell_type": "code",
   "execution_count": null,
   "metadata": {
    "tags": []
   },
   "outputs": [],
   "source": [
    "params_dict"
   ]
  },
  {
   "cell_type": "markdown",
   "metadata": {},
   "source": [
    "And there it is—a clear peak in the invariant mass spectrum around 125 GeV, signaling the presence of the Higgs boson! While our main task may be done, there's still more to explore. Here are some additional tasks you can try with this notebook:"
   ]
  },
  {
   "cell_type": "markdown",
   "metadata": {},
   "source": [
    "* Check how many events are being thrown away by each cut in '[Applying a cut](#applying_cut)'\n",
    "* Add more cuts from the [Higgs discovery paper](https://www.sciencedirect.com/science/article/pii/S037026931200857X#se0090) in '[Changing a cut](#changing_cut)' and '[Applying a cut](#applying_cut)'\n",
    "* Find the reduced chi-squared for the fit in '[Plotting](#plotting)'\n",
    "* Find the mean of the fitted Gaussian in '[Plotting](#plotting)'\n",
    "* Find the width of the fitted Gaussian in '[Plotting](#plotting)'\n",
    "* Try different initial guesses for the parameters of the fit in '[Plotting](#plotting)'\n",
    "* Try different functions for the fit in '[Plotting](#plotting)'\n",
    "* Your idea!"
   ]
  },
  {
   "cell_type": "markdown",
   "metadata": {},
   "source": []
  },
  {
   "cell_type": "code",
   "execution_count": null,
   "metadata": {},
   "outputs": [],
   "source": []
  },
  {
   "cell_type": "code",
   "execution_count": null,
   "metadata": {},
   "outputs": [],
   "source": []
  },
  {
   "cell_type": "code",
   "execution_count": null,
   "metadata": {},
   "outputs": [],
   "source": []
  },
  {
   "cell_type": "code",
   "execution_count": null,
   "metadata": {},
   "outputs": [],
   "source": []
  },
  {
   "cell_type": "code",
   "execution_count": null,
   "metadata": {},
   "outputs": [],
   "source": []
  },
  {
   "cell_type": "code",
   "execution_count": null,
   "metadata": {},
   "outputs": [],
   "source": []
  },
  {
   "cell_type": "code",
   "execution_count": null,
   "metadata": {},
   "outputs": [],
   "source": []
  },
  {
   "cell_type": "code",
   "execution_count": null,
   "metadata": {},
   "outputs": [],
   "source": []
  }
 ],
 "metadata": {
  "kernelspec": {
   "display_name": "Python 3 (ipykernel)",
   "language": "python",
   "name": "python3"
  },
  "language_info": {
   "codemirror_mode": {
    "name": "ipython",
    "version": 3
   },
   "file_extension": ".py",
   "mimetype": "text/x-python",
   "name": "python",
   "nbconvert_exporter": "python",
   "pygments_lexer": "ipython3",
   "version": "3.11.5"
  }
 },
 "nbformat": 4,
 "nbformat_minor": 4
}
