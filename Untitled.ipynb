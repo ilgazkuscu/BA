{
 "cells": [
  {
   "cell_type": "code",
   "execution_count": null,
   "id": "24abb1db",
   "metadata": {},
   "outputs": [],
   "source": []
  },
  {
   "cell_type": "code",
   "execution_count": 2,
   "id": "b05274f4",
   "metadata": {},
   "outputs": [],
   "source": [
    "new_tuple_path = \"/project/etp1/dkoch/ATLASOpenData-test/ttbar-samples-with-weights/\"\n",
    "sample ='user.garciarm.39227472._000020.output_ntup.root' "
   ]
  },
  {
   "cell_type": "code",
   "execution_count": 3,
   "id": "8a176f7b",
   "metadata": {},
   "outputs": [],
   "source": [
    "import uproot\n",
    "import awkward as ak"
   ]
  },
  {
   "cell_type": "code",
   "execution_count": 4,
   "id": "3ae68efb",
   "metadata": {},
   "outputs": [],
   "source": [
    "tree = uproot.open(new_tuple_path + sample)[\"analysis\"] #wie fkt analysis? "
   ]
  },
  {
   "cell_type": "code",
   "execution_count": 306,
   "id": "a8d625f3",
   "metadata": {
    "scrolled": false
   },
   "outputs": [
    {
     "data": {
      "text/html": [
       "<pre>[3.5e+08,\n",
       " 3.5e+08,\n",
       " 3.5e+08,\n",
       " 3.5e+08,\n",
       " 3.5e+08,\n",
       " 3.5e+08,\n",
       " 3.5e+08,\n",
       " 3.5e+08,\n",
       " 3.5e+08,\n",
       " 3.5e+08,\n",
       " ...,\n",
       " 3.5e+08,\n",
       " 3.5e+08,\n",
       " 3.5e+08,\n",
       " 3.5e+08,\n",
       " 3.5e+08,\n",
       " 3.5e+08,\n",
       " 3.5e+08,\n",
       " 3.5e+08,\n",
       " 3.5e+08]\n",
       "----------------------\n",
       "type: 326752 * float32</pre>"
      ],
      "text/plain": [
       "<Array [3.5e+08, 3.5e+08, ..., 3.5e+08, 3.5e+08] type='326752 * float32'>"
      ]
     },
     "execution_count": 306,
     "metadata": {},
     "output_type": "execute_result"
    }
   ],
   "source": [
    "tree[\"initial_sum_of_weights\"].array()\n"
   ]
  },
  {
   "cell_type": "code",
   "execution_count": 307,
   "id": "132e63cf",
   "metadata": {},
   "outputs": [
    {
     "data": {
      "text/html": [
       "<pre>[730,\n",
       " 730,\n",
       " 730,\n",
       " 730,\n",
       " 730,\n",
       " 730,\n",
       " 730,\n",
       " 730,\n",
       " 730,\n",
       " 730,\n",
       " ...,\n",
       " 730,\n",
       " 730,\n",
       " 730,\n",
       " 730,\n",
       " 730,\n",
       " 730,\n",
       " 730,\n",
       " 730,\n",
       " 730]\n",
       "----------------------\n",
       "type: 326752 * float32</pre>"
      ],
      "text/plain": [
       "<Array [730, 730, 730, 730, ..., 730, 730, 730, 730] type='326752 * float32'>"
      ]
     },
     "execution_count": 307,
     "metadata": {},
     "output_type": "execute_result"
    }
   ],
   "source": [
    "tree[\"xsec\"].array()"
   ]
  },
  {
   "cell_type": "code",
   "execution_count": null,
   "id": "b0e84826",
   "metadata": {},
   "outputs": [],
   "source": []
  },
  {
   "cell_type": "code",
   "execution_count": null,
   "id": "0f2e7400",
   "metadata": {},
   "outputs": [],
   "source": [
    "tree.keys()"
   ]
  },
  {
   "cell_type": "code",
   "execution_count": 309,
   "id": "ce3576b4",
   "metadata": {},
   "outputs": [
    {
     "data": {
      "text/plain": [
       "['ScaleFactor_PILEUP',\n",
       " 'mcWeight',\n",
       " 'xsec',\n",
       " 'trigE',\n",
       " 'trigM',\n",
       " 'ScaleFactor_BTAG',\n",
       " 'jet_n',\n",
       " 'jet_pt',\n",
       " 'jet_eta',\n",
       " 'jet_phi',\n",
       " 'jet_e',\n",
       " 'jet_DL1d77_isBtagged',\n",
       " 'jet_jvt',\n",
       " 'largeRJet_n',\n",
       " 'largeRJet_pt',\n",
       " 'largeRJet_eta',\n",
       " 'largeRJet_phi',\n",
       " 'largeRJet_e',\n",
       " 'largeRJet_m',\n",
       " 'largeRJet_D2',\n",
       " 'ScaleFactor_ELE',\n",
       " 'ScaleFactor_MUON',\n",
       " 'lep_n',\n",
       " 'lep_type',\n",
       " 'lep_pt',\n",
       " 'lep_eta',\n",
       " 'lep_phi',\n",
       " 'lep_e',\n",
       " 'lep_charge',\n",
       " 'lep_ptvarcone30',\n",
       " 'lep_topoetcone20',\n",
       " 'lep_z0',\n",
       " 'lep_d0',\n",
       " 'lep_d0sig',\n",
       " 'lep_isTight',\n",
       " 'lep_isTightID',\n",
       " 'lep_isTightIso',\n",
       " 'ScaleFactor_PHOTON',\n",
       " 'photon_n',\n",
       " 'photon_pt',\n",
       " 'photon_eta',\n",
       " 'photon_phi',\n",
       " 'photon_e',\n",
       " 'photon_ptcone20',\n",
       " 'photon_topoetcone40',\n",
       " 'photon_isTight',\n",
       " 'photon_isTightID',\n",
       " 'photon_isTightIso',\n",
       " 'ScaleFactor_TAU',\n",
       " 'tau_n',\n",
       " 'tau_pt',\n",
       " 'tau_eta',\n",
       " 'tau_phi',\n",
       " 'tau_e',\n",
       " 'tau_charge',\n",
       " 'tau_nTracks',\n",
       " 'tau_isTight',\n",
       " 'tau_RNNJetScore',\n",
       " 'tau_RNNEleScore',\n",
       " 'met',\n",
       " 'met_phi',\n",
       " 'met_mpx',\n",
       " 'met_mpy',\n",
       " 'initial_events',\n",
       " 'initial_sum_of_weights',\n",
       " 'initial_sum_of_weights_squared']"
      ]
     },
     "execution_count": 309,
     "metadata": {},
     "output_type": "execute_result"
    }
   ],
   "source": [
    "path = \"/project/etp1/dkoch/ATLASOpenData-test/ttbar-samples-with-weights/user.garciarm.39227472._000001.output_ntup.root\"\n",
    "tree = uproot.open(path)[\"analysis\"]\n",
    "tree.keys()\n",
    "tree1 =\n"
   ]
  },
  {
   "cell_type": "code",
   "execution_count": null,
   "id": "1b4dc822",
   "metadata": {},
   "outputs": [],
   "source": []
  }
 ],
 "metadata": {
  "kernelspec": {
   "display_name": "Python 3 (ipykernel)",
   "language": "python",
   "name": "python3"
  },
  "language_info": {
   "codemirror_mode": {
    "name": "ipython",
    "version": 3
   },
   "file_extension": ".py",
   "mimetype": "text/x-python",
   "name": "python",
   "nbconvert_exporter": "python",
   "pygments_lexer": "ipython3",
   "version": "3.9.7"
  }
 },
 "nbformat": 4,
 "nbformat_minor": 5
}
