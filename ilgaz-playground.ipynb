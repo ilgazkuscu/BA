{
 "cells": [
  {
   "cell_type": "code",
   "execution_count": 1,
   "metadata": {},
   "outputs": [],
   "source": [
    "import uproot\n",
    "import awkward as ak\n",
    "from pathlib import Path\n",
    "import time\n",
    "import matplotlib.pyplot as plt"
   ]
  },
  {
   "cell_type": "code",
   "execution_count": 2,
   "metadata": {},
   "outputs": [],
   "source": [
    "data_dir = Path(\"/project/etp1/dkoch/ATLASOpenData-test\")\n",
    "samples_new = {\n",
    "    \"ttbar\": {\n",
    "        \"list\": [\n",
    "            data_dir / \"ttbar-samples-with-weights/user.garciarm.39227472._000001.output_ntup.root\",\n",
    "            data_dir / \"ttbar-samples-with-weights/user.garciarm.39227472._000002.output_ntup.root\",\n",
    "            data_dir / \"ttbar-samples-with-weights/user.garciarm.39227472._000003.output_ntup.root\",\n",
    "            data_dir / \"ttbar-samples-with-weights/user.garciarm.39227472._000004.output_ntup.root\",\n",
    "            data_dir / \"ttbar-samples-with-weights/user.garciarm.39227472._000005.output_ntup.root\",\n",
    "            data_dir / \"ttbar-samples-with-weights/user.garciarm.39227472._000008.output_ntup.root\",\n",
    "            data_dir / \"ttbar-samples-with-weights/user.garciarm.39227472._000009.output_ntup.root\",\n",
    "            data_dir / \"ttbar-samples-with-weights/user.garciarm.39227472._000010.output_ntup.root\",\n",
    "            data_dir / \"ttbar-samples-with-weights/user.garciarm.39227472._000011.output_ntup.root\",\n",
    "            data_dir / \"ttbar-samples-with-weights/user.garciarm.39227472._000012.output_ntup.root\",\n",
    "            data_dir / \"ttbar-samples-with-weights/user.garciarm.39227472._000013.output_ntup.root\",\n",
    "            data_dir / \"ttbar-samples-with-weights/user.garciarm.39227472._000014.output_ntup.root\",\n",
    "            data_dir / \"ttbar-samples-with-weights/user.garciarm.39227472._000016.output_ntup.root\",\n",
    "            data_dir / \"ttbar-samples-with-weights/user.garciarm.39227472._000017.output_ntup.root\",\n",
    "            data_dir / \"ttbar-samples-with-weights/user.garciarm.39227472._000018.output_ntup.root\",\n",
    "            data_dir / \"ttbar-samples-with-weights/user.garciarm.39227472._000019.output_ntup.root\",\n",
    "            data_dir / \"ttbar-samples-with-weights/user.garciarm.39227472._000020.output_ntup.root\",\n",
    "        ]\n",
    "    }\n",
    "}\n",
    "treename_new = \"analysis\"\n",
    "branches_new = [\n",
    "    \"lep_pt\",\"lep_eta\",\"lep_phi\",\n",
    "    \"lep_e\",\"lep_charge\",\"lep_type\", \"lep_n\",\n",
    "    \"mcWeight\",\n",
    "    # \"scaleFactor_PILEUP\",\n",
    "    # \"scaleFactor_ELE\",\n",
    "    # \"scaleFactor_MUON\",\n",
    "]\n",
    "\n",
    "samples_old = {\n",
    "    \"ttbar\": {\n",
    "        \"list\": [\n",
    "            \"https://atlas-opendata.web.cern.ch/atlas-opendata/samples/2020/2lep/MC/mc_410000.ttbar_lep.2lep.root\",\n",
    "        ]\n",
    "    }\n",
    "}\n",
    "treename_old = \"mini\"\n",
    "branches_old = [\n",
    "    \"lep_pt\",\"lep_eta\",\"lep_phi\",\n",
    "    \"lep_E\",\"lep_charge\",\"lep_type\", \"lep_n\",\n",
    "    \"mcWeight\", \"scaleFactor_PILEUP\",\n",
    "    \"scaleFactor_ELE\",\"scaleFactor_MUON\",\n",
    "    \"scaleFactor_LepTRIGGER\",\n",
    "]"
   ]
  },
  {
   "cell_type": "code",
   "execution_count": 3,
   "metadata": {},
   "outputs": [],
   "source": [
    "def get_new_data(samples, treename, branches):\n",
    "    data = {}\n",
    "    for s in samples:\n",
    "        print(f\"processing {s} samples\")\n",
    "        chunks = []\n",
    "        for chunk in uproot.iterate({file: treename for file in samples[s][\"list\"]}, expressions=branches):\n",
    "            n_in = len(chunk)\n",
    "            chunk = chunk[chunk.lep_n>=2]\n",
    "            n_out = len(chunk)\n",
    "            print(f\"  processed {n_in} events, kept {n_out}\")\n",
    "            chunks.append(chunk)\n",
    "        data[s] = ak.concatenate(chunks)\n",
    "    return data"
   ]
  },
  {
   "cell_type": "code",
   "execution_count": 4,
   "metadata": {},
   "outputs": [
    {
     "name": "stdout",
     "output_type": "stream",
     "text": [
      "processing ttbar samples\n",
      "  processed 2264205 events, kept 1139696\n",
      "  processed 718296 events, kept 361488\n",
      "  processed 2265261 events, kept 1139132\n",
      "  processed 675825 events, kept 340396\n",
      "  processed 2264363 events, kept 1139690\n",
      "  processed 676136 events, kept 339811\n",
      "  processed 2264276 events, kept 1140493\n",
      "  processed 698102 events, kept 351868\n",
      "  processed 1232444 events, kept 620306\n",
      "  processed 2264517 events, kept 1140644\n",
      "  processed 624341 events, kept 313797\n",
      "  processed 2262035 events, kept 1138823\n",
      "  processed 680526 events, kept 342593\n",
      "  processed 2115044 events, kept 1063854\n",
      "  processed 2263065 events, kept 1139641\n",
      "  processed 308967 events, kept 155439\n",
      "  processed 2262731 events, kept 1138381\n",
      "  processed 1437536 events, kept 723382\n",
      "  processed 2261535 events, kept 1139988\n",
      "  processed 1360815 events, kept 684508\n",
      "  processed 517115 events, kept 260610\n",
      "  processed 2037013 events, kept 1024627\n",
      "  processed 1443472 events, kept 725252\n",
      "  processed 2010723 events, kept 1012302\n",
      "  processed 1988473 events, kept 1001701\n",
      "  processed 326752 events, kept 164409\n",
      "took 31.93005657196045s\n"
     ]
    }
   ],
   "source": [
    "start = time.time()\n",
    "data_new = get_new_data(samples_new, treename_new, branches_new)\n",
    "end = time.time()\n",
    "print(f\"took {end - start}s\")"
   ]
  },
  {
   "cell_type": "code",
   "execution_count": 5,
   "metadata": {},
   "outputs": [
    {
     "name": "stdout",
     "output_type": "stream",
     "text": [
      "processing ttbar samples\n",
      "  processed 1847000 events, kept 1847000\n",
      "  processed 1063539 events, kept 1063539\n",
      "took 33.059284687042236s\n"
     ]
    }
   ],
   "source": [
    "start = time.time()\n",
    "data_old = get_new_data(samples_old, treename_old, branches_old)\n",
    "end = time.time()\n",
    "print(f\"took {end - start}s\")"
   ]
  },
  {
   "cell_type": "code",
   "execution_count": 6,
   "metadata": {},
   "outputs": [
    {
     "data": {
      "image/png": "[encoded data removed]",
      "text/plain": [
       "<Figure size 864x648 with 1 Axes>"
      ]
     },
     "metadata": {
      "needs_background": "light"
     },
     "output_type": "display_data"
    }
   ],
   "source": [
    "plt.figure(figsize=(12, 9))\n",
    "for sample in samples_new:\n",
    "    plt.hist(ak.flatten(data_new[sample].lep_e), range=(0, 800), bins=50, label=f\"{sample} new\", density=True, histtype=\"step\")\n",
    "    plt.hist(ak.flatten(data_old[sample].lep_E)/1000, range=(0, 800), bins=50, label=f\"{sample} old\", density=True, histtype=\"step\")\n",
    "plt.legend()\n",
    "plt.title(\"lep_e, no weights\")\n",
    "plt.xlabel(\"E [GeV]\")\n",
    "plt.show()"
   ]
  }
 ],
 "metadata": {
  "kernelspec": {
   "display_name": "computing",
   "language": "python",
   "name": "python3"
  },
  "language_info": {
   "codemirror_mode": {
    "name": "ipython",
    "version": 3
   },
   "file_extension": ".py",
   "mimetype": "text/x-python",
   "name": "python",
   "nbconvert_exporter": "python",
   "pygments_lexer": "ipython3",
   "version": "3.9.7"
  }
 },
 "nbformat": 4,
 "nbformat_minor": 2
}
