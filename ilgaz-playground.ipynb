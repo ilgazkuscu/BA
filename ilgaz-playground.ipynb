{
 "cells": [
  {
   "cell_type": "code",
   "execution_count": 46,
   "metadata": {},
   "outputs": [],
   "source": [
    "\n",
    "import awkward as ak\n",
    "from pathlib import Path\n",
    "import time\n",
    "import matplotlib.pyplot as plt\n",
    "import uproot\n",
    "import infofile, newinfofile\n",
    "lumi = 10 #for Data A/B/C/D"
   ]
  },
  {
   "cell_type": "code",
   "execution_count": 47,
   "metadata": {},
   "outputs": [],
   "source": [
    "data_dir = Path(\"/project/etp1/dkoch/ATLASOpenData-test\")\n",
    "samples_new = {\n",
    "    \"ttbar\": {\n",
    "        \"list\": [\n",
    "            data_dir / \"ttbar-samples-with-weights/user.garciarm.39227472._000001.output_ntup.root\",\n",
    "            data_dir / \"ttbar-samples-with-weights/user.garciarm.39227472._000002.output_ntup.root\",\n",
    "            data_dir / \"ttbar-samples-with-weights/user.garciarm.39227472._000003.output_ntup.root\",\n",
    "            data_dir / \"ttbar-samples-with-weights/user.garciarm.39227472._000004.output_ntup.root\",\n",
    "            data_dir / \"ttbar-samples-with-weights/user.garciarm.39227472._000005.output_ntup.root\",\n",
    "            data_dir / \"ttbar-samples-with-weights/user.garciarm.39227472._000008.output_ntup.root\",\n",
    "            data_dir / \"ttbar-samples-with-weights/user.garciarm.39227472._000009.output_ntup.root\",\n",
    "            data_dir / \"ttbar-samples-with-weights/user.garciarm.39227472._000010.output_ntup.root\",\n",
    "            data_dir / \"ttbar-samples-with-weights/user.garciarm.39227472._000011.output_ntup.root\",\n",
    "            data_dir / \"ttbar-samples-with-weights/user.garciarm.39227472._000012.output_ntup.root\",\n",
    "            data_dir / \"ttbar-samples-with-weights/user.garciarm.39227472._000013.output_ntup.root\",\n",
    "            data_dir / \"ttbar-samples-with-weights/user.garciarm.39227472._000014.output_ntup.root\",\n",
    "            data_dir / \"ttbar-samples-with-weights/user.garciarm.39227472._000016.output_ntup.root\",\n",
    "            data_dir / \"ttbar-samples-with-weights/user.garciarm.39227472._000017.output_ntup.root\",\n",
    "            data_dir / \"ttbar-samples-with-weights/user.garciarm.39227472._000018.output_ntup.root\",\n",
    "            data_dir / \"ttbar-samples-with-weights/user.garciarm.39227472._000019.output_ntup.root\",\n",
    "            data_dir / \"ttbar-samples-with-weights/user.garciarm.39227472._000020.output_ntup.root\",\n",
    "        ]\n",
    "    }\n",
    "}\n",
    "treename_new = \"analysis\"\n",
    "branches_new = [\n",
    "    \"lep_pt\",\"lep_eta\",\"lep_phi\",\n",
    "    \"lep_e\",\"lep_charge\",\"lep_type\", \"lep_n\",\n",
    "    \"mcWeight\",'jet_n',\n",
    " 'jet_pt',\n",
    " 'jet_eta',\n",
    " 'jet_phi',\n",
    " 'jet_e',\n",
    "    \n",
    " 'mcWeight',\n",
    "      \"ScaleFactor_PILEUP\",\n",
    "     \"ScaleFactor_ELE\",\n",
    "     \"ScaleFactor_MUON\",\n",
    " \n",
    "    \n",
    "   \n",
    "]\n",
    "#Previous Fields:\n",
    "\n",
    "# treename_new = \"analysis\"\n",
    "# branches_new = [\n",
    "#     \"lep_pt\",\"lep_eta\",\"lep_phi\",\n",
    "#     \"lep_e\",\"lep_charge\",\"lep_type\", \"lep_n\",\n",
    "#     \"mcWeight\",\n",
    "#     # \"scaleFactor_PILEUP\",\n",
    "#     # \"scaleFactor_ELE\",\n",
    "#     # \"scaleFactor_MUON\",\n",
    "# ]\n",
    "\n",
    "samples_old = {\n",
    "    \"ttbar\": {\n",
    "        \"list\": [\n",
    "            # \"https://atlas-opendata.web.cern.ch/atlas-opendata/samples/2020/2lep/MC/mc_410000.ttbar_lep.2lep.root\",\n",
    "            '/home/i/I.Kuscu/bachelorarbeit/file_test/mc_410000.ttbar_lep.2lep.root'\n",
    "        ]\n",
    "    }\n",
    "}\n",
    "treename_old = \"mini\"\n",
    "branches_old = [\n",
    "    \"lep_pt\",\"lep_eta\",\"lep_phi\",\n",
    "    \"lep_E\",\"lep_charge\",\"lep_type\", \"lep_n\",\n",
    "    \"mcWeight\", \"scaleFactor_PILEUP\",\n",
    "    \"scaleFactor_ELE\",\"scaleFactor_MUON\",\n",
    "    \"scaleFactor_LepTRIGGER\",'jet_n',\n",
    " 'jet_pt',\n",
    " 'jet_eta',\n",
    " 'jet_phi',\n",
    " 'jet_E',\n",
    " 'mcWeight',\n",
    " 'scaleFactor_PILEUP',\n",
    " 'scaleFactor_ELE',\n",
    " 'scaleFactor_MUON',\n",
    "\n",
    "#Previous Fields:\n",
    "\n",
    "    \n",
    "# treename_old = \"mini\"\n",
    "# branches_old = [\n",
    "#     \"lep_pt\",\"lep_eta\",\"lep_phi\",\n",
    "#     \"lep_E\",\"lep_charge\",\"lep_type\", \"lep_n\",\n",
    "#     \"mcWeight\", \"scaleFactor_PILEUP\",\n",
    "#     \"scaleFactor_ELE\",\"scaleFactor_MUON\",\n",
    "#     \"scaleFactor_LepTRIGGER\",\n",
    "    \n",
    "]"
   ]
  },
  {
   "cell_type": "code",
   "execution_count": 49,
   "metadata": {},
   "outputs": [],
   "source": [
    "def calc_weight(xsec_weight, events):\n",
    "    return (\n",
    "        #xsec_weight ohne xsec\n",
    "         events.mcWeight\n",
    "        * events.scaleFactor_PILEUP\n",
    "        * events.scaleFactor_ELE\n",
    "        * events.scaleFactor_MUON \n",
    "        * events.scaleFactor_LepTRIGGER\n",
    "    )"
   ]
  },
  {
   "cell_type": "code",
   "execution_count": 50,
   "metadata": {},
   "outputs": [],
   "source": [
    "def get_new_data(samples, treename, branches):\n",
    "    data = {}\n",
    "    for s in samples:\n",
    "        print(f\"processing {s} samples\")\n",
    "        chunks = []\n",
    "        for chunk in uproot.iterate({file: treename for file in samples[s][\"list\"]}, expressions=branches):\n",
    "            n_in = len(chunk)\n",
    "            chunk = chunk[chunk.lep_n>=2]\n",
    "            n_out = len(chunk)\n",
    "            print(f\"  processed {n_in} events, kept {n_out}\")\n",
    "            chunks.append(chunk)\n",
    "        data[s] = ak.concatenate(chunks)\n",
    "    return data"
   ]
  },
  {
   "cell_type": "code",
   "execution_count": 51,
   "metadata": {
    "scrolled": true
   },
   "outputs": [
    {
     "name": "stdout",
     "output_type": "stream",
     "text": [
      "processing ttbar samples\n",
      "  processed 1074846 events, kept 541480\n",
      "  processed 1074846 events, kept 540355\n",
      "  processed 832809 events, kept 419349\n",
      "  processed 1074963 events, kept 540243\n",
      "  processed 1074963 events, kept 540783\n",
      "  processed 791160 events, kept 398502\n",
      "  processed 1074560 events, kept 541555\n",
      "  processed 1074560 events, kept 540221\n",
      "  processed 791379 events, kept 397725\n",
      "  processed 1074677 events, kept 541781\n",
      "  processed 1074677 events, kept 540924\n",
      "  processed 813024 events, kept 409656\n",
      "  processed 1074596 events, kept 540778\n",
      "  processed 157848 events, kept 79528\n",
      "  processed 1074590 events, kept 541201\n",
      "  processed 1074590 events, kept 541051\n",
      "  processed 739678 events, kept 372189\n",
      "  processed 1073597 events, kept 541031\n",
      "  processed 1073597 events, kept 540219\n",
      "  processed 795367 events, kept 400166\n",
      "  processed 1074141 events, kept 540256\n",
      "  processed 1040903 events, kept 523598\n",
      "  processed 1073938 events, kept 540866\n",
      "  processed 1073938 events, kept 540739\n",
      "  processed 424156 events, kept 213475\n",
      "  processed 1074154 events, kept 541213\n",
      "  processed 1074154 events, kept 539639\n",
      "  processed 1074154 events, kept 540305\n",
      "  processed 477805 events, kept 240606\n",
      "  processed 1073574 events, kept 541187\n",
      "  processed 1073574 events, kept 541302\n",
      "  processed 1073574 events, kept 540071\n",
      "  processed 401628 events, kept 201936\n",
      "  processed 517115 events, kept 260610\n",
      "  processed 1074198 events, kept 539947\n",
      "  processed 962815 events, kept 484680\n",
      "  processed 1074052 events, kept 539807\n",
      "  processed 369420 events, kept 185445\n",
      "  processed 1074481 events, kept 540726\n",
      "  processed 936242 events, kept 471576\n",
      "  processed 1074286 events, kept 541218\n",
      "  processed 914187 events, kept 460483\n",
      "  processed 326752 events, kept 164409\n",
      "took 155.48283338546753s\n"
     ]
    }
   ],
   "source": [
    "start = time.time()\n",
    "data_new = get_new_data(samples_new, treename_new, branches_new)\n",
    "end = time.time()\n",
    "print(f\"took {end - start}s\")"
   ]
  },
  {
   "cell_type": "code",
   "execution_count": 52,
   "metadata": {},
   "outputs": [
    {
     "name": "stdout",
     "output_type": "stream",
     "text": [
      "processing ttbar samples\n",
      "  processed 863615 events, kept 863615\n",
      "  processed 863615 events, kept 863615\n",
      "  processed 863615 events, kept 863615\n",
      "  processed 319694 events, kept 319694\n",
      "took 9.215880155563354s\n"
     ]
    }
   ],
   "source": [
    "start = time.time()\n",
    "data_old = get_new_data(samples_old, treename_old, branches_old)\n",
    "end = time.time()\n",
    "print(f\"took {end - start}s\")"
   ]
  },
  {
   "cell_type": "code",
   "execution_count": 108,
   "metadata": {},
   "outputs": [
    {
     "data": {
      "text/html": [
       "<pre>[782,\n",
       " 645,\n",
       " -766,\n",
       " 739,\n",
       " -711,\n",
       " 726,\n",
       " 702,\n",
       " 769,\n",
       " 695,\n",
       " 744,\n",
       " ...,\n",
       " 710,\n",
       " 44.8,\n",
       " 719,\n",
       " 879,\n",
       " 747,\n",
       " 843,\n",
       " 792,\n",
       " 766,\n",
       " 781]\n",
       "------------------------\n",
       "type: 19742831 * float32</pre>"
      ],
      "text/plain": [
       "<Array [782, 645, -766, 739, ..., 843, 792, 766, 781] type='19742831 * float32'>"
      ]
     },
     "execution_count": 108,
     "metadata": {},
     "output_type": "execute_result"
    }
   ],
   "source": [
    "data_new[sample].mcWeight*data_new[sample].ScaleFactor_PILEUP *data_new[sample].ScaleFactor_ELE *data_new[sample].ScaleFactor_MUON"
   ]
  },
  {
   "cell_type": "code",
   "execution_count": 107,
   "metadata": {},
   "outputs": [
    {
     "data": {
      "text/html": [
       "<pre>[0.532,\n",
       " 0.576,\n",
       " 0.579,\n",
       " 1.01,\n",
       " 1.21,\n",
       " 1.15,\n",
       " 0,\n",
       " 0.714,\n",
       " 0.565,\n",
       " 0.999,\n",
       " ...,\n",
       " 0,\n",
       " 0.603,\n",
       " 0.823,\n",
       " 0.487,\n",
       " 1.19,\n",
       " 0.529,\n",
       " 0.544,\n",
       " 0,\n",
       " 0.184]\n",
       "-----------------------\n",
       "type: 2910539 * float32</pre>"
      ],
      "text/plain": [
       "<Array [0.532, 0.576, 0.579, ..., 0.544, 0, 0.184] type='2910539 * float32'>"
      ]
     },
     "execution_count": 107,
     "metadata": {},
     "output_type": "execute_result"
    }
   ],
   "source": [
    "data_old[sample].mcWeight*data_old[sample].scaleFactor_PILEUP*data_old[sample].scaleFactor_ELE*data_old[sample].scaleFactor_MUON"
   ]
  },
  {
   "cell_type": "code",
   "execution_count": 141,
   "metadata": {},
   "outputs": [
    {
     "data": {
      "text/html": [
       "<pre>[1,\n",
       " 1,\n",
       " 1,\n",
       " 1,\n",
       " 1,\n",
       " 1,\n",
       " 1,\n",
       " 1,\n",
       " 1,\n",
       " 1,\n",
       " ...,\n",
       " 1,\n",
       " 1,\n",
       " 1,\n",
       " 1,\n",
       " 1,\n",
       " 1,\n",
       " 1,\n",
       " 1,\n",
       " 1]\n",
       "-----------------------\n",
       "type: 2910539 * float32</pre>"
      ],
      "text/plain": [
       "<Array [1, 1, 1, 1, 1, 1, 1, ..., 1, 1, 1, 1, 1, 1, 1] type='2910539 * float32'>"
      ]
     },
     "execution_count": 141,
     "metadata": {},
     "output_type": "execute_result"
    }
   ],
   "source": [
    "data_old[sample].scaleFactor_PILEUP\n",
    "data_old[sample].scaleFactor_ELE\n",
    "data_old[sample].scaleFactor_MUON\n",
    "data_old[sample].mcWeight"
   ]
  },
  {
   "cell_type": "code",
   "execution_count": 142,
   "metadata": {},
   "outputs": [
    {
     "data": {
      "text/html": [
       "<pre>[736,\n",
       " 736,\n",
       " 736,\n",
       " 736,\n",
       " 736,\n",
       " 736,\n",
       " 736,\n",
       " 736,\n",
       " 736,\n",
       " 736,\n",
       " ...,\n",
       " 735,\n",
       " 735,\n",
       " 735,\n",
       " 735,\n",
       " 735,\n",
       " 735,\n",
       " 735,\n",
       " 735,\n",
       " 735]\n",
       "------------------------\n",
       "type: 19742831 * float32</pre>"
      ],
      "text/plain": [
       "<Array [736, 736, 736, 736, ..., 735, 735, 735, 735] type='19742831 * float32'>"
      ]
     },
     "execution_count": 142,
     "metadata": {},
     "output_type": "execute_result"
    }
   ],
   "source": [
    "data_new[sample].ScaleFactor_PILEUP\n",
    "data_new[sample].ScaleFactor_ELE\n",
    "data_new[sample].ScaleFactor_MUON\n",
    "data_new[sample].mcWeight"
   ]
  },
  {
   "cell_type": "code",
   "execution_count": 95,
   "metadata": {},
   "outputs": [
    {
     "data": {
      "text/html": [
       "<pre>[1,\n",
       " 1,\n",
       " 1,\n",
       " 1,\n",
       " 1,\n",
       " 1,\n",
       " 1,\n",
       " 1,\n",
       " 1,\n",
       " 1,\n",
       " ...,\n",
       " 1,\n",
       " 1,\n",
       " 1,\n",
       " 1,\n",
       " 1,\n",
       " 1,\n",
       " 1,\n",
       " 1,\n",
       " 1]\n",
       "-----------------------\n",
       "type: 2910539 * float32</pre>"
      ],
      "text/plain": [
       "<Array [1, 1, 1, 1, 1, 1, 1, ..., 1, 1, 1, 1, 1, 1, 1] type='2910539 * float32'>"
      ]
     },
     "execution_count": 95,
     "metadata": {},
     "output_type": "execute_result"
    }
   ],
   "source": [
    "data_old[sample].mcWeight"
   ]
  },
  {
   "cell_type": "code",
   "execution_count": 132,
   "metadata": {},
   "outputs": [
    {
     "data": {
      "text/html": [
       "<pre>[[1.02e+05, 4.58e+04],\n",
       " [2.99e+04, 1.62e+05],\n",
       " [-9.34e+04, -2.67e+04],\n",
       " [2.67e+04, 2.82e+04],\n",
       " [-4.84e+04, -1.19e+05],\n",
       " [9e+04, 6.93e+04],\n",
       " [9.82e+04, 3.02e+04],\n",
       " [5.85e+04, 1.73e+04],\n",
       " [6.45e+04, 1.7e+04],\n",
       " [3.05e+04, 1.52e+05],\n",
       " ...,\n",
       " [4.69e+04, 3.33e+04],\n",
       " [2.79e+03, 2.48e+03],\n",
       " [5.38e+04, 4.14e+04],\n",
       " [2.35e+04, 1.09e+05],\n",
       " [2.03e+04, 3.46e+04],\n",
       " [1.62e+04, 7.83e+04, 1.9e+05],\n",
       " [5.19e+04, 2.25e+05],\n",
       " [4.03e+04, 6.45e+04],\n",
       " [4.14e+04, 1.99e+05]]\n",
       "-------------------------------\n",
       "type: 19742831 * var * float32</pre>"
      ],
      "text/plain": [
       "<Array [[1.02e+05, 4.58e+04], ..., [...]] type='19742831 * var * float32'>"
      ]
     },
     "execution_count": 132,
     "metadata": {},
     "output_type": "execute_result"
    }
   ],
   "source": [
    "data_new[sample].lep_e*data_new[sample].mcWeight*data_new[sample].ScaleFactor_PILEUP*data_new[sample].ScaleFactor_ELE*data_new[sample].ScaleFactor_MUON"
   ]
  },
  {
   "cell_type": "code",
   "execution_count": 133,
   "metadata": {},
   "outputs": [
    {
     "data": {
      "text/html": [
       "<pre>[[4.24e+04, 1.94e+04],\n",
       " [4.08e+04, 2.71e+04],\n",
       " [1.08e+05, 6.1e+04],\n",
       " [6.32e+04, 3.73e+04],\n",
       " [7.15e+04, 2.52e+04],\n",
       " [1.18e+05, 4.02e+04],\n",
       " [0, 0],\n",
       " [1.33e+05, 1.51e+05],\n",
       " [2.34e+04, 1.31e+04],\n",
       " [4.95e+04, 1.86e+04],\n",
       " ...,\n",
       " [0, 0],\n",
       " [3.38e+04, 3.9e+04],\n",
       " [5.27e+04, 3.15e+04],\n",
       " [1.16e+05, 1.77e+04],\n",
       " [3.43e+05, 3.03e+04],\n",
       " [7.32e+04, 4.44e+04],\n",
       " [4.2e+04, 1.93e+04],\n",
       " [0, 0],\n",
       " [1.52e+04, 1.61e+03]]\n",
       "-----------------------------\n",
       "type: 2910539 * var * float32</pre>"
      ],
      "text/plain": [
       "<Array [[4.24e+04, 1.94e+04], [...], ..., [...]] type='2910539 * var * float32'>"
      ]
     },
     "execution_count": 133,
     "metadata": {},
     "output_type": "execute_result"
    }
   ],
   "source": [
    "data_old[sample].lep_E*data_old[sample].mcWeight*data_old[sample].scaleFactor_PILEUP*data_old[sample].scaleFactor_ELE*data_old[sample].scaleFactor_MUON"
   ]
  },
  {
   "cell_type": "code",
   "execution_count": 143,
   "metadata": {},
   "outputs": [
    {
     "data": {
      "image/png": "[encoded data removed]",
      "text/plain": [
       "<Figure size 864x648 with 1 Axes>"
      ]
     },
     "metadata": {
      "needs_background": "light"
     },
     "output_type": "display_data"
    }
   ],
   "source": [
    "plt.figure(figsize=(12, 9))\n",
    "for sample in samples_new:\n",
    "    plt.hist(ak.flatten(data_new[sample].lep_e*\n",
    "                        data_new[sample].mcWeight*\n",
    "                        data_new[sample].ScaleFactor_PILEUP*\n",
    "                        data_new[sample].ScaleFactor_ELE*\n",
    "                        data_new[sample].ScaleFactor_MUON), range=(0, 0.05), bins=50, label=f\"{sample} new\", density=True, histtype=\"step\")\n",
    "    plt.hist(ak.flatten((data_old[sample].lep_E/1000)*\n",
    "                        data_old[sample].mcWeight*\n",
    "                        data_old[sample].scaleFactor_PILEUP*\n",
    "                        data_old[sample].scaleFactor_ELE*\n",
    "                        data_old[sample].scaleFactor_MUON), range=( 0,10), bins=50, label=f\"{sample} old\", density=True, histtype=\"step\")\n",
    "plt.legend()\n",
    "plt.title(\"lep_e, no weights\")\n",
    "plt.xlabel(\"E [GeV]\")\n",
    "plt.show()"
   ]
  },
  {
   "cell_type": "code",
   "execution_count": 120,
   "metadata": {},
   "outputs": [
    {
     "data": {
      "image/png": "[encoded data removed]",
      "text/plain": [
       "<Figure size 864x648 with 1 Axes>"
      ]
     },
     "metadata": {
      "needs_background": "light"
     },
     "output_type": "display_data"
    }
   ],
   "source": [
    "plt.figure(figsize=(12, 9))\n",
    "for sample in samples_new:\n",
    "    plt.hist(ak.flatten(data_new[sample].lep_phi), range=(-4, 4), bins=50, label=f\"{sample} new\", density=True, histtype=\"step\")\n",
    "    plt.hist(ak.flatten(data_old[sample].lep_phi), range=(-4, 4), bins=50, label=f\"{sample} old\", density=True, histtype=\"step\")\n",
    "plt.legend()\n",
    "plt.title(\"lep_phi, no weights\")\n",
    "plt.xlabel(\"E [GeV]\")\n",
    "plt.show()"
   ]
  },
  {
   "cell_type": "code",
   "execution_count": 149,
   "metadata": {},
   "outputs": [
    {
     "data": {
      "image/png": "[encoded data removed]",
      "text/plain": [
       "<Figure size 864x648 with 1 Axes>"
      ]
     },
     "metadata": {
      "needs_background": "light"
     },
     "output_type": "display_data"
    }
   ],
   "source": [
    "plt.figure(figsize=(12, 9))\n",
    "for sample in samples_new:\n",
    "    plt.hist(ak.flatten(data_new[sample].lep_phi*\n",
    "                       \n",
    "                        data_new[sample].ScaleFactor_PILEUP*\n",
    "                        data_new[sample].ScaleFactor_ELE*\n",
    "                        \n",
    "                        data_new[sample].ScaleFactor_MUON), range=(-5, 5), bins=50, label=f\"{sample} new\", density=True, histtype=\"step\")\n",
    "    plt.hist(ak.flatten(data_old[sample].lep_phi\n",
    "                       *data_old[sample].mcWeight*\n",
    "                        data_old[sample].scaleFactor_PILEUP*\n",
    "                        data_old[sample].scaleFactor_ELE*\n",
    "                    \n",
    "                        data_old[sample].scaleFactor_MUON )  #\n",
    "             , range=(-3, 3), bins=50, label=f\"{sample} old\", density=True, histtype=\"step\")\n",
    "plt.legend()\n",
    "plt.title(\"lep_phi weighted\")\n",
    "plt.xlabel(\"E [GeV]\")\n",
    "plt.show()"
   ]
  },
  {
   "cell_type": "code",
   "execution_count": null,
   "metadata": {},
   "outputs": [],
   "source": []
  },
  {
   "cell_type": "code",
   "execution_count": 129,
   "metadata": {},
   "outputs": [
    {
     "data": {
      "image/png": "[encoded data removed]",
      "text/plain": [
       "<Figure size 864x648 with 1 Axes>"
      ]
     },
     "metadata": {
      "needs_background": "light"
     },
     "output_type": "display_data"
    }
   ],
   "source": [
    "plt.figure(figsize=(12, 9))\n",
    "for sample in samples_new:\n",
    "    plt.hist(ak.flatten(data_new[sample].lep_eta), range=(-3, 3), bins=50, label=f\"{sample} new\", density=True, histtype=\"step\")\n",
    "    plt.hist(ak.flatten(data_old[sample].lep_eta), range=(-3, 3), bins=50, label=f\"{sample} old\", density=True, histtype=\"step\")\n",
    "plt.legend()\n",
    "plt.title(\"lep_eta, no weights\")\n",
    "plt.xlabel(\"E [GeV]\")\n",
    "plt.show()"
   ]
  },
  {
   "cell_type": "code",
   "execution_count": 156,
   "metadata": {},
   "outputs": [
    {
     "data": {
      "text/plain": [
       "{'ttbar': <Array [{lep_pt: [...], ...}, ..., {...}] type='19742831 * {lep_pt: var * f...'>}"
      ]
     },
     "execution_count": 156,
     "metadata": {},
     "output_type": "execute_result"
    }
   ],
   "source": [
    "data_new"
   ]
  },
  {
   "cell_type": "code",
   "execution_count": 157,
   "metadata": {
    "scrolled": false
   },
   "outputs": [
    {
     "data": {
      "image/png": "[encoded data removed]",
      "text/plain": [
       "<Figure size 864x648 with 1 Axes>"
      ]
     },
     "metadata": {
      "needs_background": "light"
     },
     "output_type": "display_data"
    }
   ],
   "source": [
    "plt.figure(figsize=(12, 9))\n",
    "for sample in samples_new:\n",
    "    plt.hist(ak.flatten(data_new[sample].lep_eta\n",
    "                       *data_new[sample].mcWeight*\n",
    "                        data_new[sample].ScaleFactor_PILEUP*\n",
    "                        data_new[sample].ScaleFactor_ELE*\n",
    "                        \n",
    "                        data_new[sample].ScaleFactor_MUON)/1000, range=(-5, 5), bins=50, label=f\"{sample} new\", density=True, histtype=\"step\")\n",
    "    plt.hist(ak.flatten(data_old[sample].lep_eta\n",
    "                       *data_old[sample].mcWeight*\n",
    "                        data_old[sample].scaleFactor_PILEUP*\n",
    "                        data_old[sample].scaleFactor_ELE*\n",
    "                    \n",
    "                        data_old[sample].scaleFactor_MUON )  #\n",
    "             , range=(-3, 3), bins=50, label=f\"{sample} old\", density=True, histtype=\"step\")\n",
    "plt.legend()\n",
    "plt.title(\"lep_eta weights\")\n",
    "plt.xlabel(\"E [GeV]\")\n",
    "plt.show()"
   ]
  },
  {
   "cell_type": "code",
   "execution_count": 123,
   "metadata": {},
   "outputs": [
    {
     "data": {
      "image/png": "[encoded data removed]",
      "text/plain": [
       "<Figure size 864x648 with 1 Axes>"
      ]
     },
     "metadata": {
      "needs_background": "light"
     },
     "output_type": "display_data"
    }
   ],
   "source": [
    "plt.figure(figsize=(12, 9))\n",
    "for sample in samples_new:\n",
    "    plt.hist(ak.flatten(data_new[sample].jet_eta), range=(-3, 3), bins=50, label=f\"{sample} new\", density=True, histtype=\"step\")\n",
    "    plt.hist(ak.flatten(data_old[sample].jet_eta), range=(-3, 3), bins=50, label=f\"{sample} old\", density=True, histtype=\"step\")\n",
    "plt.legend()\n",
    "plt.title(\"jet_eta, no weights\")\n",
    "plt.xlabel(\"E [GeV]\")\n",
    "plt.show()"
   ]
  },
  {
   "cell_type": "code",
   "execution_count": 151,
   "metadata": {},
   "outputs": [
    {
     "data": {
      "image/png": "[encoded data removed]",
      "text/plain": [
       "<Figure size 864x648 with 1 Axes>"
      ]
     },
     "metadata": {
      "needs_background": "light"
     },
     "output_type": "display_data"
    }
   ],
   "source": [
    "plt.figure(figsize=(12, 9))\n",
    "for sample in samples_new:\n",
    "    plt.hist(ak.flatten(data_new[sample].jet_eta*\n",
    "                        data_new[sample].ScaleFactor_PILEUP*\n",
    "                        data_new[sample].ScaleFactor_ELE*\n",
    "                        \n",
    "                        data_new[sample].ScaleFactor_MUON), range=(-5, 5), bins=50, label=f\"{sample} new\", density=True, histtype=\"step\")\n",
    "    plt.hist(ak.flatten(data_old[sample].jet_eta\n",
    "                       *data_old[sample].mcWeight*\n",
    "                        data_old[sample].scaleFactor_PILEUP*\n",
    "                        data_old[sample].scaleFactor_ELE*\n",
    "                    \n",
    "                        data_old[sample].scaleFactor_MUON )  #\n",
    "             , range=(-5, 5), bins=50, label=f\"{sample} old\", density=True, histtype=\"step\")\n",
    "plt.legend()\n",
    "plt.title(\"jet_eta weights\")\n",
    "plt.xlabel(\"E [GeV]\")\n",
    "plt.show()"
   ]
  },
  {
   "cell_type": "code",
   "execution_count": 153,
   "metadata": {},
   "outputs": [
    {
     "data": {
      "image/png": "[encoded data removed]",
      "text/plain": [
       "<Figure size 864x648 with 1 Axes>"
      ]
     },
     "metadata": {
      "needs_background": "light"
     },
     "output_type": "display_data"
    }
   ],
   "source": [
    "plt.figure(figsize=(12, 9))\n",
    "for sample in samples_new:\n",
    "    plt.hist(ak.flatten(data_new[sample].jet_phi), range=(-3, 3), bins=50, label=f\"{sample} new\", density=True, histtype=\"step\")\n",
    "    plt.hist(ak.flatten(data_old[sample].jet_phi), range=(-3, 3), bins=50, label=f\"{sample} old\", density=True, histtype=\"step\")\n",
    "plt.legend()\n",
    "plt.title(\"jet_phi, no weights\")\n",
    "plt.xlabel(\"E [GeV]\")\n",
    "plt.show()"
   ]
  },
  {
   "cell_type": "code",
   "execution_count": 182,
   "metadata": {},
   "outputs": [
    {
     "data": {
      "image/png": "[encoded data removed]",
      "text/plain": [
       "<Figure size 864x648 with 1 Axes>"
      ]
     },
     "metadata": {
      "needs_background": "light"
     },
     "output_type": "display_data"
    }
   ],
   "source": [
    "plt.figure(figsize=(12, 9))\n",
    "for sample in samples_new:\n",
    "    plt.hist(ak.flatten(data_new[sample].jet_phi*\n",
    "                \n",
    "                        data_new[sample].ScaleFactor_PILEUP*\n",
    "                        data_new[sample].ScaleFactor_ELE*\n",
    "                        \n",
    "                        data_new[sample].ScaleFactor_MUON), range=(-5, 5), bins=50, label=f\"{sample} new\", density=True, histtype=\"step\")\n",
    "    plt.hist(ak.flatten(data_old[sample].jet_phi\n",
    "                       *data_old[sample].mcWeight*\n",
    "                        data_old[sample].scaleFactor_PILEUP*\n",
    "                        data_old[sample].scaleFactor_ELE*\n",
    "                    \n",
    "                        data_old[sample].scaleFactor_MUON )  #\n",
    "             , range=(-3, 3), bins=50, label=f\"{sample} old\", density=True, histtype=\"step\")\n",
    "plt.legend()\n",
    "plt.title(\"jet_phi weights\")\n",
    "plt.xlabel(\"E [GeV]\")\n",
    "plt.show()"
   ]
  },
  {
   "cell_type": "code",
   "execution_count": 172,
   "metadata": {},
   "outputs": [
    {
     "data": {
      "image/png": "[encoded data removed]",
      "text/plain": [
       "<Figure size 864x648 with 1 Axes>"
      ]
     },
     "metadata": {
      "needs_background": "light"
     },
     "output_type": "display_data"
    }
   ],
   "source": [
    "plt.figure(figsize=(12, 9))\n",
    "for sample in samples_new:\n",
    "    plt.hist((data_new[sample].ScaleFactor_PILEUP), range=(-1, 10), bins=50, label=f\"{sample} new\", density=True, histtype=\"step\")\n",
    "    plt.hist((data_old[sample].scaleFactor_PILEUP), range=(-10, 10), bins=50, label=f\"{sample} old\", density=True, histtype=\"step\")\n",
    "plt.legend()\n",
    "plt.title(\"ScaleFactor_PILEUP\")\n",
    "plt.xlabel(\"E [GeV]\")\n",
    "plt.show()"
   ]
  },
  {
   "cell_type": "code",
   "execution_count": 180,
   "metadata": {},
   "outputs": [
    {
     "data": {
      "image/png": "[encoded data removed]",
      "text/plain": [
       "<Figure size 864x648 with 1 Axes>"
      ]
     },
     "metadata": {
      "needs_background": "light"
     },
     "output_type": "display_data"
    }
   ],
   "source": [
    "plt.figure(figsize=(12, 9))\n",
    "for sample in samples_new:\n",
    "    plt.hist((data_new[sample].ScaleFactor_ELE), range=(0.72, 1), bins=50, label=f\"{sample} new\", density=True, histtype=\"step\")\n",
    "    plt.hist((data_old[sample].scaleFactor_ELE), range=(0.72, 1), bins=50, label=f\"{sample} old\", density=True, histtype=\"step\")\n",
    "plt.legend()\n",
    "plt.title(\"ScaleFactor_ELE\")\n",
    "plt.xlabel(\"E [GeV]\")\n",
    "plt.show()"
   ]
  },
  {
   "cell_type": "code",
   "execution_count": 178,
   "metadata": {},
   "outputs": [
    {
     "data": {
      "text/html": [
       "<pre>[0.988,\n",
       " 0.87,\n",
       " 1,\n",
       " 0.967,\n",
       " 0.98,\n",
       " 0.985,\n",
       " 0.978,\n",
       " 0.946,\n",
       " 0.947,\n",
       " 0.992,\n",
       " ...,\n",
       " 0.968,\n",
       " 1,\n",
       " 0.94,\n",
       " 1.06,\n",
       " 0.98,\n",
       " 0.987,\n",
       " 0.969,\n",
       " 0.984,\n",
       " 1]\n",
       "------------------------\n",
       "type: 19742831 * float32</pre>"
      ],
      "text/plain": [
       "<Array [0.988, 0.87, 1, 0.967, ..., 0.969, 0.984, 1] type='19742831 * float32'>"
      ]
     },
     "execution_count": 178,
     "metadata": {},
     "output_type": "execute_result"
    }
   ],
   "source": [
    "(data_new[sample].ScaleFactor_ELE)"
   ]
  },
  {
   "cell_type": "code",
   "execution_count": null,
   "metadata": {},
   "outputs": [],
   "source": [
    "plt.figure(figsize=(12, 9))\n",
    "for sample in samples_new:\n",
    "    plt.hist(ak.flatten(data_new[sample].jet_pt), range=(0, 800), bins=50, label=f\"{sample} new\", density=True, histtype=\"step\")\n",
    "    plt.hist(ak.flatten(data_old[sample].jet_pt)/ 1000, range=(0, 800) , bins=50, label=f\"{sample} old\", density=True, histtype=\"step\")\n",
    "plt.legend()\n",
    "plt.title(\"jet_pt, no weights\")\n",
    "plt.xlabel(\"E [GeV]\")\n",
    "plt.show()\n"
   ]
  },
  {
   "cell_type": "code",
   "execution_count": 127,
   "metadata": {},
   "outputs": [
    {
     "data": {
      "image/png": "[encoded data removed]",
      "text/plain": [
       "<Figure size 864x648 with 1 Axes>"
      ]
     },
     "metadata": {
      "needs_background": "light"
     },
     "output_type": "display_data"
    }
   ],
   "source": [
    "plt.figure(figsize=(12, 9))\n",
    "for sample in samples_new:\n",
    "    plt.hist(ak.flatten(data_new[sample].jet_pt\n",
    "                       *data_new[sample].mcWeight*\n",
    "                        data_new[sample].ScaleFactor_PILEUP*\n",
    "                        data_new[sample].ScaleFactor_ELE*\n",
    "                        \n",
    "                        data_new[sample].ScaleFactor_MUON)/1000, range=(-5, 5), bins=50, label=f\"{sample} new\", density=True, histtype=\"step\")\n",
    "    plt.hist(ak.flatten(data_old[sample].jet_pt\n",
    "                       *data_old[sample].mcWeight*\n",
    "                        data_old[sample].scaleFactor_PILEUP*\n",
    "                        data_old[sample].scaleFactor_ELE*\n",
    "                    \n",
    "                        data_old[sample].scaleFactor_MUON )  #\n",
    "             , range=(-3, 3), bins=50, label=f\"{sample} old\", density=True, histtype=\"step\")\n",
    "plt.legend()\n",
    "plt.title(\"jet_pt weights\")\n",
    "plt.xlabel(\"E [GeV]\")\n",
    "plt.show()"
   ]
  },
  {
   "cell_type": "code",
   "execution_count": 162,
   "metadata": {},
   "outputs": [
    {
     "ename": "NameError",
     "evalue": "name 'mc_weights' is not defined",
     "output_type": "error",
     "traceback": [
      "\u001b[0;31m---------------------------------------------------------------------------\u001b[0m",
      "\u001b[0;31mNameError\u001b[0m                                 Traceback (most recent call last)",
      "\u001b[0;32m<ipython-input-162-3cc46d1a231b>\u001b[0m in \u001b[0;36m<module>\u001b[0;34m\u001b[0m\n\u001b[0;32m----> 1\u001b[0;31m \u001b[0mmc_weights\u001b[0m\u001b[0;34m.\u001b[0m\u001b[0mappend\u001b[0m\u001b[0;34m(\u001b[0m \u001b[0mak\u001b[0m\u001b[0;34m.\u001b[0m\u001b[0mto_numpy\u001b[0m\u001b[0;34m(\u001b[0m\u001b[0mdata\u001b[0m\u001b[0;34m[\u001b[0m\u001b[0ms\u001b[0m\u001b[0;34m]\u001b[0m\u001b[0;34m.\u001b[0m\u001b[0mtotalWeight\u001b[0m\u001b[0;34m)\u001b[0m \u001b[0;34m)\u001b[0m \u001b[0;31m# append to the list of Monte Carlo weights\u001b[0m\u001b[0;34m\u001b[0m\u001b[0;34m\u001b[0m\u001b[0m\n\u001b[0m",
      "\u001b[0;31mNameError\u001b[0m: name 'mc_weights' is not defined"
     ]
    }
   ],
   "source": [
    "mc_weights.append(ak.to_numpy(data[s].totalWeight) ) # append to the list of Monte Carlo weights"
   ]
  },
  {
   "cell_type": "code",
   "execution_count": null,
   "metadata": {},
   "outputs": [],
   "source": []
  }
 ],
 "metadata": {
  "kernelspec": {
   "display_name": "Python 3 (ipykernel)",
   "language": "python",
   "name": "python3"
  },
  "language_info": {
   "codemirror_mode": {
    "name": "ipython",
    "version": 3
   },
   "file_extension": ".py",
   "mimetype": "text/x-python",
   "name": "python",
   "nbconvert_exporter": "python",
   "pygments_lexer": "ipython3",
   "version": "3.8.10"
  }
 },
 "nbformat": 4,
 "nbformat_minor": 4
}
