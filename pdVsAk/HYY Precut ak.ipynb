{
 "cells": [
  {
   "cell_type": "markdown",
   "metadata": {},
   "source": [
    "<CENTER><img src=\"../../images/ATLASOD.gif\" style=\"width:50%\"></CENTER>"
   ]
  },
  {
   "cell_type": "markdown",
   "metadata": {},
   "source": [
    "# How to rediscover the Higgs boson yourself!\n",
    "This notebook uses ATLAS Open Data http://opendata.atlas.cern to show you the steps to rediscover the Higgs boson yourself!\n",
    "\n",
    "ATLAS Open Data provides open access to proton-proton collision data at the LHC for educational purposes. ATLAS Open Data resources are ideal for high-school, undergraduate and postgraduate students.\n",
    "\n",
    "Notebooks are web applications that allow you to create and share documents that can contain for example:\n",
    "1. live code\n",
    "2. visualisations\n",
    "3. narrative text"
   ]
  },
  {
   "cell_type": "markdown",
   "metadata": {},
   "source": [
    "### What is the Higgs boson?\n",
    "The Higgs boson is a fundamental particle predicted by the Standard Model. It is a manifestation of the Higgs field, which gives mass to fundamental particles. However, it is incredibly difficult to produce. At the LHC, a Higgs particle is produced about once every 10 billion collisions, making it very challenging to detect.\n",
    "\n",
    "Despite this tiny fraction, years of data collection led to the discovery of the Higgs boson in 2012 by the CMS and ATLAS experiments at CERN. In this tutorial, we will follow their example."
   ]
  },
  {
   "cell_type": "markdown",
   "metadata": {},
   "source": [
    "### Detecting the Higgs\n",
    "This analysis loosely follows the [discovery of the Higgs boson by ATLAS](https://www.sciencedirect.com/science/article/pii/S037026931200857X) (Section 5).\n",
    "\n",
    "The Higgs boson can be generated through various mechanisms. In particle physics, we use Feynman diagrams to illustrate these production modes. These diagrams help us visualize particle interactions and serve as essential tools for computations. For additional details on Feynman diagrams, see this [link](https://cds.cern.ch/record/2759490/files/Feynman%20Diagrams%20-%20ATLAS%20Cheat%20Sheet.pdf).\n",
    "\n",
    "There are four primary production modes for the Higgs boson, each represented by its own Feynman diagram:\n",
    "1. Gluon-gluon fusion (top left)\n",
    "2. Vector boson fusion (top right)\n",
    "3. Vector boson bremsstrahlung (bottom left)\n",
    "4. Top-antitop fusion (bottom right)\n",
    "\n",
    "<CENTER><img src=\"images/ImagesHiggs/ggH.png\" style=\"width:40%\"> <img src=\"images/ImagesHiggs/VBFH.png\" style=\"width:35%\"></CENTER>\n",
    "<CENTER><img src=\"images/ImagesHiggs/WH.png\" style=\"width:40%\"> <img src=\"images/ImagesHiggs/ttbarfusion.png\" style=\"width:35%\"></CENTER>\n",
    "\n",
    "\n",
    "The Higgs boson has an extremely brief lifetime, approximately $10^{-22} \\,\\text{s}$. It decays almost immediately after it is produced, making direct detection of the particle impossible. However, by using the Standard Model, we can predict the various decay products of the Higgs, such as photons, Z bosons, quarks, and others, each occurring with different probabilities. These **decay channels** help us identify the presence of the Higgs boson. In this notebook, we will focus on analyzing one specific decay channel:\n",
    "$$H \\rightarrow \\gamma\\gamma$$\n",
    "\n",
    "<CENTER><img src=\"images/feynman_diagrams/Hyy_feynman.png\" style=\"width:40%\"></CENTER>\n",
    "\n",
    "We refer to this as our desired **signal**. Ideally, we aim to identify collisions that produce two photons, which would indicate the presence of a Higgs boson. However, along with our signal, many photons detected do not originate from Higgs boson decay but rather from other processes, forming the **background**.\n",
    "\n",
    "Backgrounds are classified into two categories: reducible and irreducible. **Reducible backgrounds** can be significantly minimized using experimental techniques such as data cuts, particle identification, and isolation criteria. For instance, in our case, a reducible background might involve events where a jet is misidentified as a photon. By applying stricter criteria to ensure that the detected particles are indeed photons (and not misidentified jets), this background can be reduced.\n",
    "\n",
    "On the other hand, irreducible backgrounds cannot be easily distinguished from the signal because they involve the same final states or processes that the signal would produce. In the scenario of Higgs decay into two photons, an **irreducible background** would be the direct production of two photons from other Standard Model processes, such as quark-antiquark annihilation. These events are fundamentally indistinguishable from the signal events based on final state particles alone.\n",
    "\n",
    "    \n",
    "To address this, we can consider the total invariant mass of the photon products. By conservation of energy and momentum, the invariant mass of the products must equal the Higgs mass, whereas other background processes will have different invariant masses. The final step is to plot the invariant mass of each event and identify the peak around 125 GeV, which corresponds to the mass of the Higgs boson.\n",
    "\n",
    "By the end of this notebook you will be able to:\n",
    "1. Learn to process large data sets using cuts\n",
    "2. Understand some general principles of a particle physics analysis\n",
    "3. Discover the Higgs boson!\n",
    "\n",
    "See [here](https://cds.cern.ch/record/2800577/files/Signal%20and%20Background%20Physics%20Cheat%20Sheet.pdf) for more information on signals and backgrounds!"
   ]
  },
  {
   "cell_type": "markdown",
   "metadata": {},
   "source": [
    "### Running a Jupyter notebook\n",
    "A Jupyter notebook consists of cell blocks, \n",
    "    each containing lines of Python code.\n",
    "Each cell can be run independently of each other,\n",
    "    yielding respective outputs below the cells.\n",
    "Conventionally,\n",
    "    cells are run in order from top to bottom.\n",
    "\n",
    "\n",
    "- To run the whole notebook, in the top menu click Cell $\\to$ Run All.\n",
    "\n",
    "- To propagate a change you've made to a piece of code, click Cell $\\to$ Run All Below.\n",
    "\n",
    "- You can also run a single code cell, by clicking Cell $\\to$ Run Cells, or using the keyboard shortcut Shift+Enter.\n",
    "\n",
    "For more information, \n",
    "    refer to [here](https://www.codecademy.com/article/how-to-use-jupyter-notebooks)."
   ]
  },
  {
   "cell_type": "markdown",
   "metadata": {},
   "source": [
    "## ATLAS Open Data Initialisation"
   ]
  },
  {
   "cell_type": "markdown",
   "metadata": {},
   "source": [
    "### First time package installation on your computer (not needed on mybinder)\n",
    "This first cell installs the required python packages.\n",
    "It only needs to be run the first time you open this notebook on your computer. \n",
    "If you close Jupyter and re-open on the same computer, you won't need to run this first cell again.\n",
    "If this is opened on mybinder, you don't need to run this cell."
   ]
  },
  {
   "cell_type": "code",
   "execution_count": 39,
   "metadata": {
    "tags": []
   },
   "outputs": [],
   "source": [
    "#install required packages\n",
    "#import sys We dont need it as well\n",
    "#!{sys.executable} -m pip install --upgrade --user pip\n",
    "#!{sys.executable} -m pip install -U numpy==2.0.0 pandas==2.2.2 uproot==5.3.9 matplotlib==3.9.0 lmfit==1.3.1 awkward-pandas==2023.8.0 aiohttp==3.9.5 requests==2.32.3 --user"
   ]
  },
  {
   "cell_type": "markdown",
   "metadata": {},
   "source": [
    "### To setup everytime\n",
    "We're going to be using a number of tools to help us:\n",
    "* uproot: lets us read .root files typically used in particle physics into data formats used in python\n",
    "* awkward: lets us handle complex and nested data structures efficiently\n",
    "* numpy: provides numerical calculations such as histogramming\n",
    "* matplotlib: common tool for making plots, figures, images, visualisations\n",
    "* lmfit: tool for statistical fitting"
   ]
  },
  {
   "cell_type": "code",
   "execution_count": 40,
   "metadata": {
    "tags": []
   },
   "outputs": [],
   "source": [
    "\n",
    "\n",
    "import uproot # for reading .root files\n",
    "import time # to measure time to analyse\n",
    "import math # for mathematical functions such as square root\n",
    "import awkward as ak # for handling complex and nested data structures efficiently\n",
    "import numpy as np # # for numerical calculations such as histogramming\n",
    "import matplotlib.pyplot as plt # for plotting\n",
    "from matplotlib.ticker import MaxNLocator,AutoMinorLocator # for minor ticks\n",
    "from lmfit.models import PolynomialModel, GaussianModel # for the signal and background fits\n",
    "import vector #to use vectors\n",
    "import requests # for HTTP access\n",
    "import aiohttp # HTTP client support"
   ]
  },
  {
   "cell_type": "markdown",
   "metadata": {},
   "source": [
    "## Example 1: Reading data "
   ]
  },
  {
   "cell_type": "markdown",
   "metadata": {},
   "source": [
    "We would like to read some of the data from the open dataset."
   ]
  },
  {
   "cell_type": "code",
   "execution_count": 41,
   "metadata": {
    "tags": []
   },
   "outputs": [],
   "source": [
    "# ATLAS Open Data directory\n",
    "path = \"https://atlas-opendata.web.cern.ch/atlas-opendata/13TeV/GamGam/Data/\" # web address\n",
    "path = \"/project/etp1/gduckeck/atlas/13TeV/GamGam/Data/\" #Current path!\n",
    "#tuple_path = \\\"~/Downloads/GamGamNew/\\\" # local"
   ]
  },
  {
   "cell_type": "markdown",
   "metadata": {},
   "source": [
    "The data is organized by the collection periods throughout the year. In this notebook, we will use the 2015 data from periods D, E, F, G, H, and J, as well as the 2016 data from periods A, B, C, D, E, F, G, K, and L."
   ]
  },
  {
   "cell_type": "code",
   "execution_count": 42,
   "metadata": {
    "tags": []
   },
   "outputs": [],
   "source": [
    "samples_list = ['data15_periodD','data15_periodE','data15_periodF','data15_periodG','data15_periodH','data15_periodJ','data16_periodA','data16_periodB','data16_periodC','data16_periodD','data16_periodE','data16_periodF','data16_periodG','data16_periodK','data16_periodL']"
   ]
  },
  {
   "cell_type": "markdown",
   "metadata": {},
   "source": [
    "Let's try accessing `data15_periodG` in the ATLAS Open Data directory as an example."
   ]
  },
  {
   "cell_type": "code",
   "execution_count": 43,
   "metadata": {
    "tags": []
   },
   "outputs": [
    {
     "name": "stdout",
     "output_type": "stream",
     "text": [
      "data15_periodE\n"
     ]
    }
   ],
   "source": [
    "print(samples_list[1])\n",
    "\n",
    "# This is now appended to our file path to retrieve the data15_periodG.root file\n",
    "data_15G_path = path + samples_list[3] + \".root\""
   ]
  },
  {
   "cell_type": "markdown",
   "metadata": {},
   "source": [
    "Next, let's open the `data15_periodG` file to examine its contents. The file, known as a `tree`, contains multiple entries, each representing an event. For each event, a dictionary stores all relevant information with keys, such as the event number (`eventNumber`), the photon transverse momentum (`photon_pt`), and more.\n",
    "\n",
    "Details on the variables in the dictionary can be viewed [here](https://cds.cern.ch/record/2707171/files/ANA-OTRC-2019-01-PUB-updated.pdf) in Appendix A.\n",
    "\n",
    "More information on trees can be viewed [here](https://uproot.readthedocs.io/en/latest/uproot.behaviors.TTree.TTree.html) and [here](https://hsf-training.github.io/hsf-training-uproot-webpage/03-trees/index.html)."
   ]
  },
  {
   "cell_type": "code",
   "execution_count": 44,
   "metadata": {
    "tags": []
   },
   "outputs": [
    {
     "data": {
      "text/plain": [
       "'/project/etp1/gduckeck/atlas/13TeV/GamGam/Data/data15_periodG.root'"
      ]
     },
     "execution_count": 44,
     "metadata": {},
     "output_type": "execute_result"
    }
   ],
   "source": [
    "data_15G_path"
   ]
  },
  {
   "cell_type": "code",
   "execution_count": 45,
   "metadata": {
    "tags": []
   },
   "outputs": [
    {
     "name": "stdout",
     "output_type": "stream",
     "text": [
      "Processing data15_periodD:\n",
      "Number of entries in the tree: 2396\n",
      "Processing data15_periodE:\n",
      "Number of entries in the tree: 21942\n",
      "Processing data15_periodF:\n",
      "Number of entries in the tree: 15585\n",
      "Processing data15_periodG:\n",
      "Number of entries in the tree: 36070\n",
      "Processing data15_periodH:\n",
      "Number of entries in the tree: 13613\n",
      "Processing data15_periodJ:\n",
      "Number of entries in the tree: 73987\n",
      "Processing data16_periodA:\n",
      "Number of entries in the tree: 22978\n",
      "Processing data16_periodB:\n",
      "Number of entries in the tree: 60391\n",
      "Processing data16_periodC:\n",
      "Number of entries in the tree: 96566\n",
      "Processing data16_periodD:\n",
      "Number of entries in the tree: 151983\n",
      "Processing data16_periodE:\n",
      "Number of entries in the tree: 48254\n",
      "Processing data16_periodF:\n",
      "Number of entries in the tree: 113617\n",
      "Processing data16_periodG:\n",
      "Number of entries in the tree: 136784\n",
      "Processing data16_periodK:\n",
      "Number of entries in the tree: 76021\n",
      "Processing data16_periodL:\n",
      "Number of entries in the tree: 207065\n",
      "The number of entries in the tree are: 207065\n",
      "The information stored in the tree is: ['num_events', 'sum_of_weights', 'sum_of_weights_squared', 'corrected_xsec', 'dsid', 'category', 'sig_ph', 'n_sig_ph', 'ScaleFactor_PILEUP', 'mcWeight', 'xsec', 'trigE', 'trigM', 'ScaleFactor_BTAG', 'jet_n', 'jet_pt', 'jet_eta', 'jet_phi', 'jet_e', 'jet_DL1d77_isBtagged', 'jet_jvt', 'largeRJet_n', 'largeRJet_pt', 'largeRJet_eta', 'largeRJet_phi', 'largeRJet_e', 'largeRJet_m', 'largeRJet_D2', 'ScaleFactor_ELE', 'ScaleFactor_MUON', 'lep_n', 'lep_type', 'lep_pt', 'lep_eta', 'lep_phi', 'lep_e', 'lep_charge', 'lep_ptvarcone30', 'lep_topoetcone20', 'lep_z0', 'lep_d0', 'lep_d0sig', 'lep_isTight', 'lep_isTightID', 'lep_isTightIso', 'ScaleFactor_PHOTON', 'photon_n', 'photon_pt', 'photon_eta', 'photon_phi', 'photon_e', 'photon_ptcone20', 'photon_topoetcone40', 'photon_isTight', 'photon_isTightID', 'photon_isTightIso', 'ScaleFactor_TAU', 'tau_n', 'tau_pt', 'tau_eta', 'tau_phi', 'tau_e', 'tau_charge', 'tau_nTracks', 'tau_isTight', 'tau_RNNJetScore', 'tau_RNNEleScore', 'met', 'met_phi', 'met_mpx', 'met_mpy']\n"
     ]
    }
   ],
   "source": [
    "# Accessing the file from the online database (\":analysis\" opens the tree in a desired manner)\n",
    "for sample in samples_list:\n",
    "    # Construct the file path\n",
    "    file_path = f\"{path}{sample}.root\"\n",
    "    \n",
    "    try:\n",
    "        # Open the tree named \":analysis\" in each file\n",
    "        with uproot.open(file_path + \":analysis\") as t:\n",
    "            tree = t\n",
    "            \n",
    "            # Print the number of entries in the tree\n",
    "            print(f\"Processing {sample}:\")\n",
    "            print(f\"Number of entries in the tree: {tree.num_entries}\")\n",
    "            \n",
    "            # Print the information stored in the tree\n",
    "         \n",
    "            \n",
    "            # Perform any additional operations on the tree here\n",
    "            # For example, applying cuts, extracting data, etc.\n",
    "            # ...\n",
    "            \n",
    "    except Exception as e:\n",
    "        print(f\"Failed to process {sample}. Error: {e}\")\n",
    "\n",
    "\n",
    "# The number of entries in the tree can be viewed\n",
    "print(\"The number of entries in the tree are:\", tree.num_entries)\n",
    "\n",
    "# All the information stored in the tree can be viewed using the .keys() method.\n",
    "print(\"The information stored in the tree is:\", tree.keys())"
   ]
  },
  {
   "cell_type": "markdown",
   "metadata": {},
   "source": [
    "Perhaps we'd like to see the energies of the photons. \n",
    "We can access this from our tree using the key `photon_e`."
   ]
  },
  {
   "cell_type": "code",
   "execution_count": 46,
   "metadata": {
    "tags": []
   },
   "outputs": [
    {
     "data": {
      "text/html": [
       "<pre>[{photon_e: [142, 61.9, 45.7, 11.7, 4.57, 5.75, 7.59]},\n",
       " {photon_e: [156, 53.1, 10.2]},\n",
       " {photon_e: [200, 33.6, 4.93, 2.09, 10.3]},\n",
       " {photon_e: [212, 30.1, 3.2]},\n",
       " {photon_e: [358, 137, 91, 3.97, 2.12]},\n",
       " {photon_e: [131, 45.5, 2.32, 2.41]},\n",
       " {photon_e: [94.7, 22.2, 16.9, 12.8, 20.5, 3.79, 2.5]},\n",
       " {photon_e: [199, 133, 11.6]},\n",
       " {photon_e: [137, 29, 8.89, 3.57]},\n",
       " {photon_e: [179, 64.2, 11.7, 19.1, 2.41, ..., 11.7, 2.46, 3.09, 2.01]},\n",
       " ...,\n",
       " {photon_e: [29.6, 20.8, 2.39]},\n",
       " {photon_e: [150, 21]},\n",
       " {photon_e: [286, 47.7, 3.36]},\n",
       " {photon_e: [41, 30.5, 2.51]},\n",
       " {photon_e: [166, 76.1, 13.8, 18.4, 10, 3.21, 12]},\n",
       " {photon_e: [56.2, 23.2, 7.04, 2.1]},\n",
       " {photon_e: [313, 24.3, 3.89, 2.66, 2.38]},\n",
       " {photon_e: [174, 56.4, 2.73]},\n",
       " {photon_e: [93.8, 185, 2.21, 13.5]}]\n",
       "------------------------------------------------------------------------\n",
       "type: 207065 * {\n",
       "    photon_e: var * float32\n",
       "}</pre>"
      ],
      "text/plain": [
       "<Array [{photon_e: [142, ..., 7.59]}, ...] type='207065 * {photon_e: var * ...'>"
      ]
     },
     "execution_count": 46,
     "metadata": {},
     "output_type": "execute_result"
    }
   ],
   "source": [
    "tree[\"photon_e\"].arrays()"
   ]
  },
  {
   "cell_type": "markdown",
   "metadata": {},
   "source": [
    "Depending on the analysis, some variables are more revelant than others, providing directly or indirectly better discrimination of the signal with respect to the backgrounds than others.\n",
    "The most important variables for the $H \\rightarrow \\gamma\\gamma$ analysis can be stored in a list and retrieved later from the tree, and correspond to the following:"
   ]
  },
  {
   "cell_type": "code",
   "execution_count": 47,
   "metadata": {
    "tags": []
   },
   "outputs": [],
   "source": [
    "variables = [\"photon_pt\",\"photon_eta\",\"photon_phi\",\"photon_e\",\n",
    "                            \"photon_isTightID\",\"photon_ptcone20\"]"
   ]
  },
  {
   "cell_type": "markdown",
   "metadata": {},
   "source": [
    "Now that we understand how to access the information in the `data15_periodG` tree, we can begin our analysis. As mentioned in the introduction, there are two key steps to complete for each event entry:\n",
    "1. **Cuts** - we need to account for photons selection rules in the event. \n",
    "In the [paper](https://www.sciencedirect.com/science/article/pii/S037026931200857X), \n",
    "    it is stated that:\n",
    "- \"Photon candidates are required to pass identification criteria\" because there is a risk of misidentifying jets and other particles that can mimic photon signals as actual photons.\n",
    "- \"The leading (sub-leading) photon candidate is required to have $E_t$ (transverse energy) > 40 GeV (30 GeV)\" because background processes frequently generate photons with lower $E_t$. By setting these constraints, we can reduce the impact of background processes and thereby improve the signal-to-background ratio. Given that photons are massless particles, enforcing these requirements on transverse energy is effectively equivalent to enforcing them on transverse momentum.\n",
    "- \"Photon candidates are required to have an isolation transverse energy of less than 4 GeV\" to make sure the photons detected are not originating from jets.\n",
    "- Since the transition between the the barrel and end-cap of the calorimeter can introduce uncertainties in the energy measurements of particles this issue is resolved by \"excluding the calorimeter barrel/end-cap transition region 1.37 < |η| < 1.52\".\n",
    "\n",
    "We need to filter the data such that in each event, the criteria mentioned above are satisfied.\n",
    "\n",
    "2. **Mass calculation** - the data to be plotted is the di-photon invariant mass, which can be calculated using the equation: $$m_{\\gamma\\gamma} = \\sqrt{E^2_\\text{tot}-\\mathbf{p}_\\text{tot}\\cdot\\mathbf{p}_\\text{tot}}$$\n",
    "in units where $c=1$.\n",
    "$E_\\text{tot}$ is the total energy and $\\mathbf{p}_\\text{tot}$ is the total momentum.\n",
    "This calculation is performed using the vector array method `.M` on the sum of the photon 4-momenta: (`photon_pt`,`photon_eta`,`photon_phi`,`photon_e`).\n",
    "\n",
    "From this,\n",
    "    we can see why we chose those six important variables earlier. \n",
    "Let's try to perform this two-step analysis for one event in `data15_periodG`."
   ]
  },
  {
   "cell_type": "code",
   "execution_count": 48,
   "metadata": {
    "tags": []
   },
   "outputs": [
    {
     "ename": "KeyboardInterrupt",
     "evalue": "",
     "output_type": "error",
     "traceback": [
      "\u001b[0;31m---------------------------------------------------------------------------\u001b[0m",
      "\u001b[0;31mKeyboardInterrupt\u001b[0m                         Traceback (most recent call last)",
      "Cell \u001b[0;32mIn[48], line 2\u001b[0m\n\u001b[1;32m      1\u001b[0m \u001b[38;5;66;03m# This selects the first entry of the tree\u001b[39;00m\n\u001b[0;32m----> 2\u001b[0m entry \u001b[38;5;241m=\u001b[39m \u001b[43mtree\u001b[49m\u001b[38;5;241;43m.\u001b[39;49m\u001b[43marrays\u001b[49m\u001b[43m(\u001b[49m\u001b[43mlibrary\u001b[49m\u001b[38;5;241;43m=\u001b[39;49m\u001b[38;5;124;43m\"\u001b[39;49m\u001b[38;5;124;43mak\u001b[39;49m\u001b[38;5;124;43m\"\u001b[39;49m\u001b[43m)\u001b[49m[:\u001b[38;5;241m1\u001b[39m]\n\u001b[1;32m      4\u001b[0m \u001b[38;5;66;03m# Cut on the photon reconstruction quality\u001b[39;00m\n\u001b[1;32m      5\u001b[0m photon_reconstruction \u001b[38;5;241m=\u001b[39m entry[\u001b[38;5;124m'\u001b[39m\u001b[38;5;124mphoton_isTightID\u001b[39m\u001b[38;5;124m'\u001b[39m]\n",
      "File \u001b[0;32m~/.local/lib/python3.11/site-packages/uproot/behaviors/TBranch.py:826\u001b[0m, in \u001b[0;36mHasBranches.arrays\u001b[0;34m(self, expressions, cut, filter_name, filter_typename, filter_branch, aliases, language, entry_start, entry_stop, decompression_executor, interpretation_executor, array_cache, library, ak_add_doc, how)\u001b[0m\n\u001b[1;32m    823\u001b[0m                 ranges_or_baskets\u001b[38;5;241m.\u001b[39mappend((branch, basket_num, range_or_basket))\n\u001b[1;32m    825\u001b[0m interp_options \u001b[38;5;241m=\u001b[39m {\u001b[38;5;124m\"\u001b[39m\u001b[38;5;124mak_add_doc\u001b[39m\u001b[38;5;124m\"\u001b[39m: ak_add_doc}\n\u001b[0;32m--> 826\u001b[0m \u001b[43m_ranges_or_baskets_to_arrays\u001b[49m\u001b[43m(\u001b[49m\n\u001b[1;32m    827\u001b[0m \u001b[43m    \u001b[49m\u001b[38;5;28;43mself\u001b[39;49m\u001b[43m,\u001b[49m\n\u001b[1;32m    828\u001b[0m \u001b[43m    \u001b[49m\u001b[43mranges_or_baskets\u001b[49m\u001b[43m,\u001b[49m\n\u001b[1;32m    829\u001b[0m \u001b[43m    \u001b[49m\u001b[43mbranchid_interpretation\u001b[49m\u001b[43m,\u001b[49m\n\u001b[1;32m    830\u001b[0m \u001b[43m    \u001b[49m\u001b[43mentry_start\u001b[49m\u001b[43m,\u001b[49m\n\u001b[1;32m    831\u001b[0m \u001b[43m    \u001b[49m\u001b[43mentry_stop\u001b[49m\u001b[43m,\u001b[49m\n\u001b[1;32m    832\u001b[0m \u001b[43m    \u001b[49m\u001b[43mdecompression_executor\u001b[49m\u001b[43m,\u001b[49m\n\u001b[1;32m    833\u001b[0m \u001b[43m    \u001b[49m\u001b[43minterpretation_executor\u001b[49m\u001b[43m,\u001b[49m\n\u001b[1;32m    834\u001b[0m \u001b[43m    \u001b[49m\u001b[43mlibrary\u001b[49m\u001b[43m,\u001b[49m\n\u001b[1;32m    835\u001b[0m \u001b[43m    \u001b[49m\u001b[43marrays\u001b[49m\u001b[43m,\u001b[49m\n\u001b[1;32m    836\u001b[0m \u001b[43m    \u001b[49m\u001b[38;5;28;43;01mFalse\u001b[39;49;00m\u001b[43m,\u001b[49m\n\u001b[1;32m    837\u001b[0m \u001b[43m    \u001b[49m\u001b[43minterp_options\u001b[49m\u001b[43m,\u001b[49m\n\u001b[1;32m    838\u001b[0m \u001b[43m\u001b[49m\u001b[43m)\u001b[49m\n\u001b[1;32m    840\u001b[0m \u001b[38;5;66;03m# no longer needed; save memory\u001b[39;00m\n\u001b[1;32m    841\u001b[0m \u001b[38;5;28;01mdel\u001b[39;00m ranges_or_baskets\n",
      "File \u001b[0;32m~/.local/lib/python3.11/site-packages/uproot/behaviors/TBranch.py:3023\u001b[0m, in \u001b[0;36m_ranges_or_baskets_to_arrays\u001b[0;34m(hasbranches, ranges_or_baskets, branchid_interpretation, entry_start, entry_stop, decompression_executor, interpretation_executor, library, arrays, update_ranges_or_baskets, interp_options)\u001b[0m\n\u001b[1;32m   3016\u001b[0m     \u001b[38;5;28;01mif\u001b[39;00m (\n\u001b[1;32m   3017\u001b[0m         \u001b[38;5;28misinstance\u001b[39m(library, uproot\u001b[38;5;241m.\u001b[39minterpretation\u001b[38;5;241m.\u001b[39mlibrary\u001b[38;5;241m.\u001b[39mAwkward)\n\u001b[1;32m   3018\u001b[0m         \u001b[38;5;129;01mand\u001b[39;00m \u001b[38;5;28misinstance\u001b[39m(interpretation, uproot\u001b[38;5;241m.\u001b[39minterpretation\u001b[38;5;241m.\u001b[39mobjects\u001b[38;5;241m.\u001b[39mAsObjects)\n\u001b[1;32m   3019\u001b[0m         \u001b[38;5;129;01mand\u001b[39;00m cache_key \u001b[38;5;129;01min\u001b[39;00m branchid_to_branch\n\u001b[1;32m   3020\u001b[0m     ):\n\u001b[1;32m   3021\u001b[0m         branchid_to_branch[cache_key]\u001b[38;5;241m.\u001b[39m_awkward_check(interpretation)\n\u001b[0;32m-> 3023\u001b[0m \u001b[43mhasbranches\u001b[49m\u001b[38;5;241;43m.\u001b[39;49m\u001b[43m_file\u001b[49m\u001b[38;5;241;43m.\u001b[39;49m\u001b[43msource\u001b[49m\u001b[38;5;241;43m.\u001b[39;49m\u001b[43mchunks\u001b[49m\u001b[43m(\u001b[49m\u001b[43mranges\u001b[49m\u001b[43m,\u001b[49m\u001b[43m \u001b[49m\u001b[43mnotifications\u001b[49m\u001b[38;5;241;43m=\u001b[39;49m\u001b[43mnotifications\u001b[49m\u001b[43m)\u001b[49m\n\u001b[1;32m   3025\u001b[0m \u001b[38;5;28;01mdef\u001b[39;00m \u001b[38;5;21mreplace\u001b[39m(ranges_or_baskets, original_index, basket):\n\u001b[1;32m   3026\u001b[0m     branch, basket_num, range_or_basket \u001b[38;5;241m=\u001b[39m ranges_or_baskets[original_index]\n",
      "File \u001b[0;32m~/.local/lib/python3.11/site-packages/uproot/source/fsspec.py:169\u001b[0m, in \u001b[0;36mFSSpecSource.chunks\u001b[0;34m(self, ranges, notifications)\u001b[0m\n\u001b[1;32m    160\u001b[0m     coroutine \u001b[38;5;241m=\u001b[39m (\n\u001b[1;32m    161\u001b[0m         \u001b[38;5;28mself\u001b[39m\u001b[38;5;241m.\u001b[39m_fs\u001b[38;5;241m.\u001b[39m_cat_ranges(paths\u001b[38;5;241m=\u001b[39mpaths, starts\u001b[38;5;241m=\u001b[39mstarts, ends\u001b[38;5;241m=\u001b[39mends)\n\u001b[1;32m    162\u001b[0m         \u001b[38;5;28;01mif\u001b[39;00m \u001b[38;5;28mself\u001b[39m\u001b[38;5;241m.\u001b[39m_async_impl\n\u001b[0;32m   (...)\u001b[0m\n\u001b[1;32m    165\u001b[0m         )\n\u001b[1;32m    166\u001b[0m     )\n\u001b[1;32m    167\u001b[0m     \u001b[38;5;28;01mreturn\u001b[39;00m \u001b[38;5;28mself\u001b[39m\u001b[38;5;241m.\u001b[39m_executor\u001b[38;5;241m.\u001b[39msubmit(coroutine)\n\u001b[0;32m--> 169\u001b[0m \u001b[38;5;28;01mreturn\u001b[39;00m \u001b[43mcoalesce_requests\u001b[49m\u001b[43m(\u001b[49m\n\u001b[1;32m    170\u001b[0m \u001b[43m    \u001b[49m\u001b[43mranges\u001b[49m\u001b[43m,\u001b[49m\u001b[43m \u001b[49m\u001b[43msubmit\u001b[49m\u001b[43m,\u001b[49m\u001b[43m \u001b[49m\u001b[38;5;28;43mself\u001b[39;49m\u001b[43m,\u001b[49m\u001b[43m \u001b[49m\u001b[43mnotifications\u001b[49m\u001b[43m,\u001b[49m\u001b[43m \u001b[49m\u001b[43mconfig\u001b[49m\u001b[38;5;241;43m=\u001b[39;49m\u001b[38;5;28;43mself\u001b[39;49m\u001b[38;5;241;43m.\u001b[39;49m\u001b[43m_coalesce_config\u001b[49m\n\u001b[1;32m    171\u001b[0m \u001b[43m\u001b[49m\u001b[43m)\u001b[49m\n",
      "File \u001b[0;32m~/.local/lib/python3.11/site-packages/uproot/source/coalesce.py:123\u001b[0m, in \u001b[0;36mcoalesce_requests\u001b[0;34m(ranges, submit_fn, source, notifications, config)\u001b[0m\n\u001b[1;32m    121\u001b[0m     config \u001b[38;5;241m=\u001b[39m DEFAULT_CONFIG\n\u001b[1;32m    122\u001b[0m all_requests \u001b[38;5;241m=\u001b[39m [RangeRequest(start, stop, \u001b[38;5;28;01mNone\u001b[39;00m) \u001b[38;5;28;01mfor\u001b[39;00m start, stop \u001b[38;5;129;01min\u001b[39;00m ranges]\n\u001b[0;32m--> 123\u001b[0m \u001b[38;5;28;01mfor\u001b[39;00m merged_request \u001b[38;5;129;01min\u001b[39;00m _coalesce(all_requests, config):\n\u001b[1;32m    124\u001b[0m     future \u001b[38;5;241m=\u001b[39m submit_fn(merged_request\u001b[38;5;241m.\u001b[39mranges())\n\u001b[1;32m    125\u001b[0m     merged_request\u001b[38;5;241m.\u001b[39mset_future(future)\n",
      "File \u001b[0;32m~/.local/lib/python3.11/site-packages/uproot/source/coalesce.py:97\u001b[0m, in \u001b[0;36m_coalesce\u001b[0;34m(ranges, config)\u001b[0m\n\u001b[1;32m     95\u001b[0m request_bytes: \u001b[38;5;28mint\u001b[39m \u001b[38;5;241m=\u001b[39m \u001b[38;5;241m0\u001b[39m\n\u001b[1;32m     96\u001b[0m first_request \u001b[38;5;241m=\u001b[39m \u001b[38;5;28;01mTrue\u001b[39;00m\n\u001b[0;32m---> 97\u001b[0m \u001b[38;5;28;01mfor\u001b[39;00m cluster \u001b[38;5;129;01min\u001b[39;00m _merge_adjacent(ranges, config):\n\u001b[1;32m     98\u001b[0m     \u001b[38;5;28;01mif\u001b[39;00m clusters \u001b[38;5;129;01mand\u001b[39;00m (\n\u001b[1;32m     99\u001b[0m         \u001b[38;5;28mlen\u001b[39m(clusters) \u001b[38;5;241m+\u001b[39m \u001b[38;5;241m1\u001b[39m \u001b[38;5;241m>\u001b[39m\u001b[38;5;241m=\u001b[39m config\u001b[38;5;241m.\u001b[39mmax_request_ranges\n\u001b[1;32m    100\u001b[0m         \u001b[38;5;129;01mor\u001b[39;00m request_bytes \u001b[38;5;241m+\u001b[39m \u001b[38;5;28mlen\u001b[39m(cluster) \u001b[38;5;241m>\u001b[39m\u001b[38;5;241m=\u001b[39m config\u001b[38;5;241m.\u001b[39mmax_request_bytes\n\u001b[1;32m    101\u001b[0m         \u001b[38;5;129;01mor\u001b[39;00m (first_request \u001b[38;5;129;01mand\u001b[39;00m request_bytes \u001b[38;5;241m>\u001b[39m\u001b[38;5;241m=\u001b[39m config\u001b[38;5;241m.\u001b[39mmin_first_request_bytes)\n\u001b[1;32m    102\u001b[0m     ):\n\u001b[1;32m    103\u001b[0m         \u001b[38;5;28;01myield\u001b[39;00m CoalescedRequest(clusters)\n",
      "File \u001b[0;32m~/.local/lib/python3.11/site-packages/uproot/source/coalesce.py:85\u001b[0m, in \u001b[0;36m_merge_adjacent\u001b[0;34m(ranges, config)\u001b[0m\n\u001b[1;32m     83\u001b[0m cluster \u001b[38;5;241m=\u001b[39m Cluster([])\n\u001b[1;32m     84\u001b[0m \u001b[38;5;28;01mfor\u001b[39;00m current_range \u001b[38;5;129;01min\u001b[39;00m sorted_ranges:\n\u001b[0;32m---> 85\u001b[0m     \u001b[38;5;28;01mif\u001b[39;00m cluster\u001b[38;5;241m.\u001b[39mranges \u001b[38;5;129;01mand\u001b[39;00m current_range\u001b[38;5;241m.\u001b[39mstart \u001b[38;5;241m-\u001b[39m \u001b[43mcluster\u001b[49m\u001b[38;5;241;43m.\u001b[39;49m\u001b[43mstop\u001b[49m \u001b[38;5;241m>\u001b[39m config\u001b[38;5;241m.\u001b[39mmax_range_gap:\n\u001b[1;32m     86\u001b[0m         \u001b[38;5;28;01myield\u001b[39;00m cluster\n\u001b[1;32m     87\u001b[0m         cluster \u001b[38;5;241m=\u001b[39m Cluster([])\n",
      "File \u001b[0;32m~/.local/lib/python3.11/site-packages/uproot/source/coalesce.py:57\u001b[0m, in \u001b[0;36mCluster.stop\u001b[0;34m(self)\u001b[0m\n\u001b[1;32m     55\u001b[0m \u001b[38;5;129m@property\u001b[39m\n\u001b[1;32m     56\u001b[0m \u001b[38;5;28;01mdef\u001b[39;00m \u001b[38;5;21mstop\u001b[39m(\u001b[38;5;28mself\u001b[39m):\n\u001b[0;32m---> 57\u001b[0m     \u001b[38;5;28;01mreturn\u001b[39;00m \u001b[38;5;28;43mmax\u001b[39;49m\u001b[43m(\u001b[49m\u001b[38;5;28;43mrange\u001b[39;49m\u001b[38;5;241;43m.\u001b[39;49m\u001b[43mstop\u001b[49m\u001b[43m \u001b[49m\u001b[38;5;28;43;01mfor\u001b[39;49;00m\u001b[43m \u001b[49m\u001b[38;5;28;43mrange\u001b[39;49m\u001b[43m \u001b[49m\u001b[38;5;129;43;01min\u001b[39;49;00m\u001b[43m \u001b[49m\u001b[38;5;28;43mself\u001b[39;49m\u001b[38;5;241;43m.\u001b[39;49m\u001b[43mranges\u001b[49m\u001b[43m)\u001b[49m\n",
      "File \u001b[0;32m~/.local/lib/python3.11/site-packages/uproot/source/coalesce.py:57\u001b[0m, in \u001b[0;36m<genexpr>\u001b[0;34m(.0)\u001b[0m\n\u001b[1;32m     55\u001b[0m \u001b[38;5;129m@property\u001b[39m\n\u001b[1;32m     56\u001b[0m \u001b[38;5;28;01mdef\u001b[39;00m \u001b[38;5;21mstop\u001b[39m(\u001b[38;5;28mself\u001b[39m):\n\u001b[0;32m---> 57\u001b[0m     \u001b[38;5;28;01mreturn\u001b[39;00m \u001b[38;5;28mmax\u001b[39m(\u001b[38;5;28mrange\u001b[39m\u001b[38;5;241m.\u001b[39mstop \u001b[38;5;28;01mfor\u001b[39;00m \u001b[38;5;28mrange\u001b[39m \u001b[38;5;129;01min\u001b[39;00m \u001b[38;5;28mself\u001b[39m\u001b[38;5;241m.\u001b[39mranges)\n",
      "\u001b[0;31mKeyboardInterrupt\u001b[0m: "
     ]
    }
   ],
   "source": [
    "# This selects the first entry of the tree\n",
    "entry = tree.arrays(library=\"ak\")[:1]\n",
    "\n",
    "# Cut on the photon reconstruction quality\n",
    "photon_reconstruction = entry['photon_isTightID']\n",
    "# isTightID==True means a photon identified as being well reconstructed, only the events which have True for both photons are kept\n",
    "photon_reconstruction_cut_bool = (photon_reconstruction[:, 0] == False) | (photon_reconstruction[:, 1]==False) # [:, i] selects the i-th lepton in each event\n",
    "print(\"The reconstruction quality of the two photons:\", photon_reconstruction[:,0], photon_reconstruction[:,1])\n",
    "print(f\"Apply cut based on reconstruction quality requirements?{photon_reconstruction_cut_bool}\")\n",
    "    \n",
    "# Cut on the transverse momentum\n",
    "photon_pt = entry['photon_pt']\n",
    "# Only the events where the leading photon has transverse momentum (pt) > 40 GeV and the sub-leading photon has pt > 30 GeV are kept\n",
    "# Since the two photons for each entry are ordered, the first photon is the leading one and the second one is the sub-leading one\n",
    "photon_pt_cut_bool = (photon_pt[:,0] < 40) | (photon_pt[:,1] < 30)\n",
    "print(\"The transverse momentum of the two photons:\", photon_pt[:,0], photon_pt[:,1])\n",
    "print(f\"Apply cut based on the transverse momentum requirements?{photon_pt_cut_bool}\")\n",
    "\n",
    "# Cut on the energy isolation\n",
    "photon_ptcone20 = entry['photon_ptcone20']\n",
    "# Only the events where the isolation transverse energy is less than 4 GeV are kept\n",
    "photon_ptcone20_cut_bool = (photon_ptcone20[:,0] > 4) | (photon_ptcone20[:,1] > 4)\n",
    "print(\"The isolation transverse energy of the two photons:\", photon_ptcone20[:,0], photon_ptcone20[:,1])\n",
    "print(f\"Apply cut based on the isolation transverse energy requirements?{photon_ptcone20_cut_bool}\")\n",
    "\n",
    "# Cut on the pseudorapidity in the barrel/end-cap transition region\n",
    "photon_eta = entry['photon_eta']\n",
    "# Only the events where modulus of photon_eta is outside the range 1.37 to 1.52 are kept\n",
    "condition_0 = (np.abs(photon_eta[:, 0]) < 1.52) & (np.abs(photon_eta[:, 0]) > 1.37)\n",
    "condition_1 = (np.abs(photon_eta[:, 1]) < 1.52) & (np.abs(photon_eta[:, 1]) > 1.37)\n",
    "photon_eta_cut_bool = (condition_0 | condition_1)\n",
    "print(\"The eta of the two photons:\", photon_eta[:,0], photon_eta[:,1])\n",
    "print(f\"Apply cut based on the eta requirements?{photon_eta_cut_bool}\")\n",
    "\n",
    "# This calculates the invariant mass of the 2-photon state\n",
    "p4 = vector.zip({\"pt\": entry['photon_pt'], \"eta\": entry['photon_eta'], \"phi\": entry['photon_phi'], \"e\": entry['photon_e']})\n",
    "invariant_mass = (p4[:, 0] + p4[:, 1]).M # .M calculates the invariant mass\n",
    "print(f\"The invariant mass of the 2-photon state is: {invariant_mass} GeV\")\n"
   ]
  },
  {
   "cell_type": "markdown",
   "metadata": {},
   "source": [
    "Based on our analysis, this entry should be removed because the photons do not match all our requirements.\n",
    "We can turn these checks and calculations into a set of functions."
   ]
  },
  {
   "cell_type": "code",
   "execution_count": 49,
   "metadata": {
    "tags": []
   },
   "outputs": [],
   "source": [
    "# Cut on the photon reconstruction quality\n",
    "def cut_photon_reconstruction(photon_isTightID):\n",
    "    # Only the events which have True for both photons are kept\n",
    "    return (photon_isTightID[:,0]==False) | (photon_isTightID[:,1]==False) \n",
    "# Cut on the transverse momentum\n",
    "def cut_photon_pt(photon_pt):\n",
    "# Only the events where photon_pt[0] > 40 GeV and photon_pt[1] > 30 GeV are kept\n",
    "    return (photon_pt[:,0] < 40) | (photon_pt[:,1] < 30)\n",
    "\n",
    "# Cut on the energy isolation\n",
    "def cut_isolation_pt(photon_ptcone20):\n",
    "# Only the events where the isolation transverse energy is less than 4 GeV are kept\n",
    "    return (photon_ptcone20[:,0] > 4) | (photon_ptcone20[:,1] > 4)\n",
    "\n",
    "# Cut on the pseudorapidity in barrel/end-cap transition region\n",
    "def cut_photon_eta_transition(photon_eta):\n",
    "# Only the events where modulus of photon_eta is outside the range 1.37 to 1.52 are kept\n",
    "    condition_0 = (np.abs(photon_eta[:, 0]) < 1.52) & (np.abs(photon_eta[:, 0]) > 1.37)\n",
    "    condition_1 = (np.abs(photon_eta[:, 1]) < 1.52) & (np.abs(photon_eta[:, 1]) > 1.37)\n",
    "    return condition_0 | condition_1\n",
    "\n",
    "# This function calculates the invariant mass of the 2-photon state\n",
    "def calc_mass(photon_pt, photon_eta, photon_phi, photon_e):\n",
    "    p4 = vector.zip({\"pt\": photon_pt, \"eta\": photon_eta, \"phi\": photon_phi, \"e\": photon_e})\n",
    "    invariant_mass = (p4[:, 0] + p4[:, 1]).M # .M calculates the invariant mass\n",
    "    return invariant_mass"
   ]
  },
  {
   "cell_type": "markdown",
   "metadata": {},
   "source": [
    "You may verify on your own that these functions give the same outputs as the previous code block.\n",
    "Now, \n",
    "    we shall apply these functions over the entire data tree using a `for` loop."
   ]
  },
  {
   "cell_type": "code",
   "execution_count": 50,
   "metadata": {
    "tags": []
   },
   "outputs": [],
   "source": [
    "# Define empty list to hold all data for this sample\n",
    "sample_data = []\n",
    "\n",
    "# Perform the cuts for each data entry in the tree\n",
    "for data in tree.iterate(variables, library=\"ak\"):\n",
    "    \n",
    "    # data[~boolean] is used to remove entries from the data set\n",
    "    photon_isTightID = data['photon_isTightID']\n",
    "    data = data[~cut_photon_reconstruction(photon_isTightID)]\n",
    "\n",
    "    photon_pt = data['photon_pt']\n",
    "    data = data[~cut_photon_pt(photon_pt)]\n",
    "\n",
    "    photon_ptcone20 = data['photon_ptcone20']\n",
    "    data = data[~cut_isolation_pt(photon_ptcone20)]\n",
    "\n",
    "    photon_eta = data['photon_eta']\n",
    "    data = data[~cut_photon_eta_transition(photon_eta)]\n",
    "    \n",
    "    data['mass'] = calc_mass(data['photon_pt'], data['photon_eta'], data['photon_phi'], data['photon_e'])\n",
    "\n",
    "    # Append data to the whole sample data list\n",
    "    sample_data.append(data)\n",
    "\n",
    "# turn sample_data back into an awkward array\n",
    "data15_periodG = ak.concatenate(sample_data)"
   ]
  },
  {
   "cell_type": "markdown",
   "metadata": {},
   "source": [
    "We can now plot the data using Matplotlib. \n",
    "The data will be turned into a histogram,\n",
    "    with bins of width 3 GeV.\n",
    "Note that much of the code written here is meant for the aesthetics of the plot."
   ]
  },
  {
   "cell_type": "code",
   "execution_count": 51,
   "metadata": {
    "tags": []
   },
   "outputs": [
    {
     "data": {
      "image/png": "[encoded data removed]",
      "text/plain": [
       "<Figure size 640x480 with 1 Axes>"
      ]
     },
     "metadata": {},
     "output_type": "display_data"
    }
   ],
   "source": [
    "# x-axis range of the plot\n",
    "xmin = 100 #GeV\n",
    "xmax = 160 #GeV\n",
    "\n",
    "# Histogram bin setup\n",
    "step_size = 3 #GeV\n",
    "bin_edges = np.arange(start=xmin, # The interval includes this value\n",
    "                    stop=xmax+step_size, # The interval doesn't include this value\n",
    "                    step=step_size ) # Spacing between values\n",
    "bin_centres = np.arange(start=xmin+step_size/2, # The interval includes this value\n",
    "                        stop=xmax+step_size/2, # The interval doesn't include this value\n",
    "                        step=step_size ) # Spacing between values\n",
    "\n",
    "# Creating histogram from data\n",
    "data_x,_ = np.histogram(ak.to_numpy(data15_periodG['mass']), \n",
    "                        bins=bin_edges ) # histogram the data\n",
    "data_x_errors = np.sqrt( data_x ) # statistical error on the data\n",
    "\n",
    "\n",
    "# *************\n",
    "# Main plot \n",
    "# *************\n",
    "main_axes = plt.gca() # get current axes\n",
    "\n",
    "# plot the data points\n",
    "main_axes.errorbar(x=bin_centres, y=data_x, yerr=data_x_errors,\n",
    "                    fmt='ko', # 'k' means black and 'o' is for circles \n",
    "                    label='Data') \n",
    "\n",
    "# set the x-limit of the main axes\n",
    "main_axes.set_xlim( left=xmin, right=xmax ) \n",
    "\n",
    "# separation of x axis minor ticks\n",
    "main_axes.xaxis.set_minor_locator( AutoMinorLocator() ) \n",
    "\n",
    "# set the axis tick parameters for the main axes\n",
    "main_axes.tick_params(which='both', # ticks on both x and y axes\n",
    "                        direction='in', # Put ticks inside and outside the axes\n",
    "                        top=True, # draw ticks on the top axis\n",
    "                        right=True ) # draw ticks on right axis\n",
    "\n",
    "# x-axis label\n",
    "main_axes.set_xlabel(r'di-photon invariant mass $\\mathrm{m_{\\gamma\\gamma}}$ [GeV]',\n",
    "                    fontsize=13, x=1, horizontalalignment='right' )\n",
    "\n",
    "# write y-axis label for main axes\n",
    "main_axes.set_ylabel('Events / '+str(step_size)+' GeV',\n",
    "                        y=1, horizontalalignment='right') \n",
    "\n",
    "# set y-axis limits for main axes\n",
    "main_axes.set_ylim( bottom=0, top=np.amax(data_x)*1.6 )\n",
    "\n",
    "# add minor ticks on y-axis for main axes\n",
    "main_axes.yaxis.set_minor_locator( AutoMinorLocator() ) \n",
    "\n",
    "# draw the legend\n",
    "main_axes.legend( frameon=False ); # no box around the legend"
   ]
  },
  {
   "cell_type": "markdown",
   "metadata": {},
   "source": [
    "Great,\n",
    "    we managed to plot `data15_periodG`! \n",
    "Now that we have understood how to manage the data, apply the cuts and calculate the mass, we can proceed to analyze the data!"
   ]
  },
  {
   "cell_type": "markdown",
   "metadata": {},
   "source": [
    "## Final Analysis"
   ]
  },
  {
   "cell_type": "markdown",
   "metadata": {},
   "source": [
    "For the final analysis, we’ll begin by applying the cuts and calculating the invariant masses across all the data. Once that's done, we'll fit the data to uncover the Higgs boson peak. Let’s kick things off by applying the cuts and calculating those invariant masses!"
   ]
  },
  {
   "cell_type": "code",
   "execution_count": 52,
   "metadata": {
    "tags": []
   },
   "outputs": [
    {
     "name": "stdout",
     "output_type": "stream",
     "text": [
      "Processing data15_periodD samples, /project/etp1/gduckeck/atlas/13TeV/GamGam/Data/data15_periodD.root\n",
      "Initial entries before cuts: 2396\n",
      "Entries after photon reconstruction cut: 478 (80.05% of initial data removed)\n",
      "Entries after photon pt cut: 191 (60.04% of remaining data removed)\n",
      "Entries after photon isolation cut: 105 (45.03% of remaining data removed)\n",
      "Entries after photon eta transition cut: 104 (0.95% of remaining data removed)\n",
      "Time taken to calculate invariant mass: 0.02 seconds\n",
      "Total entries before cuts (nintot): 2396\n",
      "Total entries after all cuts (nouttot): 104 for data15_periodD\n",
      "Processing data15_periodE samples, /project/etp1/gduckeck/atlas/13TeV/GamGam/Data/data15_periodE.root\n",
      "Initial entries before cuts: 21942\n",
      "Entries after photon reconstruction cut: 4436 (79.78% of initial data removed)\n",
      "Entries after photon pt cut: 1761 (60.30% of remaining data removed)\n",
      "Entries after photon isolation cut: 1161 (34.07% of remaining data removed)\n",
      "Entries after photon eta transition cut: 1151 (0.86% of remaining data removed)\n",
      "Time taken to calculate invariant mass: 0.04 seconds\n",
      "Total entries before cuts (nintot): 21942\n",
      "Total entries after all cuts (nouttot): 1151 for data15_periodE\n",
      "Processing data15_periodF samples, /project/etp1/gduckeck/atlas/13TeV/GamGam/Data/data15_periodF.root\n",
      "Initial entries before cuts: 15585\n",
      "Entries after photon reconstruction cut: 3173 (79.64% of initial data removed)\n",
      "Entries after photon pt cut: 1339 (57.80% of remaining data removed)\n",
      "Entries after photon isolation cut: 859 (35.85% of remaining data removed)\n",
      "Entries after photon eta transition cut: 855 (0.47% of remaining data removed)\n",
      "Time taken to calculate invariant mass: 0.06 seconds\n",
      "Total entries before cuts (nintot): 15585\n",
      "Total entries after all cuts (nouttot): 855 for data15_periodF\n",
      "Processing data15_periodG samples, /project/etp1/gduckeck/atlas/13TeV/GamGam/Data/data15_periodG.root\n",
      "Initial entries before cuts: 36070\n",
      "Entries after photon reconstruction cut: 7327 (79.69% of initial data removed)\n",
      "Entries after photon pt cut: 2942 (59.85% of remaining data removed)\n",
      "Entries after photon isolation cut: 1913 (34.98% of remaining data removed)\n",
      "Entries after photon eta transition cut: 1901 (0.63% of remaining data removed)\n",
      "Time taken to calculate invariant mass: 0.08 seconds\n",
      "Total entries before cuts (nintot): 36070\n",
      "Total entries after all cuts (nouttot): 1901 for data15_periodG\n",
      "Processing data15_periodH samples, /project/etp1/gduckeck/atlas/13TeV/GamGam/Data/data15_periodH.root\n",
      "Initial entries before cuts: 13613\n",
      "Entries after photon reconstruction cut: 2812 (79.34% of initial data removed)\n",
      "Entries after photon pt cut: 1150 (59.10% of remaining data removed)\n",
      "Entries after photon isolation cut: 761 (33.83% of remaining data removed)\n",
      "Entries after photon eta transition cut: 754 (0.92% of remaining data removed)\n",
      "Time taken to calculate invariant mass: 0.10 seconds\n",
      "Total entries before cuts (nintot): 13613\n",
      "Total entries after all cuts (nouttot): 754 for data15_periodH\n",
      "Processing data15_periodJ samples, /project/etp1/gduckeck/atlas/13TeV/GamGam/Data/data15_periodJ.root\n",
      "Initial entries before cuts: 73987\n",
      "Entries after photon reconstruction cut: 15257 (79.38% of initial data removed)\n",
      "Entries after photon pt cut: 6207 (59.32% of remaining data removed)\n",
      "Entries after photon isolation cut: 4000 (35.56% of remaining data removed)\n",
      "Entries after photon eta transition cut: 3958 (1.05% of remaining data removed)\n",
      "Time taken to calculate invariant mass: 0.13 seconds\n",
      "Total entries before cuts (nintot): 73987\n",
      "Total entries after all cuts (nouttot): 3958 for data15_periodJ\n",
      "Processing data16_periodA samples, /project/etp1/gduckeck/atlas/13TeV/GamGam/Data/data16_periodA.root\n",
      "Initial entries before cuts: 22978\n",
      "Entries after photon reconstruction cut: 4378 (80.95% of initial data removed)\n",
      "Entries after photon pt cut: 2021 (53.84% of remaining data removed)\n",
      "Entries after photon isolation cut: 1351 (33.15% of remaining data removed)\n",
      "Entries after photon eta transition cut: 1343 (0.59% of remaining data removed)\n",
      "Time taken to calculate invariant mass: 0.15 seconds\n",
      "Total entries before cuts (nintot): 22978\n",
      "Total entries after all cuts (nouttot): 1343 for data16_periodA\n",
      "Processing data16_periodB samples, /project/etp1/gduckeck/atlas/13TeV/GamGam/Data/data16_periodB.root\n",
      "Initial entries before cuts: 60391\n",
      "Entries after photon reconstruction cut: 11256 (81.36% of initial data removed)\n",
      "Entries after photon pt cut: 5587 (50.36% of remaining data removed)\n",
      "Entries after photon isolation cut: 3784 (32.27% of remaining data removed)\n",
      "Entries after photon eta transition cut: 3762 (0.58% of remaining data removed)\n",
      "Time taken to calculate invariant mass: 0.17 seconds\n",
      "Total entries before cuts (nintot): 60391\n",
      "Total entries after all cuts (nouttot): 3762 for data16_periodB\n",
      "Processing data16_periodC samples, /project/etp1/gduckeck/atlas/13TeV/GamGam/Data/data16_periodC.root\n",
      "Initial entries before cuts: 96566\n",
      "Entries after photon reconstruction cut: 18015 (81.34% of initial data removed)\n",
      "Entries after photon pt cut: 9103 (49.47% of remaining data removed)\n",
      "Entries after photon isolation cut: 6060 (33.43% of remaining data removed)\n",
      "Entries after photon eta transition cut: 6031 (0.48% of remaining data removed)\n",
      "Time taken to calculate invariant mass: 0.19 seconds\n",
      "Total entries before cuts (nintot): 96566\n",
      "Total entries after all cuts (nouttot): 6031 for data16_periodC\n",
      "Processing data16_periodD samples, /project/etp1/gduckeck/atlas/13TeV/GamGam/Data/data16_periodD.root\n",
      "Initial entries before cuts: 151983\n",
      "Entries after photon reconstruction cut: 28313 (81.37% of initial data removed)\n",
      "Entries after photon pt cut: 14177 (49.93% of remaining data removed)\n",
      "Entries after photon isolation cut: 9437 (33.43% of remaining data removed)\n",
      "Entries after photon eta transition cut: 9380 (0.60% of remaining data removed)\n",
      "Time taken to calculate invariant mass: 0.22 seconds\n",
      "Total entries before cuts (nintot): 151983\n",
      "Total entries after all cuts (nouttot): 9380 for data16_periodD\n",
      "Processing data16_periodE samples, /project/etp1/gduckeck/atlas/13TeV/GamGam/Data/data16_periodE.root\n",
      "Initial entries before cuts: 48254\n",
      "Entries after photon reconstruction cut: 8899 (81.56% of initial data removed)\n",
      "Entries after photon pt cut: 4474 (49.72% of remaining data removed)\n",
      "Entries after photon isolation cut: 2998 (32.99% of remaining data removed)\n",
      "Entries after photon eta transition cut: 2984 (0.47% of remaining data removed)\n",
      "Time taken to calculate invariant mass: 0.24 seconds\n",
      "Total entries before cuts (nintot): 48254\n",
      "Total entries after all cuts (nouttot): 2984 for data16_periodE\n",
      "Processing data16_periodF samples, /project/etp1/gduckeck/atlas/13TeV/GamGam/Data/data16_periodF.root\n",
      "Initial entries before cuts: 113617\n",
      "Entries after photon reconstruction cut: 20635 (81.84% of initial data removed)\n",
      "Entries after photon pt cut: 10245 (50.35% of remaining data removed)\n",
      "Entries after photon isolation cut: 6816 (33.47% of remaining data removed)\n",
      "Entries after photon eta transition cut: 6786 (0.44% of remaining data removed)\n",
      "Time taken to calculate invariant mass: 0.26 seconds\n",
      "Total entries before cuts (nintot): 113617\n",
      "Total entries after all cuts (nouttot): 6786 for data16_periodF\n",
      "Processing data16_periodG samples, /project/etp1/gduckeck/atlas/13TeV/GamGam/Data/data16_periodG.root\n",
      "Initial entries before cuts: 136784\n",
      "Entries after photon reconstruction cut: 24301 (82.23% of initial data removed)\n",
      "Entries after photon pt cut: 12378 (49.06% of remaining data removed)\n",
      "Entries after photon isolation cut: 7925 (35.98% of remaining data removed)\n",
      "Entries after photon eta transition cut: 7903 (0.28% of remaining data removed)\n",
      "Time taken to calculate invariant mass: 0.29 seconds\n",
      "Total entries before cuts (nintot): 136784\n",
      "Total entries after all cuts (nouttot): 7903 for data16_periodG\n",
      "Processing data16_periodK samples, /project/etp1/gduckeck/atlas/13TeV/GamGam/Data/data16_periodK.root\n",
      "Initial entries before cuts: 76021\n",
      "Entries after photon reconstruction cut: 13707 (81.97% of initial data removed)\n",
      "Entries after photon pt cut: 6922 (49.50% of remaining data removed)\n",
      "Entries after photon isolation cut: 4487 (35.18% of remaining data removed)\n",
      "Entries after photon eta transition cut: 4468 (0.42% of remaining data removed)\n",
      "Time taken to calculate invariant mass: 0.31 seconds\n",
      "Total entries before cuts (nintot): 76021\n",
      "Total entries after all cuts (nouttot): 4468 for data16_periodK\n",
      "Processing data16_periodL samples, /project/etp1/gduckeck/atlas/13TeV/GamGam/Data/data16_periodL.root\n",
      "Initial entries before cuts: 207065\n",
      "Entries after photon reconstruction cut: 37533 (81.87% of initial data removed)\n",
      "Entries after photon pt cut: 18868 (49.73% of remaining data removed)\n",
      "Entries after photon isolation cut: 12460 (33.96% of remaining data removed)\n",
      "Entries after photon eta transition cut: 12397 (0.51% of remaining data removed)\n",
      "Time taken to calculate invariant mass: 0.34 seconds\n",
      "Total entries before cuts (nintot): 207065\n",
      "Total entries after all cuts (nouttot): 12397 for data16_periodL\n",
      "\n",
      "Summary of Cuts across All Data Files:\n",
      "Total initial entries: 1077252\n",
      "Total entries after photon reconstruction cut: 200520 (81.39% reduction)\n",
      "Total entries after photon pt cut: 97365 (51.44% reduction)\n",
      "Total entries after photon isolation cut: 64117 (34.15% reduction)\n",
      "Total entries after photon eta transition cut: 63777 (0.53% reduction)\n",
      "Total entries after all cuts: 63777 (94.08% total reduction)\n",
      "\n",
      "Total Time Taken for Processing:\n",
      "Photon reconstruction cut: 0.06 seconds\n",
      "Photon pt cut: 0.04 seconds\n",
      "Photon isolation cut: 0.04 seconds\n",
      "Photon eta transition cut: 0.08 seconds\n",
      "Mass calculation: 0.34 seconds\n",
      "Overall total time taken: 8.62 seconds\n"
     ]
    }
   ],
   "source": [
    "import time\n",
    "import uproot\n",
    "import awkward as ak\n",
    "\n",
    "# Controls the fraction of all the events analyzed\n",
    "fraction = 1  # all of the data is used to run this analysis (implemented in the loop over the tree)\n",
    "              # reduce this if you want the code to run quicker\n",
    "\n",
    "all_data = []\n",
    "sample_data = []\n",
    "\n",
    "# Initialize cumulative counters\n",
    "cumulative_initial = 0\n",
    "cumulative_after_reconstruction = 0\n",
    "cumulative_after_pt = 0\n",
    "cumulative_after_isolation = 0\n",
    "cumulative_after_eta = 0\n",
    "cumulative_final = 0\n",
    "\n",
    "# Initialize total time counters\n",
    "total_time_reconstruction = 0\n",
    "total_time_pt = 0\n",
    "total_time_isolation = 0\n",
    "total_time_eta = 0\n",
    "total_time_mass_calc = 0\n",
    "total_start_time = time.time()\n",
    "\n",
    "# Loop over each file\n",
    "for val in samples_list: \n",
    "    fileString = path + val + \".root\"  # file name to open\n",
    "\n",
    "    # Print which sample is being processed\n",
    "    print(f\"Processing {val} samples, {fileString}\")\n",
    "\n",
    "    # Open file\n",
    "    with uproot.open(fileString + \":analysis\") as tree:\n",
    "        numevents = tree.num_entries\n",
    "\n",
    "        nintot = 0\n",
    "        nouttot = 0\n",
    "        \n",
    "        # Perform the cuts for each data entry in the tree and calculate the invariant mass\n",
    "        for data in tree.iterate(variables, library=\"ak\", entry_stop=numevents*fraction):\n",
    "            # Initial entry count\n",
    "            initial_count = len(data)\n",
    "            nintot += initial_count\n",
    "            print(f\"Initial entries before cuts: {initial_count}\")\n",
    "\n",
    "            # Apply the photon reconstruction cut\n",
    "            cut_start_time = time.time()\n",
    "            photon_isTightID = data['photon_isTightID']\n",
    "            data = data[~cut_photon_reconstruction(photon_isTightID)]\n",
    "            after_reconstruction_count = len(data)\n",
    "            reconstruction_cut_percentage = (initial_count - after_reconstruction_count) / initial_count * 100\n",
    "            cumulative_after_reconstruction += after_reconstruction_count\n",
    "            total_time_reconstruction += time.time() - cut_start_time\n",
    "            print(f\"Entries after photon reconstruction cut: {after_reconstruction_count} \"\n",
    "                  f\"({reconstruction_cut_percentage:.2f}% of initial data removed)\")\n",
    "\n",
    "            # Apply the photon pt cut\n",
    "            cut_start_time = time.time()\n",
    "            photon_pt = data['photon_pt']\n",
    "            data = data[~cut_photon_pt(photon_pt)]\n",
    "            after_pt_count = len(data)\n",
    "            pt_cut_percentage = (after_reconstruction_count - after_pt_count) / after_reconstruction_count * 100\n",
    "            cumulative_after_pt += after_pt_count\n",
    "            total_time_pt += time.time() - cut_start_time\n",
    "            print(f\"Entries after photon pt cut: {after_pt_count} \"\n",
    "                  f\"({pt_cut_percentage:.2f}% of remaining data removed)\")\n",
    "\n",
    "            # Apply the photon isolation cut\n",
    "            cut_start_time = time.time()\n",
    "            photon_ptcone20 = data['photon_ptcone20']\n",
    "            data = data[~cut_isolation_pt(photon_ptcone20)]\n",
    "            after_isolation_count = len(data)\n",
    "            isolation_cut_percentage = (after_pt_count - after_isolation_count) / after_pt_count * 100\n",
    "            cumulative_after_isolation += after_isolation_count\n",
    "            total_time_isolation += time.time() - cut_start_time\n",
    "            print(f\"Entries after photon isolation cut: {after_isolation_count} \"\n",
    "                  f\"({isolation_cut_percentage:.2f}% of remaining data removed)\")\n",
    "\n",
    "            # Apply the photon eta transition cut\n",
    "            cut_start_time = time.time()\n",
    "            photon_eta = data['photon_eta']\n",
    "            data = data[~cut_photon_eta_transition(photon_eta)]\n",
    "            after_eta_count = len(data)\n",
    "            eta_cut_percentage = (after_isolation_count - after_eta_count) / after_isolation_count * 100\n",
    "            cumulative_after_eta += after_eta_count\n",
    "            total_time_eta += time.time() - cut_start_time\n",
    "            print(f\"Entries after photon eta transition cut: {after_eta_count} \"\n",
    "                  f\"({eta_cut_percentage:.2f}% of remaining data removed)\")\n",
    "\n",
    "            # Calculate invariant mass\n",
    "            mass_calc_start_time = time.time()\n",
    "            data['mass'] = calc_mass(data['photon_pt'], data['photon_eta'], data['photon_phi'], data['photon_e'])\n",
    "            final_count = len(data)\n",
    "            nouttot += final_count\n",
    "            cumulative_final += final_count\n",
    "            total_time_mass_calc += time.time() - mass_calc_start_time\n",
    "            print(f\"Time taken to calculate invariant mass: {total_time_mass_calc:.2f} seconds\")\n",
    "\n",
    "            # Append data to the whole sample data list\n",
    "            sample_data.append(data)\n",
    "\n",
    "        print(f\"Total entries before cuts (nintot): {nintot}\")\n",
    "        print(f\"Total entries after all cuts (nouttot): {nouttot} for {val}\")\n",
    "\n",
    "        # Update cumulative counters\n",
    "        cumulative_initial += nintot\n",
    "\n",
    "# Total time taken\n",
    "total_time_taken = time.time() - total_start_time\n",
    "\n",
    "# Summarize the overall effect of the cuts\n",
    "print(\"\\nSummary of Cuts across All Data Files:\")\n",
    "print(f\"Total initial entries: {cumulative_initial}\")\n",
    "print(f\"Total entries after photon reconstruction cut: {cumulative_after_reconstruction} \"\n",
    "      f\"({(cumulative_initial - cumulative_after_reconstruction) / cumulative_initial * 100:.2f}% reduction)\")\n",
    "print(f\"Total entries after photon pt cut: {cumulative_after_pt} \"\n",
    "      f\"({(cumulative_after_reconstruction - cumulative_after_pt) / cumulative_after_reconstruction * 100:.2f}% reduction)\")\n",
    "print(f\"Total entries after photon isolation cut: {cumulative_after_isolation} \"\n",
    "      f\"({(cumulative_after_pt - cumulative_after_isolation) / cumulative_after_pt * 100:.2f}% reduction)\")\n",
    "print(f\"Total entries after photon eta transition cut: {cumulative_after_eta} \"\n",
    "      f\"({(cumulative_after_isolation - cumulative_after_eta) / cumulative_after_isolation * 100:.2f}% reduction)\")\n",
    "print(f\"Total entries after all cuts: {cumulative_final} \"\n",
    "      f\"({(cumulative_initial - cumulative_final) / cumulative_initial * 100:.2f}% total reduction)\")\n",
    "\n",
    "print(\"\\nTotal Time Taken for Processing:\")\n",
    "print(f\"Photon reconstruction cut: {total_time_reconstruction:.2f} seconds\")\n",
    "print(f\"Photon pt cut: {total_time_pt:.2f} seconds\")\n",
    "print(f\"Photon isolation cut: {total_time_isolation:.2f} seconds\")\n",
    "print(f\"Photon eta transition cut: {total_time_eta:.2f} seconds\")\n",
    "print(f\"Mass calculation: {total_time_mass_calc:.2f} seconds\")\n",
    "print(f\"Overall total time taken: {total_time_taken:.2f} seconds\")\n",
    "\n",
    "# Turns sample_data back into an awkward array\n",
    "all_data = ak.concatenate(sample_data)\n"
   ]
  },
  {
   "cell_type": "markdown",
   "metadata": {},
   "source": [
    "We are now ready to fit our data to effectively detect the Higgs boson! We will use a combination of a 4th order polynomial and a Gaussian function. The polynomial function represents the background, while the Gaussian function represents our signal. The Gaussian model is used to fit the signal due to the nature of the detector's resolution. The fourth-order polynomial is chosen for the background because it offers enough flexibility to capture the overall shape without overfitting, thereby reducing the influence of spurious data—random, irrelevant fluctuations or noise that do not correspond to the true signal or background."
   ]
  },
  {
   "cell_type": "code",
   "execution_count": 53,
   "metadata": {
    "tags": []
   },
   "outputs": [],
   "source": [
    "#Bem: ca.80% cut wg. ph_reconstruction bei allen Daten\n",
    " #danach ca 50% wg. pt_cut, 35% wg. pt_isol, <1% wg. pt_eta \n",
    "    #15 bis 16 sehr niedrige Abweichungen voneinander.\n",
    "    #Time 8.45s\n",
    "    #1.07M -> 63777\n",
    "    #127485.44 Daten pro Sekunde"
   ]
  },
  {
   "cell_type": "code",
   "execution_count": 54,
   "metadata": {
    "tags": []
   },
   "outputs": [
    {
     "data": {
      "text/plain": [
       "63777"
      ]
     },
     "execution_count": 54,
     "metadata": {},
     "output_type": "execute_result"
    }
   ],
   "source": [
    "len(all_data)"
   ]
  },
  {
   "cell_type": "code",
   "execution_count": 55,
   "metadata": {
    "tags": []
   },
   "outputs": [
    {
     "data": {
      "image/png": "[encoded data removed]",
      "text/plain": [
       "<Figure size 640x480 with 2 Axes>"
      ]
     },
     "metadata": {},
     "output_type": "display_data"
    }
   ],
   "source": [
    "\n",
    "data_x,_ = np.histogram(ak.to_numpy(all_data['mass']), \n",
    "                            bins=bin_edges ) # histogram the data\n",
    "data_x_errors = np.sqrt( data_x ) # statistical error on the data\n",
    "\n",
    "# data fit\n",
    "polynomial_mod = PolynomialModel( 4 ) # 4th order polynomial\n",
    "gaussian_mod = GaussianModel() # Gaussian\n",
    "\n",
    "# set initial guesses for the parameters of the polynomial model\n",
    "# c0 + c1*x + c2*x^2 + c3*x^3 + c4*x^4\n",
    "pars = polynomial_mod.guess(data_x, # data to use to guess parameter values\n",
    "                            x=bin_centres, c0=data_x.max(), c1=0,\n",
    "                            c2=0, c3=0, c4=0 )\n",
    "\n",
    "# set initial guesses for the parameters of the Gaussian model\n",
    "pars += gaussian_mod.guess(data_x, # data to use to guess parameter values\n",
    "                        x=bin_centres, amplitude=100, \n",
    "                        center=125, sigma=2 )\n",
    "\n",
    "model = polynomial_mod + gaussian_mod # combined model\n",
    "\n",
    "# fit the model to the data\n",
    "out = model.fit(data_x, # data to be fit\n",
    "                pars, # guesses for the parameters\n",
    "                x=bin_centres, weights=1/data_x_errors ) #ASK\n",
    "\n",
    "# background part of fit\n",
    "params_dict = out.params.valuesdict() # get the parameters from the fit to data\n",
    "c0 = params_dict['c0'] # c0 of c0 + c1*x + c2*x^2 + c3*x^3 + c4*x^4\n",
    "c1 = params_dict['c1'] # c1 of c0 + c1*x + c2*x^2 + c3*x^3 + c4*x^4\n",
    "c2 = params_dict['c2'] # c2 of c0 + c1*x + c2*x^2 + c3*x^3 + c4*x^4\n",
    "c3 = params_dict['c3'] # c3 of c0 + c1*x + c2*x^2 + c3*x^3 + c4*x^4\n",
    "c4 = params_dict['c4'] # c4 of c0 + c1*x + c2*x^2 + c3*x^3 + c4*x^4\n",
    "\n",
    "# get the background only part of the fit to data\n",
    "background = c0 + c1*bin_centres + c2*bin_centres**2 + c3*bin_centres**3 + c4*bin_centres**4\n",
    "\n",
    "# data fit - background fit = signal fit\n",
    "signal_x = data_x - background \n",
    "\n",
    "# *************\n",
    "# Main plot \n",
    "# *************\n",
    "plt.axes([0.1,0.3,0.85,0.65]) # left, bottom, width, height \n",
    "main_axes = plt.gca() # get current axes\n",
    "\n",
    "# plot the data points\n",
    "main_axes.errorbar(x=bin_centres, y=data_x, yerr=data_x_errors, \n",
    "                fmt='ko', # 'k' means black and 'o' means circles\n",
    "                label='Data' ) \n",
    "\n",
    "# plot the signal + background fit\n",
    "main_axes.plot(bin_centres, # x\n",
    "            out.best_fit, # y\n",
    "            '-r', # single red line\n",
    "            label='Sig+Bkg Fit ($m_H=125$ GeV)' )\n",
    "\n",
    "# plot the background only fit\n",
    "main_axes.plot(bin_centres, # x\n",
    "            background, # y\n",
    "            '--r', # dashed red line\n",
    "            label='Bkg (4th order polynomial)' )\n",
    "\n",
    "# set the x-limit of the main axes\n",
    "main_axes.set_xlim( left=xmin, right=xmax ) \n",
    "\n",
    "# separation of x-axis minor ticks\n",
    "main_axes.xaxis.set_minor_locator( AutoMinorLocator() ) \n",
    "\n",
    "# set the axis tick parameters for the main axes\n",
    "main_axes.tick_params(which='both', # ticks on both x and y axes\n",
    "                    direction='in', # Put ticks inside and outside the axes\n",
    "                    top=True, # draw ticks on the top axis\n",
    "                    labelbottom=False, # don't draw tick labels on bottom axis\n",
    "                    right=True ) # draw ticks on right axis\n",
    "\n",
    "# write y-axis label for main \n",
    "main_axes.set_ylabel('Events / '+str(step_size)+' GeV', \n",
    "                    horizontalalignment='right') \n",
    "\n",
    "# set the y-axis limit for the main axes\n",
    "main_axes.set_ylim( bottom=0, top=np.amax(data_x)*1.1 ) \n",
    "\n",
    "# set minor ticks on the y-axis of the main axes\n",
    "main_axes.yaxis.set_minor_locator( AutoMinorLocator() ) \n",
    "\n",
    "# avoid displaying y=0 on the main axes\n",
    "main_axes.yaxis.get_major_ticks()[0].set_visible(False) \n",
    "\n",
    "# Add text 'ATLAS Open Data' on plot\n",
    "plt.text(0.2, # x\n",
    "        0.92, # y\n",
    "        'ATLAS Open Data', # text\n",
    "        transform=main_axes.transAxes, # coordinate system used is that of main_axes\n",
    "        fontsize=13 ) \n",
    "\n",
    "# Add text 'for education' on plot\n",
    "plt.text(0.2, # x\n",
    "        0.86, # y\n",
    "        'for education', # text\n",
    "        transform=main_axes.transAxes, # coordinate system used is that of main_axes\n",
    "        style='italic',\n",
    "        fontsize=8 ) \n",
    "\n",
    "lumi = 36.1\n",
    "lumi_used = str(lumi*fraction) # luminosity to write on the plot\n",
    "plt.text(0.2, # x\n",
    "        0.8, # y\n",
    "        '$\\sqrt{s}$=13 TeV,$\\int$L dt = '+lumi_used+' fb$^{-1}$', # text\n",
    "        transform=main_axes.transAxes ) # coordinate system used is that of main_axes \n",
    "\n",
    "# Add a label for the analysis carried out\n",
    "plt.text(0.2, # x\n",
    "        0.74, # y\n",
    "        r'$H \\rightarrow \\gamma\\gamma$', # text \n",
    "        transform=main_axes.transAxes ) # coordinate system used is that of main_axes\n",
    "\n",
    "# draw the legend\n",
    "main_axes.legend(frameon=False, # no box around the legend\n",
    "                loc='lower left' ) # legend location \n",
    "\n",
    "\n",
    "# *************\n",
    "# Data-Bkg plot \n",
    "# *************\n",
    "plt.axes([0.1,0.1,0.85,0.2]) # left, bottom, width, height\n",
    "sub_axes = plt.gca() # get the current axes\n",
    "\n",
    "# set the y axis to be symmetric about Data-Background=0\n",
    "sub_axes.yaxis.set_major_locator( MaxNLocator(nbins='auto', \n",
    "                                            symmetric=True) )\n",
    "\n",
    "# plot Data-Background\n",
    "sub_axes.errorbar(x=bin_centres, y=signal_x, yerr=data_x_errors,\n",
    "                fmt='ko' ) # 'k' means black and 'o' means circles\n",
    "\n",
    "# draw the fit to data\n",
    "sub_axes.plot(bin_centres, # x\n",
    "            out.best_fit-background, # y\n",
    "            '-r' ) # single red line\n",
    "\n",
    "# draw the background only fit\n",
    "sub_axes.plot(bin_centres, # x\n",
    "            background-background, # y\n",
    "            '--r' )  # dashed red line\n",
    "\n",
    "# set the x-axis limits on the sub axes\n",
    "sub_axes.set_xlim( left=xmin, right=xmax ) \n",
    "\n",
    "# separation of x-axis minor ticks\n",
    "sub_axes.xaxis.set_minor_locator( AutoMinorLocator() ) \n",
    "\n",
    "# x-axis label\n",
    "sub_axes.set_xlabel(r'di-photon invariant mass $\\mathrm{m_{\\gamma\\gamma}}$ [GeV]',\n",
    "                    x=1, horizontalalignment='right', \n",
    "                    fontsize=13 ) \n",
    "\n",
    "# set the tick parameters for the sub axes\n",
    "sub_axes.tick_params(which='both', # ticks on both x and y axes\n",
    "                    direction='in', # Put ticks inside and outside the axes\n",
    "                    top=True, # draw ticks on the top axis\n",
    "                    right=True ) # draw ticks on right axis \n",
    "\n",
    "# separation of y-axis minor ticks\n",
    "sub_axes.yaxis.set_minor_locator( AutoMinorLocator() ) \n",
    "\n",
    "# y-axis label on the sub axes\n",
    "sub_axes.set_ylabel( 'Events-Bkg' ) \n",
    "\n",
    "\n",
    "# Generic features for both plots\n",
    "main_axes.yaxis.set_label_coords( -0.09, 1 ) # x,y coordinates of the y-axis label on the main axes\n",
    "sub_axes.yaxis.set_label_coords( -0.09, 0.5 ) # x,y coordinates of the y-axis label on the sub axes"
   ]
  },
  {
   "cell_type": "code",
   "execution_count": null,
   "metadata": {
    "tags": []
   },
   "outputs": [],
   "source": []
  },
  {
   "cell_type": "code",
   "execution_count": 56,
   "metadata": {
    "tags": []
   },
   "outputs": [
    {
     "data": {
      "text/plain": [
       "{'c0': 47422.71435268009,\n",
       " 'c1': -1228.1438111476673,\n",
       " 'c2': 12.06175491533642,\n",
       " 'c3': -0.05233152585190114,\n",
       " 'c4': 8.399791587200754e-05,\n",
       " 'amplitude': 1418.118481616663,\n",
       " 'center': 123.04781833315417,\n",
       " 'sigma': 5.978722568057815,\n",
       " 'fwhm': 14.078815477713906,\n",
       " 'height': 94.62681070890402}"
      ]
     },
     "execution_count": 56,
     "metadata": {},
     "output_type": "execute_result"
    }
   ],
   "source": [
    "params_dict"
   ]
  },
  {
   "cell_type": "markdown",
   "metadata": {},
   "source": [
    "And there it is—a clear peak in the invariant mass spectrum around 125 GeV, signaling the presence of the Higgs boson! While our main task may be done, there's still more to explore. Here are some additional tasks you can try with this notebook:"
   ]
  },
  {
   "cell_type": "markdown",
   "metadata": {},
   "source": [
    "* Check how many events are being thrown away by each cut in '[Applying a cut](#applying_cut)'\n",
    "* Add more cuts from the [Higgs discovery paper](https://www.sciencedirect.com/science/article/pii/S037026931200857X#se0090) in '[Changing a cut](#changing_cut)' and '[Applying a cut](#applying_cut)'\n",
    "* Find the reduced chi-squared for the fit in '[Plotting](#plotting)'\n",
    "* Find the mean of the fitted Gaussian in '[Plotting](#plotting)'\n",
    "* Find the width of the fitted Gaussian in '[Plotting](#plotting)'\n",
    "* Try different initial guesses for the parameters of the fit in '[Plotting](#plotting)'\n",
    "* Try different functions for the fit in '[Plotting](#plotting)'\n",
    "* Your idea!"
   ]
  },
  {
   "cell_type": "markdown",
   "metadata": {},
   "source": []
  },
  {
   "cell_type": "code",
   "execution_count": null,
   "metadata": {},
   "outputs": [],
   "source": []
  },
  {
   "cell_type": "code",
   "execution_count": null,
   "metadata": {},
   "outputs": [],
   "source": []
  }
 ],
 "metadata": {
  "kernelspec": {
   "display_name": "Python 3 (ipykernel)",
   "language": "python",
   "name": "python3"
  },
  "language_info": {
   "codemirror_mode": {
    "name": "ipython",
    "version": 3
   },
   "file_extension": ".py",
   "mimetype": "text/x-python",
   "name": "python",
   "nbconvert_exporter": "python",
   "pygments_lexer": "ipython3",
   "version": "3.11.5"
  }
 },
 "nbformat": 4,
 "nbformat_minor": 4
}
