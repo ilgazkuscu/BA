{
 "cells": [
  {
   "cell_type": "markdown",
   "metadata": {},
   "source": [
    "<CENTER><img src=\"../../images/ATLASOD.gif\" style=\"width:50%\"></CENTER>"
   ]
  },
  {
   "cell_type": "markdown",
   "metadata": {},
   "source": [
    "# How to rediscover the Higgs boson yourself!\n",
    "This notebook uses ATLAS Open Data http://opendata.atlas.cern to show you the steps to rediscover the Higgs boson yourself!\n",
    "\n",
    "ATLAS Open Data provides open access to proton-proton collision data at the LHC for educational purposes. ATLAS Open Data resources are ideal for high-school, undergraduate and postgraduate students.\n",
    "\n",
    "Notebooks are web applications that allow you to create and share documents that can contain for example:\n",
    "1. live code\n",
    "2. visualisations\n",
    "3. narrative text\n",
    "\n",
    "This analysis loosely follows the discovery of the Higgs boson by ATLAS https://arxiv.org/pdf/1207.7214.pdf (mostly Section 5 and 5.1)\n",
    "\n",
    "By the end of this notebook you will be able to:\n",
    "1. rediscover the Higgs boson yourself!\n",
    "2. know some general principles of a particle physics analysis\n",
    "\n",
    "Feynman diagram pictures are borrowed from our friends at https://www.particlezoo.net"
   ]
  },
  {
   "cell_type": "markdown",
   "metadata": {},
   "source": [
    "<CENTER><img src=\"images/feynman_diagrams/Hyy_feynman.png\" style=\"width:40%\"></CENTER>"
   ]
  },
  {
   "cell_type": "markdown",
   "metadata": {},
   "source": [
    "<a id='contents'></a>"
   ]
  },
  {
   "cell_type": "markdown",
   "metadata": {},
   "source": [
    "Contents: \n",
    "\n",
    "[Running a Jupyter notebook](#running) <br />\n",
    "[First time setup on your computer (no need on mybinder)](#setup_computer) <br />\n",
    "[To setup everytime](#setup_everytime) <br />\n",
    "[Lumi, fraction, file path](#fraction) <br />\n",
    "[Samples](#samples) <br />\n",
    "[Changing a cut](#changing_cut) <br />\n",
    "[Applying a cut](#applying_cut) <br />\n",
    "[Plotting](#plotting) <br />\n",
    "[What can you do to explore this analysis?](#going_further) <br />"
   ]
  },
  {
   "cell_type": "markdown",
   "metadata": {},
   "source": [
    "<a id='running'></a>"
   ]
  },
  {
   "cell_type": "markdown",
   "metadata": {},
   "source": [
    "## Running a Jupyter notebook\n",
    "\n",
    "To run the whole Jupyter notebook, in the top menu click Cell -> Run All.\n",
    "\n",
    "To propagate a change you've made to a piece of code, click Cell -> Run All Below.\n",
    "\n",
    "You can also run a single code cell, by clicking Cell -> Run Cells, or using the keyboard shortcut Shift+Enter."
   ]
  },
  {
   "cell_type": "markdown",
   "metadata": {},
   "source": [
    "<a id='setup_computer'></a>"
   ]
  },
  {
   "cell_type": "markdown",
   "metadata": {},
   "source": [
    "## First time setup on your computer (no need on mybinder)\n",
    "This first cell only needs to be run the first time you open this notebook on your computer. \n",
    "\n",
    "If you close Jupyter and re-open on the same computer, you won't need to run this first cell again.\n",
    "\n",
    "If you open on binder, you don't need to run this cell."
   ]
  },
  {
   "cell_type": "code",
   "execution_count": 1,
   "metadata": {
    "tags": []
   },
   "outputs": [],
   "source": [
    "#import sys\n",
    "#!{sys.executable} -m pip install --upgrade --user pip # update the pip package installer\n",
    "#!{sys.executable} -m pip install -U numpy==2.0.0 pandas==2.2.2 uproot==5.3.9 matplotlib==3.9.0 lmfit==1.3.1 awkward-pandas==2023.8.0 aiohttp==3.9.5 requests==2.32.3 --user # install required packages"
   ]
  },
  {
   "cell_type": "markdown",
   "metadata": {},
   "source": [
    "[Back to contents](#contents)"
   ]
  },
  {
   "cell_type": "markdown",
   "metadata": {},
   "source": [
    "<a id='setup_everytime'></a>"
   ]
  },
  {
   "cell_type": "markdown",
   "metadata": {},
   "source": [
    "## To setup everytime\n",
    "Cell -> Run All Below\n",
    "\n",
    "to be done every time you re-open this notebook\n",
    "\n",
    "We're going to be using a number of tools to help us:\n",
    "* uproot: lets us read .root files typically used in particle physics into data formats used in python\n",
    "* pandas: lets us store data as dataframes, a format widely used in python\n",
    "* numpy: provides numerical calculations such as histogramming\n",
    "* matplotlib: common tool for making plots, figures, images, visualisations\n",
    "* lmfit: tool for statistical fitting"
   ]
  },
  {
   "cell_type": "code",
   "execution_count": 2,
   "metadata": {
    "tags": []
   },
   "outputs": [],
   "source": [
    "#!pip install lmfit"
   ]
  },
  {
   "cell_type": "code",
   "execution_count": 3,
   "metadata": {
    "tags": []
   },
   "outputs": [],
   "source": [
    "#!pip install awkward-pandas"
   ]
  },
  {
   "cell_type": "code",
   "execution_count": 4,
   "metadata": {
    "tags": []
   },
   "outputs": [
    {
     "name": "stdout",
     "output_type": "stream",
     "text": [
      "Total number of entries: 1042541441\n"
     ]
    }
   ],
   "source": [
    "import uproot\n",
    "\n",
    "# Define the path to the directory and the list of samples\n",
    "tuple_path = \"/project/etp1/dkoch/ATLASOpenData/ntuples-data-samples/\"\n",
    "samples_list = ['data15_allyear', 'data16_allyear_A', 'data16_allyear_B', \n",
    "                'data16_allyear_C', 'data16_allyear_D', 'data16_allyear_E', \n",
    "                'data16_allyear_F', 'data16_allyear_G', 'data16_allyear_H']\n",
    "\n",
    "# Initialize a variable to store the total number of entries\n",
    "total_entries = 0\n",
    "\n",
    "# Iterate through each sample in the list\n",
    "for sample in samples_list:\n",
    "    # Construct the full path to the .root file\n",
    "    pname = f\"{tuple_path}{sample}.root\"\n",
    "    \n",
    "    try:\n",
    "        # Open the .root file and access the 'analysis' tree\n",
    "        with uproot.open(pname + ':analysis') as tree:\n",
    "            # Add the number of entries in the current tree to the total\n",
    "            total_entries += tree.num_entries\n",
    "    except Exception as e:\n",
    "        print(f\"Error processing {pname}: {e}\")\n",
    "\n",
    "# Print the total number of entries across all samples\n",
    "print(f\"Total number of entries: {total_entries}\")\n"
   ]
  },
  {
   "cell_type": "code",
   "execution_count": 5,
   "metadata": {
    "tags": []
   },
   "outputs": [],
   "source": [
    "myt = tree.iterate([\"photon_n\",\"photon_pt\",\"photon_eta\",\"photon_phi\",\"photon_e\",\n",
    "                            \"photon_isTightID\",\"photon_ptcone20\"], # add more variables here if you want to use them\n",
    "                           library=\"ak\")"
   ]
  },
  {
   "cell_type": "code",
   "execution_count": 6,
   "metadata": {
    "tags": []
   },
   "outputs": [],
   "source": [
    "data = next(myt)"
   ]
  },
  {
   "cell_type": "code",
   "execution_count": 7,
   "metadata": {
    "tags": []
   },
   "outputs": [],
   "source": [
    "import uproot # for reading .root files\n",
    "import awkward as ak \n",
    "import time # to measure time to analyse\n",
    "import math # for mathematical functions such as square root\n",
    "import numpy as np # # for numerical calculations such as histogramming\n",
    "import matplotlib.pyplot as plt # for plotting\n",
    "from matplotlib.ticker import MaxNLocator,AutoMinorLocator # for minor ticks;\n",
    "from lmfit.models import PolynomialModel, GaussianModel # for the signal and background fits\n",
    "import requests # for HTTP access\n",
    "import aiohttp # HTTP client support\n",
    "import vector"
   ]
  },
  {
   "cell_type": "code",
   "execution_count": 8,
   "metadata": {
    "tags": []
   },
   "outputs": [
    {
     "data": {
      "text/html": [
       "<pre>[[False, False],\n",
       " [False],\n",
       " [False, False, True],\n",
       " [],\n",
       " [False, False],\n",
       " [True, False],\n",
       " [False, False, True, False, False, False],\n",
       " [False],\n",
       " [False, False, False],\n",
       " [False],\n",
       " ...,\n",
       " [True, False, False],\n",
       " [False, False, False, False],\n",
       " [False, False, False, False],\n",
       " [False],\n",
       " [False, False, False],\n",
       " [False, False],\n",
       " [False, False],\n",
       " [False, False, False],\n",
       " [False, True, False]]\n",
       "-------------------------------------------\n",
       "type: 1649337 * var * bool</pre>"
      ],
      "text/plain": [
       "<Array [[False, False], ..., [False, ..., False]] type='1649337 * var * bool'>"
      ]
     },
     "execution_count": 8,
     "metadata": {},
     "output_type": "execute_result"
    }
   ],
   "source": [
    "data.photon_pt\n",
    "data[\"photon_isTightID\"]"
   ]
  },
  {
   "cell_type": "code",
   "execution_count": 9,
   "metadata": {
    "tags": []
   },
   "outputs": [
    {
     "data": {
      "text/html": [
       "<pre>[2,\n",
       " 1,\n",
       " 3,\n",
       " 0,\n",
       " 2,\n",
       " 2,\n",
       " 6,\n",
       " 1,\n",
       " 3,\n",
       " 1,\n",
       " ...,\n",
       " 3,\n",
       " 4,\n",
       " 4,\n",
       " 1,\n",
       " 3,\n",
       " 2,\n",
       " 2,\n",
       " 3,\n",
       " 3]\n",
       "---------------------\n",
       "type: 1649337 * int32</pre>"
      ],
      "text/plain": [
       "<Array [2, 1, 3, 0, 2, 2, 6, ..., 4, 1, 3, 2, 2, 3, 3] type='1649337 * int32'>"
      ]
     },
     "execution_count": 9,
     "metadata": {},
     "output_type": "execute_result"
    }
   ],
   "source": [
    "data.photon_n"
   ]
  },
  {
   "cell_type": "code",
   "execution_count": 10,
   "metadata": {
    "tags": []
   },
   "outputs": [],
   "source": [
    "#lumi = 0.5 # fb-1 # data_A only\n",
    "#lumi = 1.9 # fb-1 # data_B only\n",
    "#lumi = 2.9 # fb-1 # data_C only\n",
    "#lumi = 4.7 # fb-1 # data_D only\n",
    "lumi = 10 # fb-1 # data_A,data_B,data_C,data_D\n",
    "GeV = 1\n",
    "MeV = 0.001\n",
    "fraction = 1 # reduce this is you want the code to run quicker\n",
    "\n",
    "#tuple_path = \"Input/GamGam/Data/\" # local \n",
    "tuple_path = \"/project/etp1/dkoch/ATLASOpenData/ntuples-data-samples/\"\n",
    "#tuple_path = \"https://atlas-opendata.web.cern.ch/atlas-opendata/samples/2020/GamGam/Data/\" # web address"
   ]
  },
  {
   "cell_type": "markdown",
   "metadata": {},
   "source": [
    "<a id='samples'></a>"
   ]
  },
  {
   "cell_type": "markdown",
   "metadata": {},
   "source": [
    "## Samples\n",
    "\n",
    "Samples to process"
   ]
  },
  {
   "cell_type": "code",
   "execution_count": 11,
   "metadata": {
    "tags": []
   },
   "outputs": [],
   "source": [
    "samples_list = ['data15_allyear', 'data16_allyear_A', 'data16_allyear_B', \n",
    "                'data16_allyear_C', 'data16_allyear_D', 'data16_allyear_E', \n",
    "                'data16_allyear_F', 'data16_allyear_G', 'data16_allyear_H']\n",
    "#samples_list = ['data16_allyear_D']"
   ]
  },
  {
   "cell_type": "code",
   "execution_count": 12,
   "metadata": {
    "tags": []
   },
   "outputs": [],
   "source": [
    "def get_data_from_files():\n",
    "\n",
    "\n",
    "    frames = [] # define empty list to hold data\n",
    "    for val in samples_list: # loop over each file\n",
    "        fileString = tuple_path+val+\".root\" # file name to open\n",
    "        temp = read_file(fileString,val) # call the function read_file defined below\n",
    "        frames.append(temp) # append dataframe returned from read_file to list of dataframes\n",
    "    data = ak.concatenate(frames) # concatenatelist of awkward arrays\n",
    "    \n",
    "    return data # return dataframe"
   ]
  },
  {
   "cell_type": "code",
   "execution_count": 13,
   "metadata": {
    "tags": []
   },
   "outputs": [],
   "source": [
    "def calc_myy(photon_pt,photon_eta,photon_phi,photon_e):\n",
    "    # construct awkward 4-vector array\n",
    "    p4 = vector.awk(ak.zip(dict(pt=photon_pt, eta=photon_eta, phi=photon_phi, E=photon_e)))\n",
    "    # calculate invariant mass of first 4 leptons\n",
    "    # [:, i] selects the i-th lepton in each event\n",
    "    # .M calculates the invariant mass\n",
    "    return (p4[:, 0] + p4[:, 1])\n",
    "\n"
   ]
  },
  {
   "cell_type": "code",
   "execution_count": null,
   "metadata": {
    "tags": []
   },
   "outputs": [],
   "source": []
  },
  {
   "cell_type": "markdown",
   "metadata": {},
   "source": [
    "<a id='changing_cut'></a>"
   ]
  },
  {
   "cell_type": "code",
   "execution_count": 14,
   "metadata": {
    "tags": []
   },
   "outputs": [],
   "source": [
    "# Cut on photon reconstruction quality\n",
    "# paper: \"Photon candidates are required to pass identification criteria\"\n",
    "def cut_photon_reconstruction(photon_isTightID):\n",
    "    # Keep only the events where the first two photons are both True\n",
    "    return (photon_isTightID[:, 0]) & (photon_isTightID[:, 1])\n",
    "\n",
    "    \n",
    "# Cut on Transverse momentum\n",
    "# paper: \"The leading (sub-leading) photon candidate is required to have ET > 40 GeV (30 GeV)\"\n",
    "def cut_photon_pt(photon_pt):\n",
    "\n",
    "    return (photon_pt[:,0] >40 ) & (photon_pt[:,1]>30 )\n",
    "\n",
    "# Cut on energy isolation\n",
    "# paper: \"Photon candidates are required to have an isolation transverse energy of less than 4 GeV\"\n",
    "def cut_isolation_pt(photon_ptcone20):\n",
    "# want to keep events where isolation eT<4000 MeV\n",
    "    return (photon_ptcone20[:,0]<4) & (photon_ptcone20[:,1]<4 )\n",
    "\n",
    "# Cut on pseudorapidity in barrel/end-cap transition region\n",
    "# paper: \"excluding the calorimeter barrel/end-cap transition region 1.37 < |η| < 1.52\"\n",
    "def cut_photon_eta_transition(photon_eta):\n",
    "# want to keep events where modulus of photon_eta is outside the range 1.37 to 1.52\n",
    "    return ((np.abs(photon_eta[:,0])>1.52) | (np.abs(photon_eta[:,0])<1.37)) & ((np.abs(photon_eta[:,1])>1.52) | (np.abs(photon_eta[:,1])<1.37))\n",
    "\n",
    "\n",
    "def cut_n_photon(photon_n):\n",
    "# >=2\n",
    "    return photon_n>=2\n"
   ]
  },
  {
   "cell_type": "code",
   "execution_count": 15,
   "metadata": {
    "tags": []
   },
   "outputs": [],
   "source": [
    "import time\n",
    "import numpy as np\n",
    "import pandas as pd\n",
    "import uproot\n",
    "import awkward as ak\n",
    "\n",
    "# Initialize global cutflow dictionary\n",
    "global_cutflow = {\n",
    "    \"Before Cuts\": 0,\n",
    "    \"After #of Photon cut\": 0, \n",
    "    \"After photon reconstruction cut\": 0,\n",
    "    \"After photon pt cut\": 0,\n",
    "    \"After photon isolation cut\": 0,\n",
    "    \"After photon eta transition cut\": 0\n",
    "}\n",
    "\n",
    "def read_file(path, sample, fraction=1.0):\n",
    "    start = time.time()\n",
    "    print(f\"\\tProcessing: {sample}\")\n",
    "    data_all = []\n",
    "\n",
    "    # Initialize local cutflow dictionary\n",
    "    local_cutflow = {\n",
    "        \"Before Cuts\": 0,\n",
    "        \"After #of Photon cut\":0,\n",
    "        \"After photon reconstruction cut\": 0,\n",
    "        \"After photon pt cut\": 0,\n",
    "        \"After photon isolation cut\": 0,\n",
    "        \"After photon eta transition cut\": 0\n",
    "    }\n",
    "\n",
    "    with uproot.open(path + \":analysis\") as tree:\n",
    "        numevents = tree.num_entries\n",
    "        for data in tree.iterate([\"photon_n\", \"photon_pt\", \"photon_eta\", \"photon_phi\", \"photon_e\",\n",
    "                                  \"photon_isTightID\", \"photon_ptcone20\"],\n",
    "                                 library=\"ak\",\n",
    "                                 entry_stop=int(numevents*fraction)):\n",
    "            \n",
    "            \n",
    "            local_cutflow[\"Before Cuts\"] += len(data)\n",
    "            global_cutflow[\"Before Cuts\"] += len(data)\n",
    "            \n",
    "            data = data[cut_n_photon(data.photon_n)]\n",
    "            local_cutflow[\"After #of Photon cut\"] += len(data)\n",
    "            global_cutflow[\"After #of Photon cut\"] += len(data)\n",
    "\n",
    "            data = data[cut_photon_reconstruction(data.photon_isTightID)]\n",
    "            local_cutflow[\"After photon reconstruction cut\"] += len(data)\n",
    "            global_cutflow[\"After photon reconstruction cut\"] += len(data)\n",
    "\n",
    "            data = data[cut_photon_pt(data.photon_pt)]\n",
    "            local_cutflow[\"After photon pt cut\"] += len(data)\n",
    "            global_cutflow[\"After photon pt cut\"] += len(data)\n",
    "\n",
    "            data = data[cut_isolation_pt(data.photon_ptcone20)]\n",
    "            local_cutflow[\"After photon isolation cut\"] += len(data)\n",
    "            global_cutflow[\"After photon isolation cut\"] += len(data)\n",
    "\n",
    "            data = data[cut_photon_eta_transition(data.photon_eta)]\n",
    "            local_cutflow[\"After photon eta transition cut\"] += len(data)\n",
    "            global_cutflow[\"After photon eta transition cut\"] += len(data)\n",
    "\n",
    "            data['myy'] = calc_myy(data.photon_pt, data.photon_eta, data.photon_phi, data.photon_e)\n",
    "            data_all.append(data)\n",
    "\n",
    "            elapsed = time.time() - start\n",
    "            print(f\"\\t\\t nIn: {local_cutflow['Before Cuts']},\\t nOut: \\t{len(data)}\\t in {round(elapsed,1)}s\")\n",
    "\n",
    "    final_data = ak.concatenate(data_all, highlevel=True)\n",
    "\n",
    "    print(\"\\nLocal Cutflow Summary:\")\n",
    "    print(f\"{'Cut':<35}{'Entries':<15}{'Percentage Reduction':<25}\")\n",
    "    print(\"-\" * 75)\n",
    "    previous_entries = local_cutflow[\"Before Cuts\"]\n",
    "    for cut, entries in local_cutflow.items():\n",
    "        if cut == \"Before Cuts\":\n",
    "            print(f\"{cut:<35}{entries:<15}-\")\n",
    "        else:\n",
    "            reduction = (previous_entries - entries) / previous_entries * 100\n",
    "            print(f\"{cut:<35}{entries:<15}{reduction:.2f}%\")\n",
    "        previous_entries = entries\n",
    "    total_reduction = (local_cutflow[\"Before Cuts\"] - local_cutflow[\"After photon eta transition cut\"]) / local_cutflow[\"Before Cuts\"] * 100\n",
    "    print(\"-\" * 75)\n",
    "    print(f\"{'Total entries after all cuts':<35}{local_cutflow['After photon eta transition cut']:<15}{total_reduction:.2f}%\")\n",
    "\n",
    "    return final_data\n",
    "\n"
   ]
  },
  {
   "cell_type": "markdown",
   "metadata": {},
   "source": [
    "[Back to contents](#contents)"
   ]
  },
  {
   "cell_type": "markdown",
   "metadata": {},
   "source": [
    "This is where the processing happens (this will take some minutes)"
   ]
  },
  {
   "cell_type": "code",
   "execution_count": null,
   "metadata": {
    "tags": []
   },
   "outputs": [
    {
     "name": "stdout",
     "output_type": "stream",
     "text": [
      "\tProcessing: data15_allyear\n",
      "\t\t nIn: 2059111,\t nOut: \t52\t in 3.7s\n",
      "\t\t nIn: 4118222,\t nOut: \t30\t in 6.6s\n",
      "\t\t nIn: 6177333,\t nOut: \t123\t in 9.6s\n",
      "\t\t nIn: 8236444,\t nOut: \t229\t in 12.4s\n",
      "\t\t nIn: 10295555,\t nOut: \t96\t in 15.0s\n",
      "\t\t nIn: 12354666,\t nOut: \t146\t in 17.6s\n",
      "\t\t nIn: 14413777,\t nOut: \t77\t in 20.3s\n",
      "\t\t nIn: 16472888,\t nOut: \t112\t in 22.8s\n",
      "\t\t nIn: 18531999,\t nOut: \t96\t in 25.3s\n",
      "\t\t nIn: 20591110,\t nOut: \t113\t in 27.8s\n",
      "\t\t nIn: 22650221,\t nOut: \t94\t in 30.3s\n",
      "\t\t nIn: 24709332,\t nOut: \t103\t in 32.9s\n",
      "\t\t nIn: 26768443,\t nOut: \t98\t in 35.4s\n",
      "\t\t nIn: 28827554,\t nOut: \t105\t in 37.9s\n",
      "\t\t nIn: 30886665,\t nOut: \t103\t in 40.5s\n",
      "\t\t nIn: 32945776,\t nOut: \t106\t in 43.0s\n",
      "\t\t nIn: 35004887,\t nOut: \t87\t in 45.6s\n",
      "\t\t nIn: 37063998,\t nOut: \t115\t in 48.3s\n",
      "\t\t nIn: 39123109,\t nOut: \t111\t in 50.8s\n",
      "\t\t nIn: 41182220,\t nOut: \t104\t in 53.3s\n",
      "\t\t nIn: 43241331,\t nOut: \t100\t in 55.8s\n",
      "\t\t nIn: 45300442,\t nOut: \t115\t in 58.6s\n",
      "\t\t nIn: 47359553,\t nOut: \t97\t in 61.3s\n",
      "\t\t nIn: 49418664,\t nOut: \t105\t in 63.9s\n",
      "\t\t nIn: 51477775,\t nOut: \t98\t in 66.3s\n",
      "\t\t nIn: 53536886,\t nOut: \t101\t in 68.9s\n",
      "\t\t nIn: 55595997,\t nOut: \t91\t in 71.5s\n",
      "\t\t nIn: 57655108,\t nOut: \t297\t in 74.2s\n",
      "\t\t nIn: 59714219,\t nOut: \t601\t in 77.1s\n",
      "\t\t nIn: 61773330,\t nOut: \t608\t in 79.7s\n",
      "\t\t nIn: 63832441,\t nOut: \t624\t in 82.4s\n",
      "\t\t nIn: 65891552,\t nOut: \t690\t in 85.2s\n",
      "\t\t nIn: 67950663,\t nOut: \t545\t in 87.9s\n",
      "\t\t nIn: 70009774,\t nOut: \t548\t in 90.5s\n",
      "\t\t nIn: 72068885,\t nOut: \t521\t in 93.2s\n",
      "\t\t nIn: 74127996,\t nOut: \t131\t in 95.8s\n",
      "\t\t nIn: 76187107,\t nOut: \t97\t in 98.4s\n",
      "\t\t nIn: 78246218,\t nOut: \t107\t in 100.8s\n",
      "\t\t nIn: 80305329,\t nOut: \t90\t in 103.5s\n",
      "\t\t nIn: 82364440,\t nOut: \t111\t in 106.0s\n"
     ]
    }
   ],
   "source": [
    "#pname = '/project/etp1/dkoch/ATLASOpenData/ntuples-data-samples/data15_allyear.root'\n",
    "start = time.time() # time at start of whole processing\n",
    "data = get_data_from_files() # process all files\n",
    "#data = read_file_new(pname) #\n",
    "elapsed = time.time() - start # time after whole processing\n",
    "print(\"Time taken: \"+str(round(elapsed,1))+\"s\") # print total time taken to process every file"
   ]
  },
  {
   "cell_type": "code",
   "execution_count": null,
   "metadata": {
    "tags": []
   },
   "outputs": [],
   "source": [
    "data"
   ]
  },
  {
   "cell_type": "markdown",
   "metadata": {},
   "source": [
    "## Plotting\n",
    "If you only want a make a change in the plot: Cell -> Run All Below\n",
    "\n",
    "Define function to plot the data."
   ]
  },
  {
   "cell_type": "code",
   "execution_count": null,
   "metadata": {
    "tags": []
   },
   "outputs": [],
   "source": [
    "import numpy as np\n",
    "import matplotlib.pyplot as plt\n",
    "from awkward import Array, to_list\n",
    "from lmfit.models import PolynomialModel, GaussianModel\n",
    "from matplotlib.ticker import AutoMinorLocator, MaxNLocator\n",
    "\n",
    "def plot_data(data):\n",
    "    # Ensure data is an awkward array\n",
    "    myy_data = Array(data['myy']) if not isinstance(data['myy'], Array) else data['myy']\n",
    "    \n",
    "    # Check for NaN values\n",
    "    myy_np = to_list(myy_data)\n",
    "    if np.any(np.isnan(myy_np)):\n",
    "        raise ValueError(\"Input data contains NaN values!\")\n",
    "\n",
    "    xmin = 100  # GeV\n",
    "    xmax = 160  # GeV\n",
    "    step_size = 2  # GeV\n",
    "    \n",
    "    bin_edges = np.arange(start=xmin, stop=xmax + step_size, step=step_size)\n",
    "    bin_centres = np.arange(start=xmin + step_size / 2, stop=xmax + step_size / 2, step=step_size)\n",
    "    \n",
    "    print(\"bin_centres is:\", bin_centres)\n",
    "\n",
    "    # Convert awkward array to a numpy array for histogram\n",
    "    data_x, _ = np.histogram(myy_np, bins=bin_edges)  # histogram the data\n",
    "\n",
    "    print('data myy is:', myy_np)\n",
    "    print(\"data_x is:\", data_x)\n",
    "    \n",
    "    # Check for NaN values in histogram data\n",
    "    if np.any(np.isnan(data_x)):\n",
    "        raise ValueError(\"Histogram data contains NaN values!\")\n",
    "\n",
    "    data_x_errors = np.sqrt(data_x)  # statistical error on the data\n",
    "\n",
    "    # Avoid fitting if all data_x is zero (which leads to NaNs)\n",
    "    if np.all(data_x == 0):\n",
    "        raise ValueError(\"All histogram counts are zero; cannot fit a model.\")\n",
    "\n",
    "    # Fit models\n",
    "    polynomial_mod = PolynomialModel(4)  # 4th order polynomial\n",
    "    gaussian_mod = GaussianModel()  # Gaussian\n",
    "\n",
    "    # Set initial guesses for the parameters of the polynomial model\n",
    "    pars = polynomial_mod.guess(data_x, x=bin_centres, c0=data_x.max(), c1=20000, c2=1000, c3=0, c4=0)\n",
    "    print('data_x.max() is:', data_x.max())\n",
    "\n",
    "    # Set initial gues\n"
   ]
  },
  {
   "cell_type": "code",
   "execution_count": null,
   "metadata": {
    "tags": []
   },
   "outputs": [],
   "source": [
    "data['myy'] #invriant masses"
   ]
  },
  {
   "cell_type": "markdown",
   "metadata": {},
   "source": [
    "[Back to contents](#contents)"
   ]
  },
  {
   "cell_type": "markdown",
   "metadata": {},
   "source": [
    "Call the function to plot the data"
   ]
  },
  {
   "cell_type": "code",
   "execution_count": null,
   "metadata": {
    "tags": []
   },
   "outputs": [],
   "source": [
    "plot_data(data)"
   ]
  },
  {
   "cell_type": "markdown",
   "metadata": {},
   "source": [
    "[Back to contents](#contents)"
   ]
  },
  {
   "cell_type": "markdown",
   "metadata": {},
   "source": [
    "<a id='going_further'></a>"
   ]
  },
  {
   "cell_type": "markdown",
   "metadata": {},
   "source": [
    "## What can you do to explore this analysis?\n",
    "\n",
    "* Increase the fraction of data used in '[Lumi, fraction, file path](#fraction)'\n",
    "* Use data_B, data_C and data_D in '[Samples](#samples)'\n",
    "* Check how many events are being thrown away by each cut in '[Applying a cut](#applying_cut)'\n",
    "* Add more cuts from the [Higgs discovery paper](https://www.sciencedirect.com/science/article/pii/S037026931200857X#se0090) in '[Changing a cut](#changing_cut)' and '[Applying a cut](#applying_cut)'\n",
    "* Find the reduced chi-squared for the fit in '[Plotting](#plotting)'\n",
    "* Find the mean of the fitted Gaussian in '[Plotting](#plotting)'\n",
    "* Find the width of the fitted Gaussian in '[Plotting](#plotting)'\n",
    "* Try different initial guesses for the parameters of the fit in '[Plotting](#plotting)'\n",
    "* Try different functions for the fit in '[Plotting](#plotting)'\n",
    "* Your idea!"
   ]
  },
  {
   "cell_type": "markdown",
   "metadata": {},
   "source": [
    "[Back to contents](#contents)"
   ]
  },
  {
   "cell_type": "code",
   "execution_count": null,
   "metadata": {
    "tags": []
   },
   "outputs": [],
   "source": [
    "data"
   ]
  },
  {
   "cell_type": "code",
   "execution_count": null,
   "metadata": {},
   "outputs": [],
   "source": [
    "def plot_data(data):   \n",
    "    # Define your range, binning, and calculate the histogram\n",
    "    xmin = 100 # GeV\n",
    "    xmax = 160 # GeV\n",
    "    step_size = 2 # GeV\n",
    "    \n",
    "    bin_edges = np.arange(start=xmin, stop=xmax + step_size, step=step_size)\n",
    "    bin_centres = np.arange(start=xmin + step_size/2, stop=xmax + step_size/2, step=step_size)\n",
    "\n",
    "    data_x, _ = np.histogram(data['myy'], bins=bin_edges)\n",
    "    data_x_errors = np.sqrt(data_x)  # Statistical error on the data\n",
    "\n",
    "    # Define the polynomial and Gaussian models\n",
    "    polynomial_mod = PolynomialModel(4)  # 4th order polynomial\n",
    "    gaussian_mod = GaussianModel()\n",
    "\n",
    "    # Initial parameter guesses\n",
    "    pars = polynomial_mod.guess(data_x, x=bin_centres, c0=data_x.max(), c1=0, c2=0, c3=0, c4=0)\n",
    "    pars += gaussian_mod.guess(data_x, x=bin_centres, amplitude=1600, center=125, sigma=2)\n",
    "\n",
    "    # Combine the models\n",
    "    model = polynomial_mod + gaussian_mod\n",
    "\n",
    "    # Fit the model to the data\n",
    "    out = model.fit(data_x, pars, x=bin_centres, weights=1/data_x_errors)\n",
    "\n",
    "    # Check if fit was successful\n",
    "    if out.success:\n",
    "        print(\"Fit was successful!\")\n",
    "    else:\n",
    "        print(\"Fit failed!\")\n",
    "\n",
    "    # Extract and print fit parameters\n",
    "    params_dict = out.params.valuesdict()  # Get the fitted parameter values as a dictionary\n",
    "    for param, value in params_dict.items():\n",
    "        print(f\"{param} = {value}\")\n",
    "    \n",
    "    # Optional: return the parameters for further use\n",
    "    return params_dict\n",
    "\n",
    "    # ... (rest of your plotting code)\n"
   ]
  },
  {
   "cell_type": "code",
   "execution_count": null,
   "metadata": {
    "tags": []
   },
   "outputs": [],
   "source": [
    "plot_data(data)"
   ]
  },
  {
   "cell_type": "code",
   "execution_count": null,
   "metadata": {},
   "outputs": [],
   "source": [
    "params, out = plot_data(data)\n",
    "print(\"Fitted parameters: \", params)\n"
   ]
  },
  {
   "cell_type": "code",
   "execution_count": null,
   "metadata": {},
   "outputs": [],
   "source": []
  },
  {
   "cell_type": "code",
   "execution_count": null,
   "metadata": {},
   "outputs": [],
   "source": []
  },
  {
   "cell_type": "code",
   "execution_count": null,
   "metadata": {
    "tags": []
   },
   "outputs": [],
   "source": []
  },
  {
   "cell_type": "code",
   "execution_count": null,
   "metadata": {},
   "outputs": [],
   "source": [
    "import matplotlib.pyplot as plt\n",
    "import awkward as ak\n",
    "\n",
    "# Assuming 'data_filtered' is your filtered DataFrame from the previous step\n",
    "# First, flatten the 'photon_pt' lists into a 1D array using Awkward\n",
    "all_photon_pt = ak.flatten(data['photon_e']).to_list()\n",
    "\n",
    "# Now plot the distribution of photon transverse momenta\n",
    "plt.figure(figsize=(10, 6))\n",
    "plt.hist(all_photon_pt, bins=60, range = (100,160), color='b', alpha=0.7)\n",
    "\n",
    "# Adding labels and title\n",
    "plt.title('Distribution of Photon Energy', fontsize=14)\n",
    "plt.xlabel('Photon_e [GeV]', fontsize=12)\n",
    "plt.ylabel('Number of Events', fontsize=12)\n",
    "\n",
    "# Show the plot\n",
    "plt.show()\n"
   ]
  },
  {
   "cell_type": "code",
   "execution_count": null,
   "metadata": {},
   "outputs": [],
   "source": [
    "import matplotlib.pyplot as plt\n",
    "import awkward as ak\n",
    "\n",
    "# Assuming 'data_filtered' is your filtered DataFrame from the previous step\n",
    "# Flatten the 'photon_pt' lists into 1D arrays using Awkward\n",
    "all_photon_pt1 = ak.flatten(data['photon_pt'][0]).to_list()\n",
    "all_photon_pt2 = ak.flatten(data['photon_pt'][1]).to_list()\n",
    "\n",
    "# Create a figure with two subplots (1 row, 2 columns)\n",
    "plt.figure(figsize=(12, 6))\n",
    "\n",
    "# Plot for the first photon\n",
    "plt.subplot(1, 2, 1)  # 1 row, 2 columns, first plot\n",
    "plt.hist(all_photon_pt1, bins=60, range=(0, 250), color='b', alpha=0.7)\n",
    "plt.title('Photon 1: Transverse Momentum', fontsize=14)\n",
    "plt.xlabel('Photon pT [GeV]', fontsize=12)\n",
    "plt.ylabel('%', fontsize=12)\n",
    "\n",
    "# Plot for the second photon\n",
    "plt.subplot(1, 2, 2)  # 1 row, 2 columns, second plot\n",
    "plt.hist(all_photon_pt2, bins=60, range=(0, 250), color='r', alpha=0.7)\n",
    "plt.title('Photon 2: Transverse Momentum', fontsize=14)\n",
    "plt.xlabel('Photon pT [GeV]', fontsize=12)\n",
    "plt.ylabel('%', fontsize=12)\n",
    "\n",
    "# Adjust the layout to make sure plots don't overlap\n",
    "plt.tight_layout()\n",
    "\n",
    "# Show the plots\n",
    "plt.show()\n"
   ]
  },
  {
   "cell_type": "code",
   "execution_count": null,
   "metadata": {},
   "outputs": [],
   "source": [
    "import matplotlib.pyplot as plt\n",
    "import awkward as ak\n",
    "\n",
    "# Assuming 'data_filtered' is your filtered DataFrame from the previous step\n",
    "# Flatten the 'photon_pt' lists into 1D arrays using Awkward\n",
    "all_photon_pt1 = ak.flatten(data['photon_eta'][0]).to_list()\n",
    "all_photon_pt2 = ak.flatten(data['photon_eta'][1]).to_list()\n",
    "\n",
    "# Create a figure with two subplots (1 row, 2 columns)\n",
    "plt.figure(figsize=(12, 6))\n",
    "\n",
    "# Plot for the first photon\n",
    "plt.subplot(1, 2, 1)  # 1 row, 2 columns, first plot\n",
    "plt.hist(all_photon_pt1, bins=8, range=(-4, 4), color='b', alpha=0.7)\n",
    "plt.title('Photon 1: Eta', fontsize=14)\n",
    "plt.xlabel('Photon eta  ', fontsize=12)\n",
    "plt.ylabel('%', fontsize=12)\n",
    "\n",
    "# Plot for the second photon\n",
    "plt.subplot(1, 2, 2)  # 1 row, 2 columns, second plot\n",
    "plt.hist(all_photon_pt2, bins=8, range=(-4, 4), color='r', alpha=0.7)\n",
    "plt.title('Photon 2: Eta', fontsize=14)\n",
    "plt.xlabel('Photon eta  ]', fontsize=12)\n",
    "plt.ylabel('%', fontsize=12)\n",
    "\n",
    "# Adjust the layout to make sure plots don't overlap\n",
    "plt.tight_layout()\n",
    "\n",
    "# Show the plots\n",
    "plt.show()\n"
   ]
  },
  {
   "cell_type": "code",
   "execution_count": null,
   "metadata": {
    "tags": []
   },
   "outputs": [],
   "source": []
  },
  {
   "cell_type": "code",
   "execution_count": null,
   "metadata": {},
   "outputs": [],
   "source": [
    "import matplotlib.pyplot as plt\n",
    "import awkward as ak\n",
    "\n",
    "# Assuming 'data_filtered' is your filtered DataFrame from the previous step\n",
    "# Flatten the 'photon_pt' lists into 1D arrays using Awkward\n",
    "all_photon_pt1 = ak.flatten(data['photon_ptcone20'][0]).to_list()\n",
    "all_photon_pt2 = ak.flatten(data['photon_ptcone20'][1]).to_list()\n",
    "\n",
    "# Create a figure with two subplots (1 row, 2 columns)\n",
    "plt.figure(figsize=(12, 6))\n",
    "\n",
    "# Plot for the first photon\n",
    "plt.subplot(1, 2, 1)  # 1 row, 2 columns, first plot\n",
    "plt.hist(all_photon_pt1, bins=10, range=(0, 10), color='b', alpha=0.7)\n",
    "plt.title('Photon 1: ptcone20', fontsize=14)\n",
    "plt.xlabel('ptcone20 value  ', fontsize=12)\n",
    "plt.ylabel('%', fontsize=12)\n",
    "\n",
    "# Plot for the second photon\n",
    "plt.subplot(1, 2, 2)  # 1 row, 2 columns, second plot\n",
    "plt.hist(all_photon_pt2, bins=10, range=(0, 10), color='r', alpha=0.7)\n",
    "plt.title('Photon 2: ptcone20', fontsize=14)\n",
    "plt.xlabel('ptcone20 value ', fontsize=12)\n",
    "plt.ylabel('%', fontsize=12)\n",
    "\n",
    "# Adjust the layout to make sure plots don't overlap\n",
    "plt.tight_layout()\n",
    "\n",
    "# Show the plots\n",
    "plt.show()\n"
   ]
  },
  {
   "cell_type": "code",
   "execution_count": null,
   "metadata": {
    "tags": []
   },
   "outputs": [],
   "source": [
    "import matplotlib.pyplot as plt\n",
    "import awkward as ak\n",
    "\n",
    "# Assuming 'data_filtered' is your filtered DataFrame from the previous step\n",
    "# Flatten the 'photon_pt' lists into 1D arrays using Awkward\n",
    "all_photon_pt1 = ak.flatten(data['photon_phi'][0]).to_list()\n",
    "all_photon_pt2 = ak.flatten(data['photon_phi'][1]).to_list()\n",
    "\n",
    "# Create a figure with two subplots (1 row, 2 columns)\n",
    "plt.figure(figsize=(12, 6))\n",
    "\n",
    "# Plot for the first photon\n",
    "plt.subplot(1, 2, 1)  # 1 row, 2 columns, first plot\n",
    "plt.hist(all_photon_pt1, bins=10, range=(0, 10), color='b', alpha=0.7)\n",
    "plt.title('Photon 1: phi', fontsize=14)\n",
    "plt.xlabel('Photon phi  ', fontsize=12)\n",
    "plt.ylabel('%', fontsize=12)\n",
    "\n",
    "# Plot for the second photon\n",
    "plt.subplot(1, 2, 2)  # 1 row, 2 columns, second plot\n",
    "plt.hist(all_photon_pt2, bins=10, range=(0, 10), color='r', alpha=0.7)\n",
    "plt.title('Photon 2: phi', fontsize=14)\n",
    "plt.xlabel('Photon phi  ]', fontsize=12)\n",
    "plt.ylabel('%', fontsize=12)\n",
    "\n",
    "# Adjust the layout to make sure plots don't overlap\n",
    "plt.tight_layout()\n",
    "\n",
    "# Show the plots\n",
    "plt.show()\n"
   ]
  },
  {
   "cell_type": "code",
   "execution_count": null,
   "metadata": {
    "tags": []
   },
   "outputs": [],
   "source": []
  },
  {
   "cell_type": "code",
   "execution_count": null,
   "metadata": {},
   "outputs": [],
   "source": [
    "data['photon_isTightID']"
   ]
  },
  {
   "cell_type": "code",
   "execution_count": null,
   "metadata": {},
   "outputs": [],
   "source": []
  },
  {
   "cell_type": "code",
   "execution_count": null,
   "metadata": {},
   "outputs": [],
   "source": []
  },
  {
   "cell_type": "code",
   "execution_count": null,
   "metadata": {},
   "outputs": [],
   "source": []
  },
  {
   "cell_type": "code",
   "execution_count": null,
   "metadata": {},
   "outputs": [],
   "source": []
  },
  {
   "cell_type": "code",
   "execution_count": null,
   "metadata": {},
   "outputs": [],
   "source": []
  },
  {
   "cell_type": "code",
   "execution_count": null,
   "metadata": {},
   "outputs": [],
   "source": []
  },
  {
   "cell_type": "code",
   "execution_count": null,
   "metadata": {},
   "outputs": [],
   "source": []
  },
  {
   "cell_type": "code",
   "execution_count": null,
   "metadata": {},
   "outputs": [],
   "source": []
  },
  {
   "cell_type": "code",
   "execution_count": null,
   "metadata": {},
   "outputs": [],
   "source": []
  },
  {
   "cell_type": "code",
   "execution_count": null,
   "metadata": {},
   "outputs": [],
   "source": []
  },
  {
   "cell_type": "code",
   "execution_count": null,
   "metadata": {},
   "outputs": [],
   "source": []
  },
  {
   "cell_type": "code",
   "execution_count": null,
   "metadata": {},
   "outputs": [],
   "source": []
  },
  {
   "cell_type": "code",
   "execution_count": null,
   "metadata": {},
   "outputs": [],
   "source": []
  }
 ],
 "metadata": {
  "kernelspec": {
   "display_name": "Python 3 (ipykernel)",
   "language": "python",
   "name": "python3"
  },
  "language_info": {
   "codemirror_mode": {
    "name": "ipython",
    "version": 3
   },
   "file_extension": ".py",
   "mimetype": "text/x-python",
   "name": "python",
   "nbconvert_exporter": "python",
   "pygments_lexer": "ipython3",
   "version": "3.11.5"
  }
 },
 "nbformat": 4,
 "nbformat_minor": 4
}
