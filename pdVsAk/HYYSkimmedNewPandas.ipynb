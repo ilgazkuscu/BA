{
 "cells": [
  {
   "cell_type": "markdown",
   "metadata": {},
   "source": [
    "<CENTER><img src=\"../../images/ATLASOD.gif\" style=\"width:50%\"></CENTER>"
   ]
  },
  {
   "cell_type": "markdown",
   "metadata": {},
   "source": [
    "# How to rediscover the Higgs boson yourself!\n",
    "This notebook uses ATLAS Open Data http://opendata.atlas.cern to show you the steps to rediscover the Higgs boson yourself!\n",
    "\n",
    "ATLAS Open Data provides open access to proton-proton collision data at the LHC for educational purposes. ATLAS Open Data resources are ideal for high-school, undergraduate and postgraduate students.\n",
    "\n",
    "Notebooks are web applications that allow you to create and share documents that can contain for example:\n",
    "1. live code\n",
    "2. visualisations\n",
    "3. narrative text\n",
    "\n",
    "This analysis loosely follows the discovery of the Higgs boson by ATLAS https://arxiv.org/pdf/1207.7214.pdf (mostly Section 5 and 5.1)\n",
    "\n",
    "By the end of this notebook you will be able to:\n",
    "1. rediscover the Higgs boson yourself!\n",
    "2. know some general principles of a particle physics analysis\n",
    "\n",
    "Feynman diagram pictures are borrowed from our friends at https://www.particlezoo.net"
   ]
  },
  {
   "cell_type": "markdown",
   "metadata": {},
   "source": [
    "<CENTER><img src=\"images/feynman_diagrams/Hyy_feynman.png\" style=\"width:40%\"></CENTER>"
   ]
  },
  {
   "cell_type": "markdown",
   "metadata": {},
   "source": [
    "<a id='contents'></a>"
   ]
  },
  {
   "cell_type": "markdown",
   "metadata": {},
   "source": [
    "Contents: \n",
    "\n",
    "[Running a Jupyter notebook](#running) <br />\n",
    "[First time setup on your computer (no need on mybinder)](#setup_computer) <br />\n",
    "[To setup everytime](#setup_everytime) <br />\n",
    "[Lumi, fraction, file path](#fraction) <br />\n",
    "[Samples](#samples) <br />\n",
    "[Changing a cut](#changing_cut) <br />\n",
    "[Applying a cut](#applying_cut) <br />\n",
    "[Plotting](#plotting) <br />\n",
    "[What can you do to explore this analysis?](#going_further) <br />"
   ]
  },
  {
   "cell_type": "markdown",
   "metadata": {},
   "source": [
    "<a id='running'></a>"
   ]
  },
  {
   "cell_type": "markdown",
   "metadata": {},
   "source": [
    "## Running a Jupyter notebook\n",
    "\n",
    "To run the whole Jupyter notebook, in the top menu click Cell -> Run All.\n",
    "\n",
    "To propagate a change you've made to a piece of code, click Cell -> Run All Below.\n",
    "\n",
    "You can also run a single code cell, by clicking Cell -> Run Cells, or using the keyboard shortcut Shift+Enter."
   ]
  },
  {
   "cell_type": "markdown",
   "metadata": {},
   "source": [
    "<a id='setup_computer'></a>"
   ]
  },
  {
   "cell_type": "markdown",
   "metadata": {},
   "source": [
    "## First time setup on your computer (no need on mybinder)\n",
    "This first cell only needs to be run the first time you open this notebook on your computer. \n",
    "\n",
    "If you close Jupyter and re-open on the same computer, you won't need to run this first cell again.\n",
    "\n",
    "If you open on binder, you don't need to run this cell."
   ]
  },
  {
   "cell_type": "code",
   "execution_count": 3,
   "metadata": {
    "tags": []
   },
   "outputs": [],
   "source": [
    "#import sys\n",
    "#!{sys.executable} -m pip install --upgrade --user pip # update the pip package installer\n",
    "#!{sys.executable} -m pip install -U numpy==2.0.0 pandas==2.2.2 uproot==5.3.9 matplotlib==3.9.0 lmfit==1.3.1 awkward-pandas==2023.8.0 aiohttp==3.9.5 requests==2.32.3 --user # install required packages"
   ]
  },
  {
   "cell_type": "markdown",
   "metadata": {},
   "source": [
    "[Back to contents](#contents)"
   ]
  },
  {
   "cell_type": "markdown",
   "metadata": {},
   "source": [
    "<a id='setup_everytime'></a>"
   ]
  },
  {
   "cell_type": "markdown",
   "metadata": {},
   "source": [
    "## To setup everytime\n",
    "Cell -> Run All Below\n",
    "\n",
    "to be done every time you re-open this notebook\n",
    "\n",
    "We're going to be using a number of tools to help us:\n",
    "* uproot: lets us read .root files typically used in particle physics into data formats used in python\n",
    "* pandas: lets us store data as dataframes, a format widely used in python\n",
    "* numpy: provides numerical calculations such as histogramming\n",
    "* matplotlib: common tool for making plots, figures, images, visualisations\n",
    "* lmfit: tool for statistical fitting"
   ]
  },
  {
   "cell_type": "code",
   "execution_count": 4,
   "metadata": {
    "tags": []
   },
   "outputs": [],
   "source": [
    "#!pip install lmfit"
   ]
  },
  {
   "cell_type": "code",
   "execution_count": 5,
   "metadata": {
    "tags": []
   },
   "outputs": [],
   "source": [
    "#!pip install awkward-pandas"
   ]
  },
  {
   "cell_type": "code",
   "execution_count": 6,
   "metadata": {
    "tags": []
   },
   "outputs": [],
   "source": [
    "import uproot # for reading .root files\n",
    "import pandas as pd # to store data as dataframea\n",
    "import time # to measure time to analyse\n",
    "import math # for mathematical functions such as square root\n",
    "import numpy as np # # for numerical calculations such as histogramming\n",
    "import matplotlib.pyplot as plt # for plotting\n",
    "from matplotlib.ticker import MaxNLocator,AutoMinorLocator # for minor ticks;\n",
    "from lmfit.models import PolynomialModel, GaussianModel # for the signal and background fits\n",
    "import requests # for HTTP access\n",
    "import aiohttp # HTTP client support"
   ]
  },
  {
   "cell_type": "markdown",
   "metadata": {},
   "source": [
    "### check tree content of old and new"
   ]
  },
  {
   "cell_type": "code",
   "execution_count": 7,
   "metadata": {
    "tags": []
   },
   "outputs": [
    {
     "data": {
      "text/plain": [
       "['runNumber',\n",
       " 'eventNumber',\n",
       " 'channelNumber',\n",
       " 'mcWeight',\n",
       " 'scaleFactor_PILEUP',\n",
       " 'scaleFactor_ELE',\n",
       " 'scaleFactor_MUON',\n",
       " 'scaleFactor_PHOTON',\n",
       " 'scaleFactor_TAU',\n",
       " 'scaleFactor_BTAG',\n",
       " 'scaleFactor_LepTRIGGER',\n",
       " 'scaleFactor_PhotonTRIGGER',\n",
       " 'trigE',\n",
       " 'trigM',\n",
       " 'trigP',\n",
       " 'lep_n',\n",
       " 'lep_truthMatched',\n",
       " 'lep_trigMatched',\n",
       " 'lep_pt',\n",
       " 'lep_eta',\n",
       " 'lep_phi',\n",
       " 'lep_E',\n",
       " 'lep_z0',\n",
       " 'lep_charge',\n",
       " 'lep_type',\n",
       " 'lep_isTightID',\n",
       " 'lep_ptcone30',\n",
       " 'lep_etcone20',\n",
       " 'lep_trackd0pvunbiased',\n",
       " 'lep_tracksigd0pvunbiased',\n",
       " 'met_et',\n",
       " 'met_phi',\n",
       " 'jet_n',\n",
       " 'jet_pt',\n",
       " 'jet_eta',\n",
       " 'jet_phi',\n",
       " 'jet_E',\n",
       " 'jet_jvt',\n",
       " 'jet_trueflav',\n",
       " 'jet_truthMatched',\n",
       " 'jet_MV2c10',\n",
       " 'photon_n',\n",
       " 'photon_truthMatched',\n",
       " 'photon_trigMatched',\n",
       " 'photon_pt',\n",
       " 'photon_eta',\n",
       " 'photon_phi',\n",
       " 'photon_E',\n",
       " 'photon_isTightID',\n",
       " 'photon_ptcone30',\n",
       " 'photon_etcone20',\n",
       " 'photon_convType',\n",
       " 'tau_n',\n",
       " 'tau_pt',\n",
       " 'tau_eta',\n",
       " 'tau_phi',\n",
       " 'tau_E',\n",
       " 'tau_isTightID',\n",
       " 'tau_truthMatched',\n",
       " 'tau_trigMatched',\n",
       " 'tau_nTracks',\n",
       " 'tau_BDTid',\n",
       " 'ditau_m',\n",
       " 'lep_pt_syst',\n",
       " 'met_et_syst',\n",
       " 'jet_pt_syst',\n",
       " 'photon_pt_syst',\n",
       " 'tau_pt_syst',\n",
       " 'XSection',\n",
       " 'SumWeights',\n",
       " 'largeRjet_n',\n",
       " 'largeRjet_pt',\n",
       " 'largeRjet_eta',\n",
       " 'largeRjet_phi',\n",
       " 'largeRjet_E',\n",
       " 'largeRjet_m',\n",
       " 'largeRjet_truthMatched',\n",
       " 'largeRjet_D2',\n",
       " 'largeRjet_tau32',\n",
       " 'largeRjet_pt_syst',\n",
       " 'tau_charge']"
      ]
     },
     "execution_count": 7,
     "metadata": {},
     "output_type": "execute_result"
    }
   ],
   "source": [
    "# old file\n",
    "pnameo = 'https://atlas-opendata.web.cern.ch/atlas-opendata/samples/2020/GamGam/Data/'+'data_A'+\".GamGam.root\"\n",
    "\n",
    "treeo = uproot.open(pnameo+':mini')\n",
    "\n",
    "treeo.keys()"
   ]
  },
  {
   "cell_type": "code",
   "execution_count": 8,
   "metadata": {
    "tags": []
   },
   "outputs": [
    {
     "name": "stdout",
     "output_type": "stream",
     "text": [
      "108492747\n"
     ]
    },
    {
     "data": {
      "text/plain": [
       "['ScaleFactor_PILEUP',\n",
       " 'mcWeight',\n",
       " 'xsec',\n",
       " 'trigE',\n",
       " 'trigM',\n",
       " 'ScaleFactor_BTAG',\n",
       " 'jet_n',\n",
       " 'jet_pt',\n",
       " 'jet_eta',\n",
       " 'jet_phi',\n",
       " 'jet_e',\n",
       " 'jet_DL1d77_isBtagged',\n",
       " 'jet_jvt',\n",
       " 'largeRJet_n',\n",
       " 'largeRJet_pt',\n",
       " 'largeRJet_eta',\n",
       " 'largeRJet_phi',\n",
       " 'largeRJet_e',\n",
       " 'largeRJet_m',\n",
       " 'largeRJet_D2',\n",
       " 'ScaleFactor_ELE',\n",
       " 'ScaleFactor_MUON',\n",
       " 'lep_n',\n",
       " 'lep_type',\n",
       " 'lep_pt',\n",
       " 'lep_eta',\n",
       " 'lep_phi',\n",
       " 'lep_e',\n",
       " 'lep_charge',\n",
       " 'lep_ptvarcone30',\n",
       " 'lep_topoetcone20',\n",
       " 'lep_z0',\n",
       " 'lep_d0',\n",
       " 'lep_d0sig',\n",
       " 'lep_isTight',\n",
       " 'lep_isTightID',\n",
       " 'lep_isTightIso',\n",
       " 'ScaleFactor_PHOTON',\n",
       " 'photon_n',\n",
       " 'photon_pt',\n",
       " 'photon_eta',\n",
       " 'photon_phi',\n",
       " 'photon_e',\n",
       " 'photon_ptcone20',\n",
       " 'photon_topoetcone40',\n",
       " 'photon_isTight',\n",
       " 'photon_isTightID',\n",
       " 'photon_isTightIso',\n",
       " 'ScaleFactor_TAU',\n",
       " 'tau_n',\n",
       " 'tau_pt',\n",
       " 'tau_eta',\n",
       " 'tau_phi',\n",
       " 'tau_e',\n",
       " 'tau_charge',\n",
       " 'tau_nTracks',\n",
       " 'tau_isTight',\n",
       " 'tau_RNNJetScore',\n",
       " 'tau_RNNEleScore',\n",
       " 'met',\n",
       " 'met_phi',\n",
       " 'met_mpx',\n",
       " 'met_mpy']"
      ]
     },
     "execution_count": 8,
     "metadata": {},
     "output_type": "execute_result"
    }
   ],
   "source": [
    "# new file\n",
    "pname = '/project/etp1/dkoch/ATLASOpenData/ntuples-data-samples/data15_allyear.root'\n",
    "pname = '/project/etp1/dkoch/ATLASOpenData/ntuples-data-samples/data16_allyear_G.root'\n",
    "tree = uproot.open(pname+':analysis')\n",
    "\n",
    "print(tree.num_entries)\n",
    "\n",
    "tree.keys()"
   ]
  },
  {
   "cell_type": "code",
   "execution_count": 9,
   "metadata": {
    "tags": []
   },
   "outputs": [
    {
     "name": "stdout",
     "output_type": "stream",
     "text": [
      "['data15_periodD', 'data15_periodG', 'data16_periodA', 'data16_periodD', 'data16_periodG', 'data16_periodL', 'data15_periodE', 'data15_periodH', 'data16_periodB', 'data16_periodE', 'data16_PeriodI', 'data15_periodF', 'data15_periodJ', 'data16_periodC', 'data16_periodF', 'data16_periodK']\n",
      "Total number of entries: 4998873\n"
     ]
    }
   ],
   "source": [
    "import uproot\n",
    "\n",
    "# Define the path to the directory and the list of samples\n",
    "tuple_path = \"/project/etp1/dkoch/ATLASOpenData/ntuples-data-samples/\"\n",
    "tuple_path = \"/project/etp1/dkoch/ATLASOpenData/GamGam/Data/\"\n",
    "\n",
    "\n",
    "\n",
    "samples_list = ['data15_allyear', 'data16_allyear_A', 'data16_allyear_B', \n",
    "                'data16_allyear_C', 'data16_allyear_D', 'data16_allyear_E', \n",
    "                'data16_allyear_F', 'data16_allyear_G', 'data16_allyear_H']\n",
    "\n",
    "\n",
    "samples_list = [\n",
    "    'data15_periodD', 'data15_periodG', 'data16_periodA', 'data16_periodD', 'data16_periodG', 'data16_periodL',\n",
    "    'data15_periodE', 'data15_periodH', 'data16_periodB', 'data16_periodE', 'data16_PeriodI',\n",
    "    'data15_periodF', 'data15_periodJ', 'data16_periodC', 'data16_periodF', 'data16_periodK'\n",
    "]\n",
    "\n",
    "\n",
    "\n",
    "print(samples_list)\n",
    "\n",
    "\n",
    "\n",
    "# Initialize a variable to store the total number of entries\n",
    "total_entries = 0\n",
    "\n",
    "# Iterate through each sample in the list\n",
    "for sample in samples_list:\n",
    "    # Construct the full path to the .root file\n",
    "    pname = f\"{tuple_path}{sample}.root\"\n",
    "    \n",
    "    try:\n",
    "        # Open the .root file and access the 'analysis' tree\n",
    "        with uproot.open(pname + ':analysis') as tree:\n",
    "            # Add the number of entries in the current tree to the total\n",
    "            total_entries += tree.num_entries\n",
    "    except Exception as e:\n",
    "        print(f\"Error processing {pname}: {e}\")\n",
    "\n",
    "# Print the total number of entries across all samples\n",
    "print(f\"Total number of entries: {total_entries}\")\n"
   ]
  },
  {
   "cell_type": "code",
   "execution_count": 10,
   "metadata": {
    "tags": []
   },
   "outputs": [],
   "source": [
    "myt = tree.iterate([\"photon_n\",\"photon_pt\",\"photon_eta\",\"photon_phi\",\"photon_e\",\n",
    "                            \"photon_isTightID\",\"photon_ptcone20\"], # add more variables here if you want to use them\n",
    "                           library=\"pd\")"
   ]
  },
  {
   "cell_type": "code",
   "execution_count": 11,
   "metadata": {
    "tags": []
   },
   "outputs": [],
   "source": [
    "data = next(myt)"
   ]
  },
  {
   "cell_type": "code",
   "execution_count": 12,
   "metadata": {
    "tags": []
   },
   "outputs": [],
   "source": [
    "data = data.query('photon_n>=2')"
   ]
  },
  {
   "cell_type": "code",
   "execution_count": 13,
   "metadata": {
    "tags": []
   },
   "outputs": [
    {
     "data": {
      "text/plain": [
       "0         [229.02407836914062, 38.64955139160156, 18.747...\n",
       "1         [122.32769012451172, 20.031408309936523, 41.71...\n",
       "2         [130.7476806640625, 89.93264770507812, 3.57112...\n",
       "3         [360.9151306152344, 95.04707336425781, 2.48849...\n",
       "4         [222.09303283691406, 193.30833435058594, 18.90...\n",
       "                                ...                        \n",
       "289328               [392.4599304199219, 332.6964111328125]\n",
       "289329    [403.9837341308594, 76.38861083984375, 3.76420...\n",
       "289330    [157.62704467773438, 110.63433837890625, 20.11...\n",
       "289331    [75.14714813232422, 26.708271026611328, 1.9250...\n",
       "289332    [95.54251098632812, 138.3558349609375, 2.46509...\n",
       "Name: photon_e, Length: 289333, dtype: awkward"
      ]
     },
     "execution_count": 13,
     "metadata": {},
     "output_type": "execute_result"
    }
   ],
   "source": [
    "data.photon_e"
   ]
  },
  {
   "cell_type": "markdown",
   "metadata": {},
   "source": [
    "[Back to contents](#contents)"
   ]
  },
  {
   "cell_type": "markdown",
   "metadata": {},
   "source": [
    "<a id='fraction'></a>"
   ]
  },
  {
   "cell_type": "markdown",
   "metadata": {},
   "source": [
    "## Lumi, fraction, file path\n",
    "\n",
    "General definitions of luminosity, fraction of data used, where to access the input files"
   ]
  },
  {
   "cell_type": "code",
   "execution_count": 14,
   "metadata": {
    "tags": []
   },
   "outputs": [],
   "source": [
    "#lumi = 0.5 # fb-1 # data_A only\n",
    "#lumi = 1.9 # fb-1 # data_B only\n",
    "#lumi = 2.9 # fb-1 # data_C only\n",
    "#lumi = 4.7 # fb-1 # data_D only\n",
    "lumi = 10 # fb-1 # data_A,data_B,data_C,data_D\n",
    "\n",
    "fraction = 1 # reduce this is you want the code to run quicker\n",
    "\n",
    "#tuple_path = \"Input/GamGam/Data/\" # local \n",
    "tuple_path = \"/project/etp1/dkoch/ATLASOpenData/ntuples-data-samples/\"\n",
    "tuple_path = \"/project/etp1/dkoch/ATLASOpenData/GamGam/Data/\"\n",
    "#tuple_path = \"https://atlas-opendata.web.cern.ch/atlas-opendata/samples/2020/GamGam/Data/\" # web address"
   ]
  },
  {
   "cell_type": "markdown",
   "metadata": {},
   "source": [
    "<a id='samples'></a>"
   ]
  },
  {
   "cell_type": "markdown",
   "metadata": {},
   "source": [
    "## Samples\n",
    "\n",
    "Samples to process"
   ]
  },
  {
   "cell_type": "code",
   "execution_count": 15,
   "metadata": {
    "tags": []
   },
   "outputs": [],
   "source": [
    "#samples_list = ['data_A','data_B','data_C','data_D'] # add if you want more data\n",
    "samples_list = ['data15_allyear', 'data16_allyear_A', 'data16_allyear_B', \n",
    "                'data16_allyear_C', 'data16_allyear_D', 'data16_allyear_E', \n",
    "                'data16_allyear_F', 'data16_allyear_G', 'data16_allyear_H' ]\n",
    "#samples_list = ['data15_allyear']  \n",
    "samples_list = [\n",
    "    'data15_periodD', 'data15_periodG', 'data16_periodA', 'data16_periodD', 'data16_periodG', 'data16_periodL',\n",
    "    'data15_periodE', 'data15_periodH', 'data16_periodB', 'data16_periodE', 'data16_PeriodI',\n",
    "    'data15_periodF', 'data15_periodJ', 'data16_periodC', 'data16_periodF', 'data16_periodK'\n",
    "]"
   ]
  },
  {
   "cell_type": "markdown",
   "metadata": {},
   "source": [
    "[Back to contents](#contents)"
   ]
  },
  {
   "cell_type": "markdown",
   "metadata": {},
   "source": [
    "Define function to get data from files\n",
    "\n",
    "The datasets used in this notebook have already been filtered to include at least 2 photons per event, so that processing is quicker."
   ]
  },
  {
   "cell_type": "code",
   "execution_count": 16,
   "metadata": {
    "tags": []
   },
   "outputs": [],
   "source": [
    "def get_data_from_files():\n",
    "\n",
    "    frames = [] # define empty list to hold data\n",
    "    for val in samples_list: # loop over each file\n",
    "        fileString = tuple_path+val+\".root\" # file name to open\n",
    "        temp = read_file_new(fileString) # call the function read_file defined below\n",
    "        frames.append(temp) # append dataframe returned from read_file to list of dataframes\n",
    "    data = pd.concat(frames) # concatenate list of dataframes together into one dataframe\n",
    "    \n",
    "    return data # return dataframe"
   ]
  },
  {
   "cell_type": "markdown",
   "metadata": {},
   "source": [
    "Define function to calculate diphoton invariant mass"
   ]
  },
  {
   "cell_type": "code",
   "execution_count": 17,
   "metadata": {
    "tags": []
   },
   "outputs": [],
   "source": [
    "def calc_myy(photon_pt,photon_eta,photon_phi,photon_E):\n",
    "    # first photon is [0], 2nd photon is [1] etc\n",
    "    px_0 = photon_pt[0]*math.cos(photon_phi[0]) # x-component of photon[0] momentum\n",
    "    py_0 = photon_pt[0]*math.sin(photon_phi[0]) # y-component of photon[0] momentum\n",
    "    pz_0 = photon_pt[0]*math.sinh(photon_eta[0]) # z-component of photon[0] momentum\n",
    "    px_1 = photon_pt[1]*math.cos(photon_phi[1]) # x-component of photon[1] momentum\n",
    "    py_1 = photon_pt[1]*math.sin(photon_phi[1]) # y-component of photon[1] momentum\n",
    "    pz_1 = photon_pt[1]*math.sinh(photon_eta[1]) # z-component of photon[1] momentum\n",
    "    sumpx = px_0 + px_1 # x-component of diphoton momentum\n",
    "    sumpy = py_0 + py_1 # y-component of diphoton momentum\n",
    "    sumpz = pz_0 + pz_1 # z-component of diphoton momentum \n",
    "    sump = math.sqrt(sumpx**2 + sumpy**2 + sumpz**2) # magnitude of diphoton momentum \n",
    "    sumE = photon_E[0] + photon_E[1] # energy of diphoton system\n",
    "    m2 = sumE**2 - sump**2\n",
    "    if m2>0.:\n",
    "        m = m2**0.5\n",
    "    else:\n",
    "        print('calc_myy error neg mass**2', m2)\n",
    "        m = 0.\n",
    "    return m "
   ]
  },
  {
   "cell_type": "markdown",
   "metadata": {},
   "source": [
    "[Back to contents](#contents)"
   ]
  },
  {
   "cell_type": "markdown",
   "metadata": {},
   "source": [
    "<a id='changing_cut'></a>"
   ]
  },
  {
   "cell_type": "markdown",
   "metadata": {},
   "source": [
    "## Changing a cut\n",
    "\n",
    "If you change a cut: Cell -> Run All Below\n",
    "\n",
    "If you change a cut here, you also need to make sure the cut is applied in the \"[Applying a cut](#applying_cut)\" cell."
   ]
  },
  {
   "cell_type": "code",
   "execution_count": 18,
   "metadata": {
    "tags": []
   },
   "outputs": [],
   "source": [
    "#import pandas as pd\n",
    "\n",
    "\n",
    "# Cut on photon reconstruction quality\n",
    "# paper: \"Photon candidates are required to pass identification criteria\"\n",
    "def cut_photon_reconstruction(photon_isTightID):\n",
    "# isTightID==True means a photon identified as being well reconstructed\n",
    "# want to keep events where True for both photons\n",
    "# first photon is [0], 2nd photon is [1] etc\n",
    "    return photon_isTightID[0]==True and photon_isTightID[1]==True\n",
    "\n",
    "# Cut on Transverse momentum\n",
    "# paper: \"The leading (sub-leading) photon candidate is required to have ET > 40 GeV (30 GeV)\"\n",
    "\n",
    "def cut_photon_pt(photon_pt):\n",
    "# want to keep events where photon_pt[0]>40000 MeV and photon_pt[1]>30000 MeV\n",
    "    return photon_pt[0]>40 and photon_pt[1]>30\n",
    "\n",
    "\n",
    "# Cut on energy isolation\n",
    "# paper: \"Photon candidates are required to have an isolation transverse energy of less than 4 GeV\"\n",
    "def cut_isolation_et(photon_ptcone20):\n",
    "# want to keep events where isolation eT<4000 MeV\n",
    "    return photon_ptcone20[0]<4 and photon_ptcone20[1]<4\n",
    "\n",
    "# Cut on pseudorapidity in barrel/end-cap transition region\n",
    "# paper: \"excluding the calorimeter barrel/end-cap transition region 1.37 < |η| < 1.52\"\n",
    "def cut_photon_eta_transition(photon_eta):\n",
    "# want to keep events where modulus of photon_eta is outside the range 1.37 to 1.52\n",
    "    return (abs(photon_eta[0])>1.52 or abs(photon_eta[0])<1.37) and (abs(photon_eta[1])>1.52 or abs(photon_eta[1])<1.37)\n",
    "\n",
    "def cut_n_photon(photon_n):\n",
    "# >=2\n",
    "    return photon_n>=2\n"
   ]
  },
  {
   "cell_type": "markdown",
   "metadata": {},
   "source": [
    "[Back to contents](#contents)"
   ]
  },
  {
   "cell_type": "markdown",
   "metadata": {},
   "source": [
    "<a id='applying_cut'></a>"
   ]
  },
  {
   "cell_type": "markdown",
   "metadata": {
    "tags": []
   },
   "source": [
    "## Applying a cut \n",
    "\n",
    "If you add a cut: Cell -> Run All Below"
   ]
  },
  {
   "cell_type": "code",
   "execution_count": 19,
   "metadata": {
    "tags": []
   },
   "outputs": [],
   "source": [
    "#pname = '/project/etp1/dkoch/ATLASOpenData/ntuples-data-samples/data15_allyear.root'\n",
    "#tree = uproot.open(pname+':analysis')\n",
    "def read_file_new(path):\n",
    "    start = time.time() # start the clock\n",
    "    print(\"Processing: \"+path) # print which sample is being processed\n",
    "    data_all = pd.DataFrame() # define empty pandas DataFrame to hold all data for this sample\n",
    "    tree = uproot.open(path + \":analysis\")\n",
    "    numevents = tree.num_entries # number of events\n",
    "    for data in tree.iterate([\"photon_n\",\"photon_pt\",\"photon_eta\",\"photon_phi\",\"photon_e\",\n",
    "                            \"photon_isTightID\",\"photon_ptcone20\"], # add more variables here if you want to use them\n",
    "                           library=\"pd\", # choose output type as pandas DataFrame\n",
    "                           entry_stop=numevents*fraction): # process up to numevents*fraction\n",
    "\n",
    "        nIn = len(data.index) # number of events in this batch\n",
    "        print(\"before cut \",len(data.index))\n",
    "        # Cut on # photons\n",
    "        data = data[ np.vectorize(cut_n_photon)(data.photon_n)]\n",
    "        print(\"nphot-cut \",len(data.index))\n",
    "\n",
    "        # Cut on photon reconstruction quality using the function cut_photon_reconstruction defined above\n",
    "        data = data[ np.vectorize(cut_photon_reconstruction)(data.photon_isTightID)]\n",
    "        \n",
    "        print(\"istight-cut \",len(data.index))\n",
    "        \n",
    "        # Cut on transverse momentum of the photons using the function cut_photon_pt defined above\n",
    "        data = data[ np.vectorize(cut_photon_pt)(data.photon_pt)]\n",
    "        print(\"pt-cut \",len(data.index))\n",
    "        \n",
    "        # Cut on energy isolation using the function cut_isolation_et defined above\n",
    "        data = data[ np.vectorize(cut_isolation_et)(data.photon_ptcone20)]\n",
    "        print(\"isol-cut \",len(data.index))\n",
    "        \n",
    "        # Cut on pseudorapidity inside barrel/end-cap transition region using the function cut_photon_eta_transition\n",
    "        data = data[ np.vectorize(cut_photon_eta_transition)(data.photon_eta)]\n",
    "        print(\"eta-cut \",len(data.index))\n",
    "        \n",
    "        # Calculate reconstructed diphoton invariant mass using the function calc_myy defined above\n",
    "        data['myy'] = np.vectorize(calc_myy)(data.photon_pt,data.photon_eta,data.photon_phi,data.photon_e)\n",
    "        \n",
    "        # dataframe contents can be printed at any stage like this\n",
    "        #print(data)\n",
    "\n",
    "        # dataframe column can be printed at any stage like this\n",
    "        #print(data['photon_pt'])\n",
    "\n",
    "        # multiple dataframe columns can be printed at any stage like this\n",
    "        #print(data[['photon_pt','photon_eta']])\n",
    "\n",
    "        nOut = len(data.index) # number of events passing cuts in this batch\n",
    "        data_all = pd.concat([data_all, data], ignore_index=True)\n",
    "        elapsed = time.time() - start # time taken to process\n",
    "        print(\"\\t nIn: \"+str(nIn)+\",\\t nOut: \\t\"+str(nOut)+\"\\t in \"+str(round(elapsed,1))+\"s\") # events before and after\n",
    "    \n",
    "    return data_all # return dataframe containing events passing all cuts"
   ]
  },
  {
   "cell_type": "markdown",
   "metadata": {},
   "source": [
    "[Back to contents](#contents)"
   ]
  },
  {
   "cell_type": "markdown",
   "metadata": {},
   "source": [
    "This is where the processing happens (this will take some minutes)"
   ]
  },
  {
   "cell_type": "code",
   "execution_count": 20,
   "metadata": {
    "tags": []
   },
   "outputs": [
    {
     "name": "stdout",
     "output_type": "stream",
     "text": [
      "Processing: /project/etp1/dkoch/ATLASOpenData/GamGam/Data/data15_periodD.root\n",
      "before cut  11371\n",
      "nphot-cut  11371\n",
      "istight-cut  1103\n",
      "pt-cut  512\n",
      "isol-cut  295\n",
      "eta-cut  294\n",
      "\t nIn: 11371,\t nOut: \t294\t in 0.2s\n",
      "Processing: /project/etp1/dkoch/ATLASOpenData/GamGam/Data/data15_periodG.root\n",
      "before cut  164583\n",
      "nphot-cut  164583\n",
      "istight-cut  16422\n",
      "pt-cut  8018\n",
      "isol-cut  4819\n",
      "eta-cut  4782\n",
      "\t nIn: 164583,\t nOut: \t4782\t in 1.4s\n",
      "Processing: /project/etp1/dkoch/ATLASOpenData/GamGam/Data/data16_periodA.root\n",
      "before cut  108353\n",
      "nphot-cut  108353\n",
      "istight-cut  10070\n",
      "pt-cut  5630\n",
      "isol-cut  3359\n",
      "eta-cut  3343\n",
      "\t nIn: 108353,\t nOut: \t3343\t in 1.2s\n",
      "Processing: /project/etp1/dkoch/ATLASOpenData/GamGam/Data/data16_periodD.root\n",
      "before cut  588911\n",
      "nphot-cut  588911\n",
      "istight-cut  57411\n",
      "pt-cut  31509\n",
      "isol-cut  19253\n",
      "eta-cut  19151\n",
      "calc_myy error neg mass**2 -0.005610572945442982\n",
      "\t nIn: 588911,\t nOut: \t19151\t in 5.0s\n",
      "Processing: /project/etp1/dkoch/ATLASOpenData/GamGam/Data/data16_periodG.root\n",
      "before cut  512073\n",
      "nphot-cut  512073\n",
      "istight-cut  49710\n",
      "pt-cut  26742\n",
      "isol-cut  16002\n",
      "eta-cut  15937\n",
      "calc_myy error neg mass**2 -0.0012528597289929166\n",
      "calc_myy error neg mass**2 -0.012685506429988891\n",
      "calc_myy error neg mass**2 -0.0041603779754950665\n",
      "calc_myy error neg mass**2 -0.006504823002615012\n",
      "calc_myy error neg mass**2 -0.0006655460110778222\n",
      "\t nIn: 512073,\t nOut: \t15937\t in 4.3s\n",
      "Processing: /project/etp1/dkoch/ATLASOpenData/GamGam/Data/data16_periodL.root\n",
      "before cut  800600\n",
      "nphot-cut  800600\n",
      "istight-cut  78008\n",
      "pt-cut  41450\n",
      "isol-cut  25519\n",
      "eta-cut  25391\n",
      "calc_myy error neg mass**2 -0.00013743274485022994\n",
      "calc_myy error neg mass**2 -0.0015388385727419518\n",
      "calc_myy error neg mass**2 -0.0007443808881362202\n",
      "\t nIn: 800600,\t nOut: \t25391\t in 6.6s\n",
      "Processing: /project/etp1/dkoch/ATLASOpenData/GamGam/Data/data15_periodE.root\n",
      "before cut  99884\n",
      "nphot-cut  99884\n",
      "istight-cut  9908\n",
      "pt-cut  4815\n",
      "isol-cut  2880\n",
      "eta-cut  2852\n",
      "\t nIn: 99884,\t nOut: \t2852\t in 0.9s\n",
      "Processing: /project/etp1/dkoch/ATLASOpenData/GamGam/Data/data15_periodH.root\n",
      "before cut  61052\n",
      "nphot-cut  61052\n",
      "istight-cut  6141\n",
      "pt-cut  2950\n",
      "isol-cut  1769\n",
      "eta-cut  1754\n",
      "\t nIn: 61052,\t nOut: \t1754\t in 0.5s\n",
      "Processing: /project/etp1/dkoch/ATLASOpenData/GamGam/Data/data16_periodB.root\n",
      "before cut  237575\n",
      "nphot-cut  237575\n",
      "istight-cut  22955\n",
      "pt-cut  12563\n",
      "isol-cut  7681\n",
      "eta-cut  7634\n",
      "calc_myy error neg mass**2 -0.0011163794697495177\n",
      "\t nIn: 237575,\t nOut: \t7634\t in 2.1s\n",
      "Processing: /project/etp1/dkoch/ATLASOpenData/GamGam/Data/data16_periodE.root\n",
      "before cut  181420\n",
      "nphot-cut  181420\n",
      "istight-cut  17939\n",
      "pt-cut  9828\n",
      "isol-cut  5962\n",
      "eta-cut  5927\n",
      "\t nIn: 181420,\t nOut: \t5927\t in 1.6s\n",
      "Processing: /project/etp1/dkoch/ATLASOpenData/GamGam/Data/data16_PeriodI.root\n",
      "before cut  730763\n",
      "nphot-cut  730763\n",
      "istight-cut  71280\n",
      "pt-cut  38359\n",
      "isol-cut  23486\n",
      "eta-cut  23364\n",
      "calc_myy error neg mass**2 -0.0001613371423445642\n",
      "\t nIn: 730763,\t nOut: \t23364\t in 5.8s\n",
      "Processing: /project/etp1/dkoch/ATLASOpenData/GamGam/Data/data15_periodF.root\n",
      "before cut  71665\n",
      "nphot-cut  71665\n",
      "istight-cut  7116\n",
      "pt-cut  3483\n",
      "isol-cut  2067\n",
      "eta-cut  2048\n",
      "\t nIn: 71665,\t nOut: \t2048\t in 0.7s\n",
      "Processing: /project/etp1/dkoch/ATLASOpenData/GamGam/Data/data15_periodJ.root\n",
      "before cut  329733\n",
      "nphot-cut  329733\n",
      "istight-cut  33310\n",
      "pt-cut  16115\n",
      "isol-cut  9582\n",
      "eta-cut  9498\n",
      "\t nIn: 329733,\t nOut: \t9498\t in 2.6s\n",
      "Processing: /project/etp1/dkoch/ATLASOpenData/GamGam/Data/data16_periodC.root\n",
      "before cut  386271\n",
      "nphot-cut  386271\n",
      "istight-cut  37230\n",
      "pt-cut  20539\n",
      "isol-cut  12410\n",
      "eta-cut  12338\n",
      "calc_myy error neg mass**2 -0.003193217286025174\n",
      "\t nIn: 386271,\t nOut: \t12338\t in 3.1s\n",
      "Processing: /project/etp1/dkoch/ATLASOpenData/GamGam/Data/data16_periodF.root\n",
      "before cut  425286\n",
      "nphot-cut  425286\n",
      "istight-cut  41757\n",
      "pt-cut  22288\n",
      "isol-cut  13632\n",
      "eta-cut  13568\n",
      "calc_myy error neg mass**2 -0.008703301500645466\n",
      "\t nIn: 425286,\t nOut: \t13568\t in 3.6s\n",
      "Processing: /project/etp1/dkoch/ATLASOpenData/GamGam/Data/data16_periodK.root\n",
      "before cut  289333\n",
      "nphot-cut  289333\n",
      "istight-cut  27869\n",
      "pt-cut  15005\n",
      "isol-cut  9138\n",
      "eta-cut  9093\n",
      "\t nIn: 289333,\t nOut: \t9093\t in 2.5s\n",
      "Time taken: 111.0s\n"
     ]
    }
   ],
   "source": [
    "#pname = '/project/etp1/dkoch/ATLASOpenData/ntuples-data-samples/data15_allyear.root'\n",
    "start = time.time() # time at start of whole processing\n",
    "data = get_data_from_files() # process all files\n",
    "#data = read_file_new(pname) #\n",
    "elapsed = time.time() - start # time after whole processing\n",
    "print(\"Time taken: \"+str(round(elapsed,1))+\"s\") # print total time taken to process every file"
   ]
  },
  {
   "cell_type": "markdown",
   "metadata": {},
   "source": [
    "<a id='plotting'></a>"
   ]
  },
  {
   "cell_type": "markdown",
   "metadata": {},
   "source": [
    "## Plotting\n",
    "If you only want a make a change in the plot: Cell -> Run All Below\n",
    "\n",
    "Define function to plot the data."
   ]
  },
  {
   "cell_type": "code",
   "execution_count": 31,
   "metadata": {
    "tags": []
   },
   "outputs": [],
   "source": [
    "def plot_data(data):   \n",
    "\n",
    "    xmin = 100 # GeV\n",
    "    xmax = 160 # GeV\n",
    "    step_size = 2 # GeV\n",
    "    \n",
    "    bin_edges = np.arange(start=xmin, # The interval includes this value\n",
    "                     stop=xmax+step_size, # The interval doesn't include this value\n",
    "                     step=step_size ) # Spacing between values\n",
    "    bin_centres = np.arange(start=xmin+step_size/2, # The interval includes this value\n",
    "                            stop=xmax+step_size/2, # The interval doesn't include this value\n",
    "                            step=step_size ) # Spacing between values\n",
    "    print(\"bin_centres is: \" , bin_centres)\n",
    "\n",
    "    data_x,_ = np.histogram(data['myy'], \n",
    "                            bins=bin_edges ) # histogram the data\n",
    "    \n",
    "    #Tuple: (invariant mass , [100,160)) \n",
    "    #\n",
    "    print('data myy is: '  ,  data['myy'])\n",
    "    print(\"data_x is: \" ,  data_x)\n",
    "    data_x_errors = np.sqrt( data_x ) # statistical error on the data\n",
    "\n",
    "    # data fit\n",
    "    polynomial_mod = PolynomialModel( 4 ) # 4th order polynomial\n",
    "    gaussian_mod = GaussianModel() # Gaussian\n",
    "    \n",
    "    # set initial guesses for the parameters of the polynomial model\n",
    "    # c0 + c1*x + c2*x^2 + c3*x^3 + c4*x^4\n",
    "    pars = polynomial_mod.guess(data_x, # data to use to guess parameter values\n",
    "                                x=bin_centres, c0=data_x.max(), c1=20000,\n",
    "                                c2=1000, c3=0, c4=0 )\n",
    "    print('data_x.max() is: ',  data_x.max())\n",
    "    \n",
    "    # set initial guesses for the parameters of the Gaussian model\n",
    "    pars += gaussian_mod.guess(data_x, # data to use to guess parameter values\n",
    "                               x=bin_centres, amplitude=100, \n",
    "                               center=125, sigma=2 )\n",
    "    \n",
    "    model = polynomial_mod + gaussian_mod # combined model\n",
    "    \n",
    "    # fit the model to the data\n",
    "    out = model.fit(data_x, # data to be fit\n",
    "                    pars, # guesses for the parameters\n",
    "                    x=bin_centres, weights= 1/data_x_errors ) \n",
    "\n",
    "    # background part of fit\n",
    "    params_dict = out.params.valuesdict() # get the parameters from the fit to data\n",
    "    c0 = params_dict['c0'] # c0 of c0 + c1*x + c2*x^2 + c3*x^3 + c4*x^4\n",
    "    c1 = params_dict['c1'] # c1 of c0 + c1*x + c2*x^2 + c3*x^3 + c4*x^4\n",
    "    c2 = params_dict['c2'] # c2 of c0 + c1*x + c2*x^2 + c3*x^3 + c4*x^4\n",
    "    c3 = params_dict['c3'] # c3 of c0 + c1*x + c2*x^2 + c3*x^3 + c4*x^4\n",
    "    c4 = params_dict['c4'] # c4 of c0 + c1*x + c2*x^2 + c3*x^3 + c4*x^4\n",
    "    \n",
    "    # get the background only part of the fit to data\n",
    "    background = c0 + c1*bin_centres + c2*bin_centres**2 + c3*bin_centres**3 + c4*bin_centres**4\n",
    "\n",
    "    # data fit - background fit = signal fit\n",
    "    \n",
    "    signal_x = data_x - background \n",
    "    print(\"signal_x is \" , signal_x)\n",
    "    print(\"data_x is \" , data_x)\n",
    "    print(\"background \" , background)\n",
    "\n",
    "\n",
    "    # *************\n",
    "    # Main plot \n",
    "    # *************\n",
    "    plt.axes([0.1,0.3,0.85,0.65]) # left, bottom, width, height \n",
    "    main_axes = plt.gca() # get current axes\n",
    "    \n",
    "    # plot the data points\n",
    "    main_axes.errorbar(x=bin_centres, y=data_x, yerr=data_x_errors, \n",
    "                       fmt='ko', # 'k' means black and 'o' means circles\n",
    "                       label='Data' ) \n",
    "    \n",
    "    # plot the signal + background fit\n",
    "    main_axes.plot(bin_centres, # x\n",
    "                   out.best_fit, # y\n",
    "                   '-r', # single red line\n",
    "                   label='Sig+Bkg Fit ($m_H=125$ GeV)' )\n",
    "    \n",
    "    # plot the background only fit\n",
    "    main_axes.plot(bin_centres, # x\n",
    "                   background, # y\n",
    "                   '--r', # dashed red line\n",
    "                   label='Bkg (4th order polynomial)' )\n",
    "\n",
    "    # set the x-limit of the main axes\n",
    "    main_axes.set_xlim( left=xmin, right=xmax ) \n",
    "    \n",
    "    # separation of x-axis minor ticks\n",
    "    main_axes.xaxis.set_minor_locator( AutoMinorLocator() ) \n",
    "    \n",
    "    # set the axis tick parameters for the main axes\n",
    "    main_axes.tick_params(which='both', # ticks on both x and y axes\n",
    "                          direction='in', # Put ticks inside and outside the axes\n",
    "                          top=True, # draw ticks on the top axis\n",
    "                          labelbottom=False, # don't draw tick labels on bottom axis\n",
    "                          right=True ) # draw ticks on right axis\n",
    "    \n",
    "    # write y-axis label for main axes\n",
    "    main_axes.set_ylabel('Events / '+str(step_size)+' GeV', \n",
    "                         horizontalalignment='right') \n",
    "    \n",
    "    # set the y-axis limit for the main axes\n",
    "    main_axes.set_ylim( bottom=0, top=np.amax(data_x)*1.1 ) \n",
    "    \n",
    "    # set minor ticks on the y-axis of the main axes\n",
    "    main_axes.yaxis.set_minor_locator( AutoMinorLocator() ) \n",
    "    \n",
    "    # avoid displaying y=0 on the main axes\n",
    "    main_axes.yaxis.get_major_ticks()[0].set_visible(False) \n",
    "\n",
    "    # Add text 'ATLAS Open Data' on plot\n",
    "    plt.text(0.2, # x\n",
    "             0.92, # y\n",
    "             'ATLAS Open Data', # text\n",
    "             transform=main_axes.transAxes, # coordinate system used is that of main_axes\n",
    "             fontsize=13 ) \n",
    "    \n",
    "    # Add text 'for education' on plot\n",
    "    plt.text(0.2, # x\n",
    "             0.86, # y\n",
    "             'for education', # text\n",
    "             transform=main_axes.transAxes, # coordinate system used is that of main_axes\n",
    "             style='italic',\n",
    "             fontsize=8 ) \n",
    "    \n",
    "    # Add energy and luminosity\n",
    "    lumi_used = str(lumi*fraction) # luminosity to write on the plot\n",
    "    plt.text(0.2, # x\n",
    "             0.8, # y\n",
    "             '$\\sqrt{s}$=13 TeV,$\\int$L dt = '+lumi_used+' fb$^{-1}$', # text\n",
    "             transform=main_axes.transAxes ) # coordinate system used is that of main_axes \n",
    "    \n",
    "    # Add a label for the analysis carried out\n",
    "    plt.text(0.2, # x\n",
    "             0.74, # y\n",
    "             r'$H \\rightarrow \\gamma\\gamma$', # text \n",
    "             transform=main_axes.transAxes ) # coordinate system used is that of main_axes\n",
    "\n",
    "    # draw the legend\n",
    "    main_axes.legend(frameon=False, # no box around the legend\n",
    "                     loc='lower left' ) # legend location \n",
    "\n",
    "\n",
    "    # *************\n",
    "    # Data-Bkg plot \n",
    "    # *************\n",
    "    plt.axes([0.1,0.1,0.85,0.2]) # left, bottom, width, height\n",
    "    sub_axes = plt.gca() # get the current axes\n",
    "    \n",
    "    # set the y axis to be symmetric about Data-Background=0\n",
    "    sub_axes.yaxis.set_major_locator( MaxNLocator(nbins='auto', \n",
    "                                                  symmetric=True) )\n",
    "    \n",
    "    # plot Data-Background\n",
    "    sub_axes.errorbar(x=bin_centres, y=signal_x, yerr=data_x_errors,\n",
    "                      fmt='ko' ) # 'k' means black and 'o' means circles\n",
    "    \n",
    "    # draw the fit to data\n",
    "    sub_axes.plot(bin_centres, # x\n",
    "                  out.best_fit-background, # y\n",
    "                  '-r' ) # single red line\n",
    "    \n",
    "    # draw the background only fit\n",
    "    sub_axes.plot(bin_centres, # x\n",
    "                  background-background, # y\n",
    "                  '--r' )  # dashed red line\n",
    "    \n",
    "    # set the x-axis limits on the sub axes\n",
    "    sub_axes.set_xlim( left=xmin, right=xmax ) \n",
    "    \n",
    "    # separation of x-axis minor ticks\n",
    "    sub_axes.xaxis.set_minor_locator( AutoMinorLocator() ) \n",
    "    \n",
    "    # x-axis label\n",
    "    sub_axes.set_xlabel(r'di-photon invariant mass $\\mathrm{m_{\\gamma\\gamma}}$ [GeV]',\n",
    "                        x=1, horizontalalignment='right', \n",
    "                        fontsize=13 ) \n",
    "    \n",
    "    # set the tick parameters for the sub axes\n",
    "    sub_axes.tick_params(which='both', # ticks on both x and y axes\n",
    "                         direction='in', # Put ticks inside and outside the axes\n",
    "                         top=True, # draw ticks on the top axis\n",
    "                         right=True ) # draw ticks on right axis \n",
    "    \n",
    "    # separation of y-axis minor ticks\n",
    "    sub_axes.yaxis.set_minor_locator( AutoMinorLocator() ) \n",
    "    \n",
    "    # y-axis label on the sub axes\n",
    "    sub_axes.set_ylabel( 'Events-Bkg' ) \n",
    "\n",
    "\n",
    "    # Generic features for both plots\n",
    "    main_axes.yaxis.set_label_coords( -0.09, 1 ) # x,y coordinates of the y-axis label on the main axes\n",
    "    sub_axes.yaxis.set_label_coords( -0.09, 0.5 ) # x,y coordinates of the y-axis label on the sub axes\n",
    "    \n",
    "    return"
   ]
  },
  {
   "cell_type": "code",
   "execution_count": 32,
   "metadata": {
    "tags": []
   },
   "outputs": [
    {
     "data": {
      "text/plain": [
       "0        109.939896\n",
       "1        233.445730\n",
       "2         91.226625\n",
       "3         86.394939\n",
       "4        886.321497\n",
       "           ...     \n",
       "9088    1260.289782\n",
       "9089     203.087120\n",
       "9090      25.090452\n",
       "9091      82.572908\n",
       "9092      89.274699\n",
       "Name: myy, Length: 156974, dtype: float64"
      ]
     },
     "execution_count": 32,
     "metadata": {},
     "output_type": "execute_result"
    }
   ],
   "source": [
    "data['myy'] #invriant masses"
   ]
  },
  {
   "cell_type": "markdown",
   "metadata": {},
   "source": [
    "[Back to contents](#contents)"
   ]
  },
  {
   "cell_type": "markdown",
   "metadata": {},
   "source": [
    "Call the function to plot the data"
   ]
  },
  {
   "cell_type": "code",
   "execution_count": 33,
   "metadata": {
    "tags": []
   },
   "outputs": [
    {
     "name": "stdout",
     "output_type": "stream",
     "text": [
      "bin_centres is:  [101. 103. 105. 107. 109. 111. 113. 115. 117. 119. 121. 123. 125. 127.\n",
      " 129. 131. 133. 135. 137. 139. 141. 143. 145. 147. 149. 151. 153. 155.\n",
      " 157. 159.]\n",
      "data myy is:  0        109.939896\n",
      "1        233.445730\n",
      "2         91.226625\n",
      "3         86.394939\n",
      "4        886.321497\n",
      "           ...     \n",
      "9088    1260.289782\n",
      "9089     203.087120\n",
      "9090      25.090452\n",
      "9091      82.572908\n",
      "9092      89.274699\n",
      "Name: myy, Length: 156974, dtype: float64\n",
      "data_x is:  [1634 1501 1351 1291 1306 1188 1260 1184 1134 1150 1101 1129 1101 1113\n",
      " 1098 1036 1080 1002 1029 1006  961 1039 1056  934  994  956  991  889\n",
      "  871  936]\n",
      "data_x.max() is:  1634\n",
      "signal_x is  [ 52.2197536   16.85093329 -50.02451042 -39.84520846  33.86714179\n",
      " -35.49222344  76.38886562  32.73951232   8.70575359  45.35055992\n",
      "  12.65383539  53.51241764  35.74007788  56.0675209   48.14238507\n",
      "  -7.4707577   42.70959812 -28.91810841   4.96149536 -10.41928433\n",
      " -46.9112077   40.55189861  67.95314156 -42.80743835  29.08713297\n",
      "   3.37076317  50.69429349 -39.37450128 -46.35091276  28.166701  ]\n",
      "data_x is  [1634 1501 1351 1291 1306 1188 1260 1184 1134 1150 1101 1129 1101 1113\n",
      " 1098 1036 1080 1002 1029 1006  961 1039 1056  934  994  956  991  889\n",
      "  871  936]\n",
      "background  [1581.7802464  1484.14906671 1401.02451042 1330.84520846 1272.13285821\n",
      " 1223.49222344 1183.61113438 1151.26048768 1125.29424641 1104.64944008\n",
      " 1088.34616461 1075.48758236 1065.25992212 1056.9324791  1049.85761493\n",
      " 1043.4707577  1037.29040188 1030.91810841 1024.03850464 1016.41928433\n",
      " 1007.9112077   998.44810139  988.04685844  976.80743835  964.91286703\n",
      "  952.62923683  940.30570651  928.37450128  917.35091276  907.833299  ]\n"
     ]
    },
    {
     "data": {
      "image/png": "[encoded data removed]",
      "text/plain": [
       "<Figure size 640x480 with 2 Axes>"
      ]
     },
     "metadata": {},
     "output_type": "display_data"
    }
   ],
   "source": [
    "plot_data(data)"
   ]
  },
  {
   "cell_type": "markdown",
   "metadata": {},
   "source": [
    "[Back to contents](#contents)"
   ]
  },
  {
   "cell_type": "markdown",
   "metadata": {},
   "source": [
    "<a id='going_further'></a>"
   ]
  },
  {
   "cell_type": "markdown",
   "metadata": {},
   "source": [
    "## What can you do to explore this analysis?\n",
    "\n",
    "* Increase the fraction of data used in '[Lumi, fraction, file path](#fraction)'\n",
    "* Use data_B, data_C and data_D in '[Samples](#samples)'\n",
    "* Check how many events are being thrown away by each cut in '[Applying a cut](#applying_cut)'\n",
    "* Add more cuts from the [Higgs discovery paper](https://www.sciencedirect.com/science/article/pii/S037026931200857X#se0090) in '[Changing a cut](#changing_cut)' and '[Applying a cut](#applying_cut)'\n",
    "* Find the reduced chi-squared for the fit in '[Plotting](#plotting)'\n",
    "* Find the mean of the fitted Gaussian in '[Plotting](#plotting)'\n",
    "* Find the width of the fitted Gaussian in '[Plotting](#plotting)'\n",
    "* Try different initial guesses for the parameters of the fit in '[Plotting](#plotting)'\n",
    "* Try different functions for the fit in '[Plotting](#plotting)'\n",
    "* Your idea!"
   ]
  },
  {
   "cell_type": "markdown",
   "metadata": {},
   "source": [
    "[Back to contents](#contents)"
   ]
  },
  {
   "cell_type": "code",
   "execution_count": 24,
   "metadata": {
    "tags": []
   },
   "outputs": [
    {
     "data": {
      "text/html": [
       "<div>\n",
       "<style scoped>\n",
       "    .dataframe tbody tr th:only-of-type {\n",
       "        vertical-align: middle;\n",
       "    }\n",
       "\n",
       "    .dataframe tbody tr th {\n",
       "        vertical-align: top;\n",
       "    }\n",
       "\n",
       "    .dataframe thead th {\n",
       "        text-align: right;\n",
       "    }\n",
       "</style>\n",
       "<table border=\"1\" class=\"dataframe\">\n",
       "  <thead>\n",
       "    <tr style=\"text-align: right;\">\n",
       "      <th></th>\n",
       "      <th>photon_n</th>\n",
       "      <th>photon_pt</th>\n",
       "      <th>photon_eta</th>\n",
       "      <th>photon_phi</th>\n",
       "      <th>photon_e</th>\n",
       "      <th>photon_isTightID</th>\n",
       "      <th>photon_ptcone20</th>\n",
       "      <th>myy</th>\n",
       "    </tr>\n",
       "  </thead>\n",
       "  <tbody>\n",
       "    <tr>\n",
       "      <th>0</th>\n",
       "      <td>2</td>\n",
       "      <td>[83.00553894042969, 73.86251068115234]</td>\n",
       "      <td>[1.6935840845108032, 1.1597671508789062]</td>\n",
       "      <td>[-0.6130510568618774, 0.7968668341636658]</td>\n",
       "      <td>[233.36172485351562, 129.36094665527344]</td>\n",
       "      <td>[True, True]</td>\n",
       "      <td>[0.0, 0.0]</td>\n",
       "      <td>109.939896</td>\n",
       "    </tr>\n",
       "    <tr>\n",
       "      <th>1</th>\n",
       "      <td>3</td>\n",
       "      <td>[129.38278198242188, 104.05431365966797, 2.080...</td>\n",
       "      <td>[0.7165750861167908, 0.4810837507247925, -0.02...</td>\n",
       "      <td>[2.4825899600982666, -0.747130811214447, -2.29...</td>\n",
       "      <td>[164.04644775390625, 116.32959747314453, 2.081...</td>\n",
       "      <td>[True, True, False]</td>\n",
       "      <td>[0.0, 0.0, 0.0]</td>\n",
       "      <td>233.445730</td>\n",
       "    </tr>\n",
       "    <tr>\n",
       "      <th>2</th>\n",
       "      <td>3</td>\n",
       "      <td>[46.23123550415039, 44.531394958496094, 5.1374...</td>\n",
       "      <td>[-1.9988073110580444, -2.2689366340637207, 0.8...</td>\n",
       "      <td>[0.6090121269226074, -2.7088539600372314, 0.50...</td>\n",
       "      <td>[173.73109436035156, 217.59231567382812, 7.089...</td>\n",
       "      <td>[True, True, False]</td>\n",
       "      <td>[0.0, 0.0, 0.0]</td>\n",
       "      <td>91.226625</td>\n",
       "    </tr>\n",
       "    <tr>\n",
       "      <th>3</th>\n",
       "      <td>4</td>\n",
       "      <td>[42.46541976928711, 37.876243591308594, 2.6686...</td>\n",
       "      <td>[-1.93217933177948, -1.1153863668441772, -1.11...</td>\n",
       "      <td>[-1.1958187818527222, 1.6911739110946655, 1.61...</td>\n",
       "      <td>[149.6772918701172, 63.98310852050781, 4.50784...</td>\n",
       "      <td>[True, True, False, False]</td>\n",
       "      <td>[0.0, 0.0, 0.0, 0.0]</td>\n",
       "      <td>86.394939</td>\n",
       "    </tr>\n",
       "    <tr>\n",
       "      <th>4</th>\n",
       "      <td>6</td>\n",
       "      <td>[448.885009765625, 433.9150695800781, 6.397278...</td>\n",
       "      <td>[0.875586748123169, 1.0576153993606567, 1.0589...</td>\n",
       "      <td>[0.19342122972011566, -2.9577221870422363, -3....</td>\n",
       "      <td>[632.2322387695312, 700.0740966796875, 10.3320...</td>\n",
       "      <td>[True, True, False, False, False, False]</td>\n",
       "      <td>[0.0, 0.0, 297.41998291015625, 297.41998291015...</td>\n",
       "      <td>886.321497</td>\n",
       "    </tr>\n",
       "    <tr>\n",
       "      <th>...</th>\n",
       "      <td>...</td>\n",
       "      <td>...</td>\n",
       "      <td>...</td>\n",
       "      <td>...</td>\n",
       "      <td>...</td>\n",
       "      <td>...</td>\n",
       "      <td>...</td>\n",
       "      <td>...</td>\n",
       "    </tr>\n",
       "    <tr>\n",
       "      <th>9088</th>\n",
       "      <td>5</td>\n",
       "      <td>[422.0199890136719, 306.8123779296875, 26.2415...</td>\n",
       "      <td>[-1.1363660097122192, 1.1894625425338745, 0.41...</td>\n",
       "      <td>[2.8372621536254883, -0.5618632435798645, 0.70...</td>\n",
       "      <td>[725.1168212890625, 550.6821899414062, 28.5555...</td>\n",
       "      <td>[True, True, False, False, False]</td>\n",
       "      <td>[0.0, 0.0, 21.463787078857422, 0.0, 0.0]</td>\n",
       "      <td>1260.289782</td>\n",
       "    </tr>\n",
       "    <tr>\n",
       "      <th>9089</th>\n",
       "      <td>4</td>\n",
       "      <td>[155.23533630371094, 77.79113006591797, 11.992...</td>\n",
       "      <td>[1.0118132829666138, 2.002138376235962, 0.8685...</td>\n",
       "      <td>[1.695868730545044, -2.8396735191345215, -1.63...</td>\n",
       "      <td>[241.71255493164062, 293.2694396972656, 16.807...</td>\n",
       "      <td>[True, True, True, False]</td>\n",
       "      <td>[0.0, 0.0, 0.0, 0.0]</td>\n",
       "      <td>203.087120</td>\n",
       "    </tr>\n",
       "    <tr>\n",
       "      <th>9090</th>\n",
       "      <td>2</td>\n",
       "      <td>[146.23138427734375, 47.45795440673828]</td>\n",
       "      <td>[0.050997860729694366, -0.24490845203399658]</td>\n",
       "      <td>[2.3295633792877197, 2.2794454097747803]</td>\n",
       "      <td>[146.4215850830078, 48.88834762573242]</td>\n",
       "      <td>[True, True]</td>\n",
       "      <td>[0.0, 0.0]</td>\n",
       "      <td>25.090452</td>\n",
       "    </tr>\n",
       "    <tr>\n",
       "      <th>9091</th>\n",
       "      <td>3</td>\n",
       "      <td>[99.76640319824219, 40.38347244262695, 1.87070...</td>\n",
       "      <td>[-2.30360746383667, -1.0886610746383667, 0.517...</td>\n",
       "      <td>[-0.965173065662384, -1.1250180006027222, 1.28...</td>\n",
       "      <td>[504.32550048828125, 66.7732925415039, 2.12677...</td>\n",
       "      <td>[True, True, False]</td>\n",
       "      <td>[1.3482112884521484, 0.0, 0.0]</td>\n",
       "      <td>82.572908</td>\n",
       "    </tr>\n",
       "    <tr>\n",
       "      <th>9092</th>\n",
       "      <td>3</td>\n",
       "      <td>[72.9001235961914, 33.55488586425781, 3.079922...</td>\n",
       "      <td>[2.1123828887939453, 2.1683971881866455, -1.00...</td>\n",
       "      <td>[2.2116427421569824, -0.03750649467110634, 2.1...</td>\n",
       "      <td>[305.7747802734375, 148.62496948242188, 4.7775...</td>\n",
       "      <td>[True, True, False]</td>\n",
       "      <td>[0.0, 3.9681055545806885, 0.0]</td>\n",
       "      <td>89.274699</td>\n",
       "    </tr>\n",
       "  </tbody>\n",
       "</table>\n",
       "<p>156974 rows × 8 columns</p>\n",
       "</div>"
      ],
      "text/plain": [
       "      photon_n                                          photon_pt  \\\n",
       "0            2             [83.00553894042969, 73.86251068115234]   \n",
       "1            3  [129.38278198242188, 104.05431365966797, 2.080...   \n",
       "2            3  [46.23123550415039, 44.531394958496094, 5.1374...   \n",
       "3            4  [42.46541976928711, 37.876243591308594, 2.6686...   \n",
       "4            6  [448.885009765625, 433.9150695800781, 6.397278...   \n",
       "...        ...                                                ...   \n",
       "9088         5  [422.0199890136719, 306.8123779296875, 26.2415...   \n",
       "9089         4  [155.23533630371094, 77.79113006591797, 11.992...   \n",
       "9090         2            [146.23138427734375, 47.45795440673828]   \n",
       "9091         3  [99.76640319824219, 40.38347244262695, 1.87070...   \n",
       "9092         3  [72.9001235961914, 33.55488586425781, 3.079922...   \n",
       "\n",
       "                                             photon_eta  \\\n",
       "0              [1.6935840845108032, 1.1597671508789062]   \n",
       "1     [0.7165750861167908, 0.4810837507247925, -0.02...   \n",
       "2     [-1.9988073110580444, -2.2689366340637207, 0.8...   \n",
       "3     [-1.93217933177948, -1.1153863668441772, -1.11...   \n",
       "4     [0.875586748123169, 1.0576153993606567, 1.0589...   \n",
       "...                                                 ...   \n",
       "9088  [-1.1363660097122192, 1.1894625425338745, 0.41...   \n",
       "9089  [1.0118132829666138, 2.002138376235962, 0.8685...   \n",
       "9090       [0.050997860729694366, -0.24490845203399658]   \n",
       "9091  [-2.30360746383667, -1.0886610746383667, 0.517...   \n",
       "9092  [2.1123828887939453, 2.1683971881866455, -1.00...   \n",
       "\n",
       "                                             photon_phi  \\\n",
       "0             [-0.6130510568618774, 0.7968668341636658]   \n",
       "1     [2.4825899600982666, -0.747130811214447, -2.29...   \n",
       "2     [0.6090121269226074, -2.7088539600372314, 0.50...   \n",
       "3     [-1.1958187818527222, 1.6911739110946655, 1.61...   \n",
       "4     [0.19342122972011566, -2.9577221870422363, -3....   \n",
       "...                                                 ...   \n",
       "9088  [2.8372621536254883, -0.5618632435798645, 0.70...   \n",
       "9089  [1.695868730545044, -2.8396735191345215, -1.63...   \n",
       "9090           [2.3295633792877197, 2.2794454097747803]   \n",
       "9091  [-0.965173065662384, -1.1250180006027222, 1.28...   \n",
       "9092  [2.2116427421569824, -0.03750649467110634, 2.1...   \n",
       "\n",
       "                                               photon_e  \\\n",
       "0              [233.36172485351562, 129.36094665527344]   \n",
       "1     [164.04644775390625, 116.32959747314453, 2.081...   \n",
       "2     [173.73109436035156, 217.59231567382812, 7.089...   \n",
       "3     [149.6772918701172, 63.98310852050781, 4.50784...   \n",
       "4     [632.2322387695312, 700.0740966796875, 10.3320...   \n",
       "...                                                 ...   \n",
       "9088  [725.1168212890625, 550.6821899414062, 28.5555...   \n",
       "9089  [241.71255493164062, 293.2694396972656, 16.807...   \n",
       "9090             [146.4215850830078, 48.88834762573242]   \n",
       "9091  [504.32550048828125, 66.7732925415039, 2.12677...   \n",
       "9092  [305.7747802734375, 148.62496948242188, 4.7775...   \n",
       "\n",
       "                              photon_isTightID  \\\n",
       "0                                 [True, True]   \n",
       "1                          [True, True, False]   \n",
       "2                          [True, True, False]   \n",
       "3                   [True, True, False, False]   \n",
       "4     [True, True, False, False, False, False]   \n",
       "...                                        ...   \n",
       "9088         [True, True, False, False, False]   \n",
       "9089                 [True, True, True, False]   \n",
       "9090                              [True, True]   \n",
       "9091                       [True, True, False]   \n",
       "9092                       [True, True, False]   \n",
       "\n",
       "                                        photon_ptcone20          myy  \n",
       "0                                            [0.0, 0.0]   109.939896  \n",
       "1                                       [0.0, 0.0, 0.0]   233.445730  \n",
       "2                                       [0.0, 0.0, 0.0]    91.226625  \n",
       "3                                  [0.0, 0.0, 0.0, 0.0]    86.394939  \n",
       "4     [0.0, 0.0, 297.41998291015625, 297.41998291015...   886.321497  \n",
       "...                                                 ...          ...  \n",
       "9088           [0.0, 0.0, 21.463787078857422, 0.0, 0.0]  1260.289782  \n",
       "9089                               [0.0, 0.0, 0.0, 0.0]   203.087120  \n",
       "9090                                         [0.0, 0.0]    25.090452  \n",
       "9091                     [1.3482112884521484, 0.0, 0.0]    82.572908  \n",
       "9092                     [0.0, 3.9681055545806885, 0.0]    89.274699  \n",
       "\n",
       "[156974 rows x 8 columns]"
      ]
     },
     "execution_count": 24,
     "metadata": {},
     "output_type": "execute_result"
    }
   ],
   "source": [
    "data"
   ]
  },
  {
   "cell_type": "code",
   "execution_count": 27,
   "metadata": {},
   "outputs": [],
   "source": [
    "def plot_data(data):   \n",
    "    # Define your range, binning, and calculate the histogram\n",
    "    xmin = 100 # GeV\n",
    "    xmax = 160 # GeV\n",
    "    step_size = 2 # GeV\n",
    "    \n",
    "    bin_edges = np.arange(start=xmin, stop=xmax + step_size, step=step_size)\n",
    "    bin_centres = np.arange(start=xmin + step_size/2, stop=xmax + step_size/2, step=step_size)\n",
    "\n",
    "    data_x, _ = np.histogram(data['myy'], bins=bin_edges)\n",
    "    data_x_errors = np.sqrt(data_x)  # Statistical error on the data\n",
    "\n",
    "    # Define the polynomial and Gaussian models\n",
    "    polynomial_mod = PolynomialModel(4)  # 4th order polynomial\n",
    "    gaussian_mod = GaussianModel()\n",
    "\n",
    "    # Initial parameter guesses\n",
    "    pars = polynomial_mod.guess(data_x, x=bin_centres, c0=data_x.max(), c1=0, c2=0, c3=0, c4=0)\n",
    "    pars += gaussian_mod.guess(data_x, x=bin_centres, amplitude=1600, center=125, sigma=2)\n",
    "\n",
    "    # Combine the models\n",
    "    model = polynomial_mod + gaussian_mod\n",
    "\n",
    "    # Fit the model to the data\n",
    "    out = model.fit(data_x, pars, x=bin_centres, weights=1/data_x_errors)\n",
    "\n",
    "    # Check if fit was successful\n",
    "    if out.success:\n",
    "        print(\"Fit was successful!\")\n",
    "    else:\n",
    "        print(\"Fit failed!\")\n",
    "\n",
    "    # Extract and print fit parameters\n",
    "    params_dict = out.params.valuesdict()  # Get the fitted parameter values as a dictionary\n",
    "    for param, value in params_dict.items():\n",
    "        print(f\"{param} = {value}\")\n",
    "    \n",
    "    # Optional: return the parameters for further use\n",
    "    return params_dict\n",
    "\n",
    "    # ... (rest of your plotting code)\n"
   ]
  },
  {
   "cell_type": "code",
   "execution_count": 34,
   "metadata": {
    "tags": []
   },
   "outputs": [
    {
     "name": "stdout",
     "output_type": "stream",
     "text": [
      "bin_centres is:  [101. 103. 105. 107. 109. 111. 113. 115. 117. 119. 121. 123. 125. 127.\n",
      " 129. 131. 133. 135. 137. 139. 141. 143. 145. 147. 149. 151. 153. 155.\n",
      " 157. 159.]\n",
      "data myy is:  0        109.939896\n",
      "1        233.445730\n",
      "2         91.226625\n",
      "3         86.394939\n",
      "4        886.321497\n",
      "           ...     \n",
      "9088    1260.289782\n",
      "9089     203.087120\n",
      "9090      25.090452\n",
      "9091      82.572908\n",
      "9092      89.274699\n",
      "Name: myy, Length: 156974, dtype: float64\n",
      "data_x is:  [1634 1501 1351 1291 1306 1188 1260 1184 1134 1150 1101 1129 1101 1113\n",
      " 1098 1036 1080 1002 1029 1006  961 1039 1056  934  994  956  991  889\n",
      "  871  936]\n",
      "data_x.max() is:  1634\n",
      "signal_x is  [86242.66506501 86207.29624469 86140.42080098 86150.60010294\n",
      " 86224.3124532  86154.95308796 86266.83417702 86223.18482372\n",
      " 86199.15106499 86235.79587132 86203.09914679 86243.95772904\n",
      " 86226.18538928 86246.5128323  86238.58769647 86182.9745537\n",
      " 86233.15490952 86161.52720299 86195.40680677 86180.02602707\n",
      " 86143.5341037  86230.99721002 86258.39845296 86147.63787305\n",
      " 86219.53244437 86193.81607457 86241.13960489 86151.07081012\n",
      " 86144.09439865 86218.61201241]\n",
      "data_x is  [1634 1501 1351 1291 1306 1188 1260 1184 1134 1150 1101 1129 1101 1113\n",
      " 1098 1036 1080 1002 1029 1006  961 1039 1056  934  994  956  991  889\n",
      "  871  936]\n",
      "background  [-84608.66506501 -84706.29624469 -84789.42080098 -84859.60010294\n",
      " -84918.3124532  -84966.95308796 -85006.83417702 -85039.18482372\n",
      " -85065.15106499 -85085.79587132 -85102.09914679 -85114.95772904\n",
      " -85125.18538928 -85133.5128323  -85140.58769647 -85146.9745537\n",
      " -85153.15490952 -85159.52720299 -85166.40680677 -85174.02602707\n",
      " -85182.5341037  -85191.99721002 -85202.39845296 -85213.63787305\n",
      " -85225.53244437 -85237.81607457 -85250.13960489 -85262.07081012\n",
      " -85273.09439865 -85282.61201241]\n"
     ]
    },
    {
     "data": {
      "image/png": "[encoded data removed]",
      "text/plain": [
       "<Figure size 640x480 with 2 Axes>"
      ]
     },
     "metadata": {},
     "output_type": "display_data"
    }
   ],
   "source": [
    "plot_data(data)"
   ]
  },
  {
   "cell_type": "code",
   "execution_count": 35,
   "metadata": {},
   "outputs": [
    {
     "name": "stdout",
     "output_type": "stream",
     "text": [
      "bin_centres is:  [101. 103. 105. 107. 109. 111. 113. 115. 117. 119. 121. 123. 125. 127.\n",
      " 129. 131. 133. 135. 137. 139. 141. 143. 145. 147. 149. 151. 153. 155.\n",
      " 157. 159.]\n",
      "data myy is:  0        109.939896\n",
      "1        233.445730\n",
      "2         91.226625\n",
      "3         86.394939\n",
      "4        886.321497\n",
      "           ...     \n",
      "9088    1260.289782\n",
      "9089     203.087120\n",
      "9090      25.090452\n",
      "9091      82.572908\n",
      "9092      89.274699\n",
      "Name: myy, Length: 156974, dtype: float64\n",
      "data_x is:  [1634 1501 1351 1291 1306 1188 1260 1184 1134 1150 1101 1129 1101 1113\n",
      " 1098 1036 1080 1002 1029 1006  961 1039 1056  934  994  956  991  889\n",
      "  871  936]\n",
      "data_x.max() is:  1634\n",
      "signal_x is  [ 52.2197536   16.85093329 -50.02451042 -39.84520846  33.86714179\n",
      " -35.49222344  76.38886562  32.73951232   8.70575359  45.35055992\n",
      "  12.65383539  53.51241764  35.74007788  56.0675209   48.14238507\n",
      "  -7.4707577   42.70959812 -28.91810841   4.96149536 -10.41928433\n",
      " -46.9112077   40.55189861  67.95314156 -42.80743835  29.08713297\n",
      "   3.37076317  50.69429349 -39.37450128 -46.35091276  28.166701  ]\n",
      "data_x is  [1634 1501 1351 1291 1306 1188 1260 1184 1134 1150 1101 1129 1101 1113\n",
      " 1098 1036 1080 1002 1029 1006  961 1039 1056  934  994  956  991  889\n",
      "  871  936]\n",
      "background  [1581.7802464  1484.14906671 1401.02451042 1330.84520846 1272.13285821\n",
      " 1223.49222344 1183.61113438 1151.26048768 1125.29424641 1104.64944008\n",
      " 1088.34616461 1075.48758236 1065.25992212 1056.9324791  1049.85761493\n",
      " 1043.4707577  1037.29040188 1030.91810841 1024.03850464 1016.41928433\n",
      " 1007.9112077   998.44810139  988.04685844  976.80743835  964.91286703\n",
      "  952.62923683  940.30570651  928.37450128  917.35091276  907.833299  ]\n"
     ]
    },
    {
     "ename": "TypeError",
     "evalue": "cannot unpack non-iterable NoneType object",
     "output_type": "error",
     "traceback": [
      "\u001b[0;31m---------------------------------------------------------------------------\u001b[0m",
      "\u001b[0;31mTypeError\u001b[0m                                 Traceback (most recent call last)",
      "Cell \u001b[0;32mIn[35], line 1\u001b[0m\n\u001b[0;32m----> 1\u001b[0m params, out \u001b[38;5;241m=\u001b[39m plot_data(data)\n\u001b[1;32m      2\u001b[0m \u001b[38;5;28mprint\u001b[39m(\u001b[38;5;124m\"\u001b[39m\u001b[38;5;124mFitted parameters: \u001b[39m\u001b[38;5;124m\"\u001b[39m, params)\n",
      "\u001b[0;31mTypeError\u001b[0m: cannot unpack non-iterable NoneType object"
     ]
    },
    {
     "data": {
      "image/png": "[encoded data removed]",
      "text/plain": [
       "<Figure size 640x480 with 2 Axes>"
      ]
     },
     "metadata": {},
     "output_type": "display_data"
    }
   ],
   "source": [
    "params, out = plot_data(data)\n",
    "print(\"Fitted parameters: \", params)\n"
   ]
  },
  {
   "cell_type": "code",
   "execution_count": null,
   "metadata": {},
   "outputs": [],
   "source": []
  },
  {
   "cell_type": "code",
   "execution_count": null,
   "metadata": {},
   "outputs": [],
   "source": []
  },
  {
   "cell_type": "code",
   "execution_count": null,
   "metadata": {},
   "outputs": [],
   "source": []
  },
  {
   "cell_type": "code",
   "execution_count": null,
   "metadata": {},
   "outputs": [],
   "source": []
  }
 ],
 "metadata": {
  "kernelspec": {
   "display_name": "Python 3 (ipykernel)",
   "language": "python",
   "name": "python3"
  },
  "language_info": {
   "codemirror_mode": {
    "name": "ipython",
    "version": 3
   },
   "file_extension": ".py",
   "mimetype": "text/x-python",
   "name": "python",
   "nbconvert_exporter": "python",
   "pygments_lexer": "ipython3",
   "version": "3.11.5"
  }
 },
 "nbformat": 4,
 "nbformat_minor": 4
}
