{
 "cells": [
  {
   "cell_type": "markdown",
   "metadata": {
    "toc": true
   },
   "source": [
    "<h1>Table of Contents<span class=\"tocSkip\"></span></h1>\n",
    "<div class=\"toc\"><ul class=\"toc-item\"><li><span><a href=\"#How-to-rediscover-the-Higgs-boson-yourself!\" data-toc-modified-id=\"How-to-rediscover-the-Higgs-boson-yourself!-1\"><span class=\"toc-item-num\">1&nbsp;&nbsp;</span>How to rediscover the Higgs boson yourself!</a></span><ul class=\"toc-item\"><li><span><a href=\"#Running-a-Jupyter-notebook\" data-toc-modified-id=\"Running-a-Jupyter-notebook-1.1\"><span class=\"toc-item-num\">1.1&nbsp;&nbsp;</span>Running a Jupyter notebook</a></span></li><li><span><a href=\"#First-time-setup-on-your-computer-(no-need-on-mybinder)\" data-toc-modified-id=\"First-time-setup-on-your-computer-(no-need-on-mybinder)-1.2\"><span class=\"toc-item-num\">1.2&nbsp;&nbsp;</span>First time setup on your computer (no need on mybinder)</a></span></li><li><span><a href=\"#To-setup-everytime\" data-toc-modified-id=\"To-setup-everytime-1.3\"><span class=\"toc-item-num\">1.3&nbsp;&nbsp;</span>To setup everytime</a></span></li><li><span><a href=\"#Lumi,-fraction,-file-path\" data-toc-modified-id=\"Lumi,-fraction,-file-path-1.4\"><span class=\"toc-item-num\">1.4&nbsp;&nbsp;</span>Lumi, fraction, file path</a></span></li><li><span><a href=\"#Samples\" data-toc-modified-id=\"Samples-1.5\"><span class=\"toc-item-num\">1.5&nbsp;&nbsp;</span>Samples</a></span></li><li><span><a href=\"#Changing-a-cut\" data-toc-modified-id=\"Changing-a-cut-1.6\"><span class=\"toc-item-num\">1.6&nbsp;&nbsp;</span>Changing a cut</a></span></li><li><span><a href=\"#Applying-a-cut\" data-toc-modified-id=\"Applying-a-cut-1.7\"><span class=\"toc-item-num\">1.7&nbsp;&nbsp;</span>Applying a cut</a></span></li><li><span><a href=\"#Plotting\" data-toc-modified-id=\"Plotting-1.8\"><span class=\"toc-item-num\">1.8&nbsp;&nbsp;</span>Plotting</a></span></li><li><span><a href=\"#What-can-you-do-to-explore-this-analysis?\" data-toc-modified-id=\"What-can-you-do-to-explore-this-analysis?-1.9\"><span class=\"toc-item-num\">1.9&nbsp;&nbsp;</span>What can you do to explore this analysis?</a></span></li></ul></li></ul></div>"
   ]
  },
  {
   "cell_type": "markdown",
   "metadata": {},
   "source": [
    "<CENTER><img src=\"../../images/ATLASOD.gif\" style=\"width:50%\"></CENTER>"
   ]
  },
  {
   "cell_type": "markdown",
   "metadata": {},
   "source": [
    "# How to rediscover the Higgs boson yourself!\n",
    "This notebook uses ATLAS Open Data http://opendata.atlas.cern to show you the steps to rediscover the Higgs boson yourself!\n",
    "\n",
    "ATLAS Open Data provides open access to proton-proton collision data at the LHC for educational purposes. ATLAS Open Data resources are ideal for high-school, undergraduate and postgraduate students.\n",
    "\n",
    "Notebooks are web applications that allow you to create and share documents that can contain for example:\n",
    "1. live code\n",
    "2. visualisations\n",
    "3. narrative text\n",
    "\n",
    "This analysis loosely follows the discovery of the Higgs boson by ATLAS https://arxiv.org/pdf/1207.7214.pdf (mostly Section 5 and 5.1)\n",
    "\n",
    "By the end of this notebook you will be able to:\n",
    "1. rediscover the Higgs boson yourself!\n",
    "2. know some general principles of a particle physics analysis\n",
    "\n",
    "Feynman diagram pictures are borrowed from our friends at https://www.particlezoo.net"
   ]
  },
  {
   "cell_type": "markdown",
   "metadata": {},
   "source": [
    "<CENTER><img src=\"images/feynman_diagrams/Hyy_feynman.png\" style=\"width:40%\"></CENTER>"
   ]
  },
  {
   "cell_type": "markdown",
   "metadata": {},
   "source": [
    "<a id='contents'></a>"
   ]
  },
  {
   "cell_type": "markdown",
   "metadata": {},
   "source": [
    "Contents: \n",
    "\n",
    "[Running a Jupyter notebook](#running) <br />\n",
    "[First time setup on your computer (no need on mybinder)](#setup_computer) <br />\n",
    "[To setup everytime](#setup_everytime) <br />\n",
    "[Lumi, fraction, file path](#fraction) <br />\n",
    "[Samples](#samples) <br />\n",
    "[Changing a cut](#changing_cut) <br />\n",
    "[Applying a cut](#applying_cut) <br />\n",
    "[Plotting](#plotting) <br />\n",
    "[What can you do to explore this analysis?](#going_further) <br />"
   ]
  },
  {
   "cell_type": "markdown",
   "metadata": {},
   "source": [
    "<a id='running'></a>"
   ]
  },
  {
   "cell_type": "markdown",
   "metadata": {},
   "source": [
    "## Running a Jupyter notebook\n",
    "\n",
    "To run the whole Jupyter notebook, in the top menu click Cell -> Run All.\n",
    "\n",
    "To propagate a change you've made to a piece of code, click Cell -> Run All Below.\n",
    "\n",
    "You can also run a single code cell, by clicking Cell -> Run Cells, or using the keyboard shortcut Shift+Enter."
   ]
  },
  {
   "cell_type": "markdown",
   "metadata": {},
   "source": [
    "<a id='setup_computer'></a>"
   ]
  },
  {
   "cell_type": "markdown",
   "metadata": {},
   "source": [
    "## First time setup on your computer (no need on mybinder)\n",
    "This first cell only needs to be run the first time you open this notebook on your computer. \n",
    "\n",
    "If you close Jupyter and re-open on the same computer, you won't need to run this first cell again.\n",
    "\n",
    "If you open on binder, you don't need to run this cell."
   ]
  },
  {
   "cell_type": "code",
   "execution_count": 1,
   "metadata": {
    "tags": []
   },
   "outputs": [],
   "source": [
    "#import sys\n",
    "#!{sys.executable} -m pip install --upgrade --user pip # update the pip package installer\n",
    "#!{sys.executable} -m pip install -U numpy pandas uproot3 matplotlib lmfit --user # install required packages"
   ]
  },
  {
   "cell_type": "markdown",
   "metadata": {},
   "source": [
    "[Back to contents](#contents)"
   ]
  },
  {
   "cell_type": "markdown",
   "metadata": {},
   "source": [
    "<a id='setup_everytime'></a>"
   ]
  },
  {
   "cell_type": "markdown",
   "metadata": {},
   "source": [
    "## To setup everytime\n",
    "Cell -> Run All Below\n",
    "\n",
    "to be done every time you re-open this notebook\n",
    "\n",
    "We're going to be using a number of tools to help us:\n",
    "* uproot: lets us read .root files typically used in particle physics into data formats used in python\n",
    "* pandas: lets us store data as dataframes, a format widely used in python\n",
    "* numpy: provides numerical calculations such as histogramming\n",
    "* matplotlib: common tool for making plots, figures, images, visualisations\n",
    "* lmfit: tool for statistical fitting"
   ]
  },
  {
   "cell_type": "code",
   "execution_count": 2,
   "metadata": {
    "tags": []
   },
   "outputs": [],
   "source": [
    "import uproot # for reading .root files\n",
    "import awkward as ak # to represent nested data in columnar format\n",
    "import vector # for 4-momentum calculations\n",
    "import time # to measure time to analyse\n",
    "import math # for mathematical functions such as square root\n",
    "import numpy as np # # for numerical calculations such as histogramming\n",
    "import matplotlib.pyplot as plt # for plotting\n",
    "from matplotlib.ticker import MaxNLocator,AutoMinorLocator # for minor ticks\n",
    "from lmfit.models import PolynomialModel, GaussianModel # for the signal and background fits\n",
    "import lmfit"
   ]
  },
  {
   "cell_type": "markdown",
   "metadata": {},
   "source": [
    "[Back to contents](#contents)"
   ]
  },
  {
   "cell_type": "markdown",
   "metadata": {},
   "source": [
    "<a id='fraction'></a>"
   ]
  },
  {
   "cell_type": "markdown",
   "metadata": {},
   "source": [
    "## Lumi, fraction, file path\n",
    "\n",
    "General definitions of luminosity, fraction of data used, where to access the input files"
   ]
  },
  {
   "cell_type": "code",
   "execution_count": 3,
   "metadata": {
    "tags": []
   },
   "outputs": [
    {
     "name": "stdout",
     "output_type": "stream",
     "text": [
      "ls: cannot access 'Input/GamGam/Data/': No such file or directory\n"
     ]
    }
   ],
   "source": [
    "!ls -l Input/GamGam/Data/"
   ]
  },
  {
   "cell_type": "code",
   "execution_count": 4,
   "metadata": {
    "tags": []
   },
   "outputs": [],
   "source": [
    "#lumi = 0.5 # fb-1 # data_A only\n",
    "#lumi = 1.9 # fb-1 # data_B only\n",
    "#lumi = 2.9 # fb-1 # data_C only\n",
    "#lumi = 4.7 # fb-1 # data_D only\n",
    "#lumi = 10 # fb-1 # data_A,data_B,data_C,data_D\n",
    "\n",
    "lumis = [0.5, 1.9, 2.9, 4.7]\n",
    "\n",
    "fraction = 1.0 # reduce this is you want the code to run quicker\n",
    "\n",
    "#tuple_path = \"Input/GamGam/Data/\" # local \n",
    "tuple_path = \"https://atlas-opendata.web.cern.ch/atlas-opendata/samples/2020/GamGam/Data/\" # web address\n",
    "\n",
    "# units\n",
    "MeV = 0.001\n",
    "GeV = 1.0"
   ]
  },
  {
   "cell_type": "code",
   "execution_count": 6,
   "metadata": {
    "tags": []
   },
   "outputs": [
    {
     "ename": "AttributeError",
     "evalue": "'ReadOnlyDirectory' object has no attribute 'num_entries'",
     "output_type": "error",
     "traceback": [
      "\u001b[0;31m---------------------------------------------------------------------------\u001b[0m",
      "\u001b[0;31mAttributeError\u001b[0m                            Traceback (most recent call last)",
      "Cell \u001b[0;32mIn[6], line 7\u001b[0m\n\u001b[1;32m      3\u001b[0m     tree \u001b[38;5;241m=\u001b[39m t\n\u001b[1;32m      5\u001b[0m \u001b[38;5;66;03m# The number of entries in the tree can be viewed\u001b[39;00m\n\u001b[0;32m----> 7\u001b[0m \u001b[43mtree\u001b[49m\u001b[38;5;241;43m.\u001b[39;49m\u001b[43mnum_entries\u001b[49m()\n\u001b[1;32m      8\u001b[0m \u001b[38;5;66;03m# All the information stored in the tree can be viewed using the .keys() method.\u001b[39;00m\n\u001b[1;32m      9\u001b[0m \u001b[38;5;28mprint\u001b[39m(\u001b[38;5;124m\"\u001b[39m\u001b[38;5;124mThe information stored in the tree is:\u001b[39m\u001b[38;5;124m\"\u001b[39m, tree\u001b[38;5;241m.\u001b[39mkeys())\n",
      "\u001b[0;31mAttributeError\u001b[0m: 'ReadOnlyDirectory' object has no attribute 'num_entries'"
     ]
    }
   ],
   "source": [
    "# Accessing the file from the online database (\":analysis\" opens the tree in a desired manner)\n",
    "with uproot.open(tuple_path + \"data_D.GamGam.root\") as t:\n",
    "    tree = t\n",
    "\n",
    "# The number of entries in the tree can be viewed\n",
    "\n",
    "tree.num_entries()\n",
    "# All the information stored in the tree can be viewed using the .keys() method.\n",
    "print(\"The information stored in the tree is:\", tree.keys())"
   ]
  },
  {
   "cell_type": "markdown",
   "metadata": {},
   "source": [
    "<a id='samples'></a>"
   ]
  },
  {
   "cell_type": "markdown",
   "metadata": {},
   "source": [
    "## Samples\n",
    "\n",
    "Samples to process"
   ]
  },
  {
   "cell_type": "code",
   "execution_count": 6,
   "metadata": {
    "tags": []
   },
   "outputs": [],
   "source": [
    "samples_list = ['data_A', 'data_B', 'data_C','data_D'] # add if you want more data\n",
    "fs = 0\n",
    "ls = 4\n",
    "samples_list = samples_list[fs:ls]\n",
    "lumi = sum(lumis[fs:ls])\n"
   ]
  },
  {
   "cell_type": "markdown",
   "metadata": {},
   "source": [
    "[Back to contents](#contents)"
   ]
  },
  {
   "cell_type": "markdown",
   "metadata": {},
   "source": [
    "Define function to get data from files\n",
    "\n",
    "The datasets used in this notebook have already been filtered to include at least 2 photons per event, so that processing is quicker."
   ]
  },
  {
   "cell_type": "code",
   "execution_count": 7,
   "metadata": {
    "tags": []
   },
   "outputs": [],
   "source": [
    "def get_data_from_files():\n",
    "\n",
    "\n",
    "    frames = [] # define empty list to hold data\n",
    "    for val in samples_list: # loop over each file\n",
    "        fileString = tuple_path+val+\".GamGam.root\" # file name to open\n",
    "        temp = read_file(fileString,val) # call the function read_file defined below\n",
    "        frames.append(temp) # append dataframe returned from read_file to list of dataframes\n",
    "    data = ak.concatenate(frames) # concatenatelist of awkward arrays\n",
    "    \n",
    "    return data # return dataframe"
   ]
  },
  {
   "cell_type": "code",
   "execution_count": 8,
   "metadata": {
    "tags": []
   },
   "outputs": [
    {
     "name": "stdout",
     "output_type": "stream",
     "text": [
      "The number of entries in the tree for data_A are: 430344\n",
      "The information stored in the tree for data_A is: ['runNumber', 'eventNumber', 'channelNumber', 'mcWeight', 'scaleFactor_PILEUP', 'scaleFactor_ELE', 'scaleFactor_MUON', 'scaleFactor_PHOTON', 'scaleFactor_TAU', 'scaleFactor_BTAG', 'scaleFactor_LepTRIGGER', 'scaleFactor_PhotonTRIGGER', 'trigE', 'trigM', 'trigP', 'lep_n', 'lep_truthMatched', 'lep_trigMatched', 'lep_pt', 'lep_eta', 'lep_phi', 'lep_E', 'lep_z0', 'lep_charge', 'lep_type', 'lep_isTightID', 'lep_ptcone30', 'lep_etcone20', 'lep_trackd0pvunbiased', 'lep_tracksigd0pvunbiased', 'met_et', 'met_phi', 'jet_n', 'jet_pt', 'jet_eta', 'jet_phi', 'jet_E', 'jet_jvt', 'jet_trueflav', 'jet_truthMatched', 'jet_MV2c10', 'photon_n', 'photon_truthMatched', 'photon_trigMatched', 'photon_pt', 'photon_eta', 'photon_phi', 'photon_E', 'photon_isTightID', 'photon_ptcone30', 'photon_etcone20', 'photon_convType', 'tau_n', 'tau_pt', 'tau_eta', 'tau_phi', 'tau_E', 'tau_isTightID', 'tau_truthMatched', 'tau_trigMatched', 'tau_nTracks', 'tau_BDTid', 'ditau_m', 'lep_pt_syst', 'met_et_syst', 'jet_pt_syst', 'photon_pt_syst', 'tau_pt_syst', 'XSection', 'SumWeights', 'largeRjet_n', 'largeRjet_pt', 'largeRjet_eta', 'largeRjet_phi', 'largeRjet_E', 'largeRjet_m', 'largeRjet_truthMatched', 'largeRjet_D2', 'largeRjet_tau32', 'largeRjet_pt_syst', 'tau_charge']\n",
      "\n",
      "The number of entries in the tree for data_B are: 1528717\n",
      "The information stored in the tree for data_B is: ['runNumber', 'eventNumber', 'channelNumber', 'mcWeight', 'scaleFactor_PILEUP', 'scaleFactor_ELE', 'scaleFactor_MUON', 'scaleFactor_PHOTON', 'scaleFactor_TAU', 'scaleFactor_BTAG', 'scaleFactor_LepTRIGGER', 'scaleFactor_PhotonTRIGGER', 'trigE', 'trigM', 'trigP', 'lep_n', 'lep_truthMatched', 'lep_trigMatched', 'lep_pt', 'lep_eta', 'lep_phi', 'lep_E', 'lep_z0', 'lep_charge', 'lep_type', 'lep_isTightID', 'lep_ptcone30', 'lep_etcone20', 'lep_trackd0pvunbiased', 'lep_tracksigd0pvunbiased', 'met_et', 'met_phi', 'jet_n', 'jet_pt', 'jet_eta', 'jet_phi', 'jet_E', 'jet_jvt', 'jet_trueflav', 'jet_truthMatched', 'jet_MV2c10', 'photon_n', 'photon_truthMatched', 'photon_trigMatched', 'photon_pt', 'photon_eta', 'photon_phi', 'photon_E', 'photon_isTightID', 'photon_ptcone30', 'photon_etcone20', 'photon_convType', 'tau_n', 'tau_pt', 'tau_eta', 'tau_phi', 'tau_E', 'tau_isTightID', 'tau_truthMatched', 'tau_trigMatched', 'tau_nTracks', 'tau_BDTid', 'ditau_m', 'lep_pt_syst', 'met_et_syst', 'jet_pt_syst', 'photon_pt_syst', 'tau_pt_syst', 'XSection', 'SumWeights', 'largeRjet_n', 'largeRjet_pt', 'largeRjet_eta', 'largeRjet_phi', 'largeRjet_E', 'largeRjet_m', 'largeRjet_truthMatched', 'largeRjet_D2', 'largeRjet_tau32', 'largeRjet_pt_syst', 'tau_charge']\n",
      "\n",
      "The number of entries in the tree for data_C are: 2237187\n",
      "The information stored in the tree for data_C is: ['runNumber', 'eventNumber', 'channelNumber', 'mcWeight', 'scaleFactor_PILEUP', 'scaleFactor_ELE', 'scaleFactor_MUON', 'scaleFactor_PHOTON', 'scaleFactor_TAU', 'scaleFactor_BTAG', 'scaleFactor_LepTRIGGER', 'scaleFactor_PhotonTRIGGER', 'trigE', 'trigM', 'trigP', 'lep_n', 'lep_truthMatched', 'lep_trigMatched', 'lep_pt', 'lep_eta', 'lep_phi', 'lep_E', 'lep_z0', 'lep_charge', 'lep_type', 'lep_isTightID', 'lep_ptcone30', 'lep_etcone20', 'lep_trackd0pvunbiased', 'lep_tracksigd0pvunbiased', 'met_et', 'met_phi', 'jet_n', 'jet_pt', 'jet_eta', 'jet_phi', 'jet_E', 'jet_jvt', 'jet_trueflav', 'jet_truthMatched', 'jet_MV2c10', 'photon_n', 'photon_truthMatched', 'photon_trigMatched', 'photon_pt', 'photon_eta', 'photon_phi', 'photon_E', 'photon_isTightID', 'photon_ptcone30', 'photon_etcone20', 'photon_convType', 'tau_n', 'tau_pt', 'tau_eta', 'tau_phi', 'tau_E', 'tau_isTightID', 'tau_truthMatched', 'tau_trigMatched', 'tau_nTracks', 'tau_BDTid', 'ditau_m', 'lep_pt_syst', 'met_et_syst', 'jet_pt_syst', 'photon_pt_syst', 'tau_pt_syst', 'XSection', 'SumWeights', 'largeRjet_n', 'largeRjet_pt', 'largeRjet_eta', 'largeRjet_phi', 'largeRjet_E', 'largeRjet_m', 'largeRjet_truthMatched', 'largeRjet_D2', 'largeRjet_tau32', 'largeRjet_pt_syst', 'tau_charge']\n",
      "\n",
      "The number of entries in the tree for data_D are: 3602176\n",
      "The information stored in the tree for data_D is: ['runNumber', 'eventNumber', 'channelNumber', 'mcWeight', 'scaleFactor_PILEUP', 'scaleFactor_ELE', 'scaleFactor_MUON', 'scaleFactor_PHOTON', 'scaleFactor_TAU', 'scaleFactor_BTAG', 'scaleFactor_LepTRIGGER', 'scaleFactor_PhotonTRIGGER', 'trigE', 'trigM', 'trigP', 'lep_n', 'lep_truthMatched', 'lep_trigMatched', 'lep_pt', 'lep_eta', 'lep_phi', 'lep_E', 'lep_z0', 'lep_charge', 'lep_type', 'lep_isTightID', 'lep_ptcone30', 'lep_etcone20', 'lep_trackd0pvunbiased', 'lep_tracksigd0pvunbiased', 'met_et', 'met_phi', 'jet_n', 'jet_pt', 'jet_eta', 'jet_phi', 'jet_E', 'jet_jvt', 'jet_trueflav', 'jet_truthMatched', 'jet_MV2c10', 'photon_n', 'photon_truthMatched', 'photon_trigMatched', 'photon_pt', 'photon_eta', 'photon_phi', 'photon_E', 'photon_isTightID', 'photon_ptcone30', 'photon_etcone20', 'photon_convType', 'tau_n', 'tau_pt', 'tau_eta', 'tau_phi', 'tau_E', 'tau_isTightID', 'tau_truthMatched', 'tau_trigMatched', 'tau_nTracks', 'tau_BDTid', 'ditau_m', 'lep_pt_syst', 'met_et_syst', 'jet_pt_syst', 'photon_pt_syst', 'tau_pt_syst', 'XSection', 'SumWeights', 'largeRjet_n', 'largeRjet_pt', 'largeRjet_eta', 'largeRjet_phi', 'largeRjet_E', 'largeRjet_m', 'largeRjet_truthMatched', 'largeRjet_D2', 'largeRjet_tau32', 'largeRjet_pt_syst', 'tau_charge']\n",
      "\n"
     ]
    }
   ],
   "source": [
    "import uproot\n",
    "\n",
    "# List of sample names\n",
    "samples_list = ['data_A', 'data_B', 'data_C', 'data_D'] \n",
    "\n",
    "# Base path where the data files are stored\n",
    "path = \"https://atlas-opendata.web.cern.ch/atlas-opendata/samples/2020/GamGam/Data/\" # web address\n",
    "\n",
    "# Iterate over each sample in the list\n",
    "for sample in samples_list:\n",
    "    # Construct the full path to the sample file\n",
    "    file_path = f\"{path}{sample}.GamGam.root\"\n",
    "\n",
    "    # Access the file and open the 'analysis' tree\n",
    "    with uproot.open(file_path + \":mini\") as tree:\n",
    "        # Display the number of entries\n",
    "        print(f\"The number of entries in the tree for {sample} are:\", tree.num_entries)\n",
    "        \n",
    "        # Display the keys (information stored in the tree)\n",
    "        print(f\"The information stored in the tree for {sample} is:\", tree.keys())\n",
    "\n",
    "    print()  # Just for a better output format\n"
   ]
  },
  {
   "cell_type": "markdown",
   "metadata": {},
   "source": [
    "Define function to calculate diphoton invariant mass"
   ]
  },
  {
   "cell_type": "code",
   "execution_count": 9,
   "metadata": {
    "tags": []
   },
   "outputs": [],
   "source": [
    "def calc_myy(photon_pt,photon_eta,photon_phi,photon_E):\n",
    "    # construct awkward 4-vector array\n",
    "    p4 = vector.awk(ak.zip(dict(pt=photon_pt, eta=photon_eta, phi=photon_phi, E=photon_E)))\n",
    "    # calculate invariant mass of first 4 leptons\n",
    "    # [:, i] selects the i-th lepton in each event\n",
    "    # .M calculates the invariant mass\n",
    "    return (p4[:, 0] + p4[:, 1]).M * MeV\n",
    "\n"
   ]
  },
  {
   "cell_type": "markdown",
   "metadata": {},
   "source": [
    "[Back to contents](#contents)"
   ]
  },
  {
   "cell_type": "markdown",
   "metadata": {},
   "source": [
    "<a id='changing_cut'></a>"
   ]
  },
  {
   "cell_type": "markdown",
   "metadata": {},
   "source": [
    "## Changing a cut\n",
    "\n",
    "If you change a cut: Cell -> Run All Below\n",
    "\n",
    "If you change a cut here, you also need to make sure the cut is applied in the \"[Applying a cut](#applying_cut)\" cell."
   ]
  },
  {
   "cell_type": "code",
   "execution_count": 59,
   "metadata": {
    "tags": []
   },
   "outputs": [],
   "source": [
    "import numpy as np\n",
    "\n",
    "# 1) Cut on photon reconstruction quality\n",
    "def cut_photon_reconstruction(photon_isTightID):\n",
    "    initial_count = len(photon_isTightID)\n",
    "    mask = (photon_isTightID[:,0] != 0) & (photon_isTightID[:,1] != 0)\n",
    "    final_count = np.sum(mask)\n",
    "    cut_count = initial_count - final_count\n",
    "    cut_percentage = (cut_count / initial_count) * 100\n",
    "    print(f\"1) Photon Reconstruction Cut: {initial_count} -> {final_count} events remaining \"\n",
    "          f\"({cut_count} events cut, {cut_percentage:.2f}% reduction)\")\n",
    "    return mask\n",
    "\n",
    "# 2) Cut on Transverse momentum\n",
    "def cut_photon_pt(photon_pt):\n",
    "    initial_count = len(photon_pt)\n",
    "    mask = (photon_pt[:,0] > 40000) & (photon_pt[:,1] > 30000)\n",
    "    final_count = np.sum(mask)\n",
    "    cut_count = initial_count - final_count\n",
    "    cut_percentage = (cut_count / initial_count) * 100\n",
    "    print(f\"2) Photon PT Cut: {initial_count} -> {final_count} events remaining \"\n",
    "          f\"({cut_count} events cut, {cut_percentage:.2f}% reduction)\")\n",
    "    return mask\n",
    "\n",
    "# 3) Cut on energy isolation\n",
    "def cut_isolation_et(photon_etcone20):\n",
    "    initial_count = len(photon_etcone20)\n",
    "    mask = (photon_etcone20[:,0] < 4000) & (photon_etcone20[:,1] < 4000)\n",
    "    final_count = np.sum(mask)\n",
    "    cut_count = initial_count - final_count\n",
    "    cut_percentage = (cut_count / initial_count) * 100\n",
    "    print(f\"3) Isolation ET Cut: {initial_count} -> {final_count} events remaining \"\n",
    "          f\"({cut_count} events cut, {cut_percentage:.2f}% reduction)\")\n",
    "    return mask\n",
    "\n",
    "# 4) Cut on pseudorapidity in barrel/end-cap transition region\n",
    "def cut_photon_eta_transition(photon_eta):\n",
    "    initial_count = len(photon_eta)\n",
    "    mask = ((np.abs(photon_eta[:,0]) > 1.52) | (np.abs(photon_eta[:,0]) < 1.37)) & \\\n",
    "           ((np.abs(photon_eta[:,1]) > 1.52) | (np.abs(photon_eta[:,1]) < 1.37))\n",
    "    final_count = np.sum(mask)\n",
    "    cut_count = initial_count - final_count\n",
    "    cut_percentage = (cut_count / initial_count) * 100\n",
    "    print(f\"4) Pseudorapidity Cut: {initial_count} -> {final_count} events remaining \"\n",
    "          f\"({cut_count} events cut, {cut_percentage:.2f}% reduction)\")\n",
    "    return mask\n",
    "\n",
    "# # Function to apply all cuts sequentially and summarize the results\n",
    "# def apply_cuts(photon_isTightID, photon_pt, photon_etcone20, photon_eta):\n",
    "#     # Start with all events\n",
    "#     print(\"Applying Cuts:\")\n",
    "#     n_in_total = len(photon_isTightID)\n",
    "\n",
    "#     # Apply each cut sequentially\n",
    "#     reconstruction_mask = cut_photon_reconstruction(photon_isTightID)\n",
    "#     pt_mask = cut_photon_pt(photon_pt)\n",
    "#     isolation_mask = cut_isolation_et(photon_etcone20)\n",
    "#     eta_transition_mask = cut_photon_eta_transition(photon_eta)\n",
    "\n",
    "#     # Combine all masks\n",
    "#     final_mask = reconstruction_mask & pt_mask & isolation_mask & eta_transition_mask\n",
    "\n",
    "#     # Final number of events after all cuts\n",
    "#     n_out_total = np.sum(final_mask)\n",
    "    \n",
    "#     print(\"\\nSummary of All Cuts:\")\n",
    "#     print(f\"Total events before cuts (n_in_total): {n_in_total}\")\n",
    "#     print(f\"Total events after all cuts (n_out_total): {n_out_total}\")\n",
    "#     print(f\"Total events cut: {n_in_total - n_out_total} ({(n_in_total - n_out_total) / n_in_total * 100:.2f}% reduction)\")\n",
    "\n",
    "#     return final_mask\n",
    "\n",
    "# # Example usage with your data arrays (replace with actual data arrays)\n",
    "# # final_mask = apply_cuts(photon_isTightID, photon_pt, photon_etcone20, photon_eta)\n"
   ]
  },
  {
   "cell_type": "markdown",
   "metadata": {},
   "source": [
    "[Back to contents](#contents)"
   ]
  },
  {
   "cell_type": "markdown",
   "metadata": {},
   "source": [
    "<a id='applying_cut'></a>"
   ]
  },
  {
   "cell_type": "markdown",
   "metadata": {},
   "source": [
    "## Applying a cut \n",
    "\n",
    "If you add a cut: Cell -> Run All Below"
   ]
  },
  {
   "cell_type": "code",
   "execution_count": 65,
   "metadata": {
    "tags": []
   },
   "outputs": [],
   "source": [
    "def read_file(path,sample):\n",
    "    start = time.time() # start the clock\n",
    "    print(\"\\tProcessing: \"+sample) # print which sample is being processed\n",
    "    data_all = [] # define empty list to hold all data for this sample\n",
    "    \n",
    "    # open the tree called mini using a context manager (will automatically close files/resources)\n",
    "    with uproot.open(path + \":mini\") as tree:\n",
    "        numevents = tree.num_entries # number of events\n",
    "        for data in tree.iterate([\"photon_pt\",\"photon_eta\",\"photon_phi\",\"photon_E\",\n",
    "                                  \"photon_isTightID\",\"photon_etcone20\"], # add more variables here if you want to use them\n",
    "                                 library=\"ak\", # choose output type as awkward array\n",
    "                                 entry_stop=numevents*fraction): # process up to numevents*fraction\n",
    "            nIn = len(data) # number of events in this batch\n",
    "\n",
    "            # Cut on photon reconstruction quality using the function cut_photon_reconstruction defined above\n",
    "            #data = data[ np.vectorize(cut_photon_reconstruction)(data.photon_isTightID)]\n",
    "            data = data[cut_photon_reconstruction(data.photon_isTightID)]\n",
    "            # Cut on transverse momentum of the photons using the function cut_photon_pt defined above\n",
    "            #data = data[ np.vectorize(cut_photon_pt)(data.photon_pt)]\n",
    "            data = data[cut_photon_pt(data.photon_pt)]\n",
    "            # Cut on energy isolation using the function cut_isolation_et defined above\n",
    "            #data = data[ np.vectorize(cut_isolation_et)(data.photon_etcone20)]\n",
    "            data = data[cut_isolation_et(data.photon_etcone20)]\n",
    "            # Cut on pseudorapidity inside barrel/end-cap transition region using the function cut_photon_eta_transition\n",
    "            #data = data[ np.vectorize(cut_photon_eta_transition)(data.photon_eta)]\n",
    "            data = data[cut_photon_eta_transition(data.photon_eta)]\n",
    "            \n",
    "            # Calculate reconstructed diphoton invariant mass using the function calc_myy defined above\n",
    "            # data['myy'] = np.vectorize(calc_myy)(data.photon_pt,data.photon_eta,data.photon_phi,data.photon_E)\n",
    "            data['myy'] = calc_myy(data.photon_pt,data.photon_eta,data.photon_phi,data.photon_E)\n",
    "        \n",
    "\n",
    "            # array contents can be printed at any stage like this\n",
    "            #print(data)\n",
    "\n",
    "            # array column can be printed at any stage like this\n",
    "            #print(data['lep_pt'])\n",
    "\n",
    "            # multiple array columns can be printed at any stage like this\n",
    "            #print(data[['lep_pt','lep_eta']])\n",
    "\n",
    "            nOut = len(data) # number of events passing cuts in this batch\n",
    "            data_all.append(data) # append array from this batch\n",
    "            elapsed = time.time() - start # time taken to process\n",
    "            print(\"\\t\\t nIn: \"+str(nIn)+\",\\t nOut: \\t\"+str(nOut)+\"\\t in \"+str(round(elapsed,1))+\"s\") # events before and after\n",
    "    \n",
    "    return ak.concatenate(data_all) # return array containing events passing all cuts"
   ]
  },
  {
   "cell_type": "code",
   "execution_count": 66,
   "metadata": {
    "tags": []
   },
   "outputs": [
    {
     "data": {
      "text/plain": [
       "['runNumber',\n",
       " 'eventNumber',\n",
       " 'channelNumber',\n",
       " 'mcWeight',\n",
       " 'scaleFactor_PILEUP',\n",
       " 'scaleFactor_ELE',\n",
       " 'scaleFactor_MUON',\n",
       " 'scaleFactor_PHOTON',\n",
       " 'scaleFactor_TAU',\n",
       " 'scaleFactor_BTAG',\n",
       " 'scaleFactor_LepTRIGGER',\n",
       " 'scaleFactor_PhotonTRIGGER',\n",
       " 'trigE',\n",
       " 'trigM',\n",
       " 'trigP',\n",
       " 'lep_n',\n",
       " 'lep_truthMatched',\n",
       " 'lep_trigMatched',\n",
       " 'lep_pt',\n",
       " 'lep_eta',\n",
       " 'lep_phi',\n",
       " 'lep_E',\n",
       " 'lep_z0',\n",
       " 'lep_charge',\n",
       " 'lep_type',\n",
       " 'lep_isTightID',\n",
       " 'lep_ptcone30',\n",
       " 'lep_etcone20',\n",
       " 'lep_trackd0pvunbiased',\n",
       " 'lep_tracksigd0pvunbiased',\n",
       " 'met_et',\n",
       " 'met_phi',\n",
       " 'jet_n',\n",
       " 'jet_pt',\n",
       " 'jet_eta',\n",
       " 'jet_phi',\n",
       " 'jet_E',\n",
       " 'jet_jvt',\n",
       " 'jet_trueflav',\n",
       " 'jet_truthMatched',\n",
       " 'jet_MV2c10',\n",
       " 'photon_n',\n",
       " 'photon_truthMatched',\n",
       " 'photon_trigMatched',\n",
       " 'photon_pt',\n",
       " 'photon_eta',\n",
       " 'photon_phi',\n",
       " 'photon_E',\n",
       " 'photon_isTightID',\n",
       " 'photon_ptcone30',\n",
       " 'photon_etcone20',\n",
       " 'photon_convType',\n",
       " 'tau_n',\n",
       " 'tau_pt',\n",
       " 'tau_eta',\n",
       " 'tau_phi',\n",
       " 'tau_E',\n",
       " 'tau_isTightID',\n",
       " 'tau_truthMatched',\n",
       " 'tau_trigMatched',\n",
       " 'tau_nTracks',\n",
       " 'tau_BDTid',\n",
       " 'ditau_m',\n",
       " 'lep_pt_syst',\n",
       " 'met_et_syst',\n",
       " 'jet_pt_syst',\n",
       " 'photon_pt_syst',\n",
       " 'tau_pt_syst',\n",
       " 'XSection',\n",
       " 'SumWeights',\n",
       " 'largeRjet_n',\n",
       " 'largeRjet_pt',\n",
       " 'largeRjet_eta',\n",
       " 'largeRjet_phi',\n",
       " 'largeRjet_E',\n",
       " 'largeRjet_m',\n",
       " 'largeRjet_truthMatched',\n",
       " 'largeRjet_D2',\n",
       " 'largeRjet_tau32',\n",
       " 'largeRjet_pt_syst',\n",
       " 'tau_charge']"
      ]
     },
     "execution_count": 66,
     "metadata": {},
     "output_type": "execute_result"
    }
   ],
   "source": [
    "tree.keys()"
   ]
  },
  {
   "cell_type": "markdown",
   "metadata": {},
   "source": [
    "[Back to contents](#contents)"
   ]
  },
  {
   "cell_type": "markdown",
   "metadata": {},
   "source": [
    "This is where the processing happens (this will take some minutes)"
   ]
  },
  {
   "cell_type": "code",
   "execution_count": 67,
   "metadata": {
    "scrolled": true,
    "tags": []
   },
   "outputs": [
    {
     "name": "stdout",
     "output_type": "stream",
     "text": [
      "\tProcessing: data_A\n",
      "1) Photon Reconstruction Cut: 430344 -> 54379 events remaining (375965 events cut, 87.36% reduction)\n",
      "2) Photon PT Cut: 54379 -> 34625 events remaining (19754 events cut, 36.33% reduction)\n",
      "3) Isolation ET Cut: 34625 -> 22381 events remaining (12244 events cut, 35.36% reduction)\n",
      "4) Pseudorapidity Cut: 22381 -> 22350 events remaining (31 events cut, 0.14% reduction)\n",
      "\t\t nIn: 430344,\t nOut: \t22350\t in 1.1s\n",
      "\tProcessing: data_B\n",
      "1) Photon Reconstruction Cut: 1528717 -> 191786 events remaining (1336931 events cut, 87.45% reduction)\n",
      "2) Photon PT Cut: 191786 -> 121817 events remaining (69969 events cut, 36.48% reduction)\n",
      "3) Isolation ET Cut: 121817 -> 77699 events remaining (44118 events cut, 36.22% reduction)\n",
      "4) Pseudorapidity Cut: 77699 -> 77574 events remaining (125 events cut, 0.16% reduction)\n",
      "\t\t nIn: 1528717,\t nOut: \t77574\t in 1.6s\n",
      "\tProcessing: data_C\n",
      "1) Photon Reconstruction Cut: 1991156 -> 249811 events remaining (1741345 events cut, 87.45% reduction)\n",
      "2) Photon PT Cut: 249811 -> 158723 events remaining (91088 events cut, 36.46% reduction)\n",
      "3) Isolation ET Cut: 158723 -> 101449 events remaining (57274 events cut, 36.08% reduction)\n",
      "4) Pseudorapidity Cut: 101449 -> 101273 events remaining (176 events cut, 0.17% reduction)\n",
      "\t\t nIn: 1991156,\t nOut: \t101273\t in 5.1s\n",
      "1) Photon Reconstruction Cut: 246031 -> 31097 events remaining (214934 events cut, 87.36% reduction)\n",
      "2) Photon PT Cut: 31097 -> 19923 events remaining (11174 events cut, 35.93% reduction)\n",
      "3) Isolation ET Cut: 19923 -> 12847 events remaining (7076 events cut, 35.52% reduction)\n",
      "4) Pseudorapidity Cut: 12847 -> 12824 events remaining (23 events cut, 0.18% reduction)\n",
      "\t\t nIn: 246031,\t nOut: \t12824\t in 5.3s\n",
      "\tProcessing: data_D\n",
      "1) Photon Reconstruction Cut: 1912410 -> 237579 events remaining (1674831 events cut, 87.58% reduction)\n",
      "2) Photon PT Cut: 237579 -> 151524 events remaining (86055 events cut, 36.22% reduction)\n",
      "3) Isolation ET Cut: 151524 -> 96608 events remaining (54916 events cut, 36.24% reduction)\n",
      "4) Pseudorapidity Cut: 96608 -> 96464 events remaining (144 events cut, 0.15% reduction)\n",
      "\t\t nIn: 1912410,\t nOut: \t96464\t in 2.8s\n",
      "1) Photon Reconstruction Cut: 1689766 -> 214407 events remaining (1475359 events cut, 87.31% reduction)\n",
      "2) Photon PT Cut: 214407 -> 136457 events remaining (77950 events cut, 36.36% reduction)\n",
      "3) Isolation ET Cut: 136457 -> 87629 events remaining (48828 events cut, 35.78% reduction)\n",
      "4) Pseudorapidity Cut: 87629 -> 87478 events remaining (151 events cut, 0.17% reduction)\n",
      "\t\t nIn: 1689766,\t nOut: \t87478\t in 4.3s\n",
      "Time taken: 13.9s\n"
     ]
    }
   ],
   "source": [
    "start = time.time() # time at start of whole processing\n",
    "data = get_data_from_files() # process all files\n",
    "elapsed = time.time() - start # time after whole processing\n",
    "print(\"Time taken: \"+str(round(elapsed,1))+\"s\") # print total time taken to process every file"
   ]
  },
  {
   "cell_type": "code",
   "execution_count": null,
   "metadata": {},
   "outputs": [],
   "source": [
    "#n_In_Total 1.69M , nOut_Total = 214021, TimeTaken = 13.9s\n",
    "#121565.899280576 Data/s"
   ]
  },
  {
   "cell_type": "markdown",
   "metadata": {},
   "source": [
    "<a id='plotting'></a>"
   ]
  },
  {
   "cell_type": "markdown",
   "metadata": {},
   "source": [
    "## Plotting\n",
    "If you only want a make a change in the plot: Cell -> Run All Below\n",
    "\n",
    "Define function to plot the data."
   ]
  },
  {
   "cell_type": "code",
   "execution_count": 14,
   "metadata": {
    "tags": []
   },
   "outputs": [],
   "source": [
    "def plot_data(data, xref = 0, npol=4):   \n",
    "\n",
    "    xmin = 100 # GeV\n",
    "    xmax = 160 # GeV\n",
    "    step_size = 2 # GeV\n",
    "    \n",
    "    bin_edges = np.arange(start=xmin, # The interval includes this value\n",
    "                     stop=xmax+step_size, # The interval doesn't include this value\n",
    "                     step=step_size ) # Spacing between values\n",
    "    bin_centres = np.arange(start=xmin+step_size/2, # The interval includes this value\n",
    "                            stop=xmax+step_size/2, # The interval doesn't include this value\n",
    "                            step=step_size ) # Spacing between values\n",
    "    \n",
    "    bin_centres_s = bin_centres - xref\n",
    "    \n",
    "    datamyy = ak.to_numpy(data['myy']) # extract myy from ak array as np array\n",
    "    data_x,_ = np.histogram(datamyy, \n",
    "                            bins=bin_edges ) # histogram the data\n",
    "    data_x_errors = np.sqrt( data_x ) # statistical error on the data\n",
    "\n",
    "    # data fit\n",
    "    polynomial_mod = PolynomialModel( npol ) # 4th order polynomial\n",
    "    polpnames = polynomial_mod.param_names\n",
    "    gaussian_mod = GaussianModel() # Gaussian\n",
    "    \n",
    "    # set initial guesses for the parameters of the polynomial model\n",
    "    # c0 + c1*x + c2*x^2 + c3*x^3 + c4*x^4\n",
    "    pars = polynomial_mod.guess(data_x, # data to use to guess parameter values\n",
    "                                x=bin_centres_s, c0=data_x.max(), c1=0,\n",
    "                                c2=0, c3=0, c4=0 )\n",
    "    \n",
    "    # set initial guesses for the parameters of the Gaussian model\n",
    "    pars += gaussian_mod.guess(data_x, # data to use to guess parameter values\n",
    "                               x=bin_centres_s, amplitude=100, \n",
    "                               center=125-xref, sigma=2 )\n",
    "    \n",
    "    model = polynomial_mod + gaussian_mod # combined model\n",
    "    \n",
    "    # fit the model to the data\n",
    "    out = model.fit(data_x, # data to be fit\n",
    "                    pars, # guesses for the parameters\n",
    "                    x=bin_centres_s, weights=1/data_x_errors ) \n",
    "\n",
    "    # background part of fit\n",
    "    params_dict = out.params.valuesdict() # get the parameters from the fit to data\n",
    "    \n",
    "    #c0 = params_dict['c0'] # c0 of c0 + c1*x + c2*x^2 + c3*x^3 + c4*x^4\n",
    "    #c1 = params_dict['c1'] # c1 of c0 + c1*x + c2*x^2 + c3*x^3 + c4*x^4\n",
    "    #c2 = params_dict['c2'] # c2 of c0 + c1*x + c2*x^2 + c3*x^3 + c4*x^4\n",
    "    #c3 = params_dict['c3'] # c3 of c0 + c1*x + c2*x^2 + c3*x^3 + c4*x^4\n",
    "    #c4 = params_dict['c4'] # c4 of c0 + c1*x + c2*x^2 + c3*x^3 + c4*x^4\n",
    "    \n",
    "    # get the background only part of the fit to data\n",
    "    #background = c0 + c1*bin_centres_s + c2*bin_centres_s**2 + c3*bin_centres_s**3 + c4*bin_centres_s**4\n",
    "\n",
    "    cpars = [ params_dict[x] for x in polpnames]\n",
    "    background = np.polyval( cpars[::-1],bin_centres_s)\n",
    "\n",
    "    # data fit - background fit = signal fit\n",
    "    signal_x = data_x - background \n",
    "\n",
    "\n",
    "    # *************\n",
    "    # Main plot \n",
    "    # *************\n",
    "    plt.axes([0.1,0.3,0.85,0.65]) # left, bottom, width, height \n",
    "    main_axes = plt.gca() # get current axes\n",
    "    \n",
    "    # plot the data points\n",
    "    main_axes.errorbar(x=bin_centres, y=data_x, yerr=data_x_errors, \n",
    "                       fmt='ko', # 'k' means black and 'o' means circles\n",
    "                       label='Data' ) \n",
    "    \n",
    "    # plot the signal + background fit\n",
    "    main_axes.plot(bin_centres, # x\n",
    "                   out.best_fit, # y\n",
    "                   '-r', # single red line\n",
    "                   label='Sig+Bkg Fit ($m_H=125$ GeV)' )\n",
    "    \n",
    "    # plot the background only fit\n",
    "    main_axes.plot(bin_centres, # x\n",
    "                   background, # y\n",
    "                   '--r', # dashed red line\n",
    "                   label='Bkg (4th order polynomial)' )\n",
    "\n",
    "    # set the x-limit of the main axes\n",
    "    main_axes.set_xlim( left=xmin, right=xmax ) \n",
    "    \n",
    "    # separation of x-axis minor ticks\n",
    "    main_axes.xaxis.set_minor_locator( AutoMinorLocator() ) \n",
    "    \n",
    "    # set the axis tick parameters for the main axes\n",
    "    main_axes.tick_params(which='both', # ticks on both x and y axes\n",
    "                          direction='in', # Put ticks inside and outside the axes\n",
    "                          top=True, # draw ticks on the top axis\n",
    "                          labelbottom=False, # don't draw tick labels on bottom axis\n",
    "                          right=True ) # draw ticks on right axis\n",
    "    \n",
    "    # write y-axis label for main axes\n",
    "    main_axes.set_ylabel('Events / '+str(step_size)+' GeV', \n",
    "                         horizontalalignment='right') \n",
    "    \n",
    "    # set the y-axis limit for the main axes\n",
    "    main_axes.set_ylim( bottom=0, top=np.amax(data_x)*1.1 ) \n",
    "    \n",
    "    # set minor ticks on the y-axis of the main axes\n",
    "    main_axes.yaxis.set_minor_locator( AutoMinorLocator() ) \n",
    "    \n",
    "    # avoid displaying y=0 on the main axes\n",
    "    main_axes.yaxis.get_major_ticks()[0].set_visible(False) \n",
    "\n",
    "    # Add text 'ATLAS Open Data' on plot\n",
    "    plt.text(0.2, # x\n",
    "             0.92, # y\n",
    "             'ATLAS Open Data', # text\n",
    "             transform=main_axes.transAxes, # coordinate system used is that of main_axes\n",
    "             fontsize=13 ) \n",
    "    \n",
    "    # Add text 'for education' on plot\n",
    "    plt.text(0.2, # x\n",
    "             0.86, # y\n",
    "             'for education', # text\n",
    "             transform=main_axes.transAxes, # coordinate system used is that of main_axes\n",
    "             style='italic',\n",
    "             fontsize=8 ) \n",
    "    \n",
    "    # Add energy and luminosity\n",
    "    lumi_used = str(lumi*fraction) # luminosity to write on the plot\n",
    "    plt.text(0.2, # x\n",
    "             0.8, # y\n",
    "             '$\\sqrt{s}$=13 TeV,$\\int$L dt = '+lumi_used+' fb$^{-1}$', # text\n",
    "             transform=main_axes.transAxes ) # coordinate system used is that of main_axes \n",
    "    \n",
    "    # Add a label for the analysis carried out\n",
    "    plt.text(0.2, # x\n",
    "             0.74, # y\n",
    "             r'$H \\rightarrow \\gamma\\gamma$', # text \n",
    "             transform=main_axes.transAxes ) # coordinate system used is that of main_axes\n",
    "\n",
    "    # draw the legend\n",
    "    main_axes.legend(frameon=False, # no box around the legend\n",
    "                     loc='lower left' ) # legend location \n",
    "\n",
    "\n",
    "    # *************\n",
    "    # Data-Bkg plot \n",
    "    # *************\n",
    "    plt.axes([0.1,0.1,0.85,0.2]) # left, bottom, width, height\n",
    "    sub_axes = plt.gca() # get the current axes\n",
    "    \n",
    "    # set the y axis to be symmetric about Data-Background=0\n",
    "    sub_axes.yaxis.set_major_locator( MaxNLocator(nbins='auto', \n",
    "                                                  symmetric=True) )\n",
    "    \n",
    "    # plot Data-Background\n",
    "    sub_axes.errorbar(x=bin_centres, y=signal_x, yerr=data_x_errors,\n",
    "                      fmt='ko' ) # 'k' means black and 'o' means circles\n",
    "    \n",
    "    # draw the fit to data\n",
    "    sub_axes.plot(bin_centres, # x\n",
    "                  out.best_fit-background, # y\n",
    "                  '-r' ) # single red line\n",
    "    \n",
    "    # draw the background only fit\n",
    "    sub_axes.plot(bin_centres, # x\n",
    "                  background-background, # y\n",
    "                  '--r' )  # dashed red line\n",
    "    \n",
    "    # set the x-axis limits on the sub axes\n",
    "    sub_axes.set_xlim( left=xmin, right=xmax ) \n",
    "    \n",
    "    # separation of x-axis minor ticks\n",
    "    sub_axes.xaxis.set_minor_locator( AutoMinorLocator() ) \n",
    "    \n",
    "    # x-axis label\n",
    "    sub_axes.set_xlabel(r'di-photon invariant mass $\\mathrm{m_{\\gamma\\gamma}}$ [GeV]',\n",
    "                        x=1, horizontalalignment='right', \n",
    "                        fontsize=13 ) \n",
    "    \n",
    "    # set the tick parameters for the sub axes\n",
    "    sub_axes.tick_params(which='both', # ticks on both x and y axes\n",
    "                         direction='in', # Put ticks inside and outside the axes\n",
    "                         top=True, # draw ticks on the top axis\n",
    "                         right=True ) # draw ticks on right axis \n",
    "    \n",
    "    # separation of y-axis minor ticks\n",
    "    sub_axes.yaxis.set_minor_locator( AutoMinorLocator() ) \n",
    "    \n",
    "    # y-axis label on the sub axes\n",
    "    sub_axes.set_ylabel( 'Events-Bkg' ) \n",
    "\n",
    "\n",
    "    # Generic features for both plots\n",
    "    main_axes.yaxis.set_label_coords( -0.09, 1 ) # x,y coordinates of the y-axis label on the main axes\n",
    "    sub_axes.yaxis.set_label_coords( -0.09, 0.5 ) # x,y coordinates of the y-axis label on the sub axes\n",
    "    \n",
    "    return out"
   ]
  },
  {
   "cell_type": "markdown",
   "metadata": {},
   "source": [
    "[Back to contents](#contents)"
   ]
  },
  {
   "cell_type": "markdown",
   "metadata": {},
   "source": [
    "Call the function to plot the data"
   ]
  },
  {
   "cell_type": "code",
   "execution_count": 15,
   "metadata": {
    "tags": []
   },
   "outputs": [
    {
     "data": {
      "image/png": "[encoded data removed]",
      "text/plain": [
       "<Figure size 640x480 with 2 Axes>"
      ]
     },
     "metadata": {},
     "output_type": "display_data"
    }
   ],
   "source": [
    "fit_out = plot_data(data, xref = 130,npol=4)"
   ]
  },
  {
   "cell_type": "markdown",
   "metadata": {},
   "source": [
    "[Back to contents](#contents)"
   ]
  },
  {
   "cell_type": "code",
   "execution_count": 16,
   "metadata": {
    "tags": []
   },
   "outputs": [
    {
     "data": {
      "text/plain": [
       "True"
      ]
     },
     "execution_count": 16,
     "metadata": {},
     "output_type": "execute_result"
    }
   ],
   "source": [
    "fit_out.success"
   ]
  },
  {
   "cell_type": "code",
   "execution_count": 17,
   "metadata": {
    "scrolled": true,
    "tags": []
   },
   "outputs": [
    {
     "data": {
      "text/html": [
       "<h2>Fit Result</h2> <table class=\"jp-toc-ignore\"><caption class=\"jp-toc-ignore\">Fit Statistics</caption><tr><td style='text-align:left'>fitting method</td><td style='text-align:right'>leastsq</td></tr><tr><td style='text-align:left'># function evals</td><td style='text-align:right'>225</td></tr><tr><td style='text-align:left'># data points</td><td style='text-align:right'>30</td></tr><tr><td style='text-align:left'># variables</td><td style='text-align:right'>8</td></tr><tr><td style='text-align:left'>chi-square</td><td style='text-align:right'> 33.3706418</td></tr><tr><td style='text-align:left'>reduced chi-square</td><td style='text-align:right'> 1.51684735</td></tr><tr><td style='text-align:left'>Akaike info crit.</td><td style='text-align:right'> 19.1943743</td></tr><tr><td style='text-align:left'>Bayesian info crit.</td><td style='text-align:right'> 30.4039533</td></tr></table><table class=\"jp-toc-ignore\"><caption>Parameters</caption><tr><th style='text-align:left'>name</th><th style='text-align:left'>value</th><th style='text-align:left'>standard error</th><th style='text-align:left'>relative error</th><th style='text-align:left'>initial value</th><th style='text-align:left'>min</th><th style='text-align:left'>max</th><th style='text-align:left'>vary</th><th style='text-align:right'>expression</th></tr><tr><td style='text-align:left'>c0</td><td style='text-align:left'> 4614.56393</td><td style='text-align:left'> 43.7226762</td><td style='text-align:left'>(0.95%)</td><td style='text-align:left'>9011</td><td style='text-align:left'>       -inf</td><td style='text-align:left'>        inf</td><td style='text-align:left'>True</td><td style='text-align:right'></td></tr><tr><td style='text-align:left'>c1</td><td style='text-align:left'>-106.875633</td><td style='text-align:left'> 2.71364348</td><td style='text-align:left'>(2.54%)</td><td style='text-align:left'>0</td><td style='text-align:left'>       -inf</td><td style='text-align:left'>        inf</td><td style='text-align:left'>True</td><td style='text-align:right'></td></tr><tr><td style='text-align:left'>c2</td><td style='text-align:left'> 1.62184729</td><td style='text-align:left'> 0.23399379</td><td style='text-align:left'>(14.43%)</td><td style='text-align:left'>0</td><td style='text-align:left'>       -inf</td><td style='text-align:left'>        inf</td><td style='text-align:left'>True</td><td style='text-align:right'></td></tr><tr><td style='text-align:left'>c3</td><td style='text-align:left'>-0.01192746</td><td style='text-align:left'> 0.00456703</td><td style='text-align:left'>(38.29%)</td><td style='text-align:left'>0</td><td style='text-align:left'>       -inf</td><td style='text-align:left'>        inf</td><td style='text-align:left'>True</td><td style='text-align:right'></td></tr><tr><td style='text-align:left'>c4</td><td style='text-align:left'>-3.4272e-04</td><td style='text-align:left'> 2.7266e-04</td><td style='text-align:left'>(79.56%)</td><td style='text-align:left'>0</td><td style='text-align:left'>       -inf</td><td style='text-align:left'>        inf</td><td style='text-align:left'>True</td><td style='text-align:right'></td></tr><tr><td style='text-align:left'>amplitude</td><td style='text-align:left'> 831.528751</td><td style='text-align:left'> 783.542936</td><td style='text-align:left'>(94.23%)</td><td style='text-align:left'>100</td><td style='text-align:left'>       -inf</td><td style='text-align:left'>        inf</td><td style='text-align:left'>True</td><td style='text-align:right'></td></tr><tr><td style='text-align:left'>center</td><td style='text-align:left'>-5.13655343</td><td style='text-align:left'> 1.86005534</td><td style='text-align:left'>(36.21%)</td><td style='text-align:left'>-5</td><td style='text-align:left'>       -inf</td><td style='text-align:left'>        inf</td><td style='text-align:left'>True</td><td style='text-align:right'></td></tr><tr><td style='text-align:left'>sigma</td><td style='text-align:left'> 2.68512223</td><td style='text-align:left'> 2.17253344</td><td style='text-align:left'>(80.91%)</td><td style='text-align:left'>2</td><td style='text-align:left'> 0.00000000</td><td style='text-align:left'>        inf</td><td style='text-align:left'>True</td><td style='text-align:right'></td></tr><tr><td style='text-align:left'>fwhm</td><td style='text-align:left'> 6.32297953</td><td style='text-align:left'> 5.11592521</td><td style='text-align:left'>(80.91%)</td><td style='text-align:left'>4.70964</td><td style='text-align:left'>       -inf</td><td style='text-align:left'>        inf</td><td style='text-align:left'>False</td><td style='text-align:right'>2.3548200*sigma</td></tr><tr><td style='text-align:left'>height</td><td style='text-align:left'> 123.544466</td><td style='text-align:left'> 79.2729146</td><td style='text-align:left'>(64.17%)</td><td style='text-align:left'>19.947115</td><td style='text-align:left'>       -inf</td><td style='text-align:left'>        inf</td><td style='text-align:left'>False</td><td style='text-align:right'>0.3989423*amplitude/max(1e-15, sigma)</td></tr></table><table class=\"jp-toc-ignore\"><caption>Correlations (unreported values are < 0.100)</caption><tr><th style='text-align:left'>Parameter1</th><th style='text-align:left'>Parameter 2</th><th style='text-align:right'>Correlation</th></tr><tr><td style='text-align:left'>c2</td><td style='text-align:left'>c4</td><td style='text-align:right'>-0.9458</td></tr><tr><td style='text-align:left'>c1</td><td style='text-align:left'>c3</td><td style='text-align:right'>-0.9325</td></tr><tr><td style='text-align:left'>c0</td><td style='text-align:left'>c2</td><td style='text-align:right'>-0.7844</td></tr><tr><td style='text-align:left'>c0</td><td style='text-align:left'>amplitude</td><td style='text-align:right'>-0.7476</td></tr><tr><td style='text-align:left'>amplitude</td><td style='text-align:left'>sigma</td><td style='text-align:right'>+0.7416</td></tr><tr><td style='text-align:left'>c0</td><td style='text-align:left'>c4</td><td style='text-align:right'>+0.5995</td></tr><tr><td style='text-align:left'>c0</td><td style='text-align:left'>sigma</td><td style='text-align:right'>-0.5395</td></tr><tr><td style='text-align:left'>c1</td><td style='text-align:left'>amplitude</td><td style='text-align:right'>+0.4939</td></tr><tr><td style='text-align:left'>c2</td><td style='text-align:left'>amplitude</td><td style='text-align:right'>+0.4710</td></tr><tr><td style='text-align:left'>c3</td><td style='text-align:left'>amplitude</td><td style='text-align:right'>-0.4520</td></tr><tr><td style='text-align:left'>c1</td><td style='text-align:left'>sigma</td><td style='text-align:right'>+0.3543</td></tr><tr><td style='text-align:left'>c0</td><td style='text-align:left'>c1</td><td style='text-align:right'>-0.3538</td></tr><tr><td style='text-align:left'>c2</td><td style='text-align:left'>sigma</td><td style='text-align:right'>+0.3261</td></tr><tr><td style='text-align:left'>c0</td><td style='text-align:left'>c3</td><td style='text-align:right'>+0.3252</td></tr><tr><td style='text-align:left'>c3</td><td style='text-align:left'>sigma</td><td style='text-align:right'>-0.3210</td></tr><tr><td style='text-align:left'>c4</td><td style='text-align:left'>amplitude</td><td style='text-align:right'>-0.3033</td></tr><tr><td style='text-align:left'>c4</td><td style='text-align:left'>sigma</td><td style='text-align:right'>-0.2038</td></tr><tr><td style='text-align:left'>c4</td><td style='text-align:left'>center</td><td style='text-align:right'>-0.2020</td></tr><tr><td style='text-align:left'>c1</td><td style='text-align:left'>center</td><td style='text-align:right'>-0.1965</td></tr><tr><td style='text-align:left'>c2</td><td style='text-align:left'>center</td><td style='text-align:right'>+0.1866</td></tr><tr><td style='text-align:left'>c3</td><td style='text-align:left'>center</td><td style='text-align:right'>+0.1769</td></tr><tr><td style='text-align:left'>c3</td><td style='text-align:left'>c4</td><td style='text-align:right'>-0.1607</td></tr><tr><td style='text-align:left'>c1</td><td style='text-align:left'>c4</td><td style='text-align:right'>+0.1251</td></tr></table>"
      ],
      "text/plain": [
       "<lmfit.minimizer.MinimizerResult at 0x7fe8e70230d0>"
      ]
     },
     "execution_count": 17,
     "metadata": {},
     "output_type": "execute_result"
    }
   ],
   "source": [
    "fit_out.result"
   ]
  },
  {
   "cell_type": "code",
   "execution_count": 24,
   "metadata": {
    "tags": []
   },
   "outputs": [],
   "source": [
    "import math\n",
    "def cov2cor( cov):\n",
    "    x,y = cov.shape\n",
    "    \n",
    "    if x != y:\n",
    "        print('cov2cor error: non-square matrix', cov.shape)\n",
    "        return None\n",
    "    diags = [math.sqrt(cov[i,i]) for i in range(x) ]\n",
    "    cor = cov.copy()\n",
    "    for i in range(x):\n",
    "        for j in range(y):\n",
    "            cor[i,j] = cov[i,j]/(diags[i]*diags[j])\n",
    "    return cor\n",
    "def print_cor( cor ):\n",
    "    x,y = cor.shape\n",
    "    \n",
    "    if x != y:\n",
    "        print('print_cor error: non-square matrix', cov.shape)\n",
    "        return None\n",
    "    for i in range(x):\n",
    "        for j in range(y):\n",
    "            print( f\"{cor[i,j]:6.3f} \", end='')\n",
    "        print('')\n",
    "\n",
    "    \n",
    "    \n"
   ]
  },
  {
   "cell_type": "code",
   "execution_count": 25,
   "metadata": {
    "tags": []
   },
   "outputs": [
    {
     "name": "stdout",
     "output_type": "stream",
     "text": [
      " 1.000 -0.354 -0.784  0.325  0.599 -0.748 -0.081 -0.539 \n",
      "-0.354  1.000  0.022 -0.932  0.125  0.494 -0.197  0.354 \n",
      "-0.784  0.022  1.000 -0.020 -0.946  0.471  0.187  0.326 \n",
      " 0.325 -0.932 -0.020  1.000 -0.161 -0.452  0.177 -0.321 \n",
      " 0.599  0.125 -0.946 -0.161  1.000 -0.303 -0.202 -0.204 \n",
      "-0.748  0.494  0.471 -0.452 -0.303  1.000 -0.051  0.742 \n",
      "-0.081 -0.197  0.187  0.177 -0.202 -0.051  1.000 -0.060 \n",
      "-0.539  0.354  0.326 -0.321 -0.204  0.742 -0.060  1.000 \n"
     ]
    }
   ],
   "source": [
    "cor = cov2cor(fit_out.covar)\n",
    "print_cor(cor)"
   ]
  },
  {
   "cell_type": "markdown",
   "metadata": {},
   "source": [
    "<a id='going_further'></a>"
   ]
  },
  {
   "cell_type": "markdown",
   "metadata": {},
   "source": [
    "## What can you do to explore this analysis?\n",
    "\n",
    "* Increase the fraction of data used in '[Lumi, fraction, file path](#fraction)'\n",
    "* Use data_B, data_C and data_D in '[Samples](#samples)'\n",
    "* Check how many events are being thrown away by each cut in '[Applying a cut](#applying_cut)'\n",
    "* Add more cuts from the [Higgs discovery paper](https://www.sciencedirect.com/science/article/pii/S037026931200857X#se0090) in '[Changing a cut](#changing_cut)' and '[Applying a cut](#applying_cut)'\n",
    "* Find the reduced chi-squared for the fit in '[Plotting](#plotting)'\n",
    "* Find the mean of the fitted Gaussian in '[Plotting](#plotting)'\n",
    "* Find the width of the fitted Gaussian in '[Plotting](#plotting)'\n",
    "* Try different initial guesses for the parameters of the fit in '[Plotting](#plotting)'\n",
    "* Try different functions for the fit in '[Plotting](#plotting)'\n",
    "* Your idea!"
   ]
  },
  {
   "cell_type": "markdown",
   "metadata": {},
   "source": [
    "[Back to contents](#contents)"
   ]
  },
  {
   "cell_type": "code",
   "execution_count": 68,
   "metadata": {},
   "outputs": [],
   "source": []
  },
  {
   "cell_type": "code",
   "execution_count": 69,
   "metadata": {
    "tags": []
   },
   "outputs": [
    {
     "ename": "ValueError",
     "evalue": "cannot broadcast records in equal",
     "output_type": "error",
     "traceback": [
      "\u001b[0;31m---------------------------------------------------------------------------\u001b[0m",
      "\u001b[0;31mValueError\u001b[0m                                Traceback (most recent call last)",
      "Cell \u001b[0;32mIn[69], line 1\u001b[0m\n\u001b[0;32m----> 1\u001b[0m \u001b[43mplot_data2\u001b[49m\u001b[43m(\u001b[49m\u001b[43mdata\u001b[49m\u001b[43m,\u001b[49m\u001b[43m \u001b[49m\u001b[43mxref\u001b[49m\u001b[38;5;241;43m=\u001b[39;49m\u001b[38;5;241;43m0\u001b[39;49m\u001b[43m,\u001b[49m\u001b[43m \u001b[49m\u001b[43mnpol\u001b[49m\u001b[38;5;241;43m=\u001b[39;49m\u001b[38;5;241;43m4\u001b[39;49m\u001b[43m,\u001b[49m\u001b[43m \u001b[49m\u001b[43mnormalize_to\u001b[49m\u001b[38;5;241;43m=\u001b[39;49m\u001b[38;5;241;43m214021\u001b[39;49m\u001b[43m)\u001b[49m\n",
      "Cell \u001b[0;32mIn[68], line 32\u001b[0m, in \u001b[0;36mplot_data2\u001b[0;34m(data, xref, npol, normalize_to, xmin, xmax, step_size, luminosity, fraction)\u001b[0m\n\u001b[1;32m     29\u001b[0m bin_centres_s \u001b[38;5;241m=\u001b[39m bin_centres \u001b[38;5;241m-\u001b[39m xref\n\u001b[1;32m     31\u001b[0m \u001b[38;5;66;03m# Extract data\u001b[39;00m\n\u001b[0;32m---> 32\u001b[0m datamyy \u001b[38;5;241m=\u001b[39m ak\u001b[38;5;241m.\u001b[39mto_numpy(data[\u001b[38;5;124m'\u001b[39m\u001b[38;5;124mmyy\u001b[39m\u001b[38;5;124m'\u001b[39m]) \u001b[38;5;28;01mif\u001b[39;00m \u001b[38;5;124;43m'\u001b[39;49m\u001b[38;5;124;43mmyy\u001b[39;49m\u001b[38;5;124;43m'\u001b[39;49m\u001b[43m \u001b[49m\u001b[38;5;129;43;01min\u001b[39;49;00m\u001b[43m \u001b[49m\u001b[43mdata\u001b[49m \u001b[38;5;28;01melse\u001b[39;00m ak\u001b[38;5;241m.\u001b[39mto_numpy(data[\u001b[38;5;124m'\u001b[39m\u001b[38;5;124mmass\u001b[39m\u001b[38;5;124m'\u001b[39m])\n\u001b[1;32m     34\u001b[0m \u001b[38;5;66;03m# Calculate histogram\u001b[39;00m\n\u001b[1;32m     35\u001b[0m \u001b[38;5;28;01mif\u001b[39;00m normalize_to:\n",
      "File \u001b[0;32m~/.local/lib/python3.11/site-packages/awkward/_operators.py:53\u001b[0m, in \u001b[0;36m_binary_method.<locals>.func\u001b[0;34m(self, other)\u001b[0m\n\u001b[1;32m     51\u001b[0m \u001b[38;5;28;01mif\u001b[39;00m _disables_array_ufunc(other):\n\u001b[1;32m     52\u001b[0m     \u001b[38;5;28;01mreturn\u001b[39;00m \u001b[38;5;28mNotImplemented\u001b[39m\n\u001b[0;32m---> 53\u001b[0m \u001b[38;5;28;01mreturn\u001b[39;00m \u001b[43mufunc\u001b[49m\u001b[43m(\u001b[49m\u001b[38;5;28;43mself\u001b[39;49m\u001b[43m,\u001b[49m\u001b[43m \u001b[49m\u001b[43mother\u001b[49m\u001b[43m)\u001b[49m\n",
      "File \u001b[0;32m~/.local/lib/python3.11/site-packages/awkward/highlevel.py:2279\u001b[0m, in \u001b[0;36mRecord.__array_ufunc__\u001b[0;34m(self, ufunc, method, *inputs, **kwargs)\u001b[0m\n\u001b[1;32m   2277\u001b[0m name \u001b[38;5;241m=\u001b[39m \u001b[38;5;124mf\u001b[39m\u001b[38;5;124m\"\u001b[39m\u001b[38;5;132;01m{\u001b[39;00m\u001b[38;5;28mtype\u001b[39m(ufunc)\u001b[38;5;241m.\u001b[39m\u001b[38;5;18m__module__\u001b[39m\u001b[38;5;132;01m}\u001b[39;00m\u001b[38;5;124m.\u001b[39m\u001b[38;5;132;01m{\u001b[39;00mufunc\u001b[38;5;241m.\u001b[39m\u001b[38;5;18m__name__\u001b[39m\u001b[38;5;132;01m}\u001b[39;00m\u001b[38;5;124m.\u001b[39m\u001b[38;5;132;01m{\u001b[39;00mmethod\u001b[38;5;132;01m!s}\u001b[39;00m\u001b[38;5;124m\"\u001b[39m\n\u001b[1;32m   2278\u001b[0m \u001b[38;5;28;01mwith\u001b[39;00m ak\u001b[38;5;241m.\u001b[39m_errors\u001b[38;5;241m.\u001b[39mOperationErrorContext(name, inputs, kwargs):\n\u001b[0;32m-> 2279\u001b[0m     \u001b[38;5;28;01mreturn\u001b[39;00m \u001b[43mak\u001b[49m\u001b[38;5;241;43m.\u001b[39;49m\u001b[43m_connect\u001b[49m\u001b[38;5;241;43m.\u001b[39;49m\u001b[43mnumpy\u001b[49m\u001b[38;5;241;43m.\u001b[39;49m\u001b[43marray_ufunc\u001b[49m\u001b[43m(\u001b[49m\u001b[43mufunc\u001b[49m\u001b[43m,\u001b[49m\u001b[43m \u001b[49m\u001b[43mmethod\u001b[49m\u001b[43m,\u001b[49m\u001b[43m \u001b[49m\u001b[43minputs\u001b[49m\u001b[43m,\u001b[49m\u001b[43m \u001b[49m\u001b[43mkwargs\u001b[49m\u001b[43m)\u001b[49m\n",
      "File \u001b[0;32m~/.local/lib/python3.11/site-packages/awkward/_connect/numpy.py:466\u001b[0m, in \u001b[0;36marray_ufunc\u001b[0;34m(ufunc, method, inputs, kwargs)\u001b[0m\n\u001b[1;32m    458\u001b[0m         \u001b[38;5;28;01mraise\u001b[39;00m \u001b[38;5;167;01mTypeError\u001b[39;00m(\n\u001b[1;32m    459\u001b[0m             \u001b[38;5;124m\"\u001b[39m\u001b[38;5;124mno \u001b[39m\u001b[38;5;132;01m{}\u001b[39;00m\u001b[38;5;124m.\u001b[39m\u001b[38;5;132;01m{}\u001b[39;00m\u001b[38;5;124m overloads for custom types: \u001b[39m\u001b[38;5;132;01m{}\u001b[39;00m\u001b[38;5;124m\"\u001b[39m\u001b[38;5;241m.\u001b[39mformat(\n\u001b[1;32m    460\u001b[0m                 \u001b[38;5;28mtype\u001b[39m(ufunc)\u001b[38;5;241m.\u001b[39m\u001b[38;5;18m__module__\u001b[39m, ufunc\u001b[38;5;241m.\u001b[39m\u001b[38;5;18m__name__\u001b[39m, \u001b[38;5;124m\"\u001b[39m\u001b[38;5;124m, \u001b[39m\u001b[38;5;124m\"\u001b[39m\u001b[38;5;241m.\u001b[39mjoin(error_message)\n\u001b[1;32m    461\u001b[0m             )\n\u001b[1;32m    462\u001b[0m         )\n\u001b[1;32m    464\u001b[0m     \u001b[38;5;28;01mreturn\u001b[39;00m \u001b[38;5;28;01mNone\u001b[39;00m\n\u001b[0;32m--> 466\u001b[0m out \u001b[38;5;241m=\u001b[39m \u001b[43mak\u001b[49m\u001b[38;5;241;43m.\u001b[39;49m\u001b[43m_broadcasting\u001b[49m\u001b[38;5;241;43m.\u001b[39;49m\u001b[43mbroadcast_and_apply\u001b[49m\u001b[43m(\u001b[49m\n\u001b[1;32m    467\u001b[0m \u001b[43m    \u001b[49m\u001b[43minputs\u001b[49m\u001b[43m,\u001b[49m\u001b[43m \u001b[49m\u001b[43maction\u001b[49m\u001b[43m,\u001b[49m\u001b[43m \u001b[49m\u001b[43mallow_records\u001b[49m\u001b[38;5;241;43m=\u001b[39;49m\u001b[38;5;28;43;01mFalse\u001b[39;49;00m\u001b[43m,\u001b[49m\u001b[43m \u001b[49m\u001b[43mfunction_name\u001b[49m\u001b[38;5;241;43m=\u001b[39;49m\u001b[43mufunc\u001b[49m\u001b[38;5;241;43m.\u001b[39;49m\u001b[38;5;18;43m__name__\u001b[39;49m\n\u001b[1;32m    468\u001b[0m \u001b[43m\u001b[49m\u001b[43m)\u001b[49m\n\u001b[1;32m    470\u001b[0m \u001b[38;5;28;01mif\u001b[39;00m \u001b[38;5;28mlen\u001b[39m(out) \u001b[38;5;241m==\u001b[39m \u001b[38;5;241m1\u001b[39m:\n\u001b[1;32m    471\u001b[0m     \u001b[38;5;28;01mreturn\u001b[39;00m wrap_layout(out[\u001b[38;5;241m0\u001b[39m], behavior\u001b[38;5;241m=\u001b[39mbehavior, attrs\u001b[38;5;241m=\u001b[39mattrs)\n",
      "File \u001b[0;32m~/.local/lib/python3.11/site-packages/awkward/_broadcasting.py:1108\u001b[0m, in \u001b[0;36mbroadcast_and_apply\u001b[0;34m(inputs, action, depth_context, lateral_context, allow_records, left_broadcast, right_broadcast, numpy_to_regular, regular_to_jagged, function_name, broadcast_parameters_rule)\u001b[0m\n\u001b[1;32m   1106\u001b[0m backend \u001b[38;5;241m=\u001b[39m backend_of(\u001b[38;5;241m*\u001b[39minputs, coerce_to_common\u001b[38;5;241m=\u001b[39m\u001b[38;5;28;01mFalse\u001b[39;00m)\n\u001b[1;32m   1107\u001b[0m isscalar \u001b[38;5;241m=\u001b[39m []\n\u001b[0;32m-> 1108\u001b[0m out \u001b[38;5;241m=\u001b[39m \u001b[43mapply_step\u001b[49m\u001b[43m(\u001b[49m\n\u001b[1;32m   1109\u001b[0m \u001b[43m    \u001b[49m\u001b[43mbackend\u001b[49m\u001b[43m,\u001b[49m\n\u001b[1;32m   1110\u001b[0m \u001b[43m    \u001b[49m\u001b[43mbroadcast_pack\u001b[49m\u001b[43m(\u001b[49m\u001b[43minputs\u001b[49m\u001b[43m,\u001b[49m\u001b[43m \u001b[49m\u001b[43misscalar\u001b[49m\u001b[43m)\u001b[49m\u001b[43m,\u001b[49m\n\u001b[1;32m   1111\u001b[0m \u001b[43m    \u001b[49m\u001b[43maction\u001b[49m\u001b[43m,\u001b[49m\n\u001b[1;32m   1112\u001b[0m \u001b[43m    \u001b[49m\u001b[38;5;241;43m0\u001b[39;49m\u001b[43m,\u001b[49m\n\u001b[1;32m   1113\u001b[0m \u001b[43m    \u001b[49m\u001b[43mdepth_context\u001b[49m\u001b[43m,\u001b[49m\n\u001b[1;32m   1114\u001b[0m \u001b[43m    \u001b[49m\u001b[43mlateral_context\u001b[49m\u001b[43m,\u001b[49m\n\u001b[1;32m   1115\u001b[0m \u001b[43m    \u001b[49m\u001b[43m{\u001b[49m\n\u001b[1;32m   1116\u001b[0m \u001b[43m        \u001b[49m\u001b[38;5;124;43m\"\u001b[39;49m\u001b[38;5;124;43mallow_records\u001b[39;49m\u001b[38;5;124;43m\"\u001b[39;49m\u001b[43m:\u001b[49m\u001b[43m \u001b[49m\u001b[43mallow_records\u001b[49m\u001b[43m,\u001b[49m\n\u001b[1;32m   1117\u001b[0m \u001b[43m        \u001b[49m\u001b[38;5;124;43m\"\u001b[39;49m\u001b[38;5;124;43mleft_broadcast\u001b[39;49m\u001b[38;5;124;43m\"\u001b[39;49m\u001b[43m:\u001b[49m\u001b[43m \u001b[49m\u001b[43mleft_broadcast\u001b[49m\u001b[43m,\u001b[49m\n\u001b[1;32m   1118\u001b[0m \u001b[43m        \u001b[49m\u001b[38;5;124;43m\"\u001b[39;49m\u001b[38;5;124;43mright_broadcast\u001b[39;49m\u001b[38;5;124;43m\"\u001b[39;49m\u001b[43m:\u001b[49m\u001b[43m \u001b[49m\u001b[43mright_broadcast\u001b[49m\u001b[43m,\u001b[49m\n\u001b[1;32m   1119\u001b[0m \u001b[43m        \u001b[49m\u001b[38;5;124;43m\"\u001b[39;49m\u001b[38;5;124;43mnumpy_to_regular\u001b[39;49m\u001b[38;5;124;43m\"\u001b[39;49m\u001b[43m:\u001b[49m\u001b[43m \u001b[49m\u001b[43mnumpy_to_regular\u001b[49m\u001b[43m,\u001b[49m\n\u001b[1;32m   1120\u001b[0m \u001b[43m        \u001b[49m\u001b[38;5;124;43m\"\u001b[39;49m\u001b[38;5;124;43mregular_to_jagged\u001b[39;49m\u001b[38;5;124;43m\"\u001b[39;49m\u001b[43m:\u001b[49m\u001b[43m \u001b[49m\u001b[43mregular_to_jagged\u001b[49m\u001b[43m,\u001b[49m\n\u001b[1;32m   1121\u001b[0m \u001b[43m        \u001b[49m\u001b[38;5;124;43m\"\u001b[39;49m\u001b[38;5;124;43mfunction_name\u001b[39;49m\u001b[38;5;124;43m\"\u001b[39;49m\u001b[43m:\u001b[49m\u001b[43m \u001b[49m\u001b[43mfunction_name\u001b[49m\u001b[43m,\u001b[49m\n\u001b[1;32m   1122\u001b[0m \u001b[43m        \u001b[49m\u001b[38;5;124;43m\"\u001b[39;49m\u001b[38;5;124;43mbroadcast_parameters_rule\u001b[39;49m\u001b[38;5;124;43m\"\u001b[39;49m\u001b[43m:\u001b[49m\u001b[43m \u001b[49m\u001b[43mbroadcast_parameters_rule\u001b[49m\u001b[43m,\u001b[49m\n\u001b[1;32m   1123\u001b[0m \u001b[43m    \u001b[49m\u001b[43m}\u001b[49m\u001b[43m,\u001b[49m\n\u001b[1;32m   1124\u001b[0m \u001b[43m\u001b[49m\u001b[43m)\u001b[49m\n\u001b[1;32m   1125\u001b[0m \u001b[38;5;28;01massert\u001b[39;00m \u001b[38;5;28misinstance\u001b[39m(out, \u001b[38;5;28mtuple\u001b[39m)\n\u001b[1;32m   1126\u001b[0m \u001b[38;5;28;01mreturn\u001b[39;00m \u001b[38;5;28mtuple\u001b[39m(broadcast_unpack(x, isscalar) \u001b[38;5;28;01mfor\u001b[39;00m x \u001b[38;5;129;01min\u001b[39;00m out)\n",
      "File \u001b[0;32m~/.local/lib/python3.11/site-packages/awkward/_broadcasting.py:1086\u001b[0m, in \u001b[0;36mapply_step\u001b[0;34m(backend, inputs, action, depth, depth_context, lateral_context, options)\u001b[0m\n\u001b[1;32m   1084\u001b[0m     \u001b[38;5;28;01mreturn\u001b[39;00m result\n\u001b[1;32m   1085\u001b[0m \u001b[38;5;28;01melif\u001b[39;00m result \u001b[38;5;129;01mis\u001b[39;00m \u001b[38;5;28;01mNone\u001b[39;00m:\n\u001b[0;32m-> 1086\u001b[0m     \u001b[38;5;28;01mreturn\u001b[39;00m \u001b[43mcontinuation\u001b[49m\u001b[43m(\u001b[49m\u001b[43m)\u001b[49m\n\u001b[1;32m   1087\u001b[0m \u001b[38;5;28;01melse\u001b[39;00m:\n\u001b[1;32m   1088\u001b[0m     \u001b[38;5;28;01mraise\u001b[39;00m \u001b[38;5;167;01mAssertionError\u001b[39;00m(result)\n",
      "File \u001b[0;32m~/.local/lib/python3.11/site-packages/awkward/_broadcasting.py:1055\u001b[0m, in \u001b[0;36mapply_step.<locals>.continuation\u001b[0;34m()\u001b[0m\n\u001b[1;32m   1053\u001b[0m \u001b[38;5;66;03m# Any non-string list-types?\u001b[39;00m\n\u001b[1;32m   1054\u001b[0m \u001b[38;5;28;01melif\u001b[39;00m \u001b[38;5;28many\u001b[39m(x\u001b[38;5;241m.\u001b[39mis_list \u001b[38;5;129;01mand\u001b[39;00m \u001b[38;5;129;01mnot\u001b[39;00m is_string_like(x) \u001b[38;5;28;01mfor\u001b[39;00m x \u001b[38;5;129;01min\u001b[39;00m contents):\n\u001b[0;32m-> 1055\u001b[0m     \u001b[38;5;28;01mreturn\u001b[39;00m \u001b[43mbroadcast_any_list\u001b[49m\u001b[43m(\u001b[49m\u001b[43m)\u001b[49m\n\u001b[1;32m   1057\u001b[0m \u001b[38;5;66;03m# Any RecordArrays?\u001b[39;00m\n\u001b[1;32m   1058\u001b[0m \u001b[38;5;28;01melif\u001b[39;00m \u001b[38;5;28many\u001b[39m(x\u001b[38;5;241m.\u001b[39mis_record \u001b[38;5;28;01mfor\u001b[39;00m x \u001b[38;5;129;01min\u001b[39;00m contents):\n",
      "File \u001b[0;32m~/.local/lib/python3.11/site-packages/awkward/_broadcasting.py:623\u001b[0m, in \u001b[0;36mapply_step.<locals>.broadcast_any_list\u001b[0;34m()\u001b[0m\n\u001b[1;32m    620\u001b[0m         nextinputs\u001b[38;5;241m.\u001b[39mappend(x)\n\u001b[1;32m    621\u001b[0m         nextparameters\u001b[38;5;241m.\u001b[39mappend(NO_PARAMETERS)\n\u001b[0;32m--> 623\u001b[0m outcontent \u001b[38;5;241m=\u001b[39m \u001b[43mapply_step\u001b[49m\u001b[43m(\u001b[49m\n\u001b[1;32m    624\u001b[0m \u001b[43m    \u001b[49m\u001b[43mbackend\u001b[49m\u001b[43m,\u001b[49m\n\u001b[1;32m    625\u001b[0m \u001b[43m    \u001b[49m\u001b[43mnextinputs\u001b[49m\u001b[43m,\u001b[49m\n\u001b[1;32m    626\u001b[0m \u001b[43m    \u001b[49m\u001b[43maction\u001b[49m\u001b[43m,\u001b[49m\n\u001b[1;32m    627\u001b[0m \u001b[43m    \u001b[49m\u001b[43mdepth\u001b[49m\u001b[43m \u001b[49m\u001b[38;5;241;43m+\u001b[39;49m\u001b[43m \u001b[49m\u001b[38;5;241;43m1\u001b[39;49m\u001b[43m,\u001b[49m\n\u001b[1;32m    628\u001b[0m \u001b[43m    \u001b[49m\u001b[43mcopy\u001b[49m\u001b[38;5;241;43m.\u001b[39;49m\u001b[43mcopy\u001b[49m\u001b[43m(\u001b[49m\u001b[43mdepth_context\u001b[49m\u001b[43m)\u001b[49m\u001b[43m,\u001b[49m\n\u001b[1;32m    629\u001b[0m \u001b[43m    \u001b[49m\u001b[43mlateral_context\u001b[49m\u001b[43m,\u001b[49m\n\u001b[1;32m    630\u001b[0m \u001b[43m    \u001b[49m\u001b[43moptions\u001b[49m\u001b[43m,\u001b[49m\n\u001b[1;32m    631\u001b[0m \u001b[43m\u001b[49m\u001b[43m)\u001b[49m\n\u001b[1;32m    632\u001b[0m \u001b[38;5;28;01massert\u001b[39;00m \u001b[38;5;28misinstance\u001b[39m(outcontent, \u001b[38;5;28mtuple\u001b[39m)\n\u001b[1;32m    633\u001b[0m parameters \u001b[38;5;241m=\u001b[39m parameters_factory(nextparameters, \u001b[38;5;28mlen\u001b[39m(outcontent))\n",
      "File \u001b[0;32m~/.local/lib/python3.11/site-packages/awkward/_broadcasting.py:1086\u001b[0m, in \u001b[0;36mapply_step\u001b[0;34m(backend, inputs, action, depth, depth_context, lateral_context, options)\u001b[0m\n\u001b[1;32m   1084\u001b[0m     \u001b[38;5;28;01mreturn\u001b[39;00m result\n\u001b[1;32m   1085\u001b[0m \u001b[38;5;28;01melif\u001b[39;00m result \u001b[38;5;129;01mis\u001b[39;00m \u001b[38;5;28;01mNone\u001b[39;00m:\n\u001b[0;32m-> 1086\u001b[0m     \u001b[38;5;28;01mreturn\u001b[39;00m \u001b[43mcontinuation\u001b[49m\u001b[43m(\u001b[49m\u001b[43m)\u001b[49m\n\u001b[1;32m   1087\u001b[0m \u001b[38;5;28;01melse\u001b[39;00m:\n\u001b[1;32m   1088\u001b[0m     \u001b[38;5;28;01mraise\u001b[39;00m \u001b[38;5;167;01mAssertionError\u001b[39;00m(result)\n",
      "File \u001b[0;32m~/.local/lib/python3.11/site-packages/awkward/_broadcasting.py:1040\u001b[0m, in \u001b[0;36mapply_step.<locals>.continuation\u001b[0;34m()\u001b[0m\n\u001b[1;32m   1038\u001b[0m \u001b[38;5;66;03m# Any IndexedArrays?\u001b[39;00m\n\u001b[1;32m   1039\u001b[0m \u001b[38;5;28;01melif\u001b[39;00m \u001b[38;5;28many\u001b[39m((x\u001b[38;5;241m.\u001b[39mis_indexed \u001b[38;5;129;01mand\u001b[39;00m \u001b[38;5;129;01mnot\u001b[39;00m x\u001b[38;5;241m.\u001b[39mis_option) \u001b[38;5;28;01mfor\u001b[39;00m x \u001b[38;5;129;01min\u001b[39;00m contents):\n\u001b[0;32m-> 1040\u001b[0m     \u001b[38;5;28;01mreturn\u001b[39;00m \u001b[43mbroadcast_any_indexed\u001b[49m\u001b[43m(\u001b[49m\u001b[43m)\u001b[49m\n\u001b[1;32m   1042\u001b[0m \u001b[38;5;66;03m# Any UnionArrays?\u001b[39;00m\n\u001b[1;32m   1043\u001b[0m \u001b[38;5;28;01melif\u001b[39;00m \u001b[38;5;28many\u001b[39m(x\u001b[38;5;241m.\u001b[39mis_union \u001b[38;5;28;01mfor\u001b[39;00m x \u001b[38;5;129;01min\u001b[39;00m contents):\n",
      "File \u001b[0;32m~/.local/lib/python3.11/site-packages/awkward/_broadcasting.py:990\u001b[0m, in \u001b[0;36mapply_step.<locals>.broadcast_any_indexed\u001b[0;34m()\u001b[0m\n\u001b[1;32m    982\u001b[0m \u001b[38;5;28;01mdef\u001b[39;00m \u001b[38;5;21mbroadcast_any_indexed\u001b[39m():\n\u001b[1;32m    983\u001b[0m     \u001b[38;5;66;03m# The `apply` function may exit at the level of a `RecordArray`. We can avoid projection\u001b[39;00m\n\u001b[1;32m    984\u001b[0m     \u001b[38;5;66;03m# of the record array in such cases, in favour of a deferred carry. This can be done by\u001b[39;00m\n\u001b[1;32m    985\u001b[0m     \u001b[38;5;66;03m# \"pushing\" the `IndexedArray` _into_ the record (i.e., wrapping each `content`).\u001b[39;00m\n\u001b[1;32m    986\u001b[0m     nextinputs \u001b[38;5;241m=\u001b[39m [\n\u001b[1;32m    987\u001b[0m         x\u001b[38;5;241m.\u001b[39m_push_inside_record_or_project() \u001b[38;5;28;01mif\u001b[39;00m \u001b[38;5;28misinstance\u001b[39m(x, IndexedArray) \u001b[38;5;28;01melse\u001b[39;00m x\n\u001b[1;32m    988\u001b[0m         \u001b[38;5;28;01mfor\u001b[39;00m x \u001b[38;5;129;01min\u001b[39;00m inputs\n\u001b[1;32m    989\u001b[0m     ]\n\u001b[0;32m--> 990\u001b[0m     \u001b[38;5;28;01mreturn\u001b[39;00m \u001b[43mapply_step\u001b[49m\u001b[43m(\u001b[49m\n\u001b[1;32m    991\u001b[0m \u001b[43m        \u001b[49m\u001b[43mbackend\u001b[49m\u001b[43m,\u001b[49m\n\u001b[1;32m    992\u001b[0m \u001b[43m        \u001b[49m\u001b[43mnextinputs\u001b[49m\u001b[43m,\u001b[49m\n\u001b[1;32m    993\u001b[0m \u001b[43m        \u001b[49m\u001b[43maction\u001b[49m\u001b[43m,\u001b[49m\n\u001b[1;32m    994\u001b[0m \u001b[43m        \u001b[49m\u001b[43mdepth\u001b[49m\u001b[43m,\u001b[49m\n\u001b[1;32m    995\u001b[0m \u001b[43m        \u001b[49m\u001b[43mcopy\u001b[49m\u001b[38;5;241;43m.\u001b[39;49m\u001b[43mcopy\u001b[49m\u001b[43m(\u001b[49m\u001b[43mdepth_context\u001b[49m\u001b[43m)\u001b[49m\u001b[43m,\u001b[49m\n\u001b[1;32m    996\u001b[0m \u001b[43m        \u001b[49m\u001b[43mlateral_context\u001b[49m\u001b[43m,\u001b[49m\n\u001b[1;32m    997\u001b[0m \u001b[43m        \u001b[49m\u001b[43moptions\u001b[49m\u001b[43m,\u001b[49m\n\u001b[1;32m    998\u001b[0m \u001b[43m    \u001b[49m\u001b[43m)\u001b[49m\n",
      "File \u001b[0;32m~/.local/lib/python3.11/site-packages/awkward/_broadcasting.py:1086\u001b[0m, in \u001b[0;36mapply_step\u001b[0;34m(backend, inputs, action, depth, depth_context, lateral_context, options)\u001b[0m\n\u001b[1;32m   1084\u001b[0m     \u001b[38;5;28;01mreturn\u001b[39;00m result\n\u001b[1;32m   1085\u001b[0m \u001b[38;5;28;01melif\u001b[39;00m result \u001b[38;5;129;01mis\u001b[39;00m \u001b[38;5;28;01mNone\u001b[39;00m:\n\u001b[0;32m-> 1086\u001b[0m     \u001b[38;5;28;01mreturn\u001b[39;00m \u001b[43mcontinuation\u001b[49m\u001b[43m(\u001b[49m\u001b[43m)\u001b[49m\n\u001b[1;32m   1087\u001b[0m \u001b[38;5;28;01melse\u001b[39;00m:\n\u001b[1;32m   1088\u001b[0m     \u001b[38;5;28;01mraise\u001b[39;00m \u001b[38;5;167;01mAssertionError\u001b[39;00m(result)\n",
      "File \u001b[0;32m~/.local/lib/python3.11/site-packages/awkward/_broadcasting.py:1059\u001b[0m, in \u001b[0;36mapply_step.<locals>.continuation\u001b[0;34m()\u001b[0m\n\u001b[1;32m   1057\u001b[0m \u001b[38;5;66;03m# Any RecordArrays?\u001b[39;00m\n\u001b[1;32m   1058\u001b[0m \u001b[38;5;28;01melif\u001b[39;00m \u001b[38;5;28many\u001b[39m(x\u001b[38;5;241m.\u001b[39mis_record \u001b[38;5;28;01mfor\u001b[39;00m x \u001b[38;5;129;01min\u001b[39;00m contents):\n\u001b[0;32m-> 1059\u001b[0m     \u001b[38;5;28;01mreturn\u001b[39;00m \u001b[43mbroadcast_any_record\u001b[49m\u001b[43m(\u001b[49m\u001b[43m)\u001b[49m\n\u001b[1;32m   1061\u001b[0m \u001b[38;5;28;01melse\u001b[39;00m:\n\u001b[1;32m   1062\u001b[0m     \u001b[38;5;28;01mraise\u001b[39;00m \u001b[38;5;167;01mValueError\u001b[39;00m(\n\u001b[1;32m   1063\u001b[0m         \u001b[38;5;124m\"\u001b[39m\u001b[38;5;124mcannot broadcast: \u001b[39m\u001b[38;5;132;01m{}\u001b[39;00m\u001b[38;5;132;01m{}\u001b[39;00m\u001b[38;5;124m\"\u001b[39m\u001b[38;5;241m.\u001b[39mformat(\n\u001b[1;32m   1064\u001b[0m             \u001b[38;5;124m\"\u001b[39m\u001b[38;5;124m, \u001b[39m\u001b[38;5;124m\"\u001b[39m\u001b[38;5;241m.\u001b[39mjoin(\u001b[38;5;28mrepr\u001b[39m(\u001b[38;5;28mtype\u001b[39m(x)) \u001b[38;5;28;01mfor\u001b[39;00m x \u001b[38;5;129;01min\u001b[39;00m inputs), in_function(options)\n\u001b[1;32m   1065\u001b[0m         )\n\u001b[1;32m   1066\u001b[0m     )\n",
      "File \u001b[0;32m~/.local/lib/python3.11/site-packages/awkward/_broadcasting.py:468\u001b[0m, in \u001b[0;36mapply_step.<locals>.broadcast_any_record\u001b[0;34m()\u001b[0m\n\u001b[1;32m    466\u001b[0m \u001b[38;5;28;01mdef\u001b[39;00m \u001b[38;5;21mbroadcast_any_record\u001b[39m():\n\u001b[1;32m    467\u001b[0m     \u001b[38;5;28;01mif\u001b[39;00m \u001b[38;5;129;01mnot\u001b[39;00m options[\u001b[38;5;124m\"\u001b[39m\u001b[38;5;124mallow_records\u001b[39m\u001b[38;5;124m\"\u001b[39m]:\n\u001b[0;32m--> 468\u001b[0m         \u001b[38;5;28;01mraise\u001b[39;00m \u001b[38;5;167;01mValueError\u001b[39;00m(\u001b[38;5;124mf\u001b[39m\u001b[38;5;124m\"\u001b[39m\u001b[38;5;124mcannot broadcast records\u001b[39m\u001b[38;5;132;01m{\u001b[39;00min_function(options)\u001b[38;5;132;01m}\u001b[39;00m\u001b[38;5;124m\"\u001b[39m)\n\u001b[1;32m    470\u001b[0m     frozen_record_fields: \u001b[38;5;28mfrozenset\u001b[39m[\u001b[38;5;28mstr\u001b[39m] \u001b[38;5;241m|\u001b[39m \u001b[38;5;28;01mNone\u001b[39;00m \u001b[38;5;241m=\u001b[39m UNSET\n\u001b[1;32m    471\u001b[0m     first_record \u001b[38;5;241m=\u001b[39m \u001b[38;5;28mnext\u001b[39m(c \u001b[38;5;28;01mfor\u001b[39;00m c \u001b[38;5;129;01min\u001b[39;00m contents \u001b[38;5;28;01mif\u001b[39;00m c\u001b[38;5;241m.\u001b[39mis_record)\n",
      "\u001b[0;31mValueError\u001b[0m: cannot broadcast records in equal",
      "\u001b[0m\nThis error occurred while calling\n\n    numpy.equal.__call__(\n        <Record {photon_pt: [...], ...} type='{photon_pt: var * float32, ph...'>\n        'myy'\n    )"
     ]
    }
   ],
   "source": [
    "plot_data2(data, xref=0, npol=4, normalize_to=214021)"
   ]
  },
  {
   "cell_type": "code",
   "execution_count": null,
   "metadata": {},
   "outputs": [],
   "source": []
  }
 ],
 "metadata": {
  "kernelspec": {
   "display_name": "Python 3 (ipykernel)",
   "language": "python",
   "name": "python3"
  },
  "language_info": {
   "codemirror_mode": {
    "name": "ipython",
    "version": 3
   },
   "file_extension": ".py",
   "mimetype": "text/x-python",
   "name": "python",
   "nbconvert_exporter": "python",
   "pygments_lexer": "ipython3",
   "version": "3.11.5"
  },
  "toc": {
   "base_numbering": 1,
   "nav_menu": {},
   "number_sections": true,
   "sideBar": false,
   "skip_h1_title": false,
   "title_cell": "Table of Contents",
   "title_sidebar": "Contents",
   "toc_cell": true,
   "toc_position": {},
   "toc_section_display": true,
   "toc_window_display": false
  }
 },
 "nbformat": 4,
 "nbformat_minor": 4
}
